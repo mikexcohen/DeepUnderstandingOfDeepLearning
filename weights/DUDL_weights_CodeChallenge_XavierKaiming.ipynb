{
 "cells": [
  {
   "cell_type": "markdown",
   "id": "7a697bb2",
   "metadata": {},
   "source": [
    "[![Open In Colab](https://colab.research.google.com/assets/colab-badge.svg)](https://colab.research.google.com/github/ydebessu/DeepUnderstandingOfDeepLearning/blob/main/weights/DUDL_weights_CodeChallenge_XavierKaiming.ipynb)"
   ]
  },
  {
   "cell_type": "markdown",
   "metadata": {
    "id": "bhWV8oes-wKR"
   },
   "source": [
    "# COURSE: A deep understanding of deep learning\n",
    "## SECTION: Weight inits and investigations\n",
    "### LECTURE: CodeChallenge: Xavier vs. Kaiming\n",
    "#### TEACHER: Mike X Cohen, sincxpress.com\n",
    "##### COURSE URL: udemy.com/course/deeplearning_x/?couponCode=202401"
   ]
  },
  {
   "cell_type": "code",
   "execution_count": null,
   "metadata": {
    "id": "7U3TmybM4yMw"
   },
   "outputs": [],
   "source": [
    "### import libraries\n",
    "\n",
    "# for DL modeling\n",
    "import torch\n",
    "import torch.nn as nn\n",
    "import torch.nn.functional as F\n",
    "from torch.utils.data import DataLoader,TensorDataset\n",
    "from sklearn.model_selection import train_test_split\n",
    "\n",
    "# for number-crunching\n",
    "import numpy as np\n",
    "import scipy.stats as stats\n",
    "\n",
    "# for dataset management and bonus visualization\n",
    "import pandas as pd\n",
    "import seaborn as sns\n",
    "\n",
    "# for data visualization\n",
    "import matplotlib.pyplot as plt\n",
    "import matplotlib_inline.backend_inline\n",
    "matplotlib_inline.backend_inline.set_matplotlib_formats('svg')"
   ]
  },
  {
   "cell_type": "markdown",
   "metadata": {
    "id": "2anVFzBXGdwH"
   },
   "source": [
    "# Import and process the data"
   ]
  },
  {
   "cell_type": "code",
   "execution_count": null,
   "metadata": {
    "id": "0ohXIxzt4_U2"
   },
   "outputs": [],
   "source": [
    "# import the data\n",
    "url = \"https://archive.ics.uci.edu/ml/machine-learning-databases/wine-quality/winequality-red.csv\"\n",
    "data = pd.read_csv(url,sep=';')\n",
    "data = data[data['total sulfur dioxide']<200] # drop a few outliers\n",
    "\n",
    "# z-score all columns except for quality\n",
    "cols2zscore = data.keys()\n",
    "cols2zscore = cols2zscore.drop('quality')\n",
    "data[cols2zscore] = data[cols2zscore].apply(stats.zscore)\n",
    "\n",
    "# create a new column for binarized (boolean) quality\n",
    "data['boolQuality'] = 0\n",
    "# data['boolQuality'][data['quality']<6] = 0 # implicit in the code! just here for clarity\n",
    "data['boolQuality'][data['quality']>5] = 1"
   ]
  },
  {
   "cell_type": "code",
   "execution_count": null,
   "metadata": {
    "id": "2kZ6YPe8Gav5"
   },
   "outputs": [],
   "source": [
    "# convert from pandas dataframe to tensor\n",
    "dataT  = torch.tensor( data[cols2zscore].values ).float()\n",
    "labels = torch.tensor( data['boolQuality'].values ).float()\n",
    "labels = labels[:,None] # transform to matrix\n",
    "\n",
    "# use scikitlearn to split the data\n",
    "train_data,test_data, train_labels,test_labels = train_test_split(dataT, labels, test_size=.1)\n",
    "\n",
    "# then convert them into PyTorch Datasets (note: already converted to tensors)\n",
    "train_dataDataset = TensorDataset(train_data,train_labels)\n",
    "test_dataDataset  = TensorDataset(test_data,test_labels)\n",
    "\n",
    "# finally, create dataloaders\n",
    "train_loader = DataLoader(train_dataDataset,batch_size=32, shuffle=True, drop_last=True)\n",
    "test_loader  = DataLoader(test_dataDataset,batch_size=test_dataDataset.tensors[0].shape[0])"
   ]
  },
  {
   "cell_type": "markdown",
   "metadata": {
    "id": "I7g0mivk5GqP"
   },
   "source": [
    "# Now for the DL part"
   ]
  },
  {
   "cell_type": "code",
   "execution_count": null,
   "metadata": {
    "id": "N0vAnQi9DNRa"
   },
   "outputs": [],
   "source": [
    "# create a class for the model\n",
    "\n",
    "class ANNwine(nn.Module):\n",
    "  def __init__(self):\n",
    "    super().__init__()\n",
    "\n",
    "    ### input layer\n",
    "    self.input = nn.Linear(11,16)\n",
    "    \n",
    "    ### hidden layers\n",
    "    self.fc1 = nn.Linear(16,32)\n",
    "    self.fc2 = nn.Linear(32,32)\n",
    "\n",
    "    ### output layer\n",
    "    self.output = nn.Linear(32,1)\n",
    "  \n",
    "  # forward pass\n",
    "  def forward(self,x):\n",
    "    x = F.relu( self.input(x) )\n",
    "    x = F.relu( self.fc1(x) )\n",
    "    x = F.relu( self.fc2(x) )\n",
    "    return self.output(x)"
   ]
  },
  {
   "cell_type": "markdown",
   "metadata": {
    "id": "IuCixgNfDMZS"
   },
   "source": [
    "# A function to train the model"
   ]
  },
  {
   "cell_type": "code",
   "execution_count": null,
   "metadata": {
    "id": "0XRPe56rGp2k"
   },
   "outputs": [],
   "source": [
    "# global parameter\n",
    "numepochs = 600\n",
    "\n",
    "def trainTheModel(winenet):\n",
    "\n",
    "  # loss function and optimizer\n",
    "  lossfun = nn.BCEWithLogitsLoss()\n",
    "  optimizer = torch.optim.SGD(winenet.parameters(),lr=.01)\n",
    "\n",
    "  # initialize losses\n",
    "  losses   = torch.zeros(numepochs)\n",
    "  trainAcc = []\n",
    "  testAcc  = []\n",
    "\n",
    "  # loop over epochs\n",
    "  for epochi in range(numepochs):\n",
    "\n",
    "    # loop over training data batches\n",
    "    winenet.train()\n",
    "    batchAcc  = []\n",
    "    batchLoss = []\n",
    "    for X,y in train_loader:\n",
    "\n",
    "      # forward pass and loss\n",
    "      yHat = winenet(X)\n",
    "      loss = lossfun(yHat,y)\n",
    "\n",
    "      # backprop\n",
    "      optimizer.zero_grad()\n",
    "      loss.backward()\n",
    "      optimizer.step()\n",
    "\n",
    "      # loss from this batch\n",
    "      batchLoss.append(loss.item())\n",
    "\n",
    "      # compute training accuracy for this batch\n",
    "      batchAcc.append( 100*torch.mean(((yHat>0) == y).float()).item() )\n",
    "    # end of batch loop...\n",
    "\n",
    "    # now that we've trained through the batches, get their average training accuracy\n",
    "    trainAcc.append( np.mean(batchAcc) )\n",
    "\n",
    "    # and get average losses across the batches\n",
    "    losses[epochi] = np.mean(batchLoss)\n",
    "\n",
    "    # test accuracy\n",
    "    winenet.eval()\n",
    "    X,y = next(iter(test_loader)) # extract X,y from test dataloader\n",
    "    with torch.no_grad(): # deactivates autograd\n",
    "      yHat = winenet(X)\n",
    "    testAcc.append( 100*torch.mean(((yHat>0) == y).float()).item() )\n",
    "  \n",
    "  # function output\n",
    "  return trainAcc,testAcc,losses"
   ]
  },
  {
   "cell_type": "markdown",
   "metadata": {
    "id": "T_JKCpfe_CfC"
   },
   "source": [
    "# Experiment: initialize weights and test model!"
   ]
  },
  {
   "cell_type": "code",
   "execution_count": null,
   "metadata": {
    "id": "oL7EqhYjGp51"
   },
   "outputs": [],
   "source": [
    "# create a model\n",
    "winenet_xavier = ANNwine()\n",
    "\n",
    "# change the weights (leave biases as Kaiming [default])\n",
    "for p in winenet_xavier.named_parameters():\n",
    "  if 'weight' in p[0]:\n",
    "    nn.init.xavier_normal_(p[1].data)\n",
    "\n",
    "# train the model and record its output\n",
    "trainAcc_X,testAcc_X,losses_X = trainTheModel(winenet_xavier)"
   ]
  },
  {
   "cell_type": "code",
   "execution_count": null,
   "metadata": {
    "id": "otCYJ2ambF2i"
   },
   "outputs": [],
   "source": [
    "# create and train a model\n",
    "winenet_kaiming = ANNwine()\n",
    "\n",
    "# change the weights (leave biases as Kaiming [default])\n",
    "for p in winenet_kaiming.named_parameters():\n",
    "  if 'weight' in p[0]:\n",
    "    nn.init.kaiming_uniform_(p[1].data,nonlinearity='relu')\n",
    "\n",
    "# train the model and record its output\n",
    "trainAcc_K,testAcc_K,losses_K = trainTheModel(winenet_kaiming)"
   ]
  },
  {
   "cell_type": "code",
   "execution_count": null,
   "metadata": {
    "id": "BVjJayfhbTWH"
   },
   "outputs": [],
   "source": [
    "# plot the results\n",
    "\n",
    "fig,ax = plt.subplots(1,3,figsize=(18,4))\n",
    "\n",
    "# losses\n",
    "ax[0].plot(losses_X,label='Xavier')\n",
    "ax[0].plot(losses_K,label='Kaiming')\n",
    "ax[0].set_title('Loss')\n",
    "\n",
    "# train accuracy\n",
    "ax[1].plot(trainAcc_X,label='Xavier')\n",
    "ax[1].plot(trainAcc_K,label='Kaiming')\n",
    "ax[1].set_ylabel('Accuracy (%)')\n",
    "ax[1].set_title('TRAIN')\n",
    "\n",
    "# test accuracy\n",
    "ax[2].plot(testAcc_X,label='Xavier')\n",
    "ax[2].plot(testAcc_K,label='Kaiming')\n",
    "ax[2].set_ylabel('Accuracy (%)')\n",
    "ax[2].set_title('TEST')\n",
    "\n",
    "for i in range(3):\n",
    "  ax[i].legend()\n",
    "  ax[i].grid('on')\n",
    "  ax[i].set_xlabel('Epochs')\n",
    "\n",
    "\n",
    "plt.show()"
   ]
  },
  {
   "cell_type": "markdown",
   "metadata": {
    "id": "_7mAB4utDMeh"
   },
   "source": [
    "# Repeat the experiment to get more stable results"
   ]
  },
  {
   "cell_type": "code",
   "execution_count": null,
   "metadata": {
    "id": "_UMTFQTPqBjr"
   },
   "outputs": [],
   "source": [
    "# Number of experiment iterations (note: ~1 min/iteration)\n",
    "numExps = 10\n",
    "\n",
    "\n",
    "# dimensions of results:\n",
    "#  1 - experiment run\n",
    "#  2 - metric (loss/train/test)\n",
    "#  3 - weight init (X/K)\n",
    "results = np.zeros( (numExps,3,2) )\n",
    "\n",
    "\n",
    "for expi in range(numExps):\n",
    "\n",
    "  ### XAVIER\n",
    "  # create a model and change the weights\n",
    "  winenet_xavier = ANNwine()\n",
    "  for p in winenet_xavier.named_parameters():\n",
    "    if 'weight' in p[0]:\n",
    "      nn.init.xavier_normal_(p[1].data)\n",
    "\n",
    "  # train the model and record its output\n",
    "  trainAcc_X,testAcc_X,losses_X = trainTheModel(winenet_xavier)\n",
    "\n",
    "\n",
    "  ### KAIMING\n",
    "  # create a model and change the weights\n",
    "  winenet_kaiming = ANNwine()\n",
    "  for p in winenet_kaiming.named_parameters():\n",
    "    if 'weight' in p[0]:\n",
    "      nn.init.kaiming_uniform_(p[1].data,nonlinearity='relu')\n",
    "\n",
    "  # train the model and record its output\n",
    "  trainAcc_K,testAcc_K,losses_K = trainTheModel(winenet_kaiming)\n",
    "\n",
    "\n",
    "  ### collect the results!\n",
    "  results[expi,0,0] = torch.mean(losses_X[-5:]).item()\n",
    "  results[expi,0,1] = torch.mean(losses_K[-5:]).item()\n",
    "  \n",
    "  results[expi,1,0] = np.mean(trainAcc_X[-5:])\n",
    "  results[expi,1,1] = np.mean(trainAcc_K[-5:])\n",
    "\n",
    "  results[expi,2,0] = np.mean(testAcc_X[-5:])\n",
    "  results[expi,2,1] = np.mean(testAcc_K[-5:])\n",
    "\n",
    "\n",
    "  # a little update message...\n",
    "  print(f'Finished run {expi}/{numExps}')"
   ]
  },
  {
   "cell_type": "code",
   "execution_count": null,
   "metadata": {
    "id": "0VbOnVLUwv4h"
   },
   "outputs": [],
   "source": [
    "# And plot the results\n",
    "fig,ax = plt.subplots(1,3,figsize=(15,4))\n",
    "\n",
    "# plot titles\n",
    "metric = ['Loss','Train acc.','Test acc.']\n",
    "\n",
    "for i in range(3):\n",
    "  \n",
    "  # plot the results\n",
    "  ax[i].plot(np.zeros(numExps),results[:,i,0],'bo')\n",
    "  ax[i].plot(np.ones(numExps),results[:,i,1],'ro')\n",
    "  \n",
    "  # run a t-test to formalize the comparison\n",
    "  t,p = stats.ttest_ind(results[:,i,0],results[:,i,1])\n",
    "  title = '%s (t=%.2f, p=%.3f)' %(metric[i],t,p)\n",
    "\n",
    "  \n",
    "  # make the plot look a bit nicer\n",
    "  ax[i].set_xlim([-1,2])\n",
    "  ax[i].set_xticks([0,1])\n",
    "  ax[i].set_xticklabels(['Xavier','Kaiming'])\n",
    "  ax[i].set_title(title)\n",
    "\n",
    "plt.show()"
   ]
  },
  {
   "cell_type": "markdown",
   "metadata": {
    "id": "b-DYWPmfTfZR"
   },
   "source": [
    "# Additional explorations"
   ]
  },
  {
   "cell_type": "code",
   "execution_count": null,
   "metadata": {
    "id": "XRokrXL9Thv7"
   },
   "outputs": [],
   "source": [
    "# 1) Adam usually works better than SGD with fewer training epochs. Does Adam also equalize the differences attributable\n",
    "#    to weight initialization?\n",
    "# \n",
    "# 2) The discrepancy between training and test performance suggests that Kaiming initialization involved some overfitting.\n",
    "#    What are some strategies you could employ to reduce overfitting?\n",
    "# \n",
    "# 3) The difference between X and K initialization is likely to increase with more weights. Change the number of units in\n",
    "#    the hidden layers from 32 to 64.\n",
    "# "
   ]
  }
 ],
 "metadata": {
  "colab": {
   "authorship_tag": "ABX9TyOCUPtL26ExAE3+8R6kE/KZ",
   "collapsed_sections": [],
   "name": "DUDL_weights_CodeChallenge_XavierKaiming.ipynb",
   "provenance": [
    {
     "file_id": "1ZsHB4M1ATeF8PjMDHbSxOimxmUMmCfbM",
     "timestamp": 1619024940729
    },
    {
     "file_id": "1IuDazKJ8VD0FyCGt_hC-h3ZSPFypxDM0",
     "timestamp": 1618829295498
    },
    {
     "file_id": "1ZD_ADbh6qrlHE16V7Yc8VF9Vrn2c6bMQ",
     "timestamp": 1617088339885
    }
   ]
  },
  "kernelspec": {
   "display_name": "Python 3",
   "name": "python3"
  },
  "language_info": {
   "name": "python"
  }
 },
 "nbformat": 4,
 "nbformat_minor": 0
}
