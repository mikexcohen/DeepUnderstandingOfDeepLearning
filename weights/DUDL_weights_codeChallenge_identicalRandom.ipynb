{
 "cells": [
  {
   "cell_type": "markdown",
   "id": "4cc27652",
   "metadata": {},
   "source": [
    "[![Open In Colab](https://colab.research.google.com/assets/colab-badge.svg)](https://colab.research.google.com/github/ydebessu/DeepUnderstandingOfDeepLearning/blob/main/weights/DUDL_weights_codeChallenge_identicalRandom.ipynb)"
   ]
  },
  {
   "cell_type": "markdown",
   "metadata": {
    "id": "bhWV8oes-wKR"
   },
   "source": [
    "# COURSE: A deep understanding of deep learning\n",
    "## SECTION: Weight inits and investigations\n",
    "### LECTURE: CodeChallenge: Identically random weights\n",
    "#### TEACHER: Mike X Cohen, sincxpress.com\n",
    "##### COURSE URL: udemy.com/course/deeplearning_x/?couponCode=202401"
   ]
  },
  {
   "cell_type": "code",
   "execution_count": null,
   "metadata": {
    "id": "Vid8jNaLHNtQ"
   },
   "outputs": [],
   "source": [
    "# import libraries\n",
    "import numpy as np\n",
    "import torch\n",
    "import torch.nn as nn\n",
    "import copy\n",
    "\n",
    "import matplotlib.pyplot as plt\n",
    "import matplotlib_inline.backend_inline\n",
    "matplotlib_inline.backend_inline.set_matplotlib_formats('svg')"
   ]
  },
  {
   "cell_type": "code",
   "execution_count": null,
   "metadata": {
    "id": "PDWw3MdSHOV2"
   },
   "outputs": [],
   "source": [
    "# create a model\n",
    "net = nn.Sequential(\n",
    "    nn.Linear(2,8),  # input layer\n",
    "    nn.Linear(8,1),  # hidden layer\n",
    "    nn.Linear(1,1),  # output unit\n",
    "   )"
   ]
  },
  {
   "cell_type": "markdown",
   "metadata": {
    "id": "k6dR60DFJDRR"
   },
   "source": [
    "# Create the four networks"
   ]
  },
  {
   "cell_type": "code",
   "execution_count": null,
   "metadata": {
    "id": "UL41jAxaHOZP"
   },
   "outputs": [],
   "source": [
    "### NO RANDOM SEED\n",
    "\n",
    "# create a \"template\" network\n",
    "net_noseed = copy.deepcopy( net )\n",
    "\n",
    "# update the weights\n",
    "for p in net_noseed.named_parameters():\n",
    "  if 'weight' in p[0]:\n",
    "    nn.init.xavier_normal_(p[1].data)"
   ]
  },
  {
   "cell_type": "code",
   "execution_count": null,
   "metadata": {
    "id": "6ZUB_R8MHOcH"
   },
   "outputs": [],
   "source": [
    "### RANDOM SEED 1a\n",
    "\n",
    "# create a \"template\" network\n",
    "net_rs1a = copy.deepcopy( net )\n",
    "\n",
    "# set the seed to 1\n",
    "torch.manual_seed(1)\n",
    "\n",
    "# update the weights\n",
    "for p in net_rs1a.named_parameters():\n",
    "  if 'weight' in p[0]:\n",
    "    nn.init.xavier_normal_(p[1].data)"
   ]
  },
  {
   "cell_type": "code",
   "execution_count": null,
   "metadata": {
    "id": "nfN3OQBlHOfP"
   },
   "outputs": [],
   "source": [
    "### RANDOM SEED 2\n",
    "\n",
    "# create a \"template\" network\n",
    "net_rs2 = copy.deepcopy( net )\n",
    "\n",
    "# set the seed to 2\n",
    "torch.manual_seed(2)\n",
    "\n",
    "# update the weights\n",
    "for p in net_rs2.named_parameters():\n",
    "  if 'weight' in p[0]:\n",
    "    nn.init.xavier_normal_(p[1].data)"
   ]
  },
  {
   "cell_type": "code",
   "execution_count": null,
   "metadata": {
    "id": "orgfGEscHOiW"
   },
   "outputs": [],
   "source": [
    "### RANDOM SEED 1b\n",
    "\n",
    "# create a \"template\" network\n",
    "net_rs1b = copy.deepcopy( net )\n",
    "\n",
    "# set the seed to 1\n",
    "torch.manual_seed(1)\n",
    "\n",
    "# update the weights\n",
    "for p in net_rs1b.named_parameters():\n",
    "  if 'weight' in p[0]:\n",
    "    nn.init.xavier_normal_(p[1].data)"
   ]
  },
  {
   "cell_type": "markdown",
   "metadata": {
    "id": "RthL0VXjJMCh"
   },
   "source": [
    "# Extract all weights from all networks"
   ]
  },
  {
   "cell_type": "code",
   "execution_count": null,
   "metadata": {
    "id": "0CiwfIo2HOlW"
   },
   "outputs": [],
   "source": [
    "# initialize empty arrays\n",
    "w_ns = np.array([])\n",
    "w_1a = np.array([])\n",
    "w_2  = np.array([])\n",
    "w_1b = np.array([])\n",
    "\n",
    "# loop over layers in the models\n",
    "for i in range(3):\n",
    "\n",
    "  # extract the vectorized weights matrices\n",
    "  w_ns = np.append(w_ns,net_noseed[i].weight.view(-1).detach().numpy())\n",
    "  w_1a = np.append(w_1a,  net_rs1a[i].weight.view(-1).detach().numpy())\n",
    "  w_2  = np.append(w_2 ,   net_rs2[i].weight.view(-1).detach().numpy())\n",
    "  w_1b = np.append(w_1b,  net_rs1b[i].weight.view(-1).detach().numpy())\n",
    "\n",
    "# check the vector\n",
    "w_ns"
   ]
  },
  {
   "cell_type": "code",
   "execution_count": null,
   "metadata": {
    "id": "yooMnVoxHOoe"
   },
   "outputs": [],
   "source": [
    "# plotting\n",
    "\n",
    "fig = plt.figure(figsize=(15,5))\n",
    "\n",
    "plt.plot(w_ns,'ro',markersize=12,label='no seed')\n",
    "plt.plot(w_1a,'ks',markersize=12,label='rs1a')\n",
    "plt.plot(w_2 ,'m^',markersize=12,label='rs2')\n",
    "plt.plot(w_1b,'g+',markersize=15,label='rs1b',markeredgewidth=3)\n",
    "plt.legend()\n",
    "plt.xlabel('Vectorized weight index')\n",
    "plt.ylabel('Weight value')\n",
    "\n",
    "plt.show()"
   ]
  },
  {
   "cell_type": "code",
   "execution_count": null,
   "metadata": {
    "id": "lY2_q4PjHOre"
   },
   "outputs": [],
   "source": [
    "# the algebraic test\n",
    "\n",
    "print('1a-1b should be zeros:')\n",
    "print( w_1a-w_1b )\n",
    "print('\\n\\n')\n",
    "\n",
    "print('1a-2 should be non-zeros:')\n",
    "print( w_1a-w_2 )\n",
    "print('\\n\\n')\n",
    "\n",
    "print('1a-ns should be non-zeros:')\n",
    "print( w_1a-w_ns )\n",
    "print('\\n\\n')"
   ]
  },
  {
   "cell_type": "code",
   "execution_count": null,
   "metadata": {
    "id": "PB27jHgSQBvr"
   },
   "outputs": [],
   "source": []
  },
  {
   "cell_type": "markdown",
   "metadata": {
    "id": "l9U2DpktHOuO"
   },
   "source": [
    "# Additional explorations"
   ]
  },
  {
   "cell_type": "code",
   "execution_count": null,
   "metadata": {
    "id": "E4XgsqVcM32M"
   },
   "outputs": [],
   "source": [
    "# 1) The code here only fixed the *weights*, not the biases. Does that mean that net_rs1a and net_rs1b are actually\n",
    "#    DIFFERENT networks??\n",
    "# \n",
    "# 2) Change the code to plot/subtract the biases instead of the weights. Are the results what you expected? If not,\n",
    "#    figure out why!\n",
    "# "
   ]
  }
 ],
 "metadata": {
  "colab": {
   "authorship_tag": "ABX9TyNVY6AaUJqtJZAGi+/ETocM",
   "collapsed_sections": [],
   "name": "DUDL_weights_codeChallenge_identicalRandom.ipynb",
   "provenance": []
  },
  "kernelspec": {
   "display_name": "Python 3",
   "name": "python3"
  },
  "language_info": {
   "name": "python"
  }
 },
 "nbformat": 4,
 "nbformat_minor": 0
}
