{
 "cells": [
  {
   "cell_type": "markdown",
   "id": "eabdd6cc",
   "metadata": {},
   "source": [
    "[![Open In Colab](https://colab.research.google.com/assets/colab-badge.svg)](https://colab.research.google.com/github/ydebessu/DeepUnderstandingOfDeepLearning/blob/main/FFNmilestone/DUDL_FFNmilestone_project1.ipynb)"
   ]
  },
  {
   "cell_type": "markdown",
   "metadata": {
    "id": "bhWV8oes-wKR"
   },
   "source": [
    "# COURSE: A deep understanding of deep learning\n",
    "## SECTION: FFN milestone projects\n",
    "### LECTURE: Project 1: A gratuitously complex adding machine\n",
    "#### TEACHER: Mike X Cohen, sincxpress.com\n",
    "##### COURSE URL: udemy.com/course/deeplearning_x/?couponCode=202401"
   ]
  },
  {
   "cell_type": "code",
   "execution_count": null,
   "metadata": {
    "id": "j7-LiwqUMGYL"
   },
   "outputs": [],
   "source": [
    "# import libraries\n",
    "import torch\n",
    "import torch.nn as nn\n",
    "import matplotlib.pyplot as plt\n",
    "import numpy as np"
   ]
  },
  {
   "cell_type": "markdown",
   "metadata": {
    "id": "vRbiXgSFc8UC"
   },
   "source": [
    "# Create the training data"
   ]
  },
  {
   "cell_type": "code",
   "execution_count": null,
   "metadata": {
    "id": "j-SP8NPsMNRL"
   },
   "outputs": [],
   "source": [
    "# create data\n",
    "\n",
    "N = 2000\n",
    "\n",
    "# generate data\n",
    "data = torch.randint(low=-10,high=11,size=(N,2)).float()\n",
    "\n",
    "# \"labels\"\n",
    "labels = torch.sum(data,axis=1,keepdim=True)\n",
    "\n",
    "# print the data\n",
    "for i in range(N):\n",
    "  print(data[i],labels[i])"
   ]
  },
  {
   "cell_type": "code",
   "execution_count": null,
   "metadata": {
    "id": "_l9dWwI23zgA"
   },
   "outputs": [],
   "source": [
    "labels.shape"
   ]
  },
  {
   "cell_type": "markdown",
   "metadata": {
    "id": "hVGH-eJNc-4z"
   },
   "source": [
    "# Design the model"
   ]
  },
  {
   "cell_type": "code",
   "execution_count": null,
   "metadata": {
    "id": "krQeh5wYMNla"
   },
   "outputs": [],
   "source": [
    "# a function that builds the model\n",
    "\n",
    "def createADDmodel():\n",
    "\n",
    "  # model architecture\n",
    "  ADDclassify = nn.Sequential(\n",
    "      nn.Linear(2,30),  # input layer\n",
    "      nn.ReLU(),        # activation unit\n",
    "      nn.Linear(30,1),  # hidden layer\n",
    "      nn.ReLU(),        # activation unit\n",
    "      nn.Linear(1,1),   # output unit\n",
    "        )\n",
    "\n",
    "  # loss function\n",
    "  lossfun = nn.MSELoss()\n",
    "\n",
    "  # optimizer\n",
    "  optimizer = torch.optim.Adam(ADDclassify.parameters(),lr=.01)\n",
    "\n",
    "  # model output\n",
    "  return ADDclassify,lossfun,optimizer"
   ]
  },
  {
   "cell_type": "markdown",
   "metadata": {
    "id": "JZWvPSy4dA2Z"
   },
   "source": [
    "# Train the model"
   ]
  },
  {
   "cell_type": "code",
   "execution_count": null,
   "metadata": {
    "id": "of9E8ClxMNsD"
   },
   "outputs": [],
   "source": [
    "# a function that trains the model\n",
    "\n",
    "# a fixed parameter\n",
    "numepochs = 10\n",
    "\n",
    "def trainTheModel(ADDmodel):\n",
    "\n",
    "  # initialize losses\n",
    "  losses = torch.zeros(numepochs)\n",
    "\n",
    "  # loop over epochs\n",
    "  for epochi in range(numepochs):\n",
    "\n",
    "    numloss = []\n",
    "    # loop through \"minibatches\" of N=1\n",
    "    for num,ans in zip(data,labels):\n",
    "\n",
    "      # forward pass\n",
    "      yHat = ADDmodel(num)\n",
    "\n",
    "      # compute loss\n",
    "      loss = lossfun(yHat,ans)\n",
    "      numloss.append(loss.item())\n",
    "\n",
    "      # backprop\n",
    "      optimizer.zero_grad()\n",
    "      loss.backward()\n",
    "      optimizer.step()\n",
    "\n",
    "  losses[epochi] = np.mean(numloss)\n",
    "\n",
    "\n",
    "  # final forward pass\n",
    "  with torch.no_grad():\n",
    "    predictions = ADDmodel(data)\n",
    "\n",
    "  # compute the predictions and report accuracy (is this really different from loss?)\n",
    "  trainacc = 100*torch.mean( (np.abs(predictions-labels)<1).float() ) # <1 for rounding\n",
    "\n",
    "\n",
    "  ### now test with new data!\n",
    "  # create brand new test data\n",
    "  TESTdata = torch.randint(low=-10,high=11,size=(N,2)).float()\n",
    "  TESTlabels = torch.sum(TESTdata,axis=1,keepdim=True)\n",
    "\n",
    "  # evaluate the model and compute accuracy\n",
    "  with torch.no_grad():\n",
    "    predictions = ADDmodel(TESTdata)\n",
    "  testacc = 100*torch.mean( (np.abs(predictions-TESTlabels)<1).float() )\n",
    "\n",
    "  # EOF\n",
    "  return losses,trainacc,testacc,ADDmodel"
   ]
  },
  {
   "cell_type": "code",
   "execution_count": null,
   "metadata": {
    "id": "SWQ4rttNbPiE"
   },
   "outputs": [],
   "source": [
    "# test the model once to make sure it runs\n",
    "AddingMachine,lossfun,optimizer = createADDmodel()\n",
    "losses,trainacc,testacc,ADDmodel = trainTheModel(AddingMachine)\n",
    "\n",
    "# print the results\n",
    "trainacc,testacc\n",
    "# losses"
   ]
  },
  {
   "cell_type": "markdown",
   "metadata": {
    "id": "BKpp_RMDdDeY"
   },
   "source": [
    "# Run the experiment!"
   ]
  },
  {
   "cell_type": "code",
   "execution_count": null,
   "metadata": {
    "id": "SatsWGs3x6Kg"
   },
   "outputs": [],
   "source": [
    "# run the model 10 times to check reproducibility\n",
    "\n",
    "for i in range(10):\n",
    "\n",
    "  # create a new 'machine' and train it\n",
    "  AddingMachine,lossfun,optimizer = createADDmodel()\n",
    "  _,trainacc,testacc,ADDmodel = trainTheModel(AddingMachine)\n",
    "\n",
    "  # report accuracy\n",
    "  print('Model instance %s, final TRAIN/TEST accuracies: %g%%, %g%%' %(i+1,trainacc,testacc))"
   ]
  },
  {
   "cell_type": "code",
   "execution_count": null,
   "metadata": {
    "id": "aHpcfhym148x"
   },
   "outputs": [],
   "source": [
    "# some plots from the final model\n",
    "\n",
    "data = torch.randint(low=-10,high=11,size=(N,2)).float()\n",
    "labels = torch.sum(data,axis=1,keepdim=True)\n",
    "\n",
    "# evaluate the model and compute accuracy\n",
    "with torch.no_grad():\n",
    "  predictions = ADDmodel(data)\n",
    "\n",
    "\n",
    "# true and predicted values\n",
    "fig = plt.figure(figsize=(15,5))\n",
    "plt.plot(labels,'s')\n",
    "plt.plot(np.round(predictions.detach()),'rx')\n",
    "plt.legend(['True sum','Predicted sum'])\n",
    "plt.xlabel('Sample index')\n",
    "plt.ylabel('Sum')\n",
    "plt.title('Predicted vs. actual sum')\n",
    "plt.show()"
   ]
  }
 ],
 "metadata": {
  "colab": {
   "provenance": [
    {
     "file_id": "1Q9LtmanyNt675-gO_kXRBKalCdP6xtvV",
     "timestamp": 1617253457100
    },
    {
     "file_id": "1jeqKEJfI18GlAhSG8RO5aJ6Vrp4-nkTt",
     "timestamp": 1615909315432
    },
    {
     "file_id": "10_geQnah5AvMsm8VDAQwNPhypOXradar",
     "timestamp": 1615893340208
    },
    {
     "file_id": "1FtQ99beHYcDFDywLdaPgFm-KjBeI8PvD",
     "timestamp": 1615877547147
    }
   ]
  },
  "kernelspec": {
   "display_name": "Python 3",
   "name": "python3"
  }
 },
 "nbformat": 4,
 "nbformat_minor": 0
}
