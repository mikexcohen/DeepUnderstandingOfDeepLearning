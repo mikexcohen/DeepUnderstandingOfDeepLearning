{
 "cells": [
  {
   "cell_type": "markdown",
   "id": "25cc7126",
   "metadata": {},
   "source": [
    "[![Open In Colab](https://colab.research.google.com/assets/colab-badge.svg)](https://colab.research.google.com/github/ydebessu/DeepUnderstandingOfDeepLearning/blob/main/transferlearning/DUDL_transfer_pretrainFMNIST.ipynb)"
   ]
  },
  {
   "cell_type": "markdown",
   "metadata": {
    "id": "bhWV8oes-wKR"
   },
   "source": [
    "# COURSE: A deep understanding of deep learning\n",
    "## SECTION: Transfer learning\n",
    "### LECTURE: Pretraining with autoencoders\n",
    "#### TEACHER: Mike X Cohen, sincxpress.com\n",
    "##### COURSE URL: udemy.com/course/deeplearning_x/?couponCode=202401"
   ]
  },
  {
   "cell_type": "code",
   "execution_count": null,
   "metadata": {
    "id": "YeuAheYyhdZw"
   },
   "outputs": [],
   "source": [
    "# import libraries\n",
    "import numpy as np\n",
    "\n",
    "import torch\n",
    "import torch.nn as nn\n",
    "import torch.nn.functional as F\n",
    "\n",
    "# for importing data\n",
    "import torchvision\n",
    "import torchvision.transforms as T\n",
    "from torch.utils.data import DataLoader,Subset\n",
    "\n",
    "import copy\n",
    "\n",
    "import matplotlib.pyplot as plt\n",
    "import matplotlib_inline.backend_inline\n",
    "matplotlib_inline.backend_inline.set_matplotlib_formats('svg')"
   ]
  },
  {
   "cell_type": "code",
   "execution_count": null,
   "metadata": {
    "id": "IBSQO5HB6Kje"
   },
   "outputs": [],
   "source": [
    "# use GPU if available\n",
    "device = torch.device('cuda:0' if torch.cuda.is_available() else 'cpu')"
   ]
  },
  {
   "cell_type": "markdown",
   "metadata": {
    "id": "0HOkOefftqyg"
   },
   "source": [
    "# Import a dataset"
   ]
  },
  {
   "cell_type": "code",
   "execution_count": null,
   "metadata": {
    "id": "R1huHlhc4gnE"
   },
   "outputs": [],
   "source": [
    "# transformations\n",
    "transform = T.Compose([ T.ToTensor(),\n",
    "                        T.RandomHorizontalFlip(p=.5),\n",
    "                        T.Normalize(.5,.5),\n",
    "                       ])\n",
    "\n",
    "# import the data and simultaneously apply the transform\n",
    "trainset = torchvision.datasets.FashionMNIST(root='./data', train=True,  download=True, transform=transform)\n",
    "devtest  = torchvision.datasets.FashionMNIST(root='./data', train=False, download=True, transform=transform)\n",
    "\n",
    "# split the devtest into two separate sets\n",
    "randidx = np.random.permutation(10000)   # a random permutation of indices\n",
    "devset  = Subset(devtest,randidx[:6000]) # Subset for devset\n",
    "testset = Subset(devtest,randidx[6000:]) # Subset for test\n",
    "\n",
    "# transform to dataloaders\n",
    "batchsize    = 32\n",
    "train_loader = DataLoader(trainset,batch_size=batchsize,shuffle=True,drop_last=True)\n",
    "dev_loader   = DataLoader(devset,  batch_size=len(devset))\n",
    "test_loader  = DataLoader(testset, batch_size=len(testset))"
   ]
  },
  {
   "cell_type": "code",
   "execution_count": null,
   "metadata": {
    "id": "hMpyFzF-d95B"
   },
   "outputs": [],
   "source": [
    "# inspect a few random images\n",
    "X,y = next(iter(test_loader))\n",
    "\n",
    "fig,axs = plt.subplots(3,6,figsize=(10,6))\n",
    "\n",
    "for (i,ax) in enumerate(axs.flatten()):\n",
    "\n",
    "  # extract that image\n",
    "  pic = torch.squeeze(X.data[i])\n",
    "  pic = pic/2 + .5 # undo normalization\n",
    "  \n",
    "  # and its label\n",
    "  label = trainset.classes[y[i]]\n",
    "\n",
    "  # and show!\n",
    "  ax.imshow(pic,cmap='gray')\n",
    "  ax.text(14,0,label,ha='center',fontweight='bold',color='k',backgroundcolor='y')\n",
    "  ax.axis('off')\n",
    "\n",
    "plt.tight_layout()\n",
    "plt.show()"
   ]
  },
  {
   "cell_type": "markdown",
   "metadata": {
    "id": "OK8Opkhgp0bO"
   },
   "source": [
    "# Create the autoencoder model"
   ]
  },
  {
   "cell_type": "code",
   "execution_count": null,
   "metadata": {
    "id": "JK3OO3tAtZkA"
   },
   "outputs": [],
   "source": [
    "# create a class for the model\n",
    "def makeTheAENet(printtoggle=False):\n",
    "\n",
    "  class aenet(nn.Module):\n",
    "    def __init__(self,printtoggle):\n",
    "      super().__init__()\n",
    "      \n",
    "      # print toggle\n",
    "      self.print = printtoggle\n",
    "\n",
    "      ### -------------- encoder layers -------------- ###\n",
    "      # first convolution layer\n",
    "      self.encconv1  = nn.Conv2d(1,16,3,padding=1,stride=2)\n",
    "      # output size: (28+2*1-3)/2 + 1 = 14\n",
    "\n",
    "      # second convolution layer\n",
    "      self.encconv2  = nn.Conv2d(16,32,3,padding=1,stride=2)\n",
    "      # output size: (14+2*1-3)/2 + 1 = 7\n",
    "      \n",
    "\n",
    "      ### -------------- decoder layers -------------- ###\n",
    "      # first convolution layer\n",
    "      self.decconv1  = nn.ConvTranspose2d(32,16,4,padding=1,stride=2)\n",
    "      # output size: (28+2*1-3)/2 + 1 = 14\n",
    "\n",
    "      # second convolution layer\n",
    "      self.decconv2  = nn.ConvTranspose2d(16,1,4,padding=1,stride=2)\n",
    "      # output size: (14+2*1-3)/2 + 1 = 7\n",
    "      \n",
    "\n",
    "\n",
    "\n",
    "    def forward(self,x):\n",
    "      \n",
    "      if self.print: print(f'Input: {list(x.shape)}')\n",
    "      \n",
    "      # first encoder layer\n",
    "      x = F.leaky_relu(self.encconv1(x))\n",
    "      if self.print: print(f'First encoder layer: {list(x.shape)}')\n",
    "\n",
    "      # second encoder layer\n",
    "      x = F.leaky_relu(self.encconv2(x))\n",
    "      if self.print: print(f'Second encoder layer: {list(x.shape)}')\n",
    "\n",
    "      # first decoder layer\n",
    "      x = F.leaky_relu(self.decconv1(x))\n",
    "      if self.print: print(f'First decoder layer: {list(x.shape)}')\n",
    "\n",
    "      # second decoder layer\n",
    "      x = F.leaky_relu(self.decconv2(x))\n",
    "      if self.print: print(f'Second decoder layer: {list(x.shape)}')\n",
    "\n",
    "      return x\n",
    "\n",
    "  # create the model instance\n",
    "  net = aenet(printtoggle)\n",
    "  \n",
    "  # loss function\n",
    "  lossfun = nn.MSELoss()\n",
    "\n",
    "  # optimizer\n",
    "  optimizer = torch.optim.Adam(net.parameters(),lr=.001)\n",
    "\n",
    "  return net,lossfun,optimizer"
   ]
  },
  {
   "cell_type": "code",
   "execution_count": null,
   "metadata": {
    "id": "y6icEJcXp0el"
   },
   "outputs": [],
   "source": [
    "# test the model with one batch\n",
    "tmpnet,lossfun,optimizer = makeTheAENet(True)\n",
    "\n",
    "X,y = next(iter(train_loader))\n",
    "yHat = tmpnet(X)\n",
    "\n",
    "# check size of output\n",
    "print('\\nOutput size:')\n",
    "print(yHat.shape)\n",
    "\n",
    "# # now let's compute the loss\n",
    "loss = lossfun(yHat,X)\n",
    "print(' ')\n",
    "print('Loss:')\n",
    "print(loss)"
   ]
  },
  {
   "cell_type": "markdown",
   "metadata": {
    "id": "dvfGQIRGp0ht"
   },
   "source": [
    "# Create a function that trains the AUTOENCODER model"
   ]
  },
  {
   "cell_type": "code",
   "execution_count": null,
   "metadata": {
    "id": "IblJo1NCp0kl"
   },
   "outputs": [],
   "source": [
    "# a function that trains the model\n",
    "\n",
    "def function2trainTheAEModel():\n",
    "\n",
    "  # number of epochs\n",
    "  numepochs = 10\n",
    "  \n",
    "  # create a new model\n",
    "  net,lossfun,optimizer = makeTheAENet()\n",
    "\n",
    "  # send the model to the GPU\n",
    "  net.to(device)\n",
    "\n",
    "  # initialize losses\n",
    "  trainLoss = torch.zeros(numepochs)\n",
    "  devLoss   = torch.zeros(numepochs)\n",
    "\n",
    "\n",
    "  # loop over epochs\n",
    "  for epochi in range(numepochs):\n",
    "\n",
    "    # loop over training data batches\n",
    "    net.train() # switch to train mode\n",
    "    batchLoss = []\n",
    "    for X,y in train_loader:\n",
    "\n",
    "      # push data to GPU\n",
    "      X = X.to(device)\n",
    "      y = y.to(device)\n",
    "\n",
    "      # forward pass and loss\n",
    "      yHat = net(X)\n",
    "      loss = lossfun(yHat,X)\n",
    "\n",
    "      # backprop\n",
    "      optimizer.zero_grad()\n",
    "      loss.backward()\n",
    "      optimizer.step()\n",
    "\n",
    "      # loss and accuracy from this batch\n",
    "      batchLoss.append(loss.item())\n",
    "    # end of batch loop...\n",
    "\n",
    "    # and get average losses and accuracies across the batches\n",
    "    trainLoss[epochi] = np.mean(batchLoss)\n",
    "\n",
    "\n",
    "    #### test performance\n",
    "    net.eval() # switch to test mode\n",
    "    X,y = next(iter(dev_loader))\n",
    "\n",
    "    # push data to GPU\n",
    "    X = X.to(device)\n",
    "    y = y.to(device)\n",
    "\n",
    "    # forward pass and loss\n",
    "    with torch.no_grad():\n",
    "      yHat = net(X)\n",
    "      loss = lossfun(yHat,X)\n",
    "\n",
    "    # and get average losses and accuracies across the batches\n",
    "    devLoss[epochi] = loss.item()\n",
    "\n",
    "  # end epochs\n",
    "\n",
    "  # function output\n",
    "  return trainLoss,devLoss,net"
   ]
  },
  {
   "cell_type": "markdown",
   "metadata": {
    "id": "XpGm9xdQ27Ob"
   },
   "source": [
    "# Run the model and show the results!"
   ]
  },
  {
   "cell_type": "code",
   "execution_count": null,
   "metadata": {
    "id": "l9pCC1R2p0nu"
   },
   "outputs": [],
   "source": [
    "# ~3 minutes with 10 epochs on GPU\n",
    "trainLoss,devLoss,aenet = function2trainTheAEModel()"
   ]
  },
  {
   "cell_type": "code",
   "execution_count": null,
   "metadata": {
    "id": "nOLzbmwM_dj5"
   },
   "outputs": [],
   "source": [
    "fig = plt.figure(figsize=(8,4))\n",
    "\n",
    "plt.plot(trainLoss,'s-',label='Train')\n",
    "plt.plot(devLoss,'o-',label='Dev')\n",
    "plt.xlabel('Epochs')\n",
    "plt.ylabel('Loss (MSE)')\n",
    "plt.title('Model loss')\n",
    "plt.legend()\n",
    "\n",
    "plt.show()"
   ]
  },
  {
   "cell_type": "code",
   "execution_count": null,
   "metadata": {
    "id": "-KII11G78bqH"
   },
   "outputs": [],
   "source": [
    "## show some random examples\n",
    "\n",
    "# get some data\n",
    "X,y = next(iter(dev_loader))\n",
    "\n",
    "# forward pass and loss\n",
    "aenet.cpu()\n",
    "aenet.eval() # switch to test mode\n",
    "yHat = aenet(X)\n",
    "\n",
    "fig,axs = plt.subplots(2,10,figsize=(15,3))\n",
    "\n",
    "for i in range(10):\n",
    "  pic = yHat[i,0,:,:].detach()\n",
    "  pic = pic/2 + .5 # undo normalization\n",
    "  axs[0,i].imshow(pic,cmap='gray')\n",
    "  axs[0,i].axis('off')\n",
    "\n",
    "  pic = X[i,0,:,:].detach()\n",
    "  pic = pic/2 + .5 # undo normalization\n",
    "  axs[1,i].imshow(pic,cmap='gray')\n",
    "  axs[1,i].axis('off')\n",
    "\n",
    "  if i==0:\n",
    "    axs[0,0].text(-6,14,'Reconstructed',rotation=90,va='center')\n",
    "    axs[1,0].text(-6,14,'Original',rotation=90,va='center')\n",
    "\n",
    "  \n",
    "plt.show()"
   ]
  },
  {
   "cell_type": "markdown",
   "metadata": {
    "id": "9yhD8WNVhZ7D"
   },
   "source": [
    "# Now create a new model that does classification"
   ]
  },
  {
   "cell_type": "code",
   "execution_count": null,
   "metadata": {
    "id": "ZMrEZh3mhnTV"
   },
   "outputs": [],
   "source": [
    "# create a class for the model\n",
    "def makeTheClassNet(printtoggle=False):\n",
    "\n",
    "  class cnnnet(nn.Module):\n",
    "    def __init__(self,printtoggle):\n",
    "      super().__init__()\n",
    "      \n",
    "      # print toggle\n",
    "      self.print = printtoggle\n",
    "\n",
    "      ### -------------- encoder layers -------------- ###\n",
    "      # first convolution layer\n",
    "      self.encconv1  = nn.Conv2d(1,16,3,padding=1,stride=2)\n",
    "      # output size: (28+2*1-3)/2 + 1 = 14\n",
    "\n",
    "      # second convolution layer\n",
    "      self.encconv2  = nn.Conv2d(16,32,3,padding=1,stride=2)\n",
    "      # output size: (14+2*1-3)/2 + 1 = 7\n",
    "      \n",
    "\n",
    "      ### ------------- linear layers ------------- ###\n",
    "      self.fc1  = nn.Linear(7*7*32,50)\n",
    "      self.fc2  = nn.Linear(50,10)\n",
    "      \n",
    "\n",
    "    def forward(self,x):\n",
    "      \n",
    "      if self.print: print(f'Input: {list(x.shape)}')\n",
    "      \n",
    "      # first encoder layer\n",
    "      x = F.leaky_relu(self.encconv1(x))\n",
    "      if self.print: print(f'First encoder layer: {list(x.shape)}')\n",
    "\n",
    "      # second encoder layer\n",
    "      x = F.leaky_relu(self.encconv2(x))\n",
    "      if self.print: print(f'Second encoder layer: {list(x.shape)}')\n",
    "\n",
    "      # reshape to linear\n",
    "      nUnits = x.shape.numel()/x.shape[0]\n",
    "      x = x.view(-1,int(nUnits))\n",
    "      if self.print: print(f'Post-convolution vectorized: {list(x.shape)}')\n",
    "\n",
    "      # linear layers\n",
    "      x = F.leaky_relu(self.fc1(x))\n",
    "      if self.print: print(f'First linear layer: {list(x.shape)}')\n",
    "\n",
    "      x = F.leaky_relu(self.fc2(x))\n",
    "      if self.print: print(f'Second linear layer: {list(x.shape)}')\n",
    "\n",
    "      return x\n",
    "\n",
    "  # create the model instance\n",
    "  net = cnnnet(printtoggle)\n",
    "  \n",
    "  # loss function\n",
    "  lossfun = nn.CrossEntropyLoss()\n",
    "\n",
    "  # optimizer\n",
    "  optimizer = torch.optim.Adam(net.parameters(),lr=.001)\n",
    "\n",
    "  return net,lossfun,optimizer"
   ]
  },
  {
   "cell_type": "code",
   "execution_count": null,
   "metadata": {
    "id": "JYhl-EughnWt"
   },
   "outputs": [],
   "source": [
    "# test the model with one batch\n",
    "tmpnet,lossfun,optimizer = makeTheClassNet(True)\n",
    "\n",
    "X,y = next(iter(train_loader))\n",
    "yHat = tmpnet(X)\n",
    "\n",
    "# check size of output\n",
    "print('\\nOutput size:')\n",
    "print(yHat.shape)\n",
    "\n",
    "# # now let's compute the loss\n",
    "loss = lossfun(yHat,y)\n",
    "print(' ')\n",
    "print('Loss:')\n",
    "print(loss)"
   ]
  },
  {
   "cell_type": "markdown",
   "metadata": {
    "id": "Duekhbb3hnZt"
   },
   "source": [
    "# Now we need another function to train the classifier"
   ]
  },
  {
   "cell_type": "code",
   "execution_count": null,
   "metadata": {
    "id": "iKLxEmTukAa9"
   },
   "outputs": [],
   "source": [
    "# a function that trains the model\n",
    "\n",
    "def function2trainTheClassModel(net,lossfun,optimizer):\n",
    "\n",
    "  # number of epochs\n",
    "  numepochs = 10\n",
    "  \n",
    "  # send the model to the GPU\n",
    "  net.to(device)\n",
    "\n",
    "  # initialize losses\n",
    "  trainLoss = torch.zeros(numepochs)\n",
    "  devLoss   = torch.zeros(numepochs)\n",
    "  trainAcc  = torch.zeros(numepochs)\n",
    "  devAcc    = torch.zeros(numepochs)\n",
    "\n",
    "\n",
    "  # loop over epochs\n",
    "  for epochi in range(numepochs):\n",
    "\n",
    "    # loop over training data batches\n",
    "    net.train() # switch to train mode\n",
    "    batchLoss = []\n",
    "    batchAcc  = []\n",
    "\n",
    "    for X,y in train_loader:\n",
    "\n",
    "      # push data to GPU\n",
    "      X = X.to(device)\n",
    "      y = y.to(device)\n",
    "\n",
    "      # forward pass and loss\n",
    "      yHat = net(X)\n",
    "      loss = lossfun(yHat,y)\n",
    "      \n",
    "      # backprop\n",
    "      optimizer.zero_grad()\n",
    "      loss.backward()\n",
    "      optimizer.step()\n",
    "\n",
    "      # loss and accuracy from this batch\n",
    "      batchLoss.append(loss.item())\n",
    "      batchAcc.append( torch.mean((torch.argmax(yHat,axis=1) == y).float()).item() )\n",
    "    # end of batch loop...\n",
    "\n",
    "    # and get average losses and accuracies across the batches\n",
    "    trainLoss[epochi] = np.mean(batchLoss)\n",
    "    trainAcc[epochi]  = 100*np.mean(batchAcc)\n",
    "\n",
    "\n",
    "    #### test performance\n",
    "    net.eval() # switch to test mode\n",
    "    X,y = next(iter(dev_loader))\n",
    "\n",
    "    # push data to GPU\n",
    "    X = X.to(device)\n",
    "    y = y.to(device)\n",
    "\n",
    "    # forward pass and loss\n",
    "    with torch.no_grad():\n",
    "      yHat = net(X)\n",
    "      loss = lossfun(yHat,y)\n",
    "\n",
    "    # and get average losses and accuracies across the batches\n",
    "    devLoss[epochi] = loss.item()\n",
    "    devAcc[epochi]  = 100*torch.mean((torch.argmax(yHat,axis=1) == y).float()).item()\n",
    "  # end epochs\n",
    "\n",
    "  # function output\n",
    "  return trainLoss,devLoss,trainAcc,devAcc,net"
   ]
  },
  {
   "cell_type": "code",
   "execution_count": null,
   "metadata": {
    "id": "o7CniAF5ka6O"
   },
   "outputs": [],
   "source": [
    "# train a new model from scratch (not pre-trained!)\n",
    "\n",
    "# create a naive network\n",
    "naivenet,lossfun,optimizer = makeTheClassNet()\n",
    "\n",
    "# train it from scratch\n",
    "trainLossNaive,devLossNaive,trainAccNaive,devAccNaive,naivenet = function2trainTheClassModel(naivenet,lossfun,optimizer)\n",
    "\n",
    "\n",
    "## evaluate on the test set\n",
    "naivenet.eval() # switch to test mode\n",
    "X,y = next(iter(test_loader))\n",
    "\n",
    "# push data to GPU\n",
    "X = X.to(device)\n",
    "y = y.to(device)\n",
    "\n",
    "# forward pass and loss\n",
    "with torch.no_grad():\n",
    "  yHat = naivenet(X)\n",
    "  loss = lossfun(yHat,y)\n",
    "\n",
    "# loss and accuracy from this batch\n",
    "testLossNaive = loss.item()\n",
    "testAccNaive  = 100*torch.mean((torch.argmax(yHat,axis=1) == y).float()).item()"
   ]
  },
  {
   "cell_type": "code",
   "execution_count": null,
   "metadata": {
    "id": "Br6b5KptlX6f"
   },
   "outputs": [],
   "source": [
    "fig,ax = plt.subplots(1,2,figsize=(16,5))\n",
    "\n",
    "ax[0].plot(trainLossNaive,'s-',label='Train')\n",
    "ax[0].plot(devLossNaive,'o-',label='Dev')\n",
    "ax[0].plot(len(devLossNaive)-1,testLossNaive,'r*',markersize=15,label='Test')\n",
    "ax[0].set_xlabel('Epochs')\n",
    "ax[0].set_ylabel('Loss (MSE)')\n",
    "ax[0].set_title('Model loss')\n",
    "\n",
    "ax[1].plot(trainAccNaive,'s-',label='Train')\n",
    "ax[1].plot(devAccNaive,'o-',label='Dev')\n",
    "ax[1].plot(len(devAccNaive)-1,testAccNaive,'r*',markersize=15,label='Test')\n",
    "ax[1].set_xlabel('Epochs')\n",
    "ax[1].set_ylabel('Accuracy (%)')\n",
    "ax[1].set_title(f'Final model dev/test accuracy: {devAccNaive[-1]:.2f}/{testAccNaive:.2f}%')\n",
    "ax[1].legend()\n",
    "\n",
    "plt.show()"
   ]
  },
  {
   "cell_type": "markdown",
   "metadata": {
    "id": "Bz51kMMVmduJ"
   },
   "source": [
    "# Build a new model but replace the convolution layers with with AE layer"
   ]
  },
  {
   "cell_type": "code",
   "execution_count": null,
   "metadata": {
    "id": "sA_ePFV3mkcL"
   },
   "outputs": [],
   "source": [
    "pretrainNet,lossfun,optimizer = makeTheClassNet()\n",
    "\n",
    "#### Note about the code below: Both networks have the same number of layers overall; in other applications\n",
    "#    you may need to modify the code to find the matching layers.\n",
    "\n",
    "# then replace the conv weights in TARGET model from encoder weights in SOURCE model\n",
    "for target,source in zip(pretrainNet.named_parameters(),aenet.named_parameters()):\n",
    "  print('PRETRAIN: ' + target[0] + '  AENET: ' + source[0])\n",
    "  if 'enc' in target[0]:\n",
    "    target[1].data = copy.deepcopy( source[1].data )\n"
   ]
  },
  {
   "cell_type": "code",
   "execution_count": null,
   "metadata": {
    "id": "A9HQwTRfoE8B"
   },
   "outputs": [],
   "source": [
    "# train the pretrained model\n",
    "\n",
    "# training\n",
    "trainLossPre,devLossPre,trainAccPre,devAccPre,pretrainNet = function2trainTheClassModel(pretrainNet,lossfun,optimizer)\n",
    "\n",
    "\n",
    "## evaluate on the test set\n",
    "pretrainNet.eval() # switch to test mode\n",
    "X,y = next(iter(test_loader))\n",
    "\n",
    "# push data to GPU\n",
    "X = X.to(device)\n",
    "y = y.to(device)\n",
    "\n",
    "# forward pass and loss\n",
    "with torch.no_grad():\n",
    "  yHat = pretrainNet(X)\n",
    "  loss = lossfun(yHat,y)\n",
    "\n",
    "# loss and accuracy from this batch\n",
    "testLossPre = loss.item()\n",
    "testAccPre  = 100*torch.mean((torch.argmax(yHat,axis=1) == y).float()).item()"
   ]
  },
  {
   "cell_type": "code",
   "execution_count": null,
   "metadata": {
    "id": "lRXqqbGkok6t"
   },
   "outputs": [],
   "source": [
    "fig,ax = plt.subplots(1,2,figsize=(16,5))\n",
    "\n",
    "ax[0].plot(trainLossPre,'rs-',label='PRE Train')\n",
    "ax[0].plot(devLossPre,'ro--',label='PRE Dev')\n",
    "ax[0].plot(len(devLossPre)-1,testLossPre,'rp',markersize=15,label='PRE Test')\n",
    "ax[0].plot(trainLossNaive,'bs-',label='NAIVE Train')\n",
    "ax[0].plot(devLossNaive,'bo--',label='NAIVE Dev')\n",
    "ax[0].plot(len(devLossNaive)-1,testLossNaive,'b*',markersize=15,label='NAIVE Test')\n",
    "ax[0].set_xlabel('Epochs')\n",
    "ax[0].set_ylabel('Loss (MSE)')\n",
    "ax[0].set_title('Model loss')\n",
    "ax[0].legend()\n",
    "\n",
    "ax[1].plot(trainAccPre,'rs-',label='PRE Train')\n",
    "ax[1].plot(devAccPre,'ro--',label='PRE Dev')\n",
    "ax[1].plot(len(devAccPre)-1,testAccPre,'rp',markersize=15,label='PRE Test')\n",
    "ax[1].plot(trainAccNaive,'bs-',label='NAIVE Train')\n",
    "ax[1].plot(devAccNaive,'bo--',label='NAIVE Dev')\n",
    "ax[1].plot(len(devAccNaive)-1,testAccNaive,'b*',markersize=15,label='NAIVE Test')\n",
    "ax[1].set_xlabel('Epochs')\n",
    "ax[1].set_ylabel('Accuracy (%)')\n",
    "ax[1].set_title(f'Final NaiveTest/PREtest accuracy: {testAccNaive:.2f}/{testAccPre:.2f}%')\n",
    "ax[1].legend()\n",
    "\n",
    "plt.show()"
   ]
  },
  {
   "cell_type": "markdown",
   "metadata": {
    "id": "Io9JgUtU_Mmk"
   },
   "source": [
    "# Perhaps they differ by feature map activation?"
   ]
  },
  {
   "cell_type": "code",
   "execution_count": null,
   "metadata": {
    "id": "s65RwwCSuJQT"
   },
   "outputs": [],
   "source": [
    "# grab one image\n",
    "x = X[10,:,:,:].view(1,1,28,28)\n",
    "\n",
    "# compute the activations of the first layer (excluding the bias b/c this is simply a constant)\n",
    "layer1ActPre = F.relu( F.conv2d(x,pretrainNet.encconv1.weight) )\n",
    "layer1ActNai = F.relu( F.conv2d(x,naivenet.encconv1.weight) )\n",
    "\n",
    "\n",
    "\n",
    "## show the feature map activations for the pretrained model\n",
    "fig,axs = plt.subplots(2,8,figsize=(14,4))\n",
    "for i,ax in enumerate(axs.flatten()):\n",
    "  act = torch.squeeze(layer1ActPre[0,i,:,:]).detach().cpu()\n",
    "  ax.imshow(act,cmap='gray')\n",
    "  ax.axis('off')\n",
    "\n",
    "plt.suptitle('Pretrained activations',y=.9)\n",
    "plt.show()\n",
    "\n",
    "\n",
    "\n",
    "## show the feature map activations for the naive model\n",
    "fig,axs = plt.subplots(2,8,figsize=(14,4))\n",
    "for i,ax in enumerate(axs.flatten()):\n",
    "  act = torch.squeeze(layer1ActNai[0,i,:,:]).detach().cpu()\n",
    "  ax.imshow(act,cmap='gray')\n",
    "  ax.axis('off')\n",
    "\n",
    "plt.suptitle('Naive activations',y=.9)\n",
    "plt.show()"
   ]
  },
  {
   "cell_type": "code",
   "execution_count": null,
   "metadata": {
    "id": "Lz1hSAKSuI32"
   },
   "outputs": [],
   "source": []
  },
  {
   "cell_type": "markdown",
   "metadata": {
    "id": "T8hVL11vuJK5"
   },
   "source": [
    "# Additional explorations"
   ]
  },
  {
   "cell_type": "code",
   "execution_count": null,
   "metadata": {
    "id": "Poaxe1OzuJNj"
   },
   "outputs": [],
   "source": [
    "# 1) Computing the activation of the first layer is fairly straight forward, but gets more complicated as you go deeper\n",
    "#    into the model. Perhaps more insight into the differences between the native and pretrained models will come from\n",
    "#    inspecting the activation of the second convolution layer. To examine this, you can modify the network classes to \n",
    "#    output the activation maps (see lecture \"Examine feature map activations\" from CNN section). Does examining the\n",
    "#    feature map activations of this layer provide any more insight into the differences in performance between the\n",
    "#    two different models?\n",
    "# \n",
    "# 2) Here we used pretraining as a \"smart weight initialization,\" but you can also pretrain and freeze the copied layers. \n",
    "#    Given the performance seen above, it's unlikely that freezing the convolution layers (instead of allowing them to\n",
    "#    continue learning) will increase performance, but it (1) is a great opportunity for you to practice freezing layers\n",
    "#    and (2) will be interesting to see whether the frozen model does worse or the same as the pretrainNet.\n",
    "# "
   ]
  }
 ],
 "metadata": {
  "accelerator": "GPU",
  "colab": {
   "provenance": [
    {
     "file_id": "11JgxbEL71ZKhgwhFK1r2uVQU4UPrdsx4",
     "timestamp": 1620384658201
    }
   ]
  },
  "kernelspec": {
   "display_name": "Python 3",
   "name": "python3"
  }
 },
 "nbformat": 4,
 "nbformat_minor": 0
}
