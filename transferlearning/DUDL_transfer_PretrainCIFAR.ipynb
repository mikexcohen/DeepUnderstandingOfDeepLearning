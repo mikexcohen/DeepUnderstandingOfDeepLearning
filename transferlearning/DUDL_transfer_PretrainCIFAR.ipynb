{
 "cells": [
  {
   "cell_type": "markdown",
   "id": "7bbe1e2f",
   "metadata": {},
   "source": [
    "[![Open In Colab](https://colab.research.google.com/assets/colab-badge.svg)](https://colab.research.google.com/github/ydebessu/DeepUnderstandingOfDeepLearning/blob/main/transferlearning/DUDL_transfer_PretrainCIFAR.ipynb)"
   ]
  },
  {
   "cell_type": "markdown",
   "metadata": {
    "id": "bhWV8oes-wKR"
   },
   "source": [
    "# COURSE: A deep understanding of deep learning\n",
    "## SECTION: Transfer learning\n",
    "### LECTURE: CIFAR10 with autoencoder-pretrained model\n",
    "#### TEACHER: Mike X Cohen, sincxpress.com\n",
    "##### COURSE URL: udemy.com/course/deeplearning_x/?couponCode=202401"
   ]
  },
  {
   "cell_type": "code",
   "execution_count": null,
   "metadata": {
    "id": "YeuAheYyhdZw"
   },
   "outputs": [],
   "source": [
    "# import libraries\n",
    "import numpy as np\n",
    "\n",
    "import torch\n",
    "import torch.nn as nn\n",
    "import torch.nn.functional as F\n",
    "\n",
    "# for importing data\n",
    "import torchvision\n",
    "import torchvision.transforms as T\n",
    "from torch.utils.data import DataLoader,Subset\n",
    "\n",
    "import copy\n",
    "\n",
    "import matplotlib.pyplot as plt\n",
    "import matplotlib_inline.backend_inline\n",
    "matplotlib_inline.backend_inline.set_matplotlib_formats('svg')"
   ]
  },
  {
   "cell_type": "code",
   "execution_count": null,
   "metadata": {
    "id": "IBSQO5HB6Kje"
   },
   "outputs": [],
   "source": [
    "# use GPU if available\n",
    "device = torch.device('cuda:0' if torch.cuda.is_available() else 'cpu')"
   ]
  },
  {
   "cell_type": "markdown",
   "metadata": {
    "id": "0HOkOefftqyg"
   },
   "source": [
    "# Import the CIFAR dataset"
   ]
  },
  {
   "cell_type": "code",
   "execution_count": null,
   "metadata": {
    "id": "R1huHlhc4gnE"
   },
   "outputs": [],
   "source": [
    "# transformations\n",
    "transform = T.Compose([ T.ToTensor(),\n",
    "                        T.Normalize([.5,.5,.5],[.5,.5,.5])\n",
    "                       ])\n",
    "\n",
    "# import the data and simultaneously apply the transform\n",
    "trainset = torchvision.datasets.CIFAR10(root='./data', train=True,  download=True, transform=transform)\n",
    "testset  = torchvision.datasets.CIFAR10(root='./data', train=False, download=True, transform=transform)\n",
    "\n",
    "# transform to dataloaders\n",
    "batchsize        = 32\n",
    "train_loaderFull = DataLoader(trainset,batch_size=batchsize,shuffle=True,drop_last=True)\n",
    "test_loaderFull  = DataLoader(testset, batch_size=256)"
   ]
  },
  {
   "cell_type": "code",
   "execution_count": null,
   "metadata": {
    "id": "ifukCCMeKcJL"
   },
   "outputs": [],
   "source": [
    "# Create smaller DataLoaders with only 2k images (used later)\n",
    "\n",
    "trainsetSmall = torch.utils.data.Subset(trainset,range(2000))\n",
    "train_loaderSmall = DataLoader(trainsetSmall,batch_size=batchsize,shuffle=True)\n",
    "\n",
    "testsetSmall = torch.utils.data.Subset(testset,range(2000))\n",
    "test_loaderSmall = DataLoader(testsetSmall,batch_size=batchsize,shuffle=True)"
   ]
  },
  {
   "cell_type": "code",
   "execution_count": null,
   "metadata": {
    "id": "hMpyFzF-d95B"
   },
   "outputs": [],
   "source": [
    "# inspect a few random images\n",
    "\n",
    "X,y = next(iter(train_loaderSmall))\n",
    "\n",
    "fig,axs = plt.subplots(4,4,figsize=(10,10))\n",
    "\n",
    "for (i,ax) in enumerate(axs.flatten()):\n",
    "\n",
    "  # extract that image (need to transpose it back to 32x32x3)\n",
    "  pic = X.data[i].numpy().transpose((1,2,0))\n",
    "  pic = pic/2 + .5 # undo normalization\n",
    "\n",
    "  # and its label\n",
    "  label = trainset.classes[y[i]]\n",
    "\n",
    "  # and show!\n",
    "  ax.imshow(pic)\n",
    "  ax.text(16,0,label,ha='center',fontweight='bold',color='k',backgroundcolor='y')\n",
    "  ax.axis('off')\n",
    "\n",
    "plt.tight_layout()\n",
    "plt.show()"
   ]
  },
  {
   "cell_type": "markdown",
   "metadata": {
    "id": "OK8Opkhgp0bO"
   },
   "source": [
    "# Create the CNN-AE model"
   ]
  },
  {
   "cell_type": "code",
   "execution_count": null,
   "metadata": {
    "id": "JK3OO3tAtZkA"
   },
   "outputs": [],
   "source": [
    "# create a class for the model\n",
    "def makeTheAENet(printtoggle=False):\n",
    "\n",
    "  class aenet(nn.Module):\n",
    "    def __init__(self,printtoggle):\n",
    "      super().__init__()\n",
    "\n",
    "      # print toggle\n",
    "      self.print = printtoggle\n",
    "\n",
    "      ### -------------- encoding layers -------------- ###\n",
    "      # first convolution layer\n",
    "      self.encconv1  = nn.Conv2d(3,16,4,padding=1,stride=2) # note: using stride instead of pool to downsample\n",
    "      # output size: (32+2*1-4)/2 + 1 = 16\n",
    "\n",
    "      # second convolution layer\n",
    "      self.encconv2  = nn.Conv2d(16,32,4,padding=1,stride=2)\n",
    "      # output size: (16+2*1-4)/2 + 1 = 8\n",
    "\n",
    "      # third convolution layer\n",
    "      self.encconv3  = nn.Conv2d(32,64,4,padding=1,stride=2)\n",
    "      # output size: (8+2*1-4)/2 + 1 = 4\n",
    "\n",
    "\n",
    "      ### -------------- decoding layers -------------- ###\n",
    "\n",
    "      # first convolution layer\n",
    "      self.decconv1  = nn.ConvTranspose2d(64,32,4,padding=1,stride=2)\n",
    "\n",
    "      # second convolution layer\n",
    "      self.decconv2  = nn.ConvTranspose2d(32,16,4,padding=1,stride=2)\n",
    "\n",
    "      # third convolution layer (output)\n",
    "      self.decconv3  = nn.ConvTranspose2d(16,3,4,padding=1,stride=2)\n",
    "\n",
    "\n",
    "    def forward(self,x):\n",
    "\n",
    "      if self.print: print(f'Input: {list(x.shape)}')\n",
    "\n",
    "      # first encoder layer\n",
    "      x = F.leaky_relu( self.encconv1(x) )\n",
    "      if self.print: print(f'First encoder block: {list(x.shape)}')\n",
    "\n",
    "      # first encoder layer\n",
    "      x = F.leaky_relu( self.encconv2(x) )\n",
    "      if self.print: print(f'Second encoder block: {list(x.shape)}')\n",
    "\n",
    "      # first encoder layer\n",
    "      x = F.leaky_relu( self.encconv3(x) )\n",
    "      if self.print: print(f'Third encoder block: {list(x.shape)}')\n",
    "\n",
    "\n",
    "\n",
    "\n",
    "      # first decoder block\n",
    "      x = F.leaky_relu( self.decconv1(x) )\n",
    "      if self.print: print(f'First decoder block: {list(x.shape)}')\n",
    "\n",
    "      # second decoder block\n",
    "      x = F.leaky_relu( self.decconv2(x) )\n",
    "      if self.print: print(f'Second decoder block: {list(x.shape)}')\n",
    "\n",
    "      # third decoder block (output)\n",
    "      x = F.leaky_relu( self.decconv3(x) )\n",
    "      if self.print: print(f'Decoder output: {list(x.shape)}')\n",
    "\n",
    "      return x\n",
    "\n",
    "  # create the model instance\n",
    "  net = aenet(printtoggle)\n",
    "\n",
    "  # loss function\n",
    "  lossfun = nn.MSELoss()\n",
    "\n",
    "  # optimizer\n",
    "  optimizer = torch.optim.Adam(net.parameters(),lr=.001,weight_decay=1e-5)\n",
    "\n",
    "  return net,lossfun,optimizer\n"
   ]
  },
  {
   "cell_type": "code",
   "execution_count": null,
   "metadata": {
    "id": "y6icEJcXp0el"
   },
   "outputs": [],
   "source": [
    "# test the model with one batch\n",
    "aenet,lossfun,optimizer = makeTheAENet(True)\n",
    "\n",
    "X,y = next(iter(train_loaderSmall))\n",
    "yHat = aenet(X)\n",
    "\n",
    "# now compute the loss\n",
    "loss = lossfun(yHat,X)\n",
    "print(' ')\n",
    "print('Loss:')\n",
    "print(loss)"
   ]
  },
  {
   "cell_type": "code",
   "execution_count": null,
   "metadata": {
    "id": "Dhd1iUO9xjbv"
   },
   "outputs": [],
   "source": []
  },
  {
   "cell_type": "markdown",
   "metadata": {
    "id": "dvfGQIRGp0ht"
   },
   "source": [
    "# Create a function that trains the AE model"
   ]
  },
  {
   "cell_type": "code",
   "execution_count": null,
   "metadata": {
    "id": "IblJo1NCp0kl"
   },
   "outputs": [],
   "source": [
    "# a function that trains the model\n",
    "\n",
    "def function2trainTheAEModel(net,lossfun,optimizer):\n",
    "\n",
    "  # number of epochs\n",
    "  numepochs = 15\n",
    "\n",
    "  # send the model to the GPU\n",
    "  net.to(device)\n",
    "\n",
    "  # initialize losses\n",
    "  trainLoss = torch.zeros(numepochs)\n",
    "  testLoss  = torch.zeros(numepochs)\n",
    "\n",
    "\n",
    "  # loop over epochs\n",
    "  for epochi in range(numepochs):\n",
    "\n",
    "    # loop over training data batches\n",
    "    net.train() # switch to train mode\n",
    "    batchLoss = []\n",
    "\n",
    "    for X,y in train_loaderFull:\n",
    "\n",
    "      # push data to GPU\n",
    "      X = X.to(device)\n",
    "      y = y.to(device)\n",
    "\n",
    "      # forward pass and loss\n",
    "      yHat = net(X)\n",
    "      loss = lossfun(yHat,X)\n",
    "\n",
    "      # backprop\n",
    "      optimizer.zero_grad()\n",
    "      loss.backward()\n",
    "      optimizer.step()\n",
    "\n",
    "      # loss and accuracy from this batch\n",
    "      batchLoss.append(loss.item())\n",
    "    # end of batch loop...\n",
    "\n",
    "    # and get average losses and accuracies across the batches\n",
    "    trainLoss[epochi] = np.mean(batchLoss)\n",
    "\n",
    "\n",
    "    #### test performance (here done in batches!)\n",
    "    net.eval() # switch to test mode\n",
    "    batchLoss = []\n",
    "\n",
    "    for X,y in test_loaderFull:\n",
    "\n",
    "      # push data to GPU\n",
    "      X = X.to(device)\n",
    "      y = y.to(device)\n",
    "\n",
    "      # forward pass and loss\n",
    "      with torch.no_grad():\n",
    "        yHat = net(X)\n",
    "        loss = lossfun(yHat,X)\n",
    "\n",
    "      # loss and accuracy from this batch\n",
    "      batchLoss.append(loss.item())\n",
    "    # end of batch loop...\n",
    "\n",
    "    # and get average losses and accuracies across the batches\n",
    "    testLoss[epochi] = np.mean(batchLoss)\n",
    "\n",
    "  # end epochs\n",
    "\n",
    "  # function output\n",
    "  return trainLoss,testLoss,net"
   ]
  },
  {
   "cell_type": "markdown",
   "metadata": {
    "id": "XpGm9xdQ27Ob"
   },
   "source": [
    "# Run the AE model and show the results!"
   ]
  },
  {
   "cell_type": "code",
   "execution_count": null,
   "metadata": {
    "id": "l9pCC1R2p0nu"
   },
   "outputs": [],
   "source": [
    "# ~4 minutes with 15 epochs on GPU\n",
    "\n",
    "# create a new model (comment out to re-train)\n",
    "netAE,lossfun,optimizer = makeTheAENet()\n",
    "\n",
    "trainLossAE,testLossAE,netAE = function2trainTheAEModel(netAE,lossfun,optimizer)"
   ]
  },
  {
   "cell_type": "code",
   "execution_count": null,
   "metadata": {
    "id": "nOLzbmwM_dj5"
   },
   "outputs": [],
   "source": [
    "plt.plot(trainLossAE,'s-',label='AE Train')\n",
    "plt.plot(testLossAE,'o-',label='AE Test')\n",
    "plt.xlabel('Epochs')\n",
    "plt.ylabel('Loss (MSE)')\n",
    "plt.title('Model loss (final value: %g)'%testLossAE[-1])\n",
    "plt.legend()\n",
    "\n",
    "plt.show()"
   ]
  },
  {
   "cell_type": "code",
   "execution_count": null,
   "metadata": {
    "id": "7FayyS9cmT45"
   },
   "outputs": [],
   "source": [
    "## show some random examples\n",
    "\n",
    "# get some data\n",
    "X,y = next(iter(test_loaderSmall))\n",
    "\n",
    "# forward pass and loss\n",
    "netAE.cpu()\n",
    "netAE.eval() # switch to test mode\n",
    "yHat = netAE(X)\n",
    "\n",
    "\n",
    "fig,axs = plt.subplots(2,10,figsize=(14,4))\n",
    "\n",
    "for i in range(10):\n",
    "  pic = yHat[i,:,:,:].detach().numpy().transpose((1,2,0))\n",
    "  pic = pic/2 + .5 # undo normalization\n",
    "  axs[0,i].imshow(pic)\n",
    "  axs[0,i].set_title(f'[ {np.min(pic):.2f}, {np.max(pic):.2f} ]',fontsize=10)\n",
    "  axs[0,i].axis('off')\n",
    "\n",
    "  pic = X[i,:,:,:].detach().numpy().transpose((1,2,0))\n",
    "  pic = pic/2 + .5 # undo normalization\n",
    "  axs[1,i].imshow(pic)\n",
    "  axs[1,i].set_title(f'[ {np.min(pic):.2f}, {np.max(pic):.2f} ]',fontsize=10)\n",
    "  axs[1,i].axis('off')\n",
    "\n",
    "\n",
    "plt.show()"
   ]
  },
  {
   "cell_type": "code",
   "execution_count": null,
   "metadata": {
    "id": "00q2VUFV0e5B"
   },
   "outputs": [],
   "source": []
  },
  {
   "cell_type": "markdown",
   "metadata": {
    "id": "9yhD8WNVhZ7D"
   },
   "source": [
    "# Now create a new model that does classification"
   ]
  },
  {
   "cell_type": "code",
   "execution_count": null,
   "metadata": {
    "id": "ZMrEZh3mhnTV"
   },
   "outputs": [],
   "source": [
    "# create a class for the model\n",
    "def makeTheClassNet(printtoggle=False):\n",
    "\n",
    "  class cnnnet(nn.Module):\n",
    "    def __init__(self,printtoggle):\n",
    "      super().__init__()\n",
    "\n",
    "      # print toggle\n",
    "      self.print = printtoggle\n",
    "\n",
    "      ### -------------- encoding layers -------------- ###\n",
    "      # first convolution layer\n",
    "      self.encconv1  = nn.Conv2d(3,16,4,padding=1,stride=2) # note: using stride instead of pool to downsample\n",
    "      # output size: (28+2*1-4)/2 + 1 = 14\n",
    "\n",
    "      # second convolution layer\n",
    "      self.encconv2  = nn.Conv2d(16,32,4,padding=1,stride=2)\n",
    "      # output size: (14+2*1-4)/2 + 1 = 7\n",
    "\n",
    "      # third convolution layer\n",
    "      self.encconv3  = nn.Conv2d(32,64,4,padding=1,stride=2)\n",
    "      # output size: (7+2*1-4)/2 + 1 = 4\n",
    "\n",
    "\n",
    "\n",
    "      ### ------------- linear layers ------------- ###\n",
    "      self.fc1  = nn.Linear(4*4*64,128)\n",
    "      self.fc2  = nn.Linear(128,64)\n",
    "      self.fc3  = nn.Linear(64,10)\n",
    "\n",
    "\n",
    "    def forward(self,x):\n",
    "\n",
    "      if self.print: print(f'Input: {list(x.shape)}')\n",
    "\n",
    "      # first encoder layer\n",
    "      x = F.leaky_relu(self.encconv1(x))\n",
    "      if self.print: print(f'First encoder layer: {list(x.shape)}')\n",
    "\n",
    "      # second encoder layer\n",
    "      x = F.leaky_relu(self.encconv2(x))\n",
    "      if self.print: print(f'Second encoder layer: {list(x.shape)}')\n",
    "\n",
    "      # third encoder layer\n",
    "      x = F.leaky_relu(self.encconv3(x))\n",
    "      if self.print: print(f'Third encoder layer: {list(x.shape)}')\n",
    "\n",
    "      # reshape to linear\n",
    "      nUnits = x.shape.numel()/x.shape[0]\n",
    "      x = x.view(-1,int(nUnits))\n",
    "      if self.print: print(f'Post-convolution vectorized: {list(x.shape)}')\n",
    "\n",
    "      # linear layers\n",
    "      x = F.leaky_relu(self.fc1(x))\n",
    "      if self.print: print(f'First linear layer: {list(x.shape)}')\n",
    "\n",
    "      x = F.leaky_relu(self.fc2(x))\n",
    "      if self.print: print(f'Second linear layer: {list(x.shape)}')\n",
    "\n",
    "      x = F.leaky_relu(self.fc3(x))\n",
    "      if self.print: print(f'Output linear layer: {list(x.shape)}')\n",
    "\n",
    "      return x\n",
    "\n",
    "  # create the model instance\n",
    "  net = cnnnet(printtoggle)\n",
    "\n",
    "  # loss function\n",
    "  lossfun = nn.CrossEntropyLoss()\n",
    "\n",
    "  # optimizer\n",
    "  optimizer = torch.optim.Adam(net.parameters(),lr=.001)\n",
    "\n",
    "  return net,lossfun,optimizer"
   ]
  },
  {
   "cell_type": "code",
   "execution_count": null,
   "metadata": {
    "id": "JYhl-EughnWt"
   },
   "outputs": [],
   "source": [
    "# test the model with one batch\n",
    "tmpnet,lossfun,optimizer = makeTheClassNet(True)\n",
    "\n",
    "X,y = next(iter(train_loaderSmall))\n",
    "yHat = tmpnet(X)\n",
    "\n",
    "# # now let's compute the loss\n",
    "loss = lossfun(yHat,y)\n",
    "print(' ')\n",
    "print('Loss:')\n",
    "print(loss)"
   ]
  },
  {
   "cell_type": "markdown",
   "metadata": {
    "id": "Duekhbb3hnZt"
   },
   "source": [
    "# Now we need another function to train the classifier"
   ]
  },
  {
   "cell_type": "code",
   "execution_count": null,
   "metadata": {
    "id": "iKLxEmTukAa9"
   },
   "outputs": [],
   "source": [
    "# a function that trains the model\n",
    "\n",
    "def function2trainTheClassModel(net,lossfun,optimizer,train_loader,test_loader):\n",
    "\n",
    "  # number of epochs\n",
    "  numepochs = 10\n",
    "\n",
    "  # send the model to the GPU\n",
    "  net.to(device)\n",
    "\n",
    "  # initialize losses\n",
    "  trainLoss = torch.zeros(numepochs)\n",
    "  testLoss  = torch.zeros(numepochs)\n",
    "  trainAcc  = torch.zeros(numepochs)\n",
    "  testAcc   = torch.zeros(numepochs)\n",
    "\n",
    "\n",
    "  # loop over epochs\n",
    "  for epochi in range(numepochs):\n",
    "\n",
    "    # loop over training data batches\n",
    "    net.train() # switch to train mode\n",
    "    batchLoss = []\n",
    "    batchAcc  = []\n",
    "\n",
    "    for X,y in train_loader:\n",
    "\n",
    "      # push data to GPU\n",
    "      X = X.to(device)\n",
    "      y = y.to(device)\n",
    "\n",
    "      # forward pass and loss\n",
    "      yHat = net(X)\n",
    "      loss = lossfun(yHat,y)\n",
    "\n",
    "      # backprop\n",
    "      optimizer.zero_grad()\n",
    "      loss.backward()\n",
    "      optimizer.step()\n",
    "\n",
    "      # loss and accuracy from this batch\n",
    "      batchLoss.append(loss.item())\n",
    "      batchAcc.append( torch.mean((torch.argmax(yHat,axis=1) == y).float()).item() )\n",
    "    # end of batch loop...\n",
    "\n",
    "    # and get average losses and accuracies across the batches\n",
    "    trainLoss[epochi] = np.mean(batchLoss)\n",
    "    trainAcc[epochi]  = 100*np.mean(batchAcc)\n",
    "\n",
    "\n",
    "\n",
    "    #### test performance (here done in batches!)\n",
    "    net.eval() # switch to test mode\n",
    "    batchLoss = []\n",
    "    batchAcc  = []\n",
    "\n",
    "    for X,y in test_loader:\n",
    "\n",
    "      # push data to GPU\n",
    "      X = X.to(device)\n",
    "      y = y.to(device)\n",
    "\n",
    "      # forward pass and loss\n",
    "      with torch.no_grad():\n",
    "        yHat = net(X)\n",
    "        loss = lossfun(yHat,y)\n",
    "\n",
    "      # loss and accuracy from this batch\n",
    "      batchLoss.append(loss.item())\n",
    "      batchAcc.append( torch.mean((torch.argmax(yHat,axis=1) == y).float()).item() )\n",
    "    # end of batch loop...\n",
    "\n",
    "    # and get average losses and accuracies across the batches\n",
    "    testLoss[epochi] = np.mean(batchLoss)\n",
    "    testAcc[epochi]  = 100*np.mean(batchAcc)\n",
    "\n",
    "  # end epochs\n",
    "\n",
    "  # function output\n",
    "  return trainLoss,testLoss,trainAcc,testAcc,net"
   ]
  },
  {
   "cell_type": "code",
   "execution_count": null,
   "metadata": {
    "id": "o7CniAF5ka6O"
   },
   "outputs": [],
   "source": [
    "# train a new model from scratch (not pre-trained!)\n",
    "\n",
    "# create a naive network\n",
    "naivenet,lossfun,optimizer = makeTheClassNet()\n",
    "\n",
    "# train it from scratch\n",
    "trainLossNaive,testLossNaive,trainAccNaive,testAccNaive,naivenet = function2trainTheClassModel(\n",
    "                                                                      naivenet,lossfun,optimizer,train_loaderSmall,test_loaderSmall)"
   ]
  },
  {
   "cell_type": "code",
   "execution_count": null,
   "metadata": {
    "id": "Br6b5KptlX6f"
   },
   "outputs": [],
   "source": [
    "fig,ax = plt.subplots(1,2,figsize=(16,5))\n",
    "\n",
    "ax[0].plot(trainLossNaive,'s-',label='Train')\n",
    "ax[0].plot(testLossNaive,'o-',label='Test')\n",
    "ax[0].set_xlabel('Epochs')\n",
    "ax[0].set_ylabel('Loss (MSE)')\n",
    "ax[0].set_title('Model loss')\n",
    "\n",
    "ax[1].plot(trainAccNaive,'s-',label='Train')\n",
    "ax[1].plot(testAccNaive,'o-',label='Test')\n",
    "ax[1].set_xlabel('Epochs')\n",
    "ax[1].set_ylabel('Accuracy (%)')\n",
    "ax[1].set_title(f'Final model test accuracy: {testAccNaive[-1]:.2f}%')\n",
    "ax[1].legend()\n",
    "\n",
    "plt.show()"
   ]
  },
  {
   "cell_type": "code",
   "execution_count": null,
   "metadata": {
    "id": "EBMzDDc68g-T"
   },
   "outputs": [],
   "source": []
  },
  {
   "cell_type": "markdown",
   "metadata": {
    "id": "Bz51kMMVmduJ"
   },
   "source": [
    "# Build a new model but replace the convolution layers with with AE layer"
   ]
  },
  {
   "cell_type": "code",
   "execution_count": null,
   "metadata": {
    "id": "sA_ePFV3mkcL"
   },
   "outputs": [],
   "source": [
    "# create a new network (weights replaced below)\n",
    "pretrainNet,lossfun,optimizer = makeTheClassNet()\n",
    "\n",
    "\n",
    "#### Note about the code below: Both networks have the same number of layers overall; in other applications\n",
    "#    you may need to modify the code to find the matching layers.\n",
    "\n",
    "# Note 2: The code in the video had a bug where I used the wrong model variable name: we want 'netAE' not 'aenet'.\n",
    "#         Conclusions in the video are still valid, and the code below is correct.\n",
    "\n",
    "# Replace the conv weights in TARGET model from encoder weights in SOURCE model\n",
    "for target,source in zip(pretrainNet.named_parameters(),netAE.named_parameters()):\n",
    "  print('PRETRAIN: ' + target[0] + '  AENET: ' + source[0])\n",
    "\n",
    "  if 'enc' in target[0]:\n",
    "\n",
    "    # copy over the parameters...\n",
    "    target[1].data = copy.deepcopy( source[1].data )\n",
    "\n",
    "    # ...and then freeze that layer\n",
    "    # target[1].requires_grad = False"
   ]
  },
  {
   "cell_type": "code",
   "execution_count": null,
   "metadata": {
    "id": "BVqAEZy2T7u2"
   },
   "outputs": [],
   "source": [
    "# double-check that they match\n",
    "pretrainNet.cpu().encconv1.weight[10] - netAE.encconv1.weight[10]"
   ]
  },
  {
   "cell_type": "code",
   "execution_count": null,
   "metadata": {
    "id": "A9HQwTRfoE8B"
   },
   "outputs": [],
   "source": [
    "# train the pretrained model\n",
    "\n",
    "# training\n",
    "trainLossPre,testLossPre,trainAccPre,testAccPre,pretrainNet = function2trainTheClassModel(\n",
    "                                                                pretrainNet,lossfun,optimizer,train_loaderSmall,test_loaderSmall)"
   ]
  },
  {
   "cell_type": "code",
   "execution_count": null,
   "metadata": {
    "id": "lRXqqbGkok6t"
   },
   "outputs": [],
   "source": [
    "fig,ax = plt.subplots(1,2,figsize=(16,5))\n",
    "\n",
    "ax[0].plot(trainLossPre,'rs-',label='PRE Train')\n",
    "ax[0].plot(testLossPre,'ro--',label='PRE Test')\n",
    "ax[0].plot(trainLossNaive,'bs-',label='NAIVE Train')\n",
    "ax[0].plot(testLossNaive,'bo--',label='NAIVE Test')\n",
    "ax[0].set_xlabel('Epochs')\n",
    "ax[0].set_ylabel('Loss (MSE)')\n",
    "ax[0].set_title('Model loss')\n",
    "ax[0].legend()\n",
    "\n",
    "ax[1].plot(trainAccPre,'rs-',label='PRE Train')\n",
    "ax[1].plot(testAccPre,'ro--',label='PRE Test')\n",
    "ax[1].plot(trainAccNaive,'bs-',label='NAIVE Train')\n",
    "ax[1].plot(testAccNaive,'bo--',label='NAIVE Test')\n",
    "ax[1].set_xlabel('Epochs')\n",
    "ax[1].set_ylabel('Accuracy (%)')\n",
    "ax[1].set_title(f'Final NaiveTest/PREtest accuracy: {testAccNaive[-1]:.2f}/{testAccPre[-1]:.2f}%')\n",
    "ax[1].legend()\n",
    "\n",
    "plt.show()"
   ]
  },
  {
   "cell_type": "code",
   "execution_count": null,
   "metadata": {
    "id": "y74YX7EaFkgY"
   },
   "outputs": [],
   "source": []
  },
  {
   "cell_type": "markdown",
   "metadata": {
    "id": "e5mdUigGwy3d"
   },
   "source": [
    "# Additional explorations"
   ]
  },
  {
   "cell_type": "code",
   "execution_count": null,
   "metadata": {
    "id": "I0CDtaECwy5s"
   },
   "outputs": [],
   "source": [
    "# 1) Performance was overall low. But we only trained on 2k images, whereas the full CIFAR10 dataset has 60,000 images.\n",
    "#    Maybe the benefit of AE-pretraining will be seen with a larger image size? Modify the code to use the entire dataset.\n",
    "#\n",
    "# 2) You discovered in the \"CNN Milestone\" section (project 1) that a simple classifier doesn't do very well on this\n",
    "#    dataset, and that we got better performance from a more complex model. Modify the classifier here so that it matches\n",
    "#    the architecture from that project. Does the AE-pretraining help with that model architecture?\n",
    "#"
   ]
  }
 ],
 "metadata": {
  "accelerator": "GPU",
  "colab": {
   "provenance": []
  },
  "kernelspec": {
   "display_name": "Python 3",
   "name": "python3"
  }
 },
 "nbformat": 4,
 "nbformat_minor": 0
}
