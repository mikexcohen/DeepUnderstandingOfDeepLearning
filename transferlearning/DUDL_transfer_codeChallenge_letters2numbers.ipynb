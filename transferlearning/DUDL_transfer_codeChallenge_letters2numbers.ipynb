{
 "cells": [
  {
   "cell_type": "markdown",
   "id": "2e63ece8",
   "metadata": {},
   "source": [
    "[![Open In Colab](https://colab.research.google.com/assets/colab-badge.svg)](https://colab.research.google.com/github/ydebessu/DeepUnderstandingOfDeepLearning/blob/main/transferlearning/DUDL_transfer_codeChallenge_letters2numbers.ipynb)"
   ]
  },
  {
   "cell_type": "markdown",
   "metadata": {
    "id": "bhWV8oes-wKR"
   },
   "source": [
    "# COURSE: A deep understanding of deep learning\n",
    "## SECTION: Transfer learning\n",
    "### LECTURE: CodeChallenge: letters to numbers\n",
    "#### TEACHER: Mike X Cohen, sincxpress.com\n",
    "##### COURSE URL: udemy.com/course/deeplearning_x/?couponCode=202401"
   ]
  },
  {
   "cell_type": "code",
   "execution_count": null,
   "metadata": {
    "id": "YeuAheYyhdZw"
   },
   "outputs": [],
   "source": [
    "# import libraries\n",
    "import numpy as np\n",
    "\n",
    "import torch\n",
    "import torch.nn as nn\n",
    "import torch.nn.functional as F\n",
    "from torch.utils.data import DataLoader\n",
    "import copy\n",
    "from sklearn.model_selection import train_test_split\n",
    "\n",
    "\n",
    "# NEW! for importing data\n",
    "import torchvision\n",
    "\n",
    "import matplotlib.pyplot as plt\n",
    "import matplotlib_inline.backend_inline\n",
    "matplotlib_inline.backend_inline.set_matplotlib_formats('svg')"
   ]
  },
  {
   "cell_type": "code",
   "execution_count": null,
   "metadata": {
    "id": "IBSQO5HB6Kje"
   },
   "outputs": [],
   "source": [
    "# use GPU if available\n",
    "device = torch.device('cuda:0' if torch.cuda.is_available() else 'cpu')"
   ]
  },
  {
   "cell_type": "markdown",
   "metadata": {
    "id": "0HOkOefftqyg"
   },
   "source": [
    "# Import the data"
   ]
  },
  {
   "cell_type": "code",
   "execution_count": null,
   "metadata": {
    "id": "MU7rvmWuhjud"
   },
   "outputs": [],
   "source": [
    "# download the datasets\n",
    "letterdata = torchvision.datasets.EMNIST(root='emnist',split='letters',download=True)\n",
    "numberdata = torchvision.datasets.EMNIST(root='emnist',split='digits',download=True)"
   ]
  },
  {
   "cell_type": "code",
   "execution_count": null,
   "metadata": {
    "id": "fPJJu-5edsyi"
   },
   "outputs": [],
   "source": [
    "# transformations on the letter data\n",
    "\n",
    "# remove N/A class\n",
    "letterCategories = letterdata.classes[1:]\n",
    "labels = copy.deepcopy(letterdata.targets)-1\n",
    "\n",
    "# transform to 4D tensor for conv layers (and transform from int8 to float)\n",
    "letterImages = letterdata.data.view([letterdata.data.shape[0],1,28,28]).float()\n",
    "letterImages /= torch.max(letterImages)\n",
    "\n",
    "\n",
    "# split the images and convert to dataloaders\n",
    "train_data,test_data, train_labels,test_labels = train_test_split(letterImages, labels, test_size=.1)\n",
    "\n",
    "# convert into PyTorch Datasets\n",
    "train_data = torch.utils.data.TensorDataset(train_data,train_labels)\n",
    "test_data  = torch.utils.data.TensorDataset(test_data,test_labels)\n",
    "\n",
    "# translate into dataloader objects\n",
    "batchsize = 32\n",
    "letter_train_loader = DataLoader(train_data,batch_size=batchsize,shuffle=True,drop_last=True)\n",
    "letter_test_loader  = DataLoader(test_data,batch_size=test_data.tensors[0].shape[0])"
   ]
  },
  {
   "cell_type": "code",
   "execution_count": null,
   "metadata": {
    "id": "Y_tZ1ymVp0Sf"
   },
   "outputs": [],
   "source": [
    "### transformations on numbers data\n",
    "\n",
    "# transform to 4D tensor for conv layers (and transform from int8 to float)\n",
    "numberImages = numberdata.data.view([numberdata.data.shape[0],1,28,28]).float()\n",
    "numberImages /= torch.max(numberImages)\n",
    "\n",
    "\n",
    "# split the images and convert to dataloaders\n",
    "train_data,test_data, train_labels,test_labels = train_test_split(numberImages, numberdata.targets, test_size=.1)\n",
    "\n",
    "# convert into PyTorch Datasets\n",
    "train_data = torch.utils.data.TensorDataset(train_data,train_labels)\n",
    "test_data  = torch.utils.data.TensorDataset(test_data,test_labels)\n",
    "\n",
    "# translate into dataloader objects\n",
    "batchsize = 32\n",
    "number_train_loader = DataLoader(train_data,batch_size=batchsize,shuffle=True,drop_last=True)\n",
    "number_test_loader  = DataLoader(test_data,batch_size=test_data.tensors[0].shape[0])"
   ]
  },
  {
   "cell_type": "code",
   "execution_count": null,
   "metadata": {
    "id": "4rsf92yfrGoC"
   },
   "outputs": [],
   "source": [
    "# visualize some letters\n",
    "fig,axs = plt.subplots(3,7,figsize=(13,6))\n",
    "\n",
    "# get a batch of letter data\n",
    "X,y = next(iter(letter_train_loader))\n",
    "\n",
    "for i,ax in enumerate(axs.flatten()):\n",
    "  \n",
    "  # extract the image and its target letter\n",
    "  I = np.squeeze( X[i,:,:] )\n",
    "  letter = letterCategories[y[i]]\n",
    "  \n",
    "  # visualize\n",
    "  ax.imshow(I.T,cmap='gray',vmin=0,vmax=1)\n",
    "  ax.set_title('The letter \"%s\"'%letter,fontsize=10)\n",
    "  ax.set_xticks([])\n",
    "  ax.set_yticks([])\n",
    "\n",
    "plt.show()"
   ]
  },
  {
   "cell_type": "code",
   "execution_count": null,
   "metadata": {
    "id": "hbAG-nwFi5BG"
   },
   "outputs": [],
   "source": [
    "# visualize some numbers\n",
    "fig,axs = plt.subplots(3,7,figsize=(13,6))\n",
    "\n",
    "# get a batch of number data\n",
    "X,y = next(iter(number_train_loader))\n",
    "\n",
    "for i,ax in enumerate(axs.flatten()):\n",
    "  \n",
    "  # extract the image and its target letter\n",
    "  I = np.squeeze( X[i,:,:] )\n",
    "  number = y[i].item()\n",
    "  \n",
    "  # visualize\n",
    "  ax.imshow(I.T,cmap='gray',vmin=0,vmax=1)\n",
    "  ax.set_title('The number \"%s\"'%number,fontsize=10)\n",
    "  ax.set_xticks([])\n",
    "  ax.set_yticks([])\n",
    "\n",
    "plt.show()"
   ]
  },
  {
   "cell_type": "markdown",
   "metadata": {
    "id": "OK8Opkhgp0bO"
   },
   "source": [
    "# Create the DL model"
   ]
  },
  {
   "cell_type": "code",
   "execution_count": null,
   "metadata": {
    "id": "JK3OO3tAtZkA"
   },
   "outputs": [],
   "source": [
    "# create a class for the model\n",
    "def makeTheNet(printtoggle=False):\n",
    "\n",
    "  class emnistnet(nn.Module):\n",
    "    def __init__(self,printtoggle):\n",
    "      super().__init__()\n",
    "      \n",
    "      # print toggle\n",
    "      self.print = printtoggle\n",
    "\n",
    "      ### -------------- feature map layers -------------- ###\n",
    "      # first convolution layer\n",
    "      self.conv1  = nn.Conv2d(1,6,3,padding=1)\n",
    "      self.bnorm1 = nn.BatchNorm2d(6) # input the number of channels in this layer\n",
    "      # output size: (28+2*1-3)/1 + 1 = 28/2 = 14 (/2 b/c maxpool)\n",
    "\n",
    "      # second convolution layer\n",
    "      self.conv2  = nn.Conv2d(6,6,3,padding=1)\n",
    "      self.bnorm2 = nn.BatchNorm2d(6) # input the number of channels in this layer\n",
    "      # output size: (14+2*1-3)/1 + 1 = 14/2 = 7 (/2 b/c maxpool)\n",
    "\n",
    "      \n",
    "      ### -------------- linear decision layers -------------- ###\n",
    "      self.fc1 = nn.Linear(7*7*6,50)\n",
    "      self.fc2 = nn.Linear(50,26)\n",
    "\n",
    "    def forward(self,x):\n",
    "      \n",
    "      if self.print: print(f'Input: {list(x.shape)}')\n",
    "      \n",
    "      # first block: convolution -> maxpool -> batchnorm -> relu\n",
    "      x = F.max_pool2d(self.conv1(x),2)\n",
    "      x = F.leaky_relu(self.bnorm1(x))\n",
    "      if self.print: print(f'First CPR block: {list(x.shape)}')\n",
    "\n",
    "      # second block: convolution -> maxpool -> batchnorm -> relu\n",
    "      x = F.max_pool2d(self.conv2(x),2)\n",
    "      x = F.leaky_relu(self.bnorm2(x))\n",
    "      if self.print: print(f'Second CPR block: {list(x.shape)}')\n",
    "\n",
    "      # reshape for linear layer\n",
    "      nUnits = x.shape.numel()/x.shape[0]\n",
    "      x = x.view(-1,int(nUnits))\n",
    "      if self.print: print(f'Vectorized: {list(x.shape)}')\n",
    "      \n",
    "      # linear layers\n",
    "      x = F.leaky_relu(self.fc1(x))\n",
    "      x = self.fc2(x)\n",
    "      if self.print: print(f'Final output: {list(x.shape)}')\n",
    "\n",
    "      return x\n",
    "\n",
    "  # create the model instance\n",
    "  net = emnistnet(printtoggle)\n",
    "  \n",
    "  # loss function\n",
    "  lossfun = nn.CrossEntropyLoss()\n",
    "\n",
    "  # optimizer\n",
    "  optimizer = torch.optim.Adam(net.parameters(),lr=.001)\n",
    "\n",
    "  return net,lossfun,optimizer"
   ]
  },
  {
   "cell_type": "markdown",
   "metadata": {
    "id": "dvfGQIRGp0ht"
   },
   "source": [
    "# Create a function that trains the model"
   ]
  },
  {
   "cell_type": "code",
   "execution_count": null,
   "metadata": {
    "id": "IblJo1NCp0kl"
   },
   "outputs": [],
   "source": [
    "# a function that trains the model\n",
    "\n",
    "def function2trainTheModel(net,optimizer,train_loader,test_loader,numepochs=10):\n",
    "\n",
    "  # send the model to the GPU\n",
    "  net.to(device)\n",
    "\n",
    "  # initialize losses\n",
    "  trainLoss = torch.zeros(numepochs)\n",
    "  testLoss  = torch.zeros(numepochs)\n",
    "  trainErr  = torch.zeros(numepochs)\n",
    "  testErr   = torch.zeros(numepochs)\n",
    "\n",
    "\n",
    "  # loop over epochs\n",
    "  for epochi in range(numepochs):\n",
    "\n",
    "    # loop over training data batches\n",
    "    net.train()\n",
    "    batchLoss = []\n",
    "    batchErr  = []\n",
    "    for X,y in train_loader:\n",
    "\n",
    "      # push data to GPU\n",
    "      X = X.to(device)\n",
    "      y = y.to(device)\n",
    "\n",
    "      # forward pass and loss\n",
    "      yHat = net(X)\n",
    "      loss = lossfun(yHat,y)\n",
    "\n",
    "      # backprop\n",
    "      optimizer.zero_grad()\n",
    "      loss.backward()\n",
    "      optimizer.step()\n",
    "\n",
    "      # loss and error from this batch\n",
    "      batchLoss.append(loss.item())\n",
    "      batchErr.append( torch.mean((torch.argmax(yHat,axis=1) != y).float()).item() )\n",
    "    # end of batch loop...\n",
    "\n",
    "    # and get average losses and error rates across the batches\n",
    "    trainLoss[epochi] = np.mean(batchLoss)\n",
    "    trainErr[epochi]  = 100*np.mean(batchErr)\n",
    "\n",
    "\n",
    "\n",
    "    ### test performance\n",
    "    net.eval()\n",
    "    X,y = next(iter(test_loader)) # extract X,y from test dataloader\n",
    "\n",
    "    # push data to GPU\n",
    "    X = X.to(device)\n",
    "    y = y.to(device)\n",
    "\n",
    "    with torch.no_grad(): # deactivates autograd\n",
    "      yHat = net(X)\n",
    "      loss = lossfun(yHat,y)\n",
    "      \n",
    "    # get loss and error rate from the test batch\n",
    "    testLoss[epochi] = loss.item()\n",
    "    testErr[epochi]  = 100*torch.mean((torch.argmax(yHat,axis=1) != y).float()).item()\n",
    "\n",
    "  # end epochs\n",
    "\n",
    "  # function output\n",
    "  return trainLoss,testLoss,trainErr,testErr,net"
   ]
  },
  {
   "cell_type": "markdown",
   "metadata": {
    "id": "XpGm9xdQ27Ob"
   },
   "source": [
    "# Train the model on the letters"
   ]
  },
  {
   "cell_type": "code",
   "execution_count": null,
   "metadata": {
    "id": "l9pCC1R2p0nu"
   },
   "outputs": [],
   "source": [
    "# create a new model\n",
    "letterNet,lossfun,optimizer = makeTheNet()\n",
    "\n",
    "trainLoss,testLoss,trainErr,testErr,letterNet = function2trainTheModel(\n",
    "                                                letterNet,optimizer,letter_train_loader,letter_test_loader,5)"
   ]
  },
  {
   "cell_type": "code",
   "execution_count": null,
   "metadata": {
    "id": "gHzKOZjnp0qn"
   },
   "outputs": [],
   "source": [
    "fig,ax = plt.subplots(1,2,figsize=(16,5))\n",
    "\n",
    "ax[0].plot(trainLoss,'s-',label='Train')\n",
    "ax[0].plot(testLoss,'o-',label='Test')\n",
    "ax[0].set_xlabel('Epochs')\n",
    "ax[0].set_ylabel('Loss (MSE)')\n",
    "ax[0].set_title('Model loss')\n",
    "\n",
    "ax[1].plot(trainErr,'s-',label='Train')\n",
    "ax[1].plot(testErr,'o-',label='Test')\n",
    "ax[1].set_xlabel('Epochs')\n",
    "ax[1].set_ylabel('Error rates (%)')\n",
    "ax[1].set_title(f'Final model test error rate: {testErr[-1]:.2f}%')\n",
    "ax[1].legend()\n",
    "\n",
    "plt.show()"
   ]
  },
  {
   "cell_type": "markdown",
   "metadata": {
    "id": "9SnUUHPm7xQE"
   },
   "source": [
    "# Test the model on the number data"
   ]
  },
  {
   "cell_type": "code",
   "execution_count": null,
   "metadata": {
    "id": "KofCVFBIFTCv"
   },
   "outputs": [],
   "source": [
    "# extract X,y from NUMBER test dataloader\n",
    "X,y = next(iter(number_test_loader))\n",
    "X = X.to(device)\n",
    "y = y.to(device)\n",
    "\n",
    "letterNet.eval()\n",
    "yHat = letterNet(X)\n",
    "\n",
    "# the test\n",
    "numberAcc = 100*torch.mean((torch.argmax(yHat,axis=1)!=y).float())\n",
    "\n",
    "print(f'numberNet error rate on NUMBER data: {numberAcc:.2f}%')"
   ]
  },
  {
   "cell_type": "code",
   "execution_count": null,
   "metadata": {
    "id": "qOfUnmus8kps"
   },
   "outputs": [],
   "source": []
  },
  {
   "cell_type": "markdown",
   "metadata": {
    "id": "LXUYzt68JTcH"
   },
   "source": [
    "# Fine-tune the model with one training batch"
   ]
  },
  {
   "cell_type": "code",
   "execution_count": null,
   "metadata": {
    "id": "ajhJrKjBLJW9"
   },
   "outputs": [],
   "source": [
    "# create the target model\n",
    "numberNet,lossfun,optimizer = makeTheNet()\n",
    "\n",
    "# then replace all the weights in TARGET model from SOURCE model\n",
    "for target,source in zip(numberNet.named_parameters(),letterNet.named_parameters()):\n",
    "  target[1].data = copy.deepcopy( source[1].data )"
   ]
  },
  {
   "cell_type": "code",
   "execution_count": null,
   "metadata": {
    "id": "x0MrjTA3TiRn"
   },
   "outputs": [],
   "source": [
    "# check out the network\n",
    "print(numberNet)\n",
    "print(' ')\n",
    "\n",
    "# and the final layer\n",
    "print(numberNet.fc2)\n",
    "\n",
    "# replace the final layer to have 10 outputs instead of 26\n",
    "numberNet.fc2 = nn.Linear(50,10)\n",
    "\n",
    "# and check it again\n",
    "print(' ')\n",
    "print(numberNet)"
   ]
  },
  {
   "cell_type": "code",
   "execution_count": null,
   "metadata": {
    "id": "qLa6Ef80LJaM"
   },
   "outputs": [],
   "source": [
    "# now re-train the network on the numbers data\n",
    "\n",
    "trainLoss,testLoss,trainErr,testErr,numberNet = function2trainTheModel(\n",
    "                                                   numberNet,optimizer,number_train_loader,number_test_loader,1)"
   ]
  },
  {
   "cell_type": "code",
   "execution_count": null,
   "metadata": {
    "id": "m4qbXw7uLJdE"
   },
   "outputs": [],
   "source": [
    "print(f'numberNet TRAIN error rate: {trainErr[-1]:.2f}%')\n",
    "print(f'numberNet TEST error rate: {testErr[-1]:.2f}%')"
   ]
  },
  {
   "cell_type": "markdown",
   "metadata": {
    "id": "kOQJe_rTzmSI"
   },
   "source": [
    "# Try again, only train output layer"
   ]
  },
  {
   "cell_type": "code",
   "execution_count": null,
   "metadata": {
    "id": "RPl_8ajzzrz6"
   },
   "outputs": [],
   "source": [
    "# create the target model\n",
    "numberNet2,lossfun,optimizer = makeTheNet()\n",
    "\n",
    "# then replace all the weights in TARGET model from SOURCE model\n",
    "for target,source in zip(numberNet2.named_parameters(),letterNet.named_parameters()):\n",
    "  target[1].data = copy.deepcopy( source[1].data )\n",
    "\n",
    "# adjust number of output units\n",
    "numberNet2.fc2 = nn.Linear(50,10)\n",
    "\n",
    "# freeze convolution and batch-norm layers\n",
    "for p in numberNet2.named_parameters():\n",
    "  if ('conv' in p[0]) or ('bnorm' in p[0]):\n",
    "    p[1].requires_grad = False"
   ]
  },
  {
   "cell_type": "code",
   "execution_count": null,
   "metadata": {
    "id": "9lAFLEtf1M8g"
   },
   "outputs": [],
   "source": [
    "# now re-train the network on the numbers data\n",
    "\n",
    "trainLoss,testLoss,trainErr,testErr,numberNet2 = function2trainTheModel(\n",
    "                                                   numberNet2,optimizer,number_train_loader,number_test_loader,1)"
   ]
  },
  {
   "cell_type": "code",
   "execution_count": null,
   "metadata": {
    "id": "K7B2vgIV1M8u"
   },
   "outputs": [],
   "source": [
    "print(f'numberNet TRAIN error rate: {trainErr[-1]:.2f}%')\n",
    "print(f'numberNet TEST error rate: {testErr[-1]:.2f}%')"
   ]
  },
  {
   "cell_type": "code",
   "execution_count": null,
   "metadata": {
    "id": "DOrw1DevzurH"
   },
   "outputs": [],
   "source": []
  }
 ],
 "metadata": {
  "accelerator": "GPU",
  "colab": {
   "authorship_tag": "ABX9TyP0jw0LrN1eLLkPLO1SeutR",
   "collapsed_sections": [],
   "name": "DUDL_transfer_codeChallenge_letters2numbers.ipynb",
   "provenance": [
    {
     "file_id": "1Gl6z-zdcb8bnpA9yaVQlQkXvEzoeneUJ",
     "timestamp": 1620284167211
    },
    {
     "file_id": "1eA6J6ztxuctVWX6V1s9jV-6kepO7VfC1",
     "timestamp": 1619797471899
    },
    {
     "file_id": "1FcEBC0NAESIlHQkv6_85R-XDUKGE8XbM",
     "timestamp": 1619549043909
    },
    {
     "file_id": "1qKgZ8kVcqNgwtBzHbWq5yJH_HqI6DxWW",
     "timestamp": 1617803880910
    },
    {
     "file_id": "15cpyHkJ435B4MqbyGjAH1poN4nCy_DE4",
     "timestamp": 1617737766196
    },
    {
     "file_id": "1OLuWuaFu0hcFgkQ2hh5BqbRuqUZD7XcQ",
     "timestamp": 1617734878578
    },
    {
     "file_id": "1XvzVGJPTJifVh8OpZVB7ykLxyUqYwQ1j",
     "timestamp": 1617196833019
    },
    {
     "file_id": "1bv1_y32e3KEExFKKlPfC3rpw1JxmBr8H",
     "timestamp": 1617124341706
    },
    {
     "file_id": "1GMq8u7KyHB2AE7Teyls9gK1T01OduQSn",
     "timestamp": 1616697516760
    },
    {
     "file_id": "1Ui3kyHim-e0XLgDs2mkBxVlYg7TKYtcg",
     "timestamp": 1616615469755
    },
    {
     "file_id": "1YpHocGI4rApOxIBb1ZghCU5L-hFnv4CK",
     "timestamp": 1616608248670
    }
   ]
  },
  "gpuClass": "standard",
  "kernelspec": {
   "display_name": "Python 3",
   "name": "python3"
  }
 },
 "nbformat": 4,
 "nbformat_minor": 0
}
