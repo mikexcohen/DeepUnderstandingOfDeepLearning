{
 "cells": [
  {
   "cell_type": "markdown",
   "id": "ee1b0bfd",
   "metadata": {},
   "source": [
    "[![Open In Colab](https://colab.research.google.com/assets/colab-badge.svg)](https://colab.research.google.com/github/ydebessu/DeepUnderstandingOfDeepLearning/blob/main/GPU/DUDL_GPU_implement.ipynb)"
   ]
  },
  {
   "cell_type": "markdown",
   "metadata": {
    "id": "bhWV8oes-wKR"
   },
   "source": [
    "# COURSE: A deep understanding of deep learning\n",
    "## SECTION: Running models on a GPU\n",
    "### LECTURE: Implementation\n",
    "#### TEACHER: Mike X Cohen, sincxpress.com\n",
    "##### COURSE URL: udemy.com/course/deeplearning_x/?couponCode=202401"
   ]
  },
  {
   "cell_type": "code",
   "execution_count": null,
   "metadata": {
    "id": "YeuAheYyhdZw"
   },
   "outputs": [],
   "source": [
    "# import libraries\n",
    "import torch\n",
    "import torch.nn as nn\n",
    "import matplotlib.pyplot as plt\n",
    "import time"
   ]
  },
  {
   "cell_type": "markdown",
   "metadata": {
    "id": "g0O-zq4UiM0P"
   },
   "source": [
    "# Select the processor device"
   ]
  },
  {
   "cell_type": "code",
   "execution_count": null,
   "metadata": {
    "id": "03MycVnQiRqO"
   },
   "outputs": [],
   "source": [
    "## Note: To run models on a GPU you must select from the menu:\n",
    "#   -> Runtime\n",
    "#     -> Change runtime type\n",
    "#       -> Hardware accelerator\n",
    "#         -> GPU"
   ]
  },
  {
   "cell_type": "code",
   "execution_count": null,
   "metadata": {
    "id": "cThPRuj_iJA2"
   },
   "outputs": [],
   "source": [
    "# use GPU\n",
    "device = torch.device('cuda:0' if torch.cuda.is_available() else 'cpu')\n",
    "print(device)"
   ]
  },
  {
   "cell_type": "markdown",
   "metadata": {
    "id": "rcumdem5jtiD"
   },
   "source": [
    "# Build a simple model"
   ]
  },
  {
   "cell_type": "code",
   "execution_count": null,
   "metadata": {
    "id": "AMi1lQWOj09S"
   },
   "outputs": [],
   "source": [
    "net = nn.Sequential(\n",
    "    nn.Linear(20,100),\n",
    "    nn.ReLU(),\n",
    "    nn.Linear(100,500),\n",
    "    nn.ReLU(),\n",
    "    nn.Linear(500,30),\n",
    "    nn.ReLU(),\n",
    "    nn.Linear(30,2)\n",
    "      )"
   ]
  },
  {
   "cell_type": "markdown",
   "metadata": {
    "id": "TTfiVpw5j6Mq"
   },
   "source": [
    "# Make some data"
   ]
  },
  {
   "cell_type": "code",
   "execution_count": null,
   "metadata": {
    "id": "A_AGHhXDj1UN"
   },
   "outputs": [],
   "source": [
    "# just some random fluff\n",
    "data   = torch.randn((1000,20)) # samples X features\n",
    "labels = torch.randint(low=0,high=2,size=(1,1000))"
   ]
  },
  {
   "cell_type": "markdown",
   "metadata": {
    "id": "laT9cpQcmA1l"
   },
   "source": [
    "# Send the model and the data to the GPU"
   ]
  },
  {
   "cell_type": "code",
   "execution_count": null,
   "metadata": {
    "id": "nQzP_FXLj1QW"
   },
   "outputs": [],
   "source": [
    "# model\n",
    "net.to(device)\n",
    "\n",
    "# data\n",
    "data   = data.to(device)\n",
    "labels = labels.to(device)"
   ]
  },
  {
   "cell_type": "code",
   "execution_count": null,
   "metadata": {
    "id": "b-uDroB7jPBe"
   },
   "outputs": [],
   "source": [
    "data"
   ]
  },
  {
   "cell_type": "code",
   "execution_count": null,
   "metadata": {
    "id": "kCg4D6Hlfkgb"
   },
   "outputs": [],
   "source": [
    "# you can also create data directly on the GPU\n",
    "dataG = torch.randn((1000,20),device=device)\n",
    "dataC = torch.randn((1000,20),device='cpu')\n",
    "\n",
    "print(data.device)\n",
    "print(dataG.device)\n",
    "print(dataC.device)"
   ]
  },
  {
   "cell_type": "markdown",
   "metadata": {
    "id": "9yrwlRyQj1dF"
   },
   "source": [
    "# Getting results from the model"
   ]
  },
  {
   "cell_type": "code",
   "execution_count": null,
   "metadata": {
    "id": "tryFiNSej1gF"
   },
   "outputs": [],
   "source": [
    "output = net(data)"
   ]
  },
  {
   "cell_type": "code",
   "execution_count": null,
   "metadata": {
    "id": "_0-0zxQOj1it"
   },
   "outputs": [],
   "source": [
    "output.device"
   ]
  },
  {
   "cell_type": "code",
   "execution_count": null,
   "metadata": {
    "id": "DQVKoRmWmUm5"
   },
   "outputs": [],
   "source": [
    "# try to plot the data\n",
    "plt.plot(output.detach());\n",
    "\n",
    "# plt.plot(output.detach().cpu());"
   ]
  },
  {
   "cell_type": "markdown",
   "metadata": {
    "id": "VcNrG3HRnwms"
   },
   "source": [
    "# Experiment: Computation time"
   ]
  },
  {
   "cell_type": "code",
   "execution_count": null,
   "metadata": {
    "id": "4lJBOELHnyJf"
   },
   "outputs": [],
   "source": [
    "# start the clock\n",
    "starttime = time.process_time()\n",
    "\n",
    "# move, run, retrieve\n",
    "device = 'cuda:0'\n",
    "net.to(device)\n",
    "data   = data.to(device)\n",
    "labels = labels.to(device)\n",
    "output = net(data).detach().cpu()\n",
    "\n",
    "# stop the clock\n",
    "GPUtime = 1000*(time.process_time() - starttime)"
   ]
  },
  {
   "cell_type": "code",
   "execution_count": null,
   "metadata": {
    "id": "a3o-SgmMnyMG"
   },
   "outputs": [],
   "source": [
    "# start the clock\n",
    "starttime = time.process_time()\n",
    "\n",
    "# move, run, retrieve\n",
    "device = 'cpu'\n",
    "net.to(device)\n",
    "data   = data.to(device)\n",
    "labels = labels.to(device)\n",
    "output = net(data).detach().cpu()\n",
    "\n",
    "# stop the clock\n",
    "CPUtime = 1000*(time.process_time() - starttime)"
   ]
  },
  {
   "cell_type": "code",
   "execution_count": null,
   "metadata": {
    "id": "hzYccKwjnyOw"
   },
   "outputs": [],
   "source": [
    "# time in ms\n",
    "[CPUtime,GPUtime]"
   ]
  },
  {
   "cell_type": "code",
   "execution_count": null,
   "metadata": {
    "id": "Bo5dt4Nipprn"
   },
   "outputs": [],
   "source": [
    "# but maybe \"sending\" it to the CPU takes too much overhead?"
   ]
  },
  {
   "cell_type": "code",
   "execution_count": null,
   "metadata": {
    "id": "J-NvS5tvnyRX"
   },
   "outputs": [],
   "source": [
    "# recreate network and data\n",
    "net  = nn.Sequential(nn.Linear(20,100),nn.ReLU(),nn.Linear(100,500),nn.ReLU(),nn.Linear(500,30),nn.ReLU(),nn.Linear(30,2))\n",
    "data = torch.randn((1000,20))\n",
    "\n",
    "# rerun the experiment\n",
    "starttime = time.process_time()\n",
    "output    = net(data).detach()\n",
    "CPUtime2  = 1000*(time.process_time() - starttime)\n",
    "\n",
    "# report the results\n",
    "[CPUtime2,CPUtime,GPUtime]"
   ]
  },
  {
   "cell_type": "code",
   "execution_count": null,
   "metadata": {
    "id": "dJ1p2lXWkSdl"
   },
   "outputs": [],
   "source": []
  }
 ],
 "metadata": {
  "accelerator": "GPU",
  "colab": {
   "authorship_tag": "ABX9TyO6Sbwn18acQD5H5eD06W+E",
   "collapsed_sections": [],
   "name": "DUDL_GPU_implement.ipynb",
   "provenance": []
  },
  "kernelspec": {
   "display_name": "Python 3",
   "name": "python3"
  },
  "language_info": {
   "name": "python"
  }
 },
 "nbformat": 4,
 "nbformat_minor": 0
}
