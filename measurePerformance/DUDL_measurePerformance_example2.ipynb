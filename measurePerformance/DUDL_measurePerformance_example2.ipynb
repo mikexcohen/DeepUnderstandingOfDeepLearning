{
 "cells": [
  {
   "cell_type": "markdown",
   "id": "8d4f906f",
   "metadata": {},
   "source": [
    "[![Open In Colab](https://colab.research.google.com/assets/colab-badge.svg)](https://colab.research.google.com/github/ydebessu/DeepUnderstandingOfDeepLearning/blob/main/measurePerformance/DUDL_measurePerformance_example2.ipynb)"
   ]
  },
  {
   "cell_type": "markdown",
   "metadata": {
    "id": "bhWV8oes-wKR"
   },
   "source": [
    "# COURSE: A deep understanding of deep learning\n",
    "## SECTION: Measuring model performance\n",
    "### LECTURE: APRF example 2: MNIST\n",
    "#### TEACHER: Mike X Cohen, sincxpress.com\n",
    "##### COURSE URL: udemy.com/course/deeplearning_x/?couponCode=202401"
   ]
  },
  {
   "cell_type": "code",
   "execution_count": null,
   "metadata": {
    "id": "YeuAheYyhdZw"
   },
   "outputs": [],
   "source": [
    "# import libraries\n",
    "import numpy as np\n",
    "\n",
    "import torch\n",
    "import torch.nn as nn\n",
    "import torch.nn.functional as F\n",
    "from torch.utils.data import DataLoader\n",
    "from sklearn.model_selection import train_test_split\n",
    "\n",
    "# NEW!\n",
    "import sklearn.metrics as skm\n",
    "\n",
    "import matplotlib.pyplot as plt\n",
    "import matplotlib_inline.backend_inline\n",
    "matplotlib_inline.backend_inline.set_matplotlib_formats('svg')"
   ]
  },
  {
   "cell_type": "markdown",
   "metadata": {
    "id": "0HOkOefftqyg"
   },
   "source": [
    "# Import and process the data"
   ]
  },
  {
   "cell_type": "code",
   "execution_count": null,
   "metadata": {
    "id": "MU7rvmWuhjud"
   },
   "outputs": [],
   "source": [
    "# import dataset (comes with colab!)\n",
    "data = np.loadtxt(open('sample_data/mnist_train_small.csv','rb'),delimiter=',')\n",
    "\n",
    "# extract labels (number IDs) and remove from data\n",
    "labels = data[:,0]\n",
    "data   = data[:,1:]\n",
    "\n",
    "# normalize the data to a range of [0 1]\n",
    "dataNorm = data / np.max(data)"
   ]
  },
  {
   "cell_type": "code",
   "execution_count": null,
   "metadata": {
    "id": "Y_tZ1ymVp0Sf"
   },
   "outputs": [],
   "source": [
    "# Step 1: convert to tensor\n",
    "dataT   = torch.tensor( dataNorm ).float()\n",
    "labelsT = torch.tensor( labels ).long()\n",
    "\n",
    "# Step 2: use scikitlearn to split the data\n",
    "train_data,test_data, train_labels,test_labels = train_test_split(dataT, labelsT, test_size=.1)\n",
    "\n",
    "# Step 3: convert into PyTorch Datasets\n",
    "train_data = torch.utils.data.TensorDataset(train_data,train_labels)\n",
    "test_data  = torch.utils.data.TensorDataset(test_data,test_labels)\n",
    "\n",
    "# Step 4: translate into dataloader objects\n",
    "batchsize    = 32\n",
    "train_loader = DataLoader(train_data,batch_size=batchsize,shuffle=True,drop_last=True)\n",
    "test_loader  = DataLoader(test_data,batch_size=test_data.tensors[0].shape[0])"
   ]
  },
  {
   "cell_type": "markdown",
   "metadata": {
    "id": "OK8Opkhgp0bO"
   },
   "source": [
    "# Create the DL model"
   ]
  },
  {
   "cell_type": "code",
   "execution_count": null,
   "metadata": {
    "id": "JK3OO3tAtZkA"
   },
   "outputs": [],
   "source": [
    "# create a class for the model\n",
    "def createTheMNISTNet():\n",
    "\n",
    "  class mnistNet(nn.Module):\n",
    "    def __init__(self):\n",
    "      super().__init__()\n",
    "\n",
    "      ### input layer\n",
    "      self.input = nn.Linear(784,64)\n",
    "      \n",
    "      ### hidden layer\n",
    "      self.fc1 = nn.Linear(64,32)\n",
    "      self.fc2 = nn.Linear(32,32)\n",
    "\n",
    "      ### output layer\n",
    "      self.output = nn.Linear(32,10)\n",
    "\n",
    "    # forward pass\n",
    "    def forward(self,x):\n",
    "      x = F.relu( self.input(x) )\n",
    "      x = F.relu( self.fc1(x) )\n",
    "      x = F.relu( self.fc2(x) )\n",
    "      return self.output(x)\n",
    "  \n",
    "  # create the model instance\n",
    "  net = mnistNet()\n",
    "  \n",
    "  # loss function\n",
    "  lossfun = nn.CrossEntropyLoss()\n",
    "\n",
    "  # optimizer\n",
    "  optimizer = torch.optim.Adam(net.parameters(),lr=.01)\n",
    "\n",
    "  return net,lossfun,optimizer"
   ]
  },
  {
   "cell_type": "markdown",
   "metadata": {
    "id": "dvfGQIRGp0ht"
   },
   "source": [
    "# Create a function that trains the model"
   ]
  },
  {
   "cell_type": "code",
   "execution_count": null,
   "metadata": {
    "id": "IblJo1NCp0kl"
   },
   "outputs": [],
   "source": [
    "def function2trainTheModel():\n",
    "\n",
    "  # number of epochs\n",
    "  numepochs = 10\n",
    "  \n",
    "  # create a new model\n",
    "  net,lossfun,optimizer = createTheMNISTNet()\n",
    "\n",
    "  # initialize losses\n",
    "  losses    = torch.zeros(numepochs)\n",
    "  trainAcc  = []\n",
    "  testAcc   = []\n",
    "\n",
    "\n",
    "  # loop over epochs\n",
    "  for epochi in range(numepochs):\n",
    "\n",
    "    # loop over training data batches\n",
    "    batchAcc  = []\n",
    "    batchLoss = []\n",
    "    for X,y in train_loader:\n",
    "\n",
    "      # forward pass and loss\n",
    "      yHat = net(X)\n",
    "      loss = lossfun(yHat,y)\n",
    "\n",
    "      # backprop\n",
    "      optimizer.zero_grad()\n",
    "      loss.backward()\n",
    "      optimizer.step()\n",
    "\n",
    "      # loss from this batch\n",
    "      batchLoss.append(loss.item())\n",
    "\n",
    "      # compute accuracy\n",
    "      matches = torch.argmax(yHat,axis=1) == y     # booleans (false/true)\n",
    "      matchesNumeric = matches.float()             # convert to numbers (0/1)\n",
    "      accuracyPct = 100*torch.mean(matchesNumeric) # average and x100\n",
    "      batchAcc.append( accuracyPct )               # add to list of accuracies\n",
    "    # end of batch loop...\n",
    "\n",
    "    # now that we've trained through the batches, get their average training accuracy\n",
    "    trainAcc.append( np.mean(batchAcc) )\n",
    "\n",
    "    # and get average losses across the batches\n",
    "    losses[epochi] = np.mean(batchLoss)\n",
    "\n",
    "    # test accuracy\n",
    "    X,y = next(iter(test_loader)) # extract X,y from test dataloader\n",
    "    with torch.no_grad(): # deactivates autograd\n",
    "      yHat = net(X)\n",
    "      \n",
    "    # compare the following really long line of code to the training accuracy lines\n",
    "    testAcc.append( 100*torch.mean((torch.argmax(yHat,axis=1)==y).float()) )\n",
    "\n",
    "  # end epochs\n",
    "\n",
    "  # function output\n",
    "  return trainAcc,testAcc,losses,net\n"
   ]
  },
  {
   "cell_type": "markdown",
   "metadata": {
    "id": "XpGm9xdQ27Ob"
   },
   "source": [
    "# Run the model and show the results!"
   ]
  },
  {
   "cell_type": "code",
   "execution_count": null,
   "metadata": {
    "id": "gHzKOZjnp0qn"
   },
   "outputs": [],
   "source": [
    "# build and train the model\n",
    "trainAcc,testAcc,losses,net = function2trainTheModel()\n",
    "\n",
    "\n",
    "# visualization starts here\n",
    "fig,ax = plt.subplots(1,2,figsize=(10,3))\n",
    "\n",
    "ax[0].plot(losses)\n",
    "ax[0].set_xlabel('Epochs')\n",
    "ax[0].set_ylabel('Loss')\n",
    "ax[0].set_ylim([0,3])\n",
    "ax[0].set_title('Model loss')\n",
    "\n",
    "ax[1].plot(trainAcc,label='Train')\n",
    "ax[1].plot(testAcc,label='Test')\n",
    "ax[1].set_xlabel('Epochs')\n",
    "ax[1].set_ylabel('Accuracy (%)')\n",
    "ax[1].set_ylim([10,100])\n",
    "ax[1].set_title(f'Final model test accuracy: {testAcc[-1]:.2f}%')\n",
    "ax[1].legend()\n",
    "\n",
    "plt.show()"
   ]
  },
  {
   "cell_type": "markdown",
   "metadata": {
    "id": "_7mAB4utDMeh"
   },
   "source": [
    "# Compute the performance measures on the train and test data"
   ]
  },
  {
   "cell_type": "code",
   "execution_count": null,
   "metadata": {
    "id": "_UMTFQTPqBjr"
   },
   "outputs": [],
   "source": [
    "# predicted digits for training data\n",
    "yHat = net(train_loader.dataset.tensors[0])\n",
    "train_predictions = torch.argmax(yHat,axis=1)\n",
    "\n",
    "# predictions for test data\n",
    "yHat = net(test_loader.dataset.tensors[0])\n",
    "test_predictions = torch.argmax(yHat,axis=1)\n",
    "test_predictions"
   ]
  },
  {
   "cell_type": "code",
   "execution_count": null,
   "metadata": {
    "id": "DrtnBzsE51ya"
   },
   "outputs": [],
   "source": [
    "# Brief aside on computing precision et al. in multiclass data:\n",
    "# There are now 10 classes, so there are 10 precision values.\n",
    "\n",
    "\n",
    "## option 1: compute precision for each class (each number)\n",
    "skm.precision_score(train_loader.dataset.tensors[1],train_predictions,average=None)\n",
    "\n",
    "## option 2: compute average precision, weighted by N\n",
    "skm.precision_score(train_loader.dataset.tensors[1],train_predictions,average='weighted')\n",
    "\n",
    "## option 3: compute average precision, unweighted (same as 'weighted' if category N's are equal)\n",
    "skm.precision_score(train_loader.dataset.tensors[1],train_predictions,average='macro')"
   ]
  },
  {
   "cell_type": "code",
   "execution_count": null,
   "metadata": {
    "id": "0VbOnVLUwv4h"
   },
   "outputs": [],
   "source": [
    "# initialize vectors\n",
    "train_metrics = [0,0,0,0]\n",
    "test_metrics  = [0,0,0,0]\n",
    "\n",
    "# training\n",
    "train_metrics[0] = skm.accuracy_score (train_loader.dataset.tensors[1],train_predictions) # accuracy is overall\n",
    "train_metrics[1] = skm.precision_score(train_loader.dataset.tensors[1],train_predictions,average='weighted')\n",
    "train_metrics[2] = skm.recall_score   (train_loader.dataset.tensors[1],train_predictions,average='weighted')\n",
    "train_metrics[3] = skm.f1_score       (train_loader.dataset.tensors[1],train_predictions,average='weighted')\n",
    "\n",
    "\n",
    "# test\n",
    "test_metrics[0] = skm.accuracy_score (test_loader.dataset.tensors[1],test_predictions)\n",
    "test_metrics[1] = skm.precision_score(test_loader.dataset.tensors[1],test_predictions,average='weighted')\n",
    "test_metrics[2] = skm.recall_score   (test_loader.dataset.tensors[1],test_predictions,average='weighted')\n",
    "test_metrics[3] = skm.f1_score       (test_loader.dataset.tensors[1],test_predictions,average='weighted')"
   ]
  },
  {
   "cell_type": "code",
   "execution_count": null,
   "metadata": {
    "id": "xH5cVjnuwv6z"
   },
   "outputs": [],
   "source": [
    "plt.bar(np.arange(4)-.1,train_metrics,.5)\n",
    "plt.bar(np.arange(4)+.1,test_metrics,.5)\n",
    "plt.xticks([0,1,2,3],['Accuracy','Precision','Recall','F1-score'])\n",
    "plt.ylim([.9,1])\n",
    "plt.legend(['Train','Test'])\n",
    "plt.title('Performance metrics')\n",
    "plt.show()"
   ]
  },
  {
   "cell_type": "code",
   "execution_count": null,
   "metadata": {
    "id": "MF_NFJ_367EH"
   },
   "outputs": [],
   "source": [
    "# Bar graphs of class-specific precision and recall for test data\n",
    "\n",
    "precision = skm.precision_score(test_loader.dataset.tensors[1],test_predictions,average=None)\n",
    "recall    = skm.recall_score   (test_loader.dataset.tensors[1],test_predictions,average=None)\n",
    "\n",
    "\n",
    "fig = plt.figure(figsize=(12,3))\n",
    "plt.bar(np.arange(10)-.15,precision,.5)\n",
    "plt.bar(np.arange(10)+.15,recall,.5)\n",
    "plt.xticks(range(10),range(10))\n",
    "plt.ylim([.5,1])\n",
    "plt.xlabel('Number')\n",
    "plt.legend(['Precision','Recall'])\n",
    "plt.title('Category-specific performance metrics')\n",
    "plt.show()"
   ]
  },
  {
   "cell_type": "code",
   "execution_count": null,
   "metadata": {
    "id": "v3EuScFn0wXF"
   },
   "outputs": [],
   "source": [
    "# Confusion matrices\n",
    "trainConf = skm.confusion_matrix(train_loader.dataset.tensors[1],train_predictions,normalize='true')\n",
    "testConf  = skm.confusion_matrix(test_loader.dataset.tensors[1], test_predictions,normalize='true')\n",
    "\n",
    "fig,ax = plt.subplots(1,2,figsize=(10,4))\n",
    "\n",
    "# confmat during TRAIN\n",
    "ax[0].imshow(trainConf,'Blues',vmax=.05)\n",
    "ax[0].set_xticks(range(10))\n",
    "ax[0].set_yticks(range(10))\n",
    "ax[0].set_title('TRAIN confusion matrix')\n",
    "ax[0].set_xlabel('True number')\n",
    "ax[0].set_xlabel('Predicted number')\n",
    "ax[0].set_ylabel('True number')\n",
    "\n",
    "# confmat during TEST\n",
    "a = ax[1].imshow(testConf,cmap='Blues',vmax=.05)\n",
    "ax[1].set_xticks(range(10))\n",
    "ax[1].set_yticks(range(10))\n",
    "ax[1].set_title('TEST confusion matrix')\n",
    "ax[1].set_xlabel('Predicted number')\n",
    "ax[1].set_ylabel('True number')\n",
    "\n",
    "fig.colorbar(a)\n",
    "plt.show()"
   ]
  },
  {
   "cell_type": "code",
   "execution_count": null,
   "metadata": {
    "id": "DkeVK_nF4Fsf"
   },
   "outputs": [],
   "source": []
  },
  {
   "cell_type": "markdown",
   "metadata": {
    "id": "Uh28k_l29urR"
   },
   "source": [
    "# Additional explorations"
   ]
  },
  {
   "cell_type": "code",
   "execution_count": null,
   "metadata": {
    "id": "ib3uQtfv9wE2"
   },
   "outputs": [],
   "source": [
    "# 1) The Adam optimizer is pretty amazing, isn't it? Change the code to get the overall test accuracy between 50% and 80%.\n",
    "#    You can consider changing the optimizer, learning rate, and number of epochs. Then show the performance metrics.\n",
    "#    Are there systematic difficulties with some numbers, or simply a general decline in performance overall?\n",
    "# \n",
    "# 2) Are the y-axis and color-limits still appropriate? Modify the visualization code so that the graphs are adaptive\n",
    "#    to the numerical values of the performance metrics and confusion matrices.\n",
    "#    "
   ]
  }
 ],
 "metadata": {
  "colab": {
   "authorship_tag": "ABX9TyMA3h/E4LWoofobDOdB1q7t",
   "collapsed_sections": [],
   "name": "DUDL_mesaurePerformance_example2.ipynb",
   "provenance": [
    {
     "file_id": "16iJYZHB7HPjii83rQTIxUz6S84Iz85z6",
     "timestamp": 1618862368416
    },
    {
     "file_id": "13SFr82QoaJr9so_o_rSl1L9WbOMXpUSR",
     "timestamp": 1618852484619
    },
    {
     "file_id": "1FcEBC0NAESIlHQkv6_85R-XDUKGE8XbM",
     "timestamp": 1618848117844
    },
    {
     "file_id": "1qKgZ8kVcqNgwtBzHbWq5yJH_HqI6DxWW",
     "timestamp": 1617803880910
    },
    {
     "file_id": "15cpyHkJ435B4MqbyGjAH1poN4nCy_DE4",
     "timestamp": 1617737766196
    },
    {
     "file_id": "1OLuWuaFu0hcFgkQ2hh5BqbRuqUZD7XcQ",
     "timestamp": 1617734878578
    },
    {
     "file_id": "1XvzVGJPTJifVh8OpZVB7ykLxyUqYwQ1j",
     "timestamp": 1617196833019
    },
    {
     "file_id": "1bv1_y32e3KEExFKKlPfC3rpw1JxmBr8H",
     "timestamp": 1617124341706
    },
    {
     "file_id": "1GMq8u7KyHB2AE7Teyls9gK1T01OduQSn",
     "timestamp": 1616697516760
    },
    {
     "file_id": "1Ui3kyHim-e0XLgDs2mkBxVlYg7TKYtcg",
     "timestamp": 1616615469755
    },
    {
     "file_id": "1YpHocGI4rApOxIBb1ZghCU5L-hFnv4CK",
     "timestamp": 1616608248670
    }
   ]
  },
  "kernelspec": {
   "display_name": "Python 3",
   "name": "python3"
  }
 },
 "nbformat": 4,
 "nbformat_minor": 0
}
