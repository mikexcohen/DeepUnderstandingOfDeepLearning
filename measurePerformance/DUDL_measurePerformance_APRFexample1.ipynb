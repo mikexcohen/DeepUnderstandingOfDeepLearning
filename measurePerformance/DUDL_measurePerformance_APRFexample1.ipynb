{
 "cells": [
  {
   "cell_type": "markdown",
   "id": "b3bef40a",
   "metadata": {},
   "source": [
    "[![Open In Colab](https://colab.research.google.com/assets/colab-badge.svg)](https://colab.research.google.com/github/ydebessu/DeepUnderstandingOfDeepLearning/blob/main/measurePerformance/DUDL_measurePerformance_APRFexample1.ipynb)"
   ]
  },
  {
   "cell_type": "markdown",
   "metadata": {
    "id": "bhWV8oes-wKR"
   },
   "source": [
    "# COURSE: A deep understanding of deep learning\n",
    "## SECTION: Measuring model performance\n",
    "### LECTURE: APRF example 1: wine quality\n",
    "#### TEACHER: Mike X Cohen, sincxpress.com\n",
    "##### COURSE URL: udemy.com/course/deeplearning_x/?couponCode=202401"
   ]
  },
  {
   "cell_type": "code",
   "execution_count": null,
   "metadata": {
    "id": "7U3TmybM4yMw"
   },
   "outputs": [],
   "source": [
    "### import libraries\n",
    "\n",
    "# for DL modeling\n",
    "import torch\n",
    "import torch.nn as nn\n",
    "import torch.nn.functional as F\n",
    "from torch.utils.data import DataLoader\n",
    "from sklearn.model_selection import train_test_split\n",
    "\n",
    "# for number-crunching\n",
    "import numpy as np\n",
    "import scipy.stats as stats\n",
    "\n",
    "# for dataset management\n",
    "import pandas as pd\n",
    "\n",
    "# for data visualization\n",
    "import matplotlib.pyplot as plt\n",
    "import matplotlib_inline.backend_inline\n",
    "matplotlib_inline.backend_inline.set_matplotlib_formats('svg')"
   ]
  },
  {
   "cell_type": "markdown",
   "metadata": {
    "id": "2anVFzBXGdwH"
   },
   "source": [
    "# Import and process the data"
   ]
  },
  {
   "cell_type": "code",
   "execution_count": null,
   "metadata": {
    "id": "0ohXIxzt4_U2"
   },
   "outputs": [],
   "source": [
    "# import the data\n",
    "url = \"https://archive.ics.uci.edu/ml/machine-learning-databases/wine-quality/winequality-red.csv\"\n",
    "data = pd.read_csv(url,sep=';')\n",
    "data = data[data['total sulfur dioxide']<200] # drop a few outliers\n",
    "\n",
    "# z-score all columns except for quality\n",
    "cols2zscore = data.keys()\n",
    "cols2zscore = cols2zscore.drop('quality')\n",
    "data[cols2zscore] = data[cols2zscore].apply(stats.zscore)\n",
    "\n",
    "# create a new column for binarized (boolean) quality\n",
    "data['boolQuality'] = 0\n",
    "# data['boolQuality'][data['quality']<6] = 0 # implicit in the code! just here for clarity\n",
    "data['boolQuality'][data['quality']>5] = 1"
   ]
  },
  {
   "cell_type": "code",
   "execution_count": null,
   "metadata": {
    "id": "2kZ6YPe8Gav5"
   },
   "outputs": [],
   "source": [
    "# convert from pandas dataframe to tensor\n",
    "dataT  = torch.tensor( data[cols2zscore].values ).float()\n",
    "labels = torch.tensor( data['boolQuality'].values ).float()\n",
    "labels = labels[:,None] # transform to matrix\n",
    "\n",
    "# use scikitlearn to split the data\n",
    "train_data,test_data, train_labels,test_labels = train_test_split(dataT, labels, test_size=.1)\n",
    "\n",
    "# then convert them into PyTorch Datasets (note: already converted to tensors)\n",
    "train_dataDataset = torch.utils.data.TensorDataset(train_data,train_labels)\n",
    "test_dataDataset  = torch.utils.data.TensorDataset(test_data,test_labels)\n",
    "\n",
    "# finally, create dataloaders\n",
    "train_loader = DataLoader(train_dataDataset,batch_size=32, shuffle=True, drop_last=True)\n",
    "test_loader  = DataLoader(test_dataDataset,batch_size=test_dataDataset.tensors[0].shape[0])"
   ]
  },
  {
   "cell_type": "markdown",
   "metadata": {
    "id": "I7g0mivk5GqP"
   },
   "source": [
    "# Now for the DL part"
   ]
  },
  {
   "cell_type": "code",
   "execution_count": null,
   "metadata": {
    "id": "N0vAnQi9DNRa"
   },
   "outputs": [],
   "source": [
    "# create a class for the model\n",
    "\n",
    "class ANNwine(nn.Module):\n",
    "  def __init__(self):\n",
    "    super().__init__()\n",
    "\n",
    "    ### input layer\n",
    "    self.input = nn.Linear(11,16)\n",
    "    \n",
    "    ### hidden layers\n",
    "    self.fc1 = nn.Linear(16,32)\n",
    "    self.fc2 = nn.Linear(32,32)\n",
    "\n",
    "    ### output layer\n",
    "    self.output = nn.Linear(32,1)\n",
    "  \n",
    "  # forward pass\n",
    "  def forward(self,x):\n",
    "    x = F.relu( self.input(x) )\n",
    "    x = F.relu( self.fc1(x) )\n",
    "    x = F.relu( self.fc2(x) )\n",
    "    return self.output(x)"
   ]
  },
  {
   "cell_type": "markdown",
   "metadata": {
    "id": "IuCixgNfDMZS"
   },
   "source": [
    "# A function to train the model"
   ]
  },
  {
   "cell_type": "code",
   "execution_count": null,
   "metadata": {
    "id": "0XRPe56rGp2k"
   },
   "outputs": [],
   "source": [
    "# global parameter\n",
    "numepochs = 1000\n",
    "\n",
    "def trainTheModel():\n",
    "\n",
    "  # loss function and optimizer\n",
    "  lossfun = nn.BCEWithLogitsLoss()\n",
    "  optimizer = torch.optim.SGD(winenet.parameters(),lr=.01)\n",
    "\n",
    "  # initialize losses\n",
    "  losses   = torch.zeros(numepochs)\n",
    "  trainAcc = []\n",
    "  testAcc  = []\n",
    "\n",
    "  # loop over epochs\n",
    "  for epochi in range(numepochs):\n",
    "\n",
    "    # loop over training data batches\n",
    "    batchAcc  = []\n",
    "    batchLoss = []\n",
    "    for X,y in train_loader:\n",
    "\n",
    "      # forward pass and loss\n",
    "      yHat = winenet(X)\n",
    "      loss = lossfun(yHat,y)\n",
    "\n",
    "      # backprop\n",
    "      optimizer.zero_grad()\n",
    "      loss.backward()\n",
    "      optimizer.step()\n",
    "\n",
    "      # loss from this batch\n",
    "      batchLoss.append(loss.item())\n",
    "\n",
    "      # compute training accuracy for this batch\n",
    "      batchAcc.append( 100*torch.mean(((yHat>0) == y).float()).item() )\n",
    "    # end of batch loop...\n",
    "\n",
    "    # now that we've trained through the batches, get their average training accuracy\n",
    "    trainAcc.append( np.mean(batchAcc) )\n",
    "\n",
    "    # and get average losses across the batches\n",
    "    losses[epochi] = np.mean(batchLoss)\n",
    "\n",
    "    # test accuracy\n",
    "    X,y = next(iter(test_loader)) # extract X,y from test dataloader\n",
    "    with torch.no_grad(): # deactivates autograd\n",
    "      yHat = winenet(X)\n",
    "    testAcc.append( 100*torch.mean(((yHat>0) == y).float()).item() )\n",
    "  \n",
    "  # function output\n",
    "  return trainAcc,testAcc,losses"
   ]
  },
  {
   "cell_type": "markdown",
   "metadata": {
    "id": "T_JKCpfe_CfC"
   },
   "source": [
    "# Now to create the fitted model"
   ]
  },
  {
   "cell_type": "code",
   "execution_count": null,
   "metadata": {
    "id": "oL7EqhYjGp51"
   },
   "outputs": [],
   "source": [
    "# create and train a model\n",
    "winenet = ANNwine()\n",
    "trainAcc,testAcc,losses = trainTheModel()\n"
   ]
  },
  {
   "cell_type": "markdown",
   "metadata": {
    "id": "_7mAB4utDMeh"
   },
   "source": [
    "# Compute the performance measures on the train and test data"
   ]
  },
  {
   "cell_type": "code",
   "execution_count": null,
   "metadata": {
    "id": "_UMTFQTPqBjr"
   },
   "outputs": [],
   "source": [
    "# predictions for training data\n",
    "train_predictions = winenet(train_loader.dataset.tensors[0])\n",
    "train_predictions\n",
    "\n",
    "# predictions for test data\n",
    "test_predictions = winenet(test_loader.dataset.tensors[0])\n",
    "test_predictions"
   ]
  },
  {
   "cell_type": "code",
   "execution_count": null,
   "metadata": {
    "id": "0VbOnVLUwv4h"
   },
   "outputs": [],
   "source": [
    "# NEW! using scikitlearn to compute ARPF\n",
    "import sklearn.metrics as skm\n",
    "\n",
    "# initialize vectors\n",
    "train_metrics = [0,0,0,0]\n",
    "test_metrics  = [0,0,0,0]\n",
    "\n",
    "# training\n",
    "train_metrics[0] = skm.accuracy_score (train_loader.dataset.tensors[1],train_predictions>0)\n",
    "train_metrics[1] = skm.precision_score(train_loader.dataset.tensors[1],train_predictions>0)\n",
    "train_metrics[2] = skm.recall_score   (train_loader.dataset.tensors[1],train_predictions>0)\n",
    "train_metrics[3] = skm.f1_score       (train_loader.dataset.tensors[1],train_predictions>0)\n",
    "\n",
    "\n",
    "# test\n",
    "test_metrics[0] = skm.accuracy_score (test_loader.dataset.tensors[1],test_predictions>0)\n",
    "test_metrics[1] = skm.precision_score(test_loader.dataset.tensors[1],test_predictions>0)\n",
    "test_metrics[2] = skm.recall_score   (test_loader.dataset.tensors[1],test_predictions>0)\n",
    "test_metrics[3] = skm.f1_score       (test_loader.dataset.tensors[1],test_predictions>0)"
   ]
  },
  {
   "cell_type": "code",
   "execution_count": null,
   "metadata": {
    "id": "xH5cVjnuwv6z"
   },
   "outputs": [],
   "source": [
    "plt.bar(np.arange(4)-.1,train_metrics,.5)\n",
    "plt.bar(np.arange(4)+.1,test_metrics,.5)\n",
    "plt.xticks([0,1,2,3],['Accuracy','Precision','Recall','F1-score'])\n",
    "plt.ylim([.6,1])\n",
    "plt.legend(['Train','Test'])\n",
    "plt.title('Performance metrics')\n",
    "plt.show()"
   ]
  },
  {
   "cell_type": "code",
   "execution_count": null,
   "metadata": {
    "id": "v3EuScFn0wXF"
   },
   "outputs": [],
   "source": [
    "# Confusion matrices\n",
    "trainConf = skm.confusion_matrix(train_loader.dataset.tensors[1],train_predictions>0)\n",
    "testConf  = skm.confusion_matrix(test_loader.dataset.tensors[1], test_predictions>0)\n",
    "\n",
    "fig,ax = plt.subplots(1,2,figsize=(10,4))\n",
    "\n",
    "# confmat during TRAIN\n",
    "ax[0].imshow(trainConf,'Blues',vmax=len(train_predictions)/2)\n",
    "ax[0].set_xticks([0,1])\n",
    "ax[0].set_yticks([0,1])\n",
    "ax[0].set_xticklabels(['bad','good'])\n",
    "ax[0].set_yticklabels(['bad','good'])\n",
    "ax[0].set_xlabel('Predicted quality')\n",
    "ax[0].set_ylabel('True quality')\n",
    "ax[0].set_title('TRAIN confusion matrix')\n",
    "\n",
    "# add text labels\n",
    "ax[0].text(0,0,f'True negatives:\\n{trainConf[0,0]}' ,ha='center',va='center')\n",
    "ax[0].text(0,1,f'False negatives:\\n{trainConf[1,0]}',ha='center',va='center')\n",
    "ax[0].text(1,1,f'True positives:\\n{trainConf[1,1]}' ,ha='center',va='center')\n",
    "ax[0].text(1,0,f'False positives:\\n{trainConf[0,1]}',ha='center',va='center')\n",
    "\n",
    "\n",
    "\n",
    "\n",
    "# confmat during TEST\n",
    "ax[1].imshow(testConf,'Blues',vmax=len(test_predictions)/2)\n",
    "ax[1].set_xticks([0,1])\n",
    "ax[1].set_yticks([0,1])\n",
    "ax[1].set_xticklabels(['bad','good'])\n",
    "ax[1].set_yticklabels(['bad','good'])\n",
    "ax[1].set_xlabel('Predicted quality')\n",
    "ax[1].set_ylabel('True quality')\n",
    "ax[1].set_title('TEST confusion matrix')\n",
    "\n",
    "# add text labels\n",
    "ax[1].text(0,0,f'True negatives:\\n{testConf[0,0]}' ,ha='center',va='center')\n",
    "ax[1].text(0,1,f'False negatives:\\n{testConf[1,0]}',ha='center',va='center')\n",
    "ax[1].text(1,1,f'True positives:\\n{testConf[1,1]}' ,ha='center',va='center')\n",
    "ax[1].text(1,0,f'False positives:\\n{testConf[0,1]}',ha='center',va='center')\n",
    "plt.show()\n",
    "\n",
    "trainConf"
   ]
  },
  {
   "cell_type": "markdown",
   "metadata": {
    "id": "b-DYWPmfTfZR"
   },
   "source": [
    "# Additional explorations"
   ]
  },
  {
   "cell_type": "code",
   "execution_count": null,
   "metadata": {
    "id": "XRokrXL9Thv7"
   },
   "outputs": [],
   "source": [
    "# 1) The confusion matrices are rotated, in the sense that most visualizations (outside of Python) have reality in the columns\n",
    "#    and predictions in the rows. Change the code to get the matrices in the orientation shown in the slides. Make sure\n",
    "#    all the labels are correct! (hint: you might need to consult the help file: https://scikit-learn.org/stable/modules/generated/sklearn.metrics.confusion_matrix.html)\n",
    "# \n",
    "# 2) Normalize the confusion matrix to 'all' (the total N). The numbers are so long that they're difficult to read! Change\n",
    "#    the text drawing code to transform the proportion into percent, and show only the first 2 digits after the period.\n",
    "# "
   ]
  }
 ],
 "metadata": {
  "colab": {
   "authorship_tag": "ABX9TyOum4BG03zvbTGI25oG96M5",
   "collapsed_sections": [],
   "name": "DUDL_measurePerformance_APRFexample1.ipynb",
   "provenance": [
    {
     "file_id": "1IuDazKJ8VD0FyCGt_hC-h3ZSPFypxDM0",
     "timestamp": 1618829295498
    },
    {
     "file_id": "1ZD_ADbh6qrlHE16V7Yc8VF9Vrn2c6bMQ",
     "timestamp": 1617088339885
    }
   ]
  },
  "kernelspec": {
   "display_name": "Python 3",
   "name": "python3"
  },
  "language_info": {
   "name": "python"
  }
 },
 "nbformat": 4,
 "nbformat_minor": 0
}
