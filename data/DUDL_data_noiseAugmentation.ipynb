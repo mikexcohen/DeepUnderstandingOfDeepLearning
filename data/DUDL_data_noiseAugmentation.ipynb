{
 "cells": [
  {
   "cell_type": "markdown",
   "id": "43c59302",
   "metadata": {},
   "source": [
    "[![Open In Colab](https://colab.research.google.com/assets/colab-badge.svg)](https://colab.research.google.com/github/ydebessu/DeepUnderstandingOfDeepLearning/blob/main/data/DUDL_data_noiseAugmentation.ipynb)"
   ]
  },
  {
   "cell_type": "markdown",
   "metadata": {
    "id": "bhWV8oes-wKR"
   },
   "source": [
    "# COURSE: A deep understanding of deep learning\n",
    "## SECTION: More on data\n",
    "### LECTURE: Data noise augmentation (with devset+test)\n",
    "#### TEACHER: Mike X Cohen, sincxpress.com\n",
    "##### COURSE URL: udemy.com/course/deeplearning_x/?couponCode=202401"
   ]
  },
  {
   "cell_type": "code",
   "execution_count": null,
   "metadata": {
    "id": "YeuAheYyhdZw"
   },
   "outputs": [],
   "source": [
    "# import libraries\n",
    "import numpy as np\n",
    "\n",
    "import torch\n",
    "import torch.nn as nn\n",
    "import torch.nn.functional as F\n",
    "from torch.utils.data import DataLoader,TensorDataset\n",
    "from sklearn.model_selection import train_test_split\n",
    "\n",
    "import matplotlib.pyplot as plt"
   ]
  },
  {
   "cell_type": "markdown",
   "metadata": {
    "id": "OhLQ2YSvpiGj"
   },
   "source": [
    "# A function that returns a dataset with a specified size"
   ]
  },
  {
   "cell_type": "code",
   "execution_count": null,
   "metadata": {
    "id": "Y_tZ1ymVp0Sf"
   },
   "outputs": [],
   "source": [
    "# import dataset (comes with colab!)\n",
    "dataFull = np.loadtxt(open('sample_data/mnist_train_small.csv','rb'),delimiter=',')\n",
    "\n",
    "# normalize the data to a range of [0 1]\n",
    "dataFull[:,1:] = dataFull[:,1:] / np.max(dataFull)\n",
    "\n",
    "\n",
    "# now for the function\n",
    "def makeTheDataset(N,doubleTheData=False):\n",
    "\n",
    "  # extract labels (number IDs) and remove from data\n",
    "  data   = dataFull[:N,1:]\n",
    "  labels = dataFull[:N,0]\n",
    "\n",
    "\n",
    "  # make a noisy copy of ALL the data\n",
    "  if doubleTheData:\n",
    "    dataN  = data + np.random.random_sample(data.shape)/2\n",
    "    data   = np.concatenate((data,dataN),axis=0)\n",
    "    labels = np.concatenate((labels,labels),axis=0)\n",
    "\n",
    "\n",
    "  # convert to tensor\n",
    "  dataT   = torch.tensor( data   ).float()\n",
    "  labelsT = torch.tensor( labels ).long()\n",
    "\n",
    "  # use scikitlearn to split the data\n",
    "  train_data,devset_data, train_labels,devset_labels = train_test_split(dataT, labelsT, train_size=.9)\n",
    "\n",
    "\n",
    "  # # make a noisy copy of the TRAIN data\n",
    "  # if doubleTheData:\n",
    "  #   train_dataN  = train_data + torch.rand_like(train_data)/2\n",
    "  #   train_data   = torch.cat((train_data,train_dataN),axis=0)\n",
    "  #   train_labels = torch.cat((train_labels,train_labels),axis=0)\n",
    "\n",
    "\n",
    "  # convert into PyTorch Datasets\n",
    "  train_data  = TensorDataset(train_data,train_labels)\n",
    "  devset_data = TensorDataset(devset_data,devset_labels)\n",
    "\n",
    "  # translate into dataloader objects\n",
    "  batchsize     = 20\n",
    "  train_loader  = DataLoader(train_data,batch_size=batchsize,shuffle=True,drop_last=True)\n",
    "  devset_loader = DataLoader(devset_data,batch_size=devset_data.tensors[0].shape[0])\n",
    "\n",
    "\n",
    "\n",
    "  # NEW!! Create a test set (don't need a dataloader)\n",
    "  testdata   = torch.tensor( dataFull[N:,1:] ).float()\n",
    "  testlabels = torch.tensor( dataFull[N:,0]  ).long()\n",
    "\n",
    "  return train_loader,devset_loader,(testdata,testlabels)"
   ]
  },
  {
   "cell_type": "code",
   "execution_count": null,
   "metadata": {
    "id": "rQQAEnLDBeNm"
   },
   "outputs": [],
   "source": [
    "# visualize the images\n",
    "\n",
    "# get some sample data\n",
    "train_loader,devset_loader,testdataset = makeTheDataset(12,True)\n",
    "\n",
    "# pop out the data matrices\n",
    "img = train_loader.dataset.tensors[0].detach()\n",
    "\n",
    "# show the numbers\n",
    "fig,ax = plt.subplots(3,4,figsize=(12,8))\n",
    "for i,ax in enumerate(ax.flatten()):\n",
    "  ax.imshow(np.reshape(img[i,:],(28,28)) ,cmap='gray')\n",
    "  ax.axis('off')\n",
    "plt.show()"
   ]
  },
  {
   "cell_type": "markdown",
   "metadata": {
    "id": "OK8Opkhgp0bO"
   },
   "source": [
    "# Create the DL model"
   ]
  },
  {
   "cell_type": "code",
   "execution_count": null,
   "metadata": {
    "id": "JK3OO3tAtZkA"
   },
   "outputs": [],
   "source": [
    "# create a class for the model\n",
    "def createTheMNISTNet():\n",
    "\n",
    "  class mnistNet(nn.Module):\n",
    "    def __init__(self):\n",
    "      super().__init__()\n",
    "\n",
    "      ### input layer\n",
    "      self.input = nn.Linear(784,64)\n",
    "\n",
    "      ### hidden layer\n",
    "      self.fc1 = nn.Linear(64,32)\n",
    "      self.fc2 = nn.Linear(32,32)\n",
    "\n",
    "      ### output layer\n",
    "      self.output = nn.Linear(32,10)\n",
    "\n",
    "    # forward pass\n",
    "    def forward(self,x):\n",
    "      x = F.relu( self.input(x) )\n",
    "      x = F.relu( self.fc1(x) )\n",
    "      x = F.relu( self.fc2(x) )\n",
    "      return self.output(x)\n",
    "\n",
    "  # create the model instance\n",
    "  net = mnistNet()\n",
    "\n",
    "  # loss function\n",
    "  lossfun = nn.CrossEntropyLoss()\n",
    "\n",
    "  # optimizer\n",
    "  optimizer = torch.optim.SGD(net.parameters(),lr=.01)\n",
    "\n",
    "  return net,lossfun,optimizer"
   ]
  },
  {
   "cell_type": "markdown",
   "metadata": {
    "id": "dvfGQIRGp0ht"
   },
   "source": [
    "# Create a function that trains the model"
   ]
  },
  {
   "cell_type": "code",
   "execution_count": null,
   "metadata": {
    "id": "IblJo1NCp0kl"
   },
   "outputs": [],
   "source": [
    "# a function that trains the model\n",
    "\n",
    "def function2trainTheModel():\n",
    "\n",
    "  # number of epochs\n",
    "  numepochs = 50\n",
    "\n",
    "  # create a new model\n",
    "  net,lossfun,optimizer = createTheMNISTNet()\n",
    "\n",
    "  # initialize losses\n",
    "  losses    = torch.zeros(numepochs)\n",
    "  trainAcc  = []\n",
    "  devsetAcc = []\n",
    "\n",
    "\n",
    "  # loop over epochs\n",
    "  for epochi in range(numepochs):\n",
    "\n",
    "    # loop over training data batches\n",
    "    batchAcc  = []\n",
    "    batchLoss = []\n",
    "    for X,y in train_loader:\n",
    "\n",
    "      # forward pass and loss\n",
    "      yHat = net(X)\n",
    "      loss = lossfun(yHat,y)\n",
    "\n",
    "      # backprop\n",
    "      optimizer.zero_grad()\n",
    "      loss.backward()\n",
    "      optimizer.step()\n",
    "\n",
    "      # loss from this batch\n",
    "      batchLoss.append(loss.item())\n",
    "\n",
    "      # compute accuracy\n",
    "      matches = torch.argmax(yHat,axis=1) == y     # booleans (false/true)\n",
    "      matchesNumeric = matches.float()             # convert to numbers (0/1)\n",
    "      accuracyPct = 100*torch.mean(matchesNumeric) # average and x100\n",
    "      batchAcc.append( accuracyPct )               # add to list of accuracies\n",
    "    # end of batch loop...\n",
    "\n",
    "    # now that we've trained through the batches, get their average training accuracy\n",
    "    trainAcc.append( np.mean(batchAcc) )\n",
    "\n",
    "    # and get average losses across the batches\n",
    "    losses[epochi] = np.mean(batchLoss)\n",
    "\n",
    "    # devset accuracy\n",
    "    X,y = next(iter(devset_loader)) # extract X,y from devset dataloader\n",
    "    with torch.no_grad(): # deactivates autograd\n",
    "      yHat = net(X)\n",
    "\n",
    "    # compare the following really long line of code to the training accuracy lines\n",
    "    devsetAcc.append( 100*torch.mean((torch.argmax(yHat,axis=1)==y).float()) )\n",
    "\n",
    "  # end epochs\n",
    "\n",
    "  # function output\n",
    "  return trainAcc,devsetAcc,losses,net"
   ]
  },
  {
   "cell_type": "markdown",
   "metadata": {
    "id": "XpGm9xdQ27Ob"
   },
   "source": [
    "# Run an experiment showing better performance with increased N\n",
    "\n"
   ]
  },
  {
   "cell_type": "code",
   "execution_count": null,
   "metadata": {
    "id": "l9pCC1R2p0nu"
   },
   "outputs": [],
   "source": [
    "# takes ~3 mins\n",
    "\n",
    "# list of data sample sizes\n",
    "samplesizes = np.arange(500,4001,500)\n",
    "\n",
    "# initialize results matrix\n",
    "resultsSingle = np.zeros((len(samplesizes),3))\n",
    "resultsDouble = np.zeros((len(samplesizes),3))\n",
    "\n",
    "\n",
    "for idx,ssize in enumerate(samplesizes):\n",
    "\n",
    "  ### without doubling the data!\n",
    "\n",
    "  # generate a dataset and train the model\n",
    "  train_loader,devset_loader,testdataset = makeTheDataset(ssize,False)\n",
    "  trainAcc,devsetAcc,losses,net = function2trainTheModel()\n",
    "\n",
    "  # grab the results\n",
    "  resultsSingle[idx,0] = np.mean(trainAcc[-5:])\n",
    "  resultsSingle[idx,1] = np.mean(devsetAcc[-5:])\n",
    "  resultsSingle[idx,2] = torch.mean(losses[-5:]).item()\n",
    "\n",
    "\n",
    "\n",
    "\n",
    "  ### with doubling the data!\n",
    "\n",
    "  # generate a dataset and train the model\n",
    "  train_loader,devset_loader,testdataset = makeTheDataset(ssize,True)\n",
    "  trainAcc,devsetAcc,losses,net          = function2trainTheModel()\n",
    "\n",
    "  # grab the results\n",
    "  resultsDouble[idx,0] = np.mean(trainAcc[-5:])\n",
    "  resultsDouble[idx,1] = np.mean(devsetAcc[-5:])\n",
    "  resultsDouble[idx,2] = torch.mean(losses[-5:]).item()\n"
   ]
  },
  {
   "cell_type": "code",
   "execution_count": null,
   "metadata": {
    "id": "9SnUUHPm7xQE"
   },
   "outputs": [],
   "source": [
    "# Let's see what the results look like!\n",
    "\n",
    "fig,ax = plt.subplots(1,3,figsize=(15,5))\n",
    "\n",
    "# axis and title labels\n",
    "titles    = ['Train','Devset','Losses']\n",
    "yaxlabels = ['Accuracy','Accuracy','Losses']\n",
    "\n",
    "# common features\n",
    "for i in range(3):\n",
    "\n",
    "  # plot the lines\n",
    "  ax[i].plot(samplesizes,resultsSingle[:,i],'s-',label='Original')\n",
    "  ax[i].plot(samplesizes,resultsDouble[:,i],'s-',label='Augmented')\n",
    "\n",
    "  # make it look nicer\n",
    "  ax[i].set_ylabel(yaxlabels[i])\n",
    "  ax[i].set_title(titles[i])\n",
    "  ax[i].legend()\n",
    "  ax[i].set_xlabel('Unique sample size')\n",
    "  ax[i].grid('on')\n",
    "\n",
    "  if i<2:\n",
    "    ax[i].set_ylim([20,102])\n",
    "\n",
    "\n",
    "plt.tight_layout()\n",
    "plt.show()"
   ]
  },
  {
   "cell_type": "markdown",
   "metadata": {
    "id": "2QVdrgkBHPVS"
   },
   "source": [
    "# Now for test accuracy!"
   ]
  },
  {
   "cell_type": "code",
   "execution_count": null,
   "metadata": {
    "id": "1E6m2P4I_MRP"
   },
   "outputs": [],
   "source": [
    "# we need to re-run the models for N=500\n",
    "\n",
    "samplesize = 500\n",
    "\n",
    "train_loader,devset_loader,testdataset  = makeTheDataset(samplesize,False)\n",
    "trainAccO,devsetAccO,lossesO,netO       = function2trainTheModel() # O = original\n",
    "\n",
    "train_loader,devset_loader,testdataset  = makeTheDataset(samplesize,True)\n",
    "trainAccA,devsetAccA,lossesA,netA       = function2trainTheModel() # A = augmented"
   ]
  },
  {
   "cell_type": "code",
   "execution_count": null,
   "metadata": {
    "id": "p_ezuI0NLP_U"
   },
   "outputs": [],
   "source": [
    "# Now for the real test! On the test data!\n",
    "\n",
    "# extract the test data\n",
    "X,y = testdataset\n",
    "\n",
    "# run the original model\n",
    "yHat = netO(X)\n",
    "testO = 100*torch.mean((torch.argmax(yHat,axis=1)==y).float())\n",
    "\n",
    "# And the augmented model\n",
    "yHat = netA(X)\n",
    "testA = 100*torch.mean((torch.argmax(yHat,axis=1)==y).float())\n",
    "\n",
    "# print the results!\n",
    "print( f'ORIGINAL MODEL (N={samplesize}):\\n  Train: {trainAccO[-1]:.2f}%, devset: {devsetAccO[-1]:.2f}%, test: {testO:.2f}%\\n\\n')\n",
    "print(f'AUGMENTED MODEL (N={samplesize}):\\n  Train: {trainAccA[-1]:.2f}%, devset: {devsetAccA[-1]:.2f}%, test: {testA:.2f}%')\n"
   ]
  },
  {
   "cell_type": "code",
   "execution_count": null,
   "metadata": {
    "id": "aLYJLCr4NZUV"
   },
   "outputs": [],
   "source": []
  },
  {
   "cell_type": "markdown",
   "metadata": {
    "id": "Uh28k_l29urR"
   },
   "source": [
    "# Additional explorations"
   ]
  },
  {
   "cell_type": "code",
   "execution_count": null,
   "metadata": {
    "id": "ib3uQtfv9wE2"
   },
   "outputs": [],
   "source": [
    "# 1) It looks like noise augmentation only helped for small sample sizes (<1000). Write code to run a new experiment that\n",
    "#    reproduces this experiment 10 times, but only using sample sizes [500,1000,2000]. Then make a plot showing the increase\n",
    "#    in devset accuracy for all 10 runs. That will help determine whether our finding above was a quirk of sampling\n",
    "#    variability or a meaningful effect.\n",
    "#\n",
    "# 2) Immediately after loading in the MNIST data (top of the script), there is the following code:\n",
    "#    dataFull[:,1:] = dataFull[:,1:] / np.max(dataFull)\n",
    "#    This is different from the corresponding normalization code in the previous MNIST videos. Do you need the [:,1:]?\n",
    "#    What happens when you change that line to: dataFull = dataFull / np.max(dataFull)\n",
    "#    Can you still train the model?\n",
    "#\n",
    "# 3) We augmented the data using noisy copies. Another idea is to augment the dataset using color-flipped copies. Thus,\n",
    "#    the numbers will be black on a white background. Try it and see how the results compare to the noise-added version!\n",
    "#"
   ]
  }
 ],
 "metadata": {
  "colab": {
   "provenance": [
    {
     "file_id": "1FcEBC0NAESIlHQkv6_85R-XDUKGE8XbM",
     "timestamp": 1618343530003
    },
    {
     "file_id": "1qKgZ8kVcqNgwtBzHbWq5yJH_HqI6DxWW",
     "timestamp": 1617803880910
    },
    {
     "file_id": "15cpyHkJ435B4MqbyGjAH1poN4nCy_DE4",
     "timestamp": 1617737766196
    },
    {
     "file_id": "1OLuWuaFu0hcFgkQ2hh5BqbRuqUZD7XcQ",
     "timestamp": 1617734878578
    },
    {
     "file_id": "1XvzVGJPTJifVh8OpZVB7ykLxyUqYwQ1j",
     "timestamp": 1617196833019
    },
    {
     "file_id": "1bv1_y32e3KEExFKKlPfC3rpw1JxmBr8H",
     "timestamp": 1617124341706
    },
    {
     "file_id": "1GMq8u7KyHB2AE7Teyls9gK1T01OduQSn",
     "timestamp": 1616697516760
    },
    {
     "file_id": "1Ui3kyHim-e0XLgDs2mkBxVlYg7TKYtcg",
     "timestamp": 1616615469755
    },
    {
     "file_id": "1YpHocGI4rApOxIBb1ZghCU5L-hFnv4CK",
     "timestamp": 1616608248670
    }
   ]
  },
  "kernelspec": {
   "display_name": "Python 3",
   "name": "python3"
  }
 },
 "nbformat": 4,
 "nbformat_minor": 0
}
