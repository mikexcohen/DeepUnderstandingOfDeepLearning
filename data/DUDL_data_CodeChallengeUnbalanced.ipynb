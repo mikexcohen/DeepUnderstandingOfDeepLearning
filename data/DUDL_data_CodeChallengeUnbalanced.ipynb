{
 "cells": [
  {
   "cell_type": "markdown",
   "id": "37850acd",
   "metadata": {},
   "source": [
    "[![Open In Colab](https://colab.research.google.com/assets/colab-badge.svg)](https://colab.research.google.com/github/ydebessu/DeepUnderstandingOfDeepLearning/blob/main/data/DUDL_data_CodeChallengeUnbalanced.ipynb)"
   ]
  },
  {
   "cell_type": "markdown",
   "metadata": {
    "id": "bhWV8oes-wKR"
   },
   "source": [
    "# COURSE: A deep understanding of deep learning\n",
    "## SECTION: More on data\n",
    "### LECTURE: CodeChallenge: unbalanced data\n",
    "#### TEACHER: Mike X Cohen, sincxpress.com\n",
    "##### COURSE URL: udemy.com/course/deeplearning_x/?couponCode=202401"
   ]
  },
  {
   "cell_type": "code",
   "execution_count": null,
   "metadata": {
    "id": "7U3TmybM4yMw"
   },
   "outputs": [],
   "source": [
    "### import libraries\n",
    "\n",
    "# for DL modeling\n",
    "import torch\n",
    "import torch.nn as nn\n",
    "import torch.nn.functional as F\n",
    "from torch.utils.data import DataLoader,TensorDataset\n",
    "from sklearn.model_selection import train_test_split\n",
    "\n",
    "# for number-crunching\n",
    "import numpy as np\n",
    "import scipy.stats as stats\n",
    "\n",
    "# for dataset management\n",
    "import pandas as pd\n",
    "\n",
    "# for data visualization\n",
    "import matplotlib.pyplot as plt\n",
    "import seaborn as sns"
   ]
  },
  {
   "cell_type": "markdown",
   "metadata": {
    "id": "2anVFzBXGdwH"
   },
   "source": [
    "# Import and process the data"
   ]
  },
  {
   "cell_type": "code",
   "execution_count": null,
   "metadata": {
    "id": "0ohXIxzt4_U2"
   },
   "outputs": [],
   "source": [
    "# import the data\n",
    "url = \"https://archive.ics.uci.edu/ml/machine-learning-databases/wine-quality/winequality-red.csv\"\n",
    "data = pd.read_csv(url,sep=';')\n",
    "data = data[data['total sulfur dioxide']<200] # drop a few outliers\n",
    "\n",
    "# z-score all columns except for quality\n",
    "cols2zscore = data.keys()\n",
    "cols2zscore = cols2zscore.drop('quality')\n",
    "data[cols2zscore] = data[cols2zscore].apply(stats.zscore)"
   ]
  },
  {
   "cell_type": "code",
   "execution_count": null,
   "metadata": {
    "id": "qjvI_6Su5Gk-"
   },
   "outputs": [],
   "source": []
  },
  {
   "cell_type": "markdown",
   "metadata": {
    "id": "vGQd7xmM5Gns"
   },
   "source": [
    "# A function to process the data by quality metric\n",
    "\n"
   ]
  },
  {
   "cell_type": "code",
   "execution_count": null,
   "metadata": {
    "id": "2kZ6YPe8Gav5"
   },
   "outputs": [],
   "source": [
    "# note: this is just old code copy/pasted here\n",
    "\n",
    "def createAdataset(qualThreshold):\n",
    "\n",
    "  # create a new column for binarized (boolean) quality\n",
    "  data['boolQuality'] = 0\n",
    "\n",
    "\n",
    "  \n",
    "  # IMPORTANT: This is the main piece of this code!\n",
    "  # in previous videos, qualThreshold was 5\n",
    "  tmp = (data['quality']>qualThreshold ).astype(int)\n",
    "  data['boolQuality'] = tmp # I also rewrote these lines from previous version to avoid the warning message\n",
    "\n",
    "\n",
    "\n",
    "  # convert from pandas dataframe to tensor\n",
    "  dataT  = torch.tensor( data[cols2zscore].values ).float()\n",
    "  labels = torch.tensor( data['boolQuality'].values ).float()\n",
    "  labels = labels[:,None] # transform to matrix\n",
    "\n",
    "  # use scikitlearn to split the data\n",
    "  train_data,test_data, train_labels,test_labels = train_test_split(dataT, labels, test_size=.1)\n",
    "\n",
    "  # then convert them into PyTorch Datasets (note: already converted to tensors)\n",
    "  train_data = TensorDataset(train_data,train_labels)\n",
    "  test_data  = TensorDataset(test_data,test_labels)\n",
    "\n",
    "  # finally, translate into dataloader objects\n",
    "  batchsize    = 8\n",
    "  train_loader = DataLoader(train_data,batch_size=batchsize,shuffle=True,drop_last=True)\n",
    "  test_loader  = DataLoader(test_data,batch_size=test_data.tensors[0].shape[0])\n",
    "\n",
    "  return train_loader,test_loader"
   ]
  },
  {
   "cell_type": "code",
   "execution_count": null,
   "metadata": {
    "id": "bbf064xxGa_x"
   },
   "outputs": [],
   "source": [
    "# test the dataset and the number of samples\n",
    "\n",
    "# note that the data are roughly balanced with thresh=5, not 4 or 6\n",
    "train_loader,test_loader = createAdataset(6)\n",
    "\n",
    "# get number of high/low quality wines\n",
    "qualityRatings = train_loader.dataset.tensors[1].detach()\n",
    "print('%s low-rated wines' %torch.sum(qualityRatings==0).item())\n",
    "print('%s high-rated wines' %torch.sum(qualityRatings==1).item())"
   ]
  },
  {
   "cell_type": "code",
   "execution_count": null,
   "metadata": {
    "id": "QXBGdT79tf0N"
   },
   "outputs": [],
   "source": []
  },
  {
   "cell_type": "markdown",
   "metadata": {
    "id": "I7g0mivk5GqP"
   },
   "source": [
    "# The DL parts: class for the model, and a function to train it"
   ]
  },
  {
   "cell_type": "code",
   "execution_count": null,
   "metadata": {
    "id": "N0vAnQi9DNRa"
   },
   "outputs": [],
   "source": [
    "# create a class for the model\n",
    "\n",
    "class ANNwine(nn.Module):\n",
    "  def __init__(self):\n",
    "    super().__init__()\n",
    "\n",
    "    ### input layer\n",
    "    self.input = nn.Linear(11,16)\n",
    "    \n",
    "    ### hidden layers\n",
    "    self.fc1 = nn.Linear(16,32)\n",
    "    self.fc2 = nn.Linear(32,32)\n",
    "\n",
    "    ### output layer\n",
    "    self.output = nn.Linear(32,1)\n",
    "  \n",
    "  # forward pass\n",
    "  def forward(self,x):\n",
    "    x = F.leaky_relu( self.input(x) )\n",
    "    x = F.leaky_relu( self.fc1(x) )\n",
    "    x = F.leaky_relu( self.fc2(x) )\n",
    "    return self.output(x)"
   ]
  },
  {
   "cell_type": "code",
   "execution_count": null,
   "metadata": {
    "id": "0XRPe56rGp2k"
   },
   "outputs": [],
   "source": [
    "### a function that trains the model\n",
    "\n",
    "# global parameter\n",
    "numepochs = 500\n",
    "\n",
    "def trainTheModel():\n",
    "\n",
    "  # loss function and optimizer\n",
    "  lossfun = nn.BCEWithLogitsLoss()\n",
    "  optimizer = torch.optim.Adam(winenet.parameters(),lr=.001)\n",
    "\n",
    "  # initialize losses\n",
    "  losses   = torch.zeros(numepochs)\n",
    "  trainAcc = []\n",
    "  testAcc  = []\n",
    "\n",
    "  # loop over epochs\n",
    "  for epochi in range(numepochs):\n",
    "\n",
    "    # loop over training data batches\n",
    "    batchAcc  = []\n",
    "    batchLoss = []\n",
    "    for X,y in train_loader:\n",
    "\n",
    "      # forward pass and loss\n",
    "      yHat = winenet(X)\n",
    "      loss = lossfun(yHat,y)\n",
    "\n",
    "      # backprop\n",
    "      optimizer.zero_grad()\n",
    "      loss.backward()\n",
    "      optimizer.step()\n",
    "\n",
    "      # loss from this batch\n",
    "      batchLoss.append(loss.item())\n",
    "\n",
    "      # compute training accuracy for this batch\n",
    "      batchAcc.append( 100*torch.mean(((yHat>0) == y).float()).item() )\n",
    "    # end of batch loop...\n",
    "\n",
    "    # now that we've trained through the batches, get their average training accuracy\n",
    "    trainAcc.append( np.mean(batchAcc) )\n",
    "\n",
    "    # and get average losses across the batches\n",
    "    losses[epochi] = np.mean(batchLoss)\n",
    "\n",
    "    # test accuracy\n",
    "    X,y = next(iter(test_loader)) # extract X,y from test dataloader\n",
    "    with torch.no_grad(): # deactivates autograd\n",
    "      yHat = winenet(X)\n",
    "    testAcc.append( 100*torch.mean(((yHat>0) == y).float()).item() )\n",
    "  \n",
    "  # function output\n",
    "  return trainAcc,testAcc,losses"
   ]
  },
  {
   "cell_type": "code",
   "execution_count": null,
   "metadata": {
    "id": "oL7EqhYjGp51"
   },
   "outputs": [],
   "source": [
    "# create the data\n",
    "train_loader,test_loader = createAdataset(5)\n",
    "\n",
    "# create a model and train it\n",
    "winenet = ANNwine()\n",
    "trainAcc,testAcc,losses = trainTheModel()\n",
    "\n",
    "# compute accuracy per quality type\n",
    "X,y = next(iter(test_loader))\n",
    "yHat = winenet(X)\n",
    "itemAccuracy = ((yHat>0) == y).float()\n",
    "\n",
    "perQualAcc = [ 100*torch.mean(itemAccuracy[y==0]) ,\n",
    "               100*torch.mean(itemAccuracy[y==1]) ]\n",
    "perQualAcc"
   ]
  },
  {
   "cell_type": "markdown",
   "metadata": {
    "id": "fOEVFMqK2d5S"
   },
   "source": [
    "# Now run the entire experiment!"
   ]
  },
  {
   "cell_type": "code",
   "execution_count": null,
   "metadata": {
    "id": "_7mAB4utDMeh"
   },
   "outputs": [],
   "source": [
    "# note: this cell takes around 5 mins\n",
    "\n",
    "# setup the figure\n",
    "fig,ax = plt.subplots(3,3,figsize=(18,12))\n",
    "\n",
    "# the quality thresholds\n",
    "qualityThresholds = [4,5,6]\n",
    "\n",
    "\n",
    "# loop over quality thresholds\n",
    "for quali in range(len(qualityThresholds)):\n",
    "\n",
    "  # create the data and model, and train it\n",
    "  train_loader,test_loader = createAdataset( qualityThresholds[quali] )\n",
    "  winenet = ANNwine()\n",
    "  trainAcc,testAcc,losses = trainTheModel()\n",
    "\n",
    "  # compute accuracy per quality type\n",
    "  X,y = next(iter(test_loader))\n",
    "  itemAccuracy = ((winenet(X)>0) == y).float()\n",
    "  perQualAcc  = [ 100*torch.mean(itemAccuracy[y==0]) ,\n",
    "                  100*torch.mean(itemAccuracy[y==1]) ]\n",
    "\n",
    "\n",
    "  # plot losses\n",
    "  ax[quali,0].plot(losses)\n",
    "  ax[quali,0].set_title('Losses with qualthresh ' + str(qualityThresholds[quali]+.5))\n",
    "  ax[quali,0].set_xlabel('Epoch')\n",
    "  ax[quali,0].grid()\n",
    "\n",
    "  # plot overall accuracy\n",
    "  ax[quali,1].plot(trainAcc,label='Train')\n",
    "  ax[quali,1].plot(testAcc,label='Test')\n",
    "  ax[quali,1].set_title('Accuracy with qualthresh ' + str(qualityThresholds[quali]+.5))\n",
    "  ax[quali,1].legend()\n",
    "  ax[quali,1].set_xlabel('Epoch')\n",
    "  ax[quali,1].set_ylim([0,100])\n",
    "  ax[quali,1].grid()\n",
    "\n",
    "  # plot the per-quality accuracy\n",
    "  bh = ax[quali,2].bar(['Bad','Good'],perQualAcc)\n",
    "  ax[quali,2].set_ylim([0,100])\n",
    "  ax[quali,2].set_xlabel('Wine quality')\n",
    "  ax[quali,2].set_ylabel('Test accuracy')\n",
    "  ax[quali,2].set_title('Per-qual acc. with qualthresh ' + str(qualityThresholds[quali]+.5))\n",
    "\n",
    "  # print the counts on top of each bar\n",
    "  for i,r in enumerate(bh):\n",
    "    N = torch.sum(train_loader.dataset.tensors[1]==i).item()\n",
    "    ax[quali,2].text(r.get_x()+r.get_width()/2, r.get_height()+1,\n",
    "              'N=%s'%N, ha='center', va='bottom', fontsize=14)\n",
    "\n",
    "\n",
    "plt.tight_layout()\n",
    "plt.show()"
   ]
  },
  {
   "cell_type": "code",
   "execution_count": null,
   "metadata": {
    "id": "CQoG4R5-wewT"
   },
   "outputs": [],
   "source": []
  },
  {
   "cell_type": "markdown",
   "metadata": {
    "id": "HnLqRKnewezD"
   },
   "source": [
    "# Additional explorations"
   ]
  },
  {
   "cell_type": "code",
   "execution_count": null,
   "metadata": {
    "id": "5esCr0kHwe1q"
   },
   "outputs": [],
   "source": [
    "# 1) L2 regularization is supposed to help minimize over-training. Try adding an L2 regularizer and see if that\n",
    "#    helps reduce the bias due to unbalanced N.\n",
    "# \n",
    "# 2) Does the unbalanced design get better (that is, less unbalanced) if the train/test split is 80/20 instead of 90/10?\n",
    "#    Try it and find out! Note that you don't need to train models for this question; you simply need to modify the data\n",
    "#    splitting function and then compute the proportions of the two categories.\n",
    "# "
   ]
  }
 ],
 "metadata": {
  "colab": {
   "authorship_tag": "ABX9TyM1YEM4TNx7JZ+yK6WtFt1D",
   "collapsed_sections": [],
   "name": "DUDL_data_CodeChallengeUnbalanced.ipynb",
   "provenance": [
    {
     "file_id": "1ARBJV6EDPwhvPjmz7Xob-LURkZvTDk-K",
     "timestamp": 1618260405681
    },
    {
     "file_id": "1iKQU7riib5sbenxTvmpXe8EI5N79sdAV",
     "timestamp": 1617346475264
    },
    {
     "file_id": "1ZD_ADbh6qrlHE16V7Yc8VF9Vrn2c6bMQ",
     "timestamp": 1617047906157
    }
   ]
  },
  "kernelspec": {
   "display_name": "Python 3",
   "name": "python3"
  },
  "language_info": {
   "name": "python"
  }
 },
 "nbformat": 4,
 "nbformat_minor": 0
}
