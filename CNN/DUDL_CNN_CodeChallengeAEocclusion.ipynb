{
 "cells": [
  {
   "cell_type": "markdown",
   "id": "428a03e7",
   "metadata": {},
   "source": [
    "[![Open In Colab](https://colab.research.google.com/assets/colab-badge.svg)](https://colab.research.google.com/github/ydebessu/DeepUnderstandingOfDeepLearning/blob/main/CNN/DUDL_CNN_CodeChallengeAEocclusion.ipynb)"
   ]
  },
  {
   "cell_type": "markdown",
   "metadata": {
    "id": "bhWV8oes-wKR"
   },
   "source": [
    "# COURSE: A deep understanding of deep learning\n",
    "## SECTION: Understand and design CNNs\n",
    "### LECTURE: CodeChallenge: Autoencoders and occluded Gaussians\n",
    "#### TEACHER: Mike X Cohen, sincxpress.com\n",
    "##### COURSE URL: udemy.com/course/deeplearning_x/?couponCode=202401"
   ]
  },
  {
   "cell_type": "code",
   "execution_count": 1,
   "metadata": {
    "executionInfo": {
     "elapsed": 2369,
     "status": "ok",
     "timestamp": 1669182330941,
     "user": {
      "displayName": "Mike X Cohen",
      "userId": "13901636194183843661"
     },
     "user_tz": -420
    },
    "id": "YeuAheYyhdZw"
   },
   "outputs": [],
   "source": [
    "# import libraries\n",
    "import numpy as np\n",
    "\n",
    "import torch\n",
    "import torch.nn as nn\n",
    "import torch.nn.functional as F\n",
    "\n",
    "import matplotlib.pyplot as plt\n",
    "import matplotlib_inline.backend_inline\n",
    "matplotlib_inline.backend_inline.set_matplotlib_formats('svg')"
   ]
  },
  {
   "cell_type": "markdown",
   "metadata": {
    "id": "0HOkOefftqyg"
   },
   "source": [
    "# Create Gaussian blurs with varying widths and occluding bars"
   ]
  },
  {
   "cell_type": "code",
   "execution_count": null,
   "metadata": {
    "id": "MU7rvmWuhjud"
   },
   "outputs": [],
   "source": [
    "nGauss  = 1000\n",
    "imgSize = 91\n",
    "\n",
    "x = np.linspace(-4,4,imgSize)\n",
    "X,Y = np.meshgrid(x,x)\n",
    "\n",
    "# vary the weights smoothly\n",
    "widths = np.linspace(2,20,nGauss)\n",
    "\n",
    "# initialize two tensor containing images\n",
    "imagesOcc   = torch.zeros(nGauss,1,imgSize,imgSize)\n",
    "imagesNoOcc = torch.zeros(nGauss,1,imgSize,imgSize)\n",
    "\n",
    "for i in range(nGauss):\n",
    "\n",
    "  # create the gaussian with random centers\n",
    "  ro = 1.5*np.random.randn(2) # ro = random offset\n",
    "  G  = np.exp( -( (X-ro[0])**2 + (Y-ro[1])**2) / widths[i] )\n",
    "  \n",
    "  # and add noise\n",
    "  G  = G + np.random.randn(imgSize,imgSize)/5\n",
    "\n",
    "  # add the original to the noocc\n",
    "  imagesNoOcc[i,:,:,:] = torch.Tensor(G).view(1,imgSize,imgSize)\n",
    "\n",
    "\n",
    "  # add a random bar randomly\n",
    "  i1 = np.random.choice(np.arange(10,imgSize-10))\n",
    "  i2 = np.random.choice(np.arange(2,6))\n",
    "  if np.random.randn()>0:\n",
    "    G[i1:i1+i2,] = 1\n",
    "  else:\n",
    "    G[:,i1:i1+i2] = 1\n",
    "  \n",
    "  # add to the tensor with occlusion\n",
    "  imagesOcc[i,:,:,:] = torch.Tensor(G).view(1,imgSize,imgSize)"
   ]
  },
  {
   "cell_type": "code",
   "execution_count": null,
   "metadata": {
    "id": "4rsf92yfrGoC"
   },
   "outputs": [],
   "source": [
    "# visualize some images\n",
    "fig,ax = plt.subplots(2,10,figsize=(15,3))\n",
    "\n",
    "for i in range(10):\n",
    "  whichpic = np.random.randint(nGauss)\n",
    "  ax[0,i].imshow(np.squeeze( imagesNoOcc[whichpic,:,:] ),vmin=-1,vmax=1,cmap='jet')\n",
    "  ax[0,i].set_xticks([]), ax[0,i].set_yticks([])\n",
    "  \n",
    "  ax[1,i].imshow(np.squeeze( imagesOcc[whichpic,:,:] ),vmin=-1,vmax=1,cmap='jet')\n",
    "  ax[1,i].set_xticks([]), ax[1,i].set_yticks([])\n",
    "\n",
    "\n",
    "plt.show()"
   ]
  },
  {
   "cell_type": "markdown",
   "metadata": {
    "id": "OK8Opkhgp0bO"
   },
   "source": [
    "# Create the DL model"
   ]
  },
  {
   "cell_type": "code",
   "execution_count": null,
   "metadata": {
    "id": "JK3OO3tAtZkA"
   },
   "outputs": [],
   "source": [
    "# create a class for the model\n",
    "def makeTheNet():\n",
    "\n",
    "  class gausnet(nn.Module):\n",
    "    def __init__(self):\n",
    "      super().__init__()\n",
    "      \n",
    "      # encoding layer\n",
    "      self.enc = nn.Sequential(\n",
    "          nn.Conv2d(1,6,3,padding=1),\n",
    "          nn.ReLU(),\n",
    "          nn.MaxPool2d(2,2),\n",
    "          nn.Conv2d(6,4,3,padding=1),\n",
    "          nn.ReLU(),\n",
    "          nn.MaxPool2d(2,2)  \n",
    "          )\n",
    "      \n",
    "      # decoding layer\n",
    "      self.dec = nn.Sequential(\n",
    "          nn.ConvTranspose2d(4,6,3,2),\n",
    "          nn.ReLU(),\n",
    "          nn.ConvTranspose2d(6,1,3,2),\n",
    "          )\n",
    "      \n",
    "    def forward(self,x):\n",
    "      return self.dec( self.enc(x) )\n",
    "  \n",
    "  # create the model instance\n",
    "  net = gausnet()\n",
    "  \n",
    "  # loss function\n",
    "  lossfun = nn.MSELoss()\n",
    "\n",
    "  # optimizer\n",
    "  optimizer = torch.optim.Adam(net.parameters(),lr=.001)\n",
    "\n",
    "  return net,lossfun,optimizer"
   ]
  },
  {
   "cell_type": "code",
   "execution_count": null,
   "metadata": {
    "id": "y6icEJcXp0el"
   },
   "outputs": [],
   "source": [
    "# test the model with one batch\n",
    "net,lossfun,optimizer = makeTheNet()\n",
    "\n",
    "yHat = net(imagesOcc[:10,:,:,:])\n",
    "\n",
    "# check size of output\n",
    "print(' ')\n",
    "print(yHat.shape)\n",
    "\n",
    "# let's see how they look\n",
    "fig,ax = plt.subplots(1,2,figsize=(8,3))\n",
    "ax[0].imshow(torch.squeeze(imagesOcc[0,0,:,:]).detach(),cmap='jet')\n",
    "ax[0].set_title('Model input')\n",
    "ax[1].imshow(torch.squeeze(yHat[0,0,:,:]).detach(),cmap='jet')\n",
    "ax[1].set_title('Model output')\n",
    "\n",
    "plt.show()"
   ]
  },
  {
   "cell_type": "markdown",
   "metadata": {
    "id": "dvfGQIRGp0ht"
   },
   "source": [
    "# Create a function that trains the model"
   ]
  },
  {
   "cell_type": "code",
   "execution_count": null,
   "metadata": {
    "id": "IblJo1NCp0kl"
   },
   "outputs": [],
   "source": [
    "# a function that trains the model\n",
    "\n",
    "def function2trainTheModel():\n",
    "\n",
    "  # number of epochs\n",
    "  numepochs = 1000\n",
    "  \n",
    "  # create a new model\n",
    "  net,lossfun,optimizer = makeTheNet()\n",
    "\n",
    "  # initialize losses\n",
    "  losses = torch.zeros(numepochs)\n",
    "\n",
    "  # loop over epochs\n",
    "  for epochi in range(numepochs):\n",
    "\n",
    "    # pick a set of images at random\n",
    "    pics2use = np.random.choice(nGauss,size=32,replace=False)\n",
    "\n",
    "    # get the input (has occlusions) and the target (no occlusions)\n",
    "    X = imagesOcc[pics2use,:,:,:]\n",
    "    Y = imagesNoOcc[pics2use,:,:,:]\n",
    "\n",
    "    # forward pass and loss\n",
    "    yHat = net(X)\n",
    "    loss = lossfun(yHat,Y)\n",
    "    losses[epochi] = loss.item()\n",
    "\n",
    "    # backprop\n",
    "    optimizer.zero_grad()\n",
    "    loss.backward()\n",
    "    optimizer.step()\n",
    "\n",
    "  # end epochs\n",
    "\n",
    "  # function output\n",
    "  return losses,net"
   ]
  },
  {
   "cell_type": "markdown",
   "metadata": {
    "id": "XpGm9xdQ27Ob"
   },
   "source": [
    "# Run the model and show the results!"
   ]
  },
  {
   "cell_type": "code",
   "execution_count": null,
   "metadata": {
    "id": "n3pvvZ2GNfxe"
   },
   "outputs": [],
   "source": [
    "# test the model on a bit of data\n",
    "losses,net = function2trainTheModel()"
   ]
  },
  {
   "cell_type": "code",
   "execution_count": null,
   "metadata": {
    "id": "gHzKOZjnp0qn"
   },
   "outputs": [],
   "source": [
    "plt.plot(losses,'s-',label='Train')\n",
    "plt.xlabel('Epochs')\n",
    "plt.ylabel('Loss (MSE)')\n",
    "plt.title('Model loss')\n",
    "\n",
    "plt.show()"
   ]
  },
  {
   "cell_type": "code",
   "execution_count": null,
   "metadata": {
    "id": "9SnUUHPm7xQE"
   },
   "outputs": [],
   "source": [
    "# visualize some images\n",
    "\n",
    "pics2use = np.random.choice(nGauss,size=32,replace=False)\n",
    "X = imagesOcc[pics2use,:,:,:]\n",
    "yHat = net(X)\n",
    "\n",
    "fig,axs = plt.subplots(2,10,figsize=(15,3))\n",
    "\n",
    "for i in range(10):\n",
    "  \n",
    "  G = torch.squeeze( X[i,0,:,:] ).detach()\n",
    "  O = torch.squeeze( yHat[i,0,:,:] ).detach()\n",
    "  \n",
    "  axs[0,i].imshow(G,vmin=-1,vmax=1,cmap='jet')\n",
    "  axs[0,i].axis('off')\n",
    "  axs[0,i].set_title('Model input',fontsize=10)\n",
    "\n",
    "  axs[1,i].imshow(O,vmin=-1,vmax=1,cmap='jet')\n",
    "  axs[1,i].axis('off')\n",
    "  axs[1,i].set_title('Model output',fontsize=10)\n",
    "\n",
    "plt.show()"
   ]
  },
  {
   "cell_type": "markdown",
   "metadata": {
    "id": "Uh28k_l29urR"
   },
   "source": [
    "# Additional explorations"
   ]
  },
  {
   "cell_type": "code",
   "execution_count": null,
   "metadata": {
    "id": "ib3uQtfv9wE2"
   },
   "outputs": [],
   "source": [
    "# 1) The network does OK but there are still residual occlusion artifacts. Perhaps there weren't enough training examples?\n",
    "#    If you would increase nGauss from 1000 to 10000, would that mean that the model trains on 10x as many examples? \n",
    "#    (Hint: the answer is No, but you need to figure out why!) How can you adapt the model so that it trains on more\n",
    "#    unique sample images?\n",
    "# \n",
    "# 2) The bars appear in a random location for each image. Would the network still learn to remove the occlusions if the\n",
    "#    bars appeared in the exact same location with the same thickness? Change the stimulus generation code to implement\n",
    "#    this. You can still keep the randomization to horizontal or vertical, but remove the random selection of thickness\n",
    "#    and location.\n",
    "# "
   ]
  }
 ],
 "metadata": {
  "colab": {
   "authorship_tag": "ABX9TyOVpi44l/qfu9lC+hq8f9h0",
   "provenance": [
    {
     "file_id": "1C1C32kHH-n1LrUKkYuOSWzSrERY87Jk_",
     "timestamp": 1619758537648
    },
    {
     "file_id": "1eA6J6ztxuctVWX6V1s9jV-6kepO7VfC1",
     "timestamp": 1619641419750
    },
    {
     "file_id": "1FcEBC0NAESIlHQkv6_85R-XDUKGE8XbM",
     "timestamp": 1619549043909
    },
    {
     "file_id": "1qKgZ8kVcqNgwtBzHbWq5yJH_HqI6DxWW",
     "timestamp": 1617803880910
    },
    {
     "file_id": "15cpyHkJ435B4MqbyGjAH1poN4nCy_DE4",
     "timestamp": 1617737766196
    },
    {
     "file_id": "1OLuWuaFu0hcFgkQ2hh5BqbRuqUZD7XcQ",
     "timestamp": 1617734878578
    },
    {
     "file_id": "1XvzVGJPTJifVh8OpZVB7ykLxyUqYwQ1j",
     "timestamp": 1617196833019
    },
    {
     "file_id": "1bv1_y32e3KEExFKKlPfC3rpw1JxmBr8H",
     "timestamp": 1617124341706
    },
    {
     "file_id": "1GMq8u7KyHB2AE7Teyls9gK1T01OduQSn",
     "timestamp": 1616697516760
    },
    {
     "file_id": "1Ui3kyHim-e0XLgDs2mkBxVlYg7TKYtcg",
     "timestamp": 1616615469755
    },
    {
     "file_id": "1YpHocGI4rApOxIBb1ZghCU5L-hFnv4CK",
     "timestamp": 1616608248670
    }
   ]
  },
  "kernelspec": {
   "display_name": "Python 3",
   "name": "python3"
  }
 },
 "nbformat": 4,
 "nbformat_minor": 0
}
