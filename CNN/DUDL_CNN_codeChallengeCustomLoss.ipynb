{
 "cells": [
  {
   "cell_type": "markdown",
   "id": "5e01cdfc",
   "metadata": {},
   "source": [
    "[![Open In Colab](https://colab.research.google.com/assets/colab-badge.svg)](https://colab.research.google.com/github/ydebessu/DeepUnderstandingOfDeepLearning/blob/main/CNN/DUDL_CNN_codeChallengeCustomLoss.ipynb)"
   ]
  },
  {
   "cell_type": "markdown",
   "metadata": {
    "id": "bhWV8oes-wKR"
   },
   "source": [
    "# COURSE: A deep understanding of deep learning\n",
    "## SECTION: Understand and design CNNs\n",
    "### LECTURE: CodeChallenge: Custom loss functions\n",
    "#### TEACHER: Mike X Cohen, sincxpress.com\n",
    "##### COURSE URL: udemy.com/course/deeplearning_x/?couponCode=202401"
   ]
  },
  {
   "cell_type": "code",
   "execution_count": null,
   "metadata": {
    "id": "YeuAheYyhdZw"
   },
   "outputs": [],
   "source": [
    "# import libraries\n",
    "import numpy as np\n",
    "\n",
    "import torch\n",
    "import torch.nn as nn\n",
    "import torch.nn.functional as F\n",
    "\n",
    "import matplotlib.pyplot as plt\n",
    "import matplotlib_inline.backend_inline\n",
    "matplotlib_inline.backend_inline.set_matplotlib_formats('svg')"
   ]
  },
  {
   "cell_type": "markdown",
   "metadata": {
    "id": "0HOkOefftqyg"
   },
   "source": [
    "# Create Gaussian blurs with varying widths and occluding bars"
   ]
  },
  {
   "cell_type": "code",
   "execution_count": null,
   "metadata": {
    "id": "MU7rvmWuhjud"
   },
   "outputs": [],
   "source": [
    "nGauss  = 1000\n",
    "imgSize = 91\n",
    "\n",
    "x = np.linspace(-4,4,imgSize)\n",
    "X,Y = np.meshgrid(x,x)\n",
    "\n",
    "# vary the weights smoothly\n",
    "widths = np.linspace(2,20,nGauss)\n",
    "\n",
    "# initialize tensor containing images\n",
    "images = torch.zeros(nGauss,1,imgSize,imgSize)\n",
    "\n",
    "for i in range(nGauss):\n",
    "\n",
    "  # create the gaussian with random centers\n",
    "  ro = 1.5*np.random.randn(2) # ro = random offset\n",
    "  G  = np.exp( -( (X-ro[0])**2 + (Y-ro[1])**2) / widths[i] )\n",
    "  \n",
    "  # and add noise\n",
    "  G  = G + np.random.randn(imgSize,imgSize)/5\n",
    "\n",
    "  # add a random bar randomly\n",
    "  i1 = np.random.choice(np.arange(2,28))\n",
    "  i2 = np.random.choice(np.arange(2,6))\n",
    "  if np.random.randn()>0:\n",
    "    G[i1:i1+i2,] = 1\n",
    "  else:\n",
    "    G[:,i1:i1+i2] = 1\n",
    "  \n",
    "  # add to the tensor\n",
    "  images[i,:,:,:] = torch.Tensor(G).view(1,imgSize,imgSize)"
   ]
  },
  {
   "cell_type": "code",
   "execution_count": null,
   "metadata": {
    "id": "4rsf92yfrGoC"
   },
   "outputs": [],
   "source": [
    "# visualize some images\n",
    "fig,axs = plt.subplots(3,7,figsize=(10,5))\n",
    "\n",
    "for i,ax in enumerate(axs.flatten()):\n",
    "  whichpic = np.random.randint(nGauss)\n",
    "  G = np.squeeze( images[whichpic,:,:] )\n",
    "  ax.imshow(G,vmin=-1,vmax=1,cmap='jet')\n",
    "  ax.set_xticks([])\n",
    "  ax.set_yticks([])\n",
    "\n",
    "plt.show()"
   ]
  },
  {
   "cell_type": "markdown",
   "metadata": {
    "id": "LWQgOr3gPQwR"
   },
   "source": [
    "# Custom loss functions"
   ]
  },
  {
   "cell_type": "code",
   "execution_count": null,
   "metadata": {
    "id": "9F7ZPgRENycs"
   },
   "outputs": [],
   "source": [
    "# L1 loss function\n",
    "\n",
    "class myL1Loss(nn.Module):\n",
    "  def __init__(self):\n",
    "    super().__init__()\n",
    "      \n",
    "  def forward(self,yHat,y):\n",
    "    l = torch.mean( torch.abs(yHat-y) )\n",
    "    return l"
   ]
  },
  {
   "cell_type": "code",
   "execution_count": null,
   "metadata": {
    "id": "QESoPzHDTxRx"
   },
   "outputs": [],
   "source": [
    "# L2+average loss function\n",
    "\n",
    "class myL2AveLoss(nn.Module):\n",
    "  def __init__(self):\n",
    "    super().__init__()\n",
    "      \n",
    "  def forward(self,yHat,y):\n",
    "    # MSE part\n",
    "    l = torch.mean( (yHat-y)**2 )\n",
    "\n",
    "    # average part\n",
    "    a = torch.abs(torch.mean(yHat))\n",
    "\n",
    "    # sum together\n",
    "    return l + a"
   ]
  },
  {
   "cell_type": "code",
   "execution_count": null,
   "metadata": {
    "id": "utbjWkgIT2d6"
   },
   "outputs": [],
   "source": [
    "# correlation loss function\n",
    "\n",
    "class myCorLoss(nn.Module):\n",
    "  def __init__(self):\n",
    "    super().__init__()\n",
    "      \n",
    "  def forward(self,yHat,y):\n",
    "    \n",
    "    meanx = torch.mean(yHat)\n",
    "    meany = torch.mean(y)\n",
    "\n",
    "    num = torch.sum( (yHat-meanx)*(y-meany) )\n",
    "    den = (torch.numel(y)-1) * torch.std(yHat) * torch.std(y)\n",
    "    return -num/den"
   ]
  },
  {
   "cell_type": "markdown",
   "metadata": {
    "id": "OK8Opkhgp0bO"
   },
   "source": [
    "# Create the DL model"
   ]
  },
  {
   "cell_type": "code",
   "execution_count": null,
   "metadata": {
    "id": "JK3OO3tAtZkA"
   },
   "outputs": [],
   "source": [
    "# create a class for the model\n",
    "def makeTheNet():\n",
    "\n",
    "  class gausnet(nn.Module):\n",
    "    def __init__(self):\n",
    "      super().__init__()\n",
    "      \n",
    "      # encoding layer\n",
    "      self.enc = nn.Sequential(\n",
    "          nn.Conv2d(1,6,3,padding=1),\n",
    "          nn.ReLU(),\n",
    "          nn.MaxPool2d(2,2),\n",
    "          nn.Conv2d(6,4,3,padding=1),\n",
    "          nn.ReLU(),\n",
    "          nn.MaxPool2d(2,2)  \n",
    "          )\n",
    "      \n",
    "      # decoding layer\n",
    "      self.dec = nn.Sequential(\n",
    "          nn.ConvTranspose2d(4,6,3,2),\n",
    "          nn.ReLU(),\n",
    "          nn.ConvTranspose2d(6,1,3,2),\n",
    "          )\n",
    "      \n",
    "    def forward(self,x):\n",
    "      return self.dec( self.enc(x) )\n",
    "  \n",
    "  # create the model instance\n",
    "  net = gausnet()\n",
    "  \n",
    "  # loss functions (leave one uncommented!)\n",
    "  # lossfun = nn.MSELoss()\n",
    "  lossfun = myL1Loss()\n",
    "  # lossfun = myL2AveLoss()\n",
    "  # lossfun = myCorLoss()\n",
    "\n",
    "  # optimizer\n",
    "  optimizer = torch.optim.Adam(net.parameters(),lr=.001)\n",
    "\n",
    "  return net,lossfun,optimizer"
   ]
  },
  {
   "cell_type": "markdown",
   "metadata": {
    "id": "dvfGQIRGp0ht"
   },
   "source": [
    "# Create a function that trains the model"
   ]
  },
  {
   "cell_type": "code",
   "execution_count": null,
   "metadata": {
    "id": "IblJo1NCp0kl"
   },
   "outputs": [],
   "source": [
    "# a function that trains the model\n",
    "\n",
    "def function2trainTheModel():\n",
    "\n",
    "  # number of epochs\n",
    "  numepochs = 1000\n",
    "  \n",
    "  # create a new model\n",
    "  net,lossfun,optimizer = makeTheNet()\n",
    "\n",
    "  # initialize losses\n",
    "  losses = torch.zeros(numepochs)\n",
    "\n",
    "  # loop over epochs\n",
    "  for epochi in range(numepochs):\n",
    "\n",
    "    # pick a set of images at random\n",
    "    pics2use = np.random.choice(nGauss,size=32,replace=False)\n",
    "    X = images[pics2use,:,:,:]\n",
    "\n",
    "    # forward pass and loss\n",
    "    yHat = net(X)\n",
    "    loss = lossfun(yHat,X)\n",
    "    losses[epochi] = loss.item()\n",
    "\n",
    "    # backprop\n",
    "    optimizer.zero_grad()\n",
    "    loss.backward()\n",
    "    optimizer.step()\n",
    "\n",
    "  # end epochs\n",
    "\n",
    "  # function output\n",
    "  return losses,net"
   ]
  },
  {
   "cell_type": "markdown",
   "metadata": {
    "id": "XpGm9xdQ27Ob"
   },
   "source": [
    "# Run the model and show the results!"
   ]
  },
  {
   "cell_type": "code",
   "execution_count": null,
   "metadata": {
    "id": "n3pvvZ2GNfxe"
   },
   "outputs": [],
   "source": [
    "# train the model!\n",
    "losses,net = function2trainTheModel()"
   ]
  },
  {
   "cell_type": "code",
   "execution_count": null,
   "metadata": {
    "id": "gHzKOZjnp0qn"
   },
   "outputs": [],
   "source": [
    "plt.plot(losses,'s-',label='Train')\n",
    "plt.xlabel('Epochs')\n",
    "plt.ylabel('Loss function')\n",
    "plt.title('Model loss (final loss=%.3f)'%losses[-1])\n",
    "\n",
    "plt.show()"
   ]
  },
  {
   "cell_type": "code",
   "execution_count": null,
   "metadata": {
    "id": "9SnUUHPm7xQE"
   },
   "outputs": [],
   "source": [
    "# visualize some images\n",
    "\n",
    "pics2use = np.random.choice(nGauss,size=32,replace=False)\n",
    "X = images[pics2use,:,:,:]\n",
    "yHat = net(X)\n",
    "\n",
    "fig,axs = plt.subplots(2,10,figsize=(18,4))\n",
    "\n",
    "for i in range(10):\n",
    "  \n",
    "  G = torch.squeeze( X[i,0,:,:] ).detach()\n",
    "  O = torch.squeeze( yHat[i,0,:,:] ).detach()\n",
    "  \n",
    "  axs[0,i].imshow(G,vmin=-1,vmax=1,cmap='jet')\n",
    "  axs[0,i].axis('off')\n",
    "  axs[0,i].set_title('Input ($\\mu$=%.2f)'%torch.mean(G).item(),fontsize=10)\n",
    "\n",
    "  axs[1,i].imshow(O,vmin=-1,vmax=1,cmap='jet')\n",
    "  axs[1,i].axis('off')\n",
    "  axs[1,i].set_title('Output ($\\mu$=%.2f)'%torch.mean(O).item(),fontsize=10)\n",
    "\n",
    "plt.show()"
   ]
  },
  {
   "cell_type": "code",
   "execution_count": null,
   "metadata": {
    "id": "S42ZPy6daK5H"
   },
   "outputs": [],
   "source": []
  },
  {
   "cell_type": "markdown",
   "metadata": {
    "id": "Uh28k_l29urR"
   },
   "source": [
    "# Additional explorations"
   ]
  },
  {
   "cell_type": "code",
   "execution_count": null,
   "metadata": {
    "id": "ib3uQtfv9wE2"
   },
   "outputs": [],
   "source": [
    "# 1) The code in this notebook requires \"manually\" switching between loss functions by (un)commenting. Modify the\n",
    "#    code so that you can list the name of the loss function as an input to makeTheNet().\n",
    "# \n",
    "# 2) Here's an interesting loss function: minimize the variance of the model's output. Don't worry about comparing\n",
    "#    to the input image; just set the loss function to be the variance of the output. What do the results look like,\n",
    "#    and why does this happen?\n",
    "# \n",
    "# 3) What if L2 minimization (MSE) is more important than average minimization? Modify the L2LossAve class so that the\n",
    "#    average has a weaker influence compared to the L2 loss.\n",
    "# \n",
    "# \n",
    "# Reminder: This codeChallenge was designed to be a fun exercise to introduce you to the mechanics of creating and using\n",
    "#           custom-built loss functions. The PyTorch built-in MSELoss is actually the best one to use for autoencoders\n",
    "#           in most cases.\n",
    "# "
   ]
  }
 ],
 "metadata": {
  "colab": {
   "authorship_tag": "ABX9TyPOZQLnATYHEwh8dkiYWFo0",
   "collapsed_sections": [],
   "name": "DUDL_CNN_codeChallengeCustomLoss.ipynb",
   "provenance": [
    {
     "file_id": "1C1C32kHH-n1LrUKkYuOSWzSrERY87Jk_",
     "timestamp": 1619877326517
    },
    {
     "file_id": "1eA6J6ztxuctVWX6V1s9jV-6kepO7VfC1",
     "timestamp": 1619641419750
    },
    {
     "file_id": "1FcEBC0NAESIlHQkv6_85R-XDUKGE8XbM",
     "timestamp": 1619549043909
    },
    {
     "file_id": "1qKgZ8kVcqNgwtBzHbWq5yJH_HqI6DxWW",
     "timestamp": 1617803880910
    },
    {
     "file_id": "15cpyHkJ435B4MqbyGjAH1poN4nCy_DE4",
     "timestamp": 1617737766196
    },
    {
     "file_id": "1OLuWuaFu0hcFgkQ2hh5BqbRuqUZD7XcQ",
     "timestamp": 1617734878578
    },
    {
     "file_id": "1XvzVGJPTJifVh8OpZVB7ykLxyUqYwQ1j",
     "timestamp": 1617196833019
    },
    {
     "file_id": "1bv1_y32e3KEExFKKlPfC3rpw1JxmBr8H",
     "timestamp": 1617124341706
    },
    {
     "file_id": "1GMq8u7KyHB2AE7Teyls9gK1T01OduQSn",
     "timestamp": 1616697516760
    },
    {
     "file_id": "1Ui3kyHim-e0XLgDs2mkBxVlYg7TKYtcg",
     "timestamp": 1616615469755
    },
    {
     "file_id": "1YpHocGI4rApOxIBb1ZghCU5L-hFnv4CK",
     "timestamp": 1616608248670
    }
   ]
  },
  "kernelspec": {
   "display_name": "Python 3",
   "name": "python3"
  }
 },
 "nbformat": 4,
 "nbformat_minor": 0
}
