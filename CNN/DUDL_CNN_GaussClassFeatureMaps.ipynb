{
 "cells": [
  {
   "cell_type": "markdown",
   "id": "4147848e",
   "metadata": {},
   "source": [
    "[![Open In Colab](https://colab.research.google.com/assets/colab-badge.svg)](https://colab.research.google.com/github/ydebessu/DeepUnderstandingOfDeepLearning/blob/main/CNN/DUDL_CNN_GaussClassFeatureMaps.ipynb)"
   ]
  },
  {
   "cell_type": "markdown",
   "metadata": {
    "id": "bhWV8oes-wKR"
   },
   "source": [
    "# COURSE: A deep understanding of deep learning\n",
    "## SECTION: Understand and design CNNs\n",
    "### LECTURE: Examine feature map activations\n",
    "#### TEACHER: Mike X Cohen, sincxpress.com\n",
    "##### COURSE URL: udemy.com/course/deeplearning_x/?couponCode=202401"
   ]
  },
  {
   "cell_type": "code",
   "execution_count": null,
   "metadata": {
    "id": "YeuAheYyhdZw"
   },
   "outputs": [],
   "source": [
    "# import libraries\n",
    "import numpy as np\n",
    "\n",
    "import torch\n",
    "import torch.nn as nn\n",
    "import torch.nn.functional as F\n",
    "from torch.utils.data import DataLoader,TensorDataset\n",
    "from sklearn.model_selection import train_test_split\n",
    "\n",
    "# NEW! for getting summary info on models\n",
    "from torchsummary import summary\n",
    "\n",
    "import matplotlib.pyplot as plt\n",
    "import matplotlib_inline.backend_inline\n",
    "matplotlib_inline.backend_inline.set_matplotlib_formats('svg')"
   ]
  },
  {
   "cell_type": "markdown",
   "metadata": {
    "id": "0HOkOefftqyg"
   },
   "source": [
    "# Create Gaussian blurs with different widths"
   ]
  },
  {
   "cell_type": "code",
   "execution_count": null,
   "metadata": {
    "id": "MU7rvmWuhjud"
   },
   "outputs": [],
   "source": [
    "nPerClass = 1000\n",
    "imgSize   = 91\n",
    "\n",
    "x = np.linspace(-4,4,imgSize)\n",
    "X,Y = np.meshgrid(x,x)\n",
    "\n",
    "# the two widths (a.u.)\n",
    "widths = [1.8,2.4]\n",
    "\n",
    "# initialize tensors containing images and labels\n",
    "images = torch.zeros(2*nPerClass,1,imgSize,imgSize)\n",
    "labels = torch.zeros(2*nPerClass)\n",
    "\n",
    "for i in range(2*nPerClass):\n",
    "\n",
    "  # create the gaussian with random centers\n",
    "  ro = 2*np.random.randn(2) # ro = random offset\n",
    "  G  = np.exp( -( (X-ro[0])**2 + (Y-ro[1])**2) / (2*widths[i%2]**2) )\n",
    "  \n",
    "  # and add noise\n",
    "  G  = G + np.random.randn(imgSize,imgSize)/5\n",
    "  \n",
    "  # add to the tensor\n",
    "  images[i,:,:,:] = torch.Tensor(G).view(1,imgSize,imgSize)\n",
    "  labels[i] = i%2\n",
    "\n",
    "labels = labels[:,None]"
   ]
  },
  {
   "cell_type": "code",
   "execution_count": null,
   "metadata": {
    "id": "4rsf92yfrGoC"
   },
   "outputs": [],
   "source": [
    "# visualize some images\n",
    "fig,axs = plt.subplots(3,7,figsize=(13,6))\n",
    "\n",
    "for i,ax in enumerate(axs.flatten()):\n",
    "  whichpic = np.random.randint(2*nPerClass)\n",
    "  G = np.squeeze( images[whichpic,:,:] )\n",
    "  ax.imshow(G,vmin=-1,vmax=1,cmap='jet')\n",
    "  ax.set_title('Class %s'%int(labels[whichpic].item()))\n",
    "  ax.set_xticks([])\n",
    "  ax.set_yticks([])\n",
    "\n",
    "plt.show()"
   ]
  },
  {
   "cell_type": "markdown",
   "metadata": {
    "id": "OhLQ2YSvpiGj"
   },
   "source": [
    "# Create train/test groups using DataLoader"
   ]
  },
  {
   "cell_type": "code",
   "execution_count": null,
   "metadata": {
    "id": "Y_tZ1ymVp0Sf"
   },
   "outputs": [],
   "source": [
    "# Step 2: use scikitlearn to split the data\n",
    "train_data,test_data, train_labels,test_labels = train_test_split(images, labels, test_size=.1)\n",
    "\n",
    "# Step 3: convert into PyTorch Datasets\n",
    "train_data = TensorDataset(train_data,train_labels)\n",
    "test_data  = TensorDataset(test_data,test_labels)\n",
    "\n",
    "# Step 4: translate into dataloader objects\n",
    "batchsize    = 32\n",
    "train_loader = DataLoader(train_data,batch_size=batchsize,shuffle=True,drop_last=True)\n",
    "test_loader  = DataLoader(test_data,batch_size=test_data.tensors[0].shape[0])"
   ]
  },
  {
   "cell_type": "markdown",
   "metadata": {
    "id": "OK8Opkhgp0bO"
   },
   "source": [
    "# Create the DL model"
   ]
  },
  {
   "cell_type": "code",
   "execution_count": null,
   "metadata": {
    "id": "JK3OO3tAtZkA"
   },
   "outputs": [],
   "source": [
    "# create a class for the model\n",
    "def makeTheNet():\n",
    "\n",
    "  class gausnet(nn.Module):\n",
    "    def __init__(self):\n",
    "      super().__init__()\n",
    "      \n",
    "      # conv1\n",
    "      self.conv1 = nn.Conv2d(1,6,3,padding=1)\n",
    "      # output size: (91+2*1-3)/1 + 1 = 91\n",
    "      # post-pooling: 91/2 = 45\n",
    "\n",
    "      # conv2\n",
    "      self.conv2 = nn.Conv2d(6,4,3,padding=1)\n",
    "      # output size: (45+2*1-3)/1 + 1 = 45\n",
    "      # post-pooling: 45/2 = 22\n",
    "\n",
    "      # fc1\n",
    "      self.fc1 = nn.Linear(22*22*4,50)\n",
    "\n",
    "      # fc2 (output)\n",
    "      self.fc2 = nn.Linear(50,1)\n",
    "      \n",
    "    def forward(self,x):\n",
    "      # first conv-pool set\n",
    "      conv1act = F.relu(self.conv1(x))\n",
    "      x = F.avg_pool2d(conv1act,(2,2))\n",
    "      \n",
    "      # second conv-pool set\n",
    "      conv2act = F.relu(self.conv2(x))\n",
    "      x = F.avg_pool2d(conv2act,(2,2))\n",
    "\n",
    "      # ANN part\n",
    "      x = x.reshape(x.shape[0],-1)\n",
    "      x = F.relu( self.fc1(x) )\n",
    "      x = self.fc2(x)\n",
    "      \n",
    "      return x,conv1act,conv2act\n",
    "  \n",
    "  # create the model instance\n",
    "  net = gausnet()\n",
    "  \n",
    "  # loss function\n",
    "  lossfun = nn.BCEWithLogitsLoss()\n",
    "\n",
    "  # optimizer\n",
    "  optimizer = torch.optim.Adam(net.parameters(),lr=.001)\n",
    "\n",
    "  return net,lossfun,optimizer"
   ]
  },
  {
   "cell_type": "code",
   "execution_count": null,
   "metadata": {
    "id": "y6icEJcXp0el"
   },
   "outputs": [],
   "source": [
    "# test the model with one batch\n",
    "net,lossfun,optimizer = makeTheNet()\n",
    "\n",
    "# test that the model runs and can compute a loss\n",
    "X,y = next(iter(train_loader))\n",
    "yHat,featmap1,featmap2 = net(X)\n",
    "loss = lossfun(yHat,y)\n",
    "\n",
    "# check sizes of outputs\n",
    "print('Predicted category:')\n",
    "print(yHat.shape)\n",
    "print('\\nFeature map after conv1')\n",
    "print(featmap1.shape)\n",
    "print('\\nFeature map after conv2')\n",
    "print(featmap2.shape)"
   ]
  },
  {
   "cell_type": "code",
   "execution_count": null,
   "metadata": {
    "id": "vLP6nMVUEews"
   },
   "outputs": [],
   "source": [
    "# count the total number of parameters in the model\n",
    "summary(net,(1,imgSize,imgSize))"
   ]
  },
  {
   "cell_type": "markdown",
   "metadata": {
    "id": "dvfGQIRGp0ht"
   },
   "source": [
    "# Create a function that trains the model"
   ]
  },
  {
   "cell_type": "code",
   "execution_count": null,
   "metadata": {
    "id": "IblJo1NCp0kl"
   },
   "outputs": [],
   "source": [
    "# a function that trains the model\n",
    "\n",
    "def function2trainTheModel():\n",
    "\n",
    "  # number of epochs\n",
    "  numepochs = 10\n",
    "  \n",
    "  # create a new model\n",
    "  net,lossfun,optimizer = makeTheNet()\n",
    "\n",
    "  # initialize losses\n",
    "  trainLoss = torch.zeros(numepochs)\n",
    "  testLoss  = torch.zeros(numepochs)\n",
    "  trainAcc  = torch.zeros(numepochs)\n",
    "  testAcc   = torch.zeros(numepochs)\n",
    "\n",
    "\n",
    "  # loop over epochs\n",
    "  for epochi in range(numepochs):\n",
    "\n",
    "    # loop over training data batches\n",
    "    batchLoss = []\n",
    "    batchAcc  = []\n",
    "    for X,y in train_loader:\n",
    "\n",
    "      # forward pass and loss\n",
    "      yHat = net(X)[0] # we only need the first output\n",
    "      loss = lossfun(yHat,y)\n",
    "\n",
    "      # backprop\n",
    "      optimizer.zero_grad()\n",
    "      loss.backward()\n",
    "      optimizer.step()\n",
    "\n",
    "      # loss from this batch\n",
    "      batchLoss.append(loss.item())\n",
    "      batchAcc.append( torch.mean(( (yHat>0) ==y).float()).item() )\n",
    "    # end of batch loop...\n",
    "\n",
    "    # and get average losses across the batches\n",
    "    trainLoss[epochi] = np.mean(batchLoss)\n",
    "    trainAcc[epochi]  = 100*np.mean(batchAcc)\n",
    "\n",
    "    # test accuracy\n",
    "    X,y = next(iter(test_loader)) # extract X,y from test dataloader\n",
    "    with torch.no_grad(): # deactivates autograd\n",
    "      yHat = net(X)[0] # we only need the first output\n",
    "      loss = lossfun(yHat,y)\n",
    "      \n",
    "    # compare the following really long line of code to the training accuracy lines\n",
    "    testLoss[epochi] = loss.item()\n",
    "    testAcc[epochi]  = 100*torch.mean(( (yHat>0) ==y).float()).item()\n",
    "\n",
    "  # end epochs\n",
    "\n",
    "  # function output\n",
    "  return trainLoss,testLoss,trainAcc,testAcc,net"
   ]
  },
  {
   "cell_type": "markdown",
   "metadata": {
    "id": "XpGm9xdQ27Ob"
   },
   "source": [
    "# Run the model and show the results!"
   ]
  },
  {
   "cell_type": "code",
   "execution_count": null,
   "metadata": {
    "id": "l9pCC1R2p0nu"
   },
   "outputs": [],
   "source": [
    "trainLoss,testLoss,trainAcc,testAcc,net = function2trainTheModel()"
   ]
  },
  {
   "cell_type": "code",
   "execution_count": null,
   "metadata": {
    "id": "gHzKOZjnp0qn"
   },
   "outputs": [],
   "source": [
    "fig,ax = plt.subplots(1,2,figsize=(16,5))\n",
    "\n",
    "ax[0].plot(trainLoss,'s-',label='Train')\n",
    "ax[0].plot(testLoss,'o-',label='Test')\n",
    "ax[0].set_xlabel('Epochs')\n",
    "ax[0].set_ylabel('Loss (MSE)')\n",
    "ax[0].set_title('Model loss')\n",
    "\n",
    "ax[1].plot(trainAcc,'s-',label='Train')\n",
    "ax[1].plot(testAcc,'o-',label='Test')\n",
    "ax[1].set_xlabel('Epochs')\n",
    "ax[1].set_ylabel('Accuracy (%)')\n",
    "ax[1].set_title(f'Final model test accuracy: {testAcc[-1]:.2f}%')\n",
    "ax[1].legend()\n",
    "\n",
    "plt.show()"
   ]
  },
  {
   "cell_type": "code",
   "execution_count": null,
   "metadata": {
    "id": "9SnUUHPm7xQE"
   },
   "outputs": [],
   "source": [
    "# visualize some images\n",
    "\n",
    "X,y = next(iter(test_loader)) # extract X,y from test dataloader\n",
    "yHat,featmap1,featmap2 = net(X)\n",
    "\n",
    "fig,axs = plt.subplots(2,10,figsize=(15,4))\n",
    "\n",
    "for i,ax in enumerate(axs.flatten()):\n",
    "  G = torch.squeeze( X[i,0,:,:] ).detach()\n",
    "  ax.imshow(G,vmin=-1,vmax=1,cmap='jet')\n",
    "  t = ( int(y[i].item()) , int(yHat[i].item()>.5) )\n",
    "  ax.set_title('T:%s, P:%s'%t)\n",
    "  ax.set_xticks([])\n",
    "  ax.set_yticks([])\n",
    "\n",
    "plt.show()"
   ]
  },
  {
   "cell_type": "markdown",
   "metadata": {
    "id": "rFn0Gn-Q5ElD"
   },
   "source": [
    "# Draw the feature maps"
   ]
  },
  {
   "cell_type": "code",
   "execution_count": null,
   "metadata": {
    "id": "cu7qge-jfXys"
   },
   "outputs": [],
   "source": [
    "# Feature maps from the conv1 layer\n",
    "\n",
    "fig,axs = plt.subplots(7,10,figsize=(12,6))\n",
    "\n",
    "for pici in range(10):\n",
    "\n",
    "  # show the original picture\n",
    "  img = X[pici,0,:,:].detach()\n",
    "  axs[0,pici].imshow(img,cmap='jet',vmin=0,vmax=1)\n",
    "  axs[0,pici].axis('off')\n",
    "  axs[0,pici].text(2,2,'T:%s'%int(y[pici].item()),ha='left',va='top',color='w',fontweight='bold')\n",
    "\n",
    "  for feati in range(6):\n",
    "    # extract the feature map from this image\n",
    "    img = featmap1[pici,feati,:,:].detach()\n",
    "    axs[feati+1,pici].imshow(img,cmap='inferno',vmin=0,vmax=torch.max(img)*.9)\n",
    "    axs[feati+1,pici].axis('off')\n",
    "    axs[feati+1,pici].text(-5,45,feati,ha='right') if pici==0 else None\n",
    "\n",
    "plt.tight_layout()\n",
    "plt.suptitle('First set of feature map activations for 10 test images',x=.5,y=1.01)\n",
    "plt.show()"
   ]
  },
  {
   "cell_type": "code",
   "execution_count": null,
   "metadata": {
    "id": "qOfUnmus8kps"
   },
   "outputs": [],
   "source": [
    "# Repeat for feature2 maps\n",
    "\n",
    "fig,axs = plt.subplots(5,10,figsize=(12,6))\n",
    "\n",
    "for pici in range(10):\n",
    "\n",
    "  # show the original picture\n",
    "  img = X[pici,0,:,:].detach()\n",
    "  axs[0,pici].imshow(img,cmap='jet',vmin=0,vmax=1)\n",
    "  axs[0,pici].axis('off')\n",
    "\n",
    "  for feati in range(4):\n",
    "    # extract the feature map from this image\n",
    "    img = featmap2[pici,feati,:,:].detach()\n",
    "    axs[feati+1,pici].imshow(img,cmap='inferno',vmin=0,vmax=torch.max(img)*.9)\n",
    "    axs[feati+1,pici].axis('off')\n",
    "    axs[feati+1,pici].text(-5,22,feati,ha='right') if pici==0 else None\n",
    "\n",
    "plt.tight_layout()\n",
    "plt.suptitle('Second set of feature map activations for 10 test images',x=.5,y=1.01)\n",
    "plt.show()"
   ]
  },
  {
   "cell_type": "markdown",
   "metadata": {
    "id": "T8GFpaGVWGYp"
   },
   "source": [
    "# Spatial correlations across the feature maps"
   ]
  },
  {
   "cell_type": "code",
   "execution_count": null,
   "metadata": {
    "id": "q9eLv6nF9LML"
   },
   "outputs": [],
   "source": [
    "### correlations across the SECOND convolution layer\n",
    "\n",
    "# convenient variables\n",
    "nStim = featmap2.shape[0]\n",
    "nMaps = featmap2.shape[1]\n",
    "nCors = (nMaps*(nMaps-1))//2\n",
    "\n",
    "# initialze the matrix of all correlation values\n",
    "allrs = np.zeros((nStim,nCors))\n",
    "Call  = np.zeros((nMaps,nMaps))\n",
    "\n",
    "# loop over each stimulus\n",
    "for i in range(nStim):\n",
    "\n",
    "  # extract the vectorized feature maps from this image\n",
    "  featmaps = featmap2[i,:,:,:].view(nMaps,-1).detach()\n",
    "\n",
    "  # compute the correlation matrix\n",
    "  C = np.corrcoef(featmaps)\n",
    "  Call += C\n",
    "\n",
    "  # extract the unique correlations from the matrix\n",
    "  idx = np.nonzero(np.triu(C,1))\n",
    "  allrs[i,:] = C[idx]\n",
    "\n",
    "\n",
    "# define the x-axis labels\n",
    "xlab = []*nCors\n",
    "for i in range(nCors):\n",
    "  xlab.append('%s-%s' %(idx[0][i],idx[1][i]))\n",
    "\n",
    "\n",
    "\n",
    "\n",
    "# now visualize the correlations\n",
    "fig = plt.figure(figsize=(16,5))\n",
    "ax0 = fig.add_axes([.1,.1,.55,.9]) # [left, bottom, width, height]\n",
    "ax1 = fig.add_axes([.68,.1,.3,.9])\n",
    "cax = fig.add_axes([.98,.1,.01,.9])\n",
    "\n",
    "for i in range(nCors):\n",
    "  ax0.plot(i+np.random.randn(nStim)/30,allrs[:,i],'o',markerfacecolor='w',markersize=10)\n",
    "\n",
    "# make the plot more interpretable\n",
    "ax0.set_xlim([-.5,nCors-.5])\n",
    "ax0.set_ylim([-1.05,1.05])\n",
    "ax0.set_xticks(range(nCors))\n",
    "ax0.set_xticklabels(xlab)\n",
    "ax0.set_xlabel('Feature map pair')\n",
    "ax0.set_ylabel('Correlation coefficient')\n",
    "ax0.set_title('Correlations for each image')\n",
    "\n",
    "\n",
    "# now show the average correlation matrix\n",
    "h = ax1.imshow(Call/nStim,vmin=-1,vmax=1)\n",
    "ax1.set_title('Correlation matrix')\n",
    "ax1.set_xlabel('Feature map')\n",
    "ax1.set_ylabel('Feature map')\n",
    "# add a colorbar\n",
    "fig.colorbar(h,cax=cax)\n",
    "\n",
    "plt.show()"
   ]
  },
  {
   "cell_type": "code",
   "execution_count": null,
   "metadata": {
    "id": "H1eKci4lYiK7"
   },
   "outputs": [],
   "source": [
    "### correlations across the FIRST convolution layer\n",
    "\n",
    "# convenient variables\n",
    "nStim = featmap1.shape[0]\n",
    "nMaps = featmap1.shape[1]\n",
    "nCors = (nMaps*(nMaps-1))//2\n",
    "\n",
    "# initialze the matrix of all correlation values\n",
    "allrs = np.zeros((nStim,nCors))\n",
    "Call  = np.zeros((nMaps,nMaps))\n",
    "\n",
    "# loop over each stimulus\n",
    "for i in range(nStim):\n",
    "\n",
    "  # extract the vectorized feature maps from this image\n",
    "  featmaps = featmap1[i,:,:,:].view(nMaps,-1).detach()\n",
    "\n",
    "  # compute the correlation matrix\n",
    "  C = np.corrcoef(featmaps)\n",
    "  Call += C\n",
    "\n",
    "  # extract the unique correlations from the matrix\n",
    "  idx = np.nonzero(np.triu(C,1))\n",
    "  allrs[i,:] = C[idx]\n",
    "\n",
    "\n",
    "# define the x-axis labels\n",
    "xlab = []*nCors\n",
    "for i in range(nCors):\n",
    "  xlab.append('%s-%s' %(idx[0][i],idx[1][i]))\n",
    "\n",
    "\n",
    "\n",
    "\n",
    "# now visualize the correlations\n",
    "fig = plt.figure(figsize=(16,5))\n",
    "ax0 = fig.add_axes([.1,.1,.55,.9]) # [left, bottom, width, height]\n",
    "ax1 = fig.add_axes([.68,.1,.3,.9])\n",
    "cax = fig.add_axes([.98,.1,.01,.9])\n",
    "\n",
    "for i in range(nCors):\n",
    "  ax0.plot(i+np.random.randn(nStim)/30,allrs[:,i],'o',markerfacecolor='w',markersize=10)\n",
    "\n",
    "# make the plot more interpretable\n",
    "ax0.set_xlim([-.5,nCors-.5])\n",
    "ax0.set_ylim([-1.05,1.05])\n",
    "ax0.set_xticks(range(nCors))\n",
    "ax0.set_xticklabels(xlab)\n",
    "ax0.set_xlabel('Feature map pair')\n",
    "ax0.set_ylabel('Correlation coefficient')\n",
    "ax0.set_title('Correlations for each image')\n",
    "\n",
    "\n",
    "# now show the average correlation matrix\n",
    "h = ax1.imshow(Call/nStim,vmin=-1,vmax=1)\n",
    "ax1.set_title('Correlation matrix')\n",
    "ax1.set_xlabel('Feature map')\n",
    "ax1.set_ylabel('Feature map')\n",
    "# add a colorbar\n",
    "fig.colorbar(h,cax=cax)\n",
    "\n",
    "plt.show()"
   ]
  },
  {
   "cell_type": "code",
   "execution_count": null,
   "metadata": {
    "id": "Xru6Bcy3Zz9U"
   },
   "outputs": [],
   "source": [
    "# Note: We will explore how to examine feature map activations without modifying the network class in the lecture\n",
    "#       \"Pretraining with autoencoders\" in the Transfer Learning section."
   ]
  },
  {
   "cell_type": "code",
   "execution_count": null,
   "metadata": {
    "id": "hqtqPXkfAaX6"
   },
   "outputs": [],
   "source": []
  },
  {
   "cell_type": "markdown",
   "metadata": {
    "id": "Uh28k_l29urR"
   },
   "source": [
    "# Additional explorations"
   ]
  },
  {
   "cell_type": "code",
   "execution_count": null,
   "metadata": {
    "id": "ib3uQtfv9wE2"
   },
   "outputs": [],
   "source": [
    "# 1) The code here grabs the activation of the feature maps *after* relu is applied. Modify the code to get the *pre-relu* \n",
    "#    activations, which corresponds to the linear part of the activations. Redraw the maps (do you need to modify the\n",
    "#    color range?). Do they look similar or different before vs after relu? Which maps are more relevant to interpret\n",
    "#    when trying to understand how the CNN works and how it represents data?\n",
    "# \n",
    "# 2) Relatedly, how much difference would it make to export the activations after the pooling layers? Which is better\n",
    "#    and what are the advantages of inspecting the pre- vs. post-pooled activation maps?\n",
    "# "
   ]
  }
 ],
 "metadata": {
  "colab": {
   "authorship_tag": "ABX9TyMsVLGqFoUOaLcymlanUJqv",
   "provenance": [
    {
     "file_id": "1eA6J6ztxuctVWX6V1s9jV-6kepO7VfC1",
     "timestamp": 1619695964736
    },
    {
     "file_id": "1FcEBC0NAESIlHQkv6_85R-XDUKGE8XbM",
     "timestamp": 1619549043909
    },
    {
     "file_id": "1qKgZ8kVcqNgwtBzHbWq5yJH_HqI6DxWW",
     "timestamp": 1617803880910
    },
    {
     "file_id": "15cpyHkJ435B4MqbyGjAH1poN4nCy_DE4",
     "timestamp": 1617737766196
    },
    {
     "file_id": "1OLuWuaFu0hcFgkQ2hh5BqbRuqUZD7XcQ",
     "timestamp": 1617734878578
    },
    {
     "file_id": "1XvzVGJPTJifVh8OpZVB7ykLxyUqYwQ1j",
     "timestamp": 1617196833019
    },
    {
     "file_id": "1bv1_y32e3KEExFKKlPfC3rpw1JxmBr8H",
     "timestamp": 1617124341706
    },
    {
     "file_id": "1GMq8u7KyHB2AE7Teyls9gK1T01OduQSn",
     "timestamp": 1616697516760
    },
    {
     "file_id": "1Ui3kyHim-e0XLgDs2mkBxVlYg7TKYtcg",
     "timestamp": 1616615469755
    },
    {
     "file_id": "1YpHocGI4rApOxIBb1ZghCU5L-hFnv4CK",
     "timestamp": 1616608248670
    }
   ]
  },
  "kernelspec": {
   "display_name": "Python 3",
   "name": "python3"
  }
 },
 "nbformat": 4,
 "nbformat_minor": 0
}
