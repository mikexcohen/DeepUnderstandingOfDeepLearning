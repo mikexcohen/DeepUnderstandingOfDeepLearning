{
 "cells": [
  {
   "cell_type": "markdown",
   "id": "c5312679",
   "metadata": {},
   "source": [
    "[![Open In Colab](https://colab.research.google.com/assets/colab-badge.svg)](https://colab.research.google.com/github/ydebessu/DeepUnderstandingOfDeepLearning/blob/main/RNN/DUDL_RNN_loremipsum.ipynb)"
   ]
  },
  {
   "cell_type": "markdown",
   "metadata": {
    "id": "bhWV8oes-wKR"
   },
   "source": [
    "# COURSE: A deep understanding of deep learning\n",
    "## SECTION: RNNs (and LSTM and GRU)\n",
    "### LECTURE: Lorem ipsum\n",
    "#### TEACHER: Mike X Cohen, sincxpress.com\n",
    "##### COURSE URL: udemy.com/course/deeplearning_x/?couponCode=202401"
   ]
  },
  {
   "cell_type": "code",
   "execution_count": null,
   "metadata": {
    "id": "_BtdanGQAgmW"
   },
   "outputs": [],
   "source": [
    "### import libraries\n",
    "import torch\n",
    "import torch.nn as nn\n",
    "import numpy as np\n",
    "\n",
    "# for data visualization\n",
    "import matplotlib.pyplot as plt\n",
    "from IPython.display import set_matplotlib_formats\n",
    "set_matplotlib_formats('svg')"
   ]
  },
  {
   "cell_type": "code",
   "execution_count": null,
   "metadata": {
    "id": "EsuzzeJ4DblR"
   },
   "outputs": [],
   "source": [
    "device = torch.device(\"cuda\" if torch.cuda.is_available() else \"cpu\")"
   ]
  },
  {
   "cell_type": "markdown",
   "metadata": {
    "id": "rMu9HeQoN6Kz"
   },
   "source": [
    "# Paste and process text data"
   ]
  },
  {
   "cell_type": "code",
   "execution_count": null,
   "metadata": {
    "id": "UN5zjRs2Fwhx"
   },
   "outputs": [],
   "source": [
    "text = 'Lorem ipsum dolor sit amet, consectetur adipiscing elit. Praesent molestie sapien auctor eleifend egestas. Fusce at purus sodales, viverra nunc quis, consequat augue. Vestibulum eget tempus lorem, et blandit dui. Suspendisse ac gravida odio. Maecenas consequat tristique mi, vitae rutrum lacus pulvinar vitae. Nunc ullamcorper nulla eu velit vehicula, vitae facilisis erat dignissim. Proin consectetur nec lacus ac pellentesque. Nulla purus ligula, commodo id tellus id, efficitur varius massa. Phasellus et volutpat felis, gravida imperdiet justo. Cras metus velit, aliquet et tristique sit amet, elementum ultrices dui. Nullam condimentum quis orci quis pretium. Mauris tincidunt ante nec ex tristique, a commodo quam eleifend. Nam convallis ultrices magna fringilla porta. Phasellus non lobortis nisi. Donec nec lectus ligula. Maecenas id purus at lectus auctor finibus sit amet et enim. Vivamus nibh urna, dapibus sed porta in, sodales vitae elit. Fusce sed facilisis elit, ut porta massa. Vivamus blandit congue erat eget rutrum. Nullam mollis, eros et laoreet euismod, nunc mi condimentum eros, mollis pretium mi orci in nibh. Pellentesque rhoncus justo et pretium tempor. Ut gravida egestas quam, sit amet sagittis tortor scelerisque in. Vestibulum sed odio urna. Donec semper quis erat quis laoreet. Ut malesuada volutpat sem ac luctus. Vestibulum ante ipsum primis in faucibus orci luctus et ultrices posuere cubilia curae; Praesent sed bibendum sapien, id imperdiet elit. Vestibulum erat lorem, finibus eu enim non, posuere tempus velit. Vestibulum a massa id orci interdum malesuada eu vel tellus. Proin tempus viverra scelerisque. Nullam suscipit laoreet nisl, id consequat sem porttitor et. Integer congue urna lacus, ac feugiat arcu tincidunt eget. Aliquam erat volutpat. Vivamus accumsan semper gravida. Mauris porta magna vitae semper hendrerit. Vestibulum urna nunc, faucibus sit amet auctor sed, scelerisque nec est. Nulla ut sagittis urna. Proin fermentum turpis non iaculis tincidunt. Maecenas scelerisque rutrum hendrerit. Sed fermentum vehicula molestie. Sed nec rutrum nisi. Class aptent taciti sociosqu ad litora torquent per conubia nostra, per inceptos himenaeos. Cras malesuada, magna in ornare pretium, leo tellus sodales tortor, sit amet fermentum nunc odio eu enim. Quisque placerat eros ornare nulla vulputate, at efficitur sem convallis. Sed libero risus, viverra a turpis a, sollicitudin feugiat neque. Fusce vitae erat commodo, consectetur lacus vel, sollicitudin lorem. Nunc sed risus arcu. Pellentesque nec eleifend risus, a fringilla odio. Sed auctor augue a rutrum maximus. Maecenas suscipit tellus sem, vitae suscipit nisl euismod a. Phasellus elementum sodales urna, ac fringilla mi malesuada id. Suspendisse sollicitudin rhoncus dolor ut consequat. Duis tincidunt quis neque nec tincidunt. Fusce vitae sagittis nulla. Suspendisse ac varius mauris. Maecenas dapibus posuere velit, nec pellentesque quam sagittis a. Nunc aliquet justo vitae justo pharetra consectetur. Nam porttitor at nisl sit amet ullamcorper. Sed rutrum, nulla ac porttitor pulvinar, nisi leo hendrerit magna, non luctus nibh risus eget est. Quisque pulvinar rutrum vehicula. Ut tempor placerat sollicitudin. Etiam pharetra sit amet nulla at fringilla. Pellentesque feugiat odio ligula, ac ullamcorper leo vulputate a. Vestibulum placerat interdum arcu, sit amet ullamcorper ipsum finibus sed. Aliquam erat volutpat. Nam tincidunt, augue eu eleifend dictum, tellus sem blandit sem, et pulvinar ex purus sed leo. Nullam ultricies tincidunt sem, imperdiet condimentum ex porttitor at. Nunc id lacus sit amet nibh elementum dignissim. Nam facilisis tincidunt tincidunt. Suspendisse in mauris vel dui imperdiet facilisis. Aenean eu neque tortor. Cras sit amet mi nibh. Mauris sit amet feugiat nulla. Nam ac leo ipsum. Vestibulum id enim sit amet est pharetra consectetur. Vestibulum et lacus sed ipsum placerat blandit vitae quis nisl. Curabitur lacus est, euismod non accumsan sed, accumsan nec lectus. Pellentesque habitant morbi tristique senectus et netus et malesuada fames ac turpis egestas. Maecenas ultrices eros in erat molestie interdum. Nunc et tellus orci. Maecenas et magna ornare mauris sodales malesuada. Duis iaculis ipsum non laoreet porta. Aenean vitae purus tempor, porttitor arcu id, bibendum enim. Aliquam faucibus congue eros, eget feugiat risus venenatis a. Duis malesuada, sem eu mattis placerat, velit lectus varius tellus, eget placerat nibh quam non turpis. Donec auctor pellentesque odio, nec pulvinar nisi fermentum eget. Mauris eget eleifend metus. Mauris venenatis arcu semper erat facilisis, malesuada viverra tortor imperdiet. Nunc ut quam sit amet ex varius euismod. Mauris eleifend lectus venenatis risus mattis consequat. Nulla a eros non erat egestas consequat nec volutpat neque. In diam nulla, mollis ut semper nec, vulputate luctus odio. Morbi ac elementum quam, ut vestibulum sem. Ut tincidunt sapien ac fermentum ullamcorper. Cras convallis tortor quis malesuada dignissim. Suspendisse rutrum cursus diam, in consequat nisi vulputate sit amet. Nunc euismod consectetur libero eu pulvinar. Ut finibus scelerisque lectus vel auctor. Vivamus congue non sem et tincidunt. Vestibulum vehicula erat sed nisi mattis aliquet. Class aptent taciti sociosqu ad litora torquent per conubia nostra, per inceptos himenaeos. Etiam pulvinar tortor enim, vel blandit mauris sodales quis. Ut bibendum dui non posuere pellentesque. Phasellus metus diam, blandit accumsan porta a, pharetra nec nulla. Nam pulvinar, lacus et ornare luctus, magna orci tincidunt lorem, porttitor tincidunt enim mi a ligula. Pellentesque habitant morbi tristique senectus et netus et malesuada fames ac turpis egestas. Etiam quis mi porta, mattis velit vel, rhoncus nisi. Etiam lobortis placerat lacus.'.lower()\n",
    "# generated at https://www.lipsum.com/\n",
    "\n",
    "print(text)"
   ]
  },
  {
   "cell_type": "code",
   "execution_count": null,
   "metadata": {
    "id": "NKJr0fMzN4yD"
   },
   "outputs": [],
   "source": [
    "# get all the unique characters\n",
    "uniquecharacters = set(text)\n",
    "uniquecharacters"
   ]
  },
  {
   "cell_type": "code",
   "execution_count": null,
   "metadata": {
    "id": "STVg_PHKN15D"
   },
   "outputs": [],
   "source": [
    "# look-up tables to convert characters to indices and vice-versa\n",
    "number2letter = dict(enumerate(uniquecharacters))\n",
    "letter2number = { l:i for i,l in number2letter.items() }\n",
    "\n",
    "letter2number#['e']\n",
    "number2letter"
   ]
  },
  {
   "cell_type": "code",
   "execution_count": null,
   "metadata": {
    "id": "HFoYs1r9POBh"
   },
   "outputs": [],
   "source": [
    "# convert the text from characters into numbers\n",
    "\n",
    "# note the inputs to zeros()\n",
    "data = torch.zeros( (len(text),1), dtype=torch.int64, device=device)\n",
    "for i,ch in enumerate(text):\n",
    "  data[i] = letter2number[ch]\n",
    "\n",
    "\n",
    "# let's see the data!\n",
    "print(data)\n",
    "plt.plot(data.cpu().numpy(),'k.')\n",
    "plt.xlabel('Character index')\n",
    "plt.ylabel('Character label');"
   ]
  },
  {
   "cell_type": "code",
   "execution_count": null,
   "metadata": {
    "id": "jWdp95siFlhb"
   },
   "outputs": [],
   "source": []
  },
  {
   "cell_type": "markdown",
   "metadata": {
    "id": "jY31aXgZOIaS"
   },
   "source": [
    "# Create an LSTM model class"
   ]
  },
  {
   "cell_type": "code",
   "execution_count": null,
   "metadata": {
    "id": "fkZG9560B3FF"
   },
   "outputs": [],
   "source": [
    "class lstmnet(nn.Module):\n",
    "  def __init__(self, input_size, output_size, hidden_size, num_layers):\n",
    "    super().__init__()\n",
    "\n",
    "    # embedding layer\n",
    "    self.embedding = nn.Embedding(input_size,input_size)\n",
    "\n",
    "    # LSTM layer\n",
    "    self.lstm = nn.LSTM(input_size,hidden_size,num_layers)\n",
    "\n",
    "    # linear output layer\n",
    "    self.out = nn.Linear(hidden_size,output_size)\n",
    "\n",
    "\n",
    "  def forward(self,x,h):\n",
    "\n",
    "    # embedding layer\n",
    "    embedding = self.embedding(x)\n",
    "\n",
    "    # run through the RNN layer\n",
    "    y,h = self.lstm(embedding,h)\n",
    "\n",
    "    # and the output (linear) layer\n",
    "    y = self.out(y)\n",
    "\n",
    "    return y,(h[0].detach(),h[1].detach()) # just the numerical values for h"
   ]
  },
  {
   "cell_type": "code",
   "execution_count": null,
   "metadata": {
    "id": "_j-wWrJQB_5E"
   },
   "outputs": [],
   "source": [
    "# meta-parameters\n",
    "hidden_size = 512   # size of hidden state\n",
    "seqlength   = 80    # length of sequence\n",
    "num_layers  = 3     # number of stacked hidden layers\n",
    "epochs      = 10    # training epochs"
   ]
  },
  {
   "cell_type": "code",
   "execution_count": null,
   "metadata": {
    "id": "d_FxexSCCFmm"
   },
   "outputs": [],
   "source": [
    "# model instance\n",
    "lstm = lstmnet(len(uniquecharacters),len(uniquecharacters), hidden_size, num_layers).to(device)\n",
    "\n",
    "# loss function and optimizer\n",
    "lossfun = nn.CrossEntropyLoss()\n",
    "optimizer = torch.optim.Adam(lstm.parameters(), lr=.001)"
   ]
  },
  {
   "cell_type": "code",
   "execution_count": null,
   "metadata": {
    "id": "uuDZthb3UwkB"
   },
   "outputs": [],
   "source": [
    "# visualize the randomly initialized embeddings matrix\n",
    "I = next(lstm.embedding.named_parameters())\n",
    "plt.imshow(I[1].cpu().detach());"
   ]
  },
  {
   "cell_type": "markdown",
   "metadata": {
    "id": "t0cb8W1QRhPU"
   },
   "source": [
    "# Train the model"
   ]
  },
  {
   "cell_type": "code",
   "execution_count": null,
   "metadata": {
    "id": "5Y9K-aOOCiU3"
   },
   "outputs": [],
   "source": [
    "losses = np.zeros(epochs)\n",
    "\n",
    "\n",
    "# loop over epochs\n",
    "for epochi in range(epochs):\n",
    "\n",
    "  # initialize loss for this epoch, and hidden state\n",
    "  txtloss = 0\n",
    "  hidden_state = None\n",
    "\n",
    "  # loop through the entire text character-wise\n",
    "  for txtloc in range(0,len(text)-seqlength):\n",
    "\n",
    "    # get input and target (shifted version of input)\n",
    "    x = data[txtloc   : txtloc+seqlength  ]\n",
    "    y = data[txtloc+1 : txtloc+seqlength+1]\n",
    "\n",
    "    # forward pass\n",
    "    output, hidden_state = lstm(x,None)\n",
    "\n",
    "    # compute loss\n",
    "    loss = lossfun(torch.squeeze(output), torch.squeeze(y))\n",
    "    txtloss += loss.item()\n",
    "\n",
    "    # backprop\n",
    "    optimizer.zero_grad()\n",
    "    loss.backward()\n",
    "    optimizer.step()\n",
    "\n",
    "  # average losses for this epoch (run through the entire text)\n",
    "  losses[epochi] = txtloss/txtloc\n"
   ]
  },
  {
   "cell_type": "code",
   "execution_count": null,
   "metadata": {
    "id": "M9U-0L51zs-_"
   },
   "outputs": [],
   "source": [
    "# check out the losses\n",
    "plt.plot(losses,'s-')\n",
    "plt.xlabel('Epoch')\n",
    "plt.ylabel('Loss')\n",
    "plt.show()"
   ]
  },
  {
   "cell_type": "code",
   "execution_count": null,
   "metadata": {
    "id": "-DxBplJED7qw"
   },
   "outputs": [],
   "source": [
    "# reconstructing a character sequence from number sequence\n",
    "t = ''\n",
    "for l in x:\n",
    "  t += number2letter[l.item()]\n",
    "\n",
    "t"
   ]
  },
  {
   "cell_type": "markdown",
   "metadata": {
    "id": "MHT9yDOMk0zH"
   },
   "source": [
    "# Generate new lorem ipsum text"
   ]
  },
  {
   "cell_type": "code",
   "execution_count": null,
   "metadata": {
    "id": "8gu9iYzXJqiv"
   },
   "outputs": [],
   "source": [
    "# how many characters to generate?\n",
    "lorem_length = 200\n",
    "\n",
    "# random character from data to begin\n",
    "x = torch.tensor(letter2number['x']).view(1,1).to(device)\n",
    "lorem = number2letter[x.item()]\n",
    "\n",
    "# initialize the hidden state\n",
    "hidden_state = None\n",
    "\n",
    "\n",
    "# generate the text!\n",
    "for i in range(lorem_length):\n",
    "\n",
    "  # push a letter though the LSTM\n",
    "  output, hidden_state = lstm(x,hidden_state)\n",
    "\n",
    "  # get the maximum output and replace input data\n",
    "  index = torch.argmax(output).item()\n",
    "  x[0][0] = index\n",
    "\n",
    "  # append that output to the text\n",
    "  lorem += number2letter[index]\n",
    "\n",
    "\n",
    "## what's it say?!?!?!\n",
    "lorem"
   ]
  },
  {
   "cell_type": "code",
   "execution_count": null,
   "metadata": {
    "id": "wTubduW5JqlH"
   },
   "outputs": [],
   "source": [
    "# plot hidden states\n",
    "for i in range(num_layers):\n",
    "  plt.plot(hidden_state[0][i,0,:].cpu().numpy(),'o');"
   ]
  },
  {
   "cell_type": "code",
   "execution_count": null,
   "metadata": {
    "id": "V17M2C4cJqnv"
   },
   "outputs": [],
   "source": [
    "# visualize the learned embeddings matrix\n",
    "I = next(lstm.embedding.named_parameters())\n",
    "I = I[1].cpu().detach().numpy()\n",
    "plt.imshow(I);"
   ]
  },
  {
   "cell_type": "code",
   "execution_count": null,
   "metadata": {
    "id": "NWaDPeKuggRw"
   },
   "outputs": [],
   "source": [
    "# FYI, lots can be done with this matrix, e.g., PCA...\n",
    "d,V = np.linalg.eig(I@I.T)\n",
    "\n",
    "fig,axs = plt.subplots(1,2,figsize=(8,5))\n",
    "axs[0].imshow(np.corrcoef(I),vmin=-.5,vmax=.5)\n",
    "axs[0].set_title('Correlation of embeddings')\n",
    "axs[0].set_xticks(range(len(letter2number.keys())))\n",
    "axs[0].set_xticklabels(letter2number.keys())\n",
    "axs[0].set_yticks(range(len(letter2number.keys())))\n",
    "axs[0].set_yticklabels(letter2number.keys())\n",
    "\n",
    "axs[1].plot(d,'s-')\n",
    "axs[1].set_xlabel('Component')\n",
    "axs[1].set_ylabel('Eigenvalue')\n",
    "axs[1].set_title('Eigenspectrum of embeddings')\n",
    "\n",
    "plt.tight_layout()\n",
    "plt.show()"
   ]
  },
  {
   "cell_type": "code",
   "execution_count": null,
   "metadata": {
    "id": "G8hwAE_Sgm7S"
   },
   "outputs": [],
   "source": []
  },
  {
   "cell_type": "markdown",
   "metadata": {
    "id": "p-3pCQDQ0LaR"
   },
   "source": [
    "# Additional explorations"
   ]
  },
  {
   "cell_type": "code",
   "execution_count": null,
   "metadata": {
    "id": "WiVIkrDE0McS"
   },
   "outputs": [],
   "source": [
    "# 1) The model seems to work well with the current parameters. But does it need so many hidden units and layers?\n",
    "#    Try it again using one layer and 50 hidden units. Compare the loss function (quantitative) and the generated\n",
    "#    text (qualitative) with the current instantiation.\n",
    "#\n",
    "# 2) In the video, I discussed that the embeddings matrix does not need to be square. Make it 2x as wide (thus, it\n",
    "#    will be a 26x52 matrix). What needs to be changed in the code?\n",
    "#\n",
    "# 2) Lorem ipsum is already gibberish text (though each word is a plausible word). Replace the text with real text,\n",
    "#    e.g., something you wrote, or perhaps copy text from a wiki page or a short story. Is the generated text still\n",
    "#    nonsense words or real words? (Note that training could take a really long time if you use a really long text.)\n",
    "#"
   ]
  }
 ],
 "metadata": {
  "accelerator": "GPU",
  "colab": {
   "provenance": []
  },
  "kernelspec": {
   "display_name": "Python 3",
   "name": "python3"
  },
  "language_info": {
   "name": "python"
  }
 },
 "nbformat": 4,
 "nbformat_minor": 0
}
