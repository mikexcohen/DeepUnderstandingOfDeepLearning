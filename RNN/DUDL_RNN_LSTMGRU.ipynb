{
 "cells": [
  {
   "cell_type": "markdown",
   "id": "a9b306f2",
   "metadata": {},
   "source": [
    "[![Open In Colab](https://colab.research.google.com/assets/colab-badge.svg)](https://colab.research.google.com/github/ydebessu/DeepUnderstandingOfDeepLearning/blob/main/RNN/DUDL_RNN_LSTMGRU.ipynb)"
   ]
  },
  {
   "cell_type": "markdown",
   "metadata": {
    "id": "bhWV8oes-wKR"
   },
   "source": [
    "# COURSE: A deep understanding of deep learning\n",
    "## SECTION: RNNs (and LSTM and GRU)\n",
    "### LECTURE: The LSTM and GRU classes\n",
    "#### TEACHER: Mike X Cohen, sincxpress.com\n",
    "##### COURSE URL: udemy.com/course/deeplearning_x/?couponCode=202401"
   ]
  },
  {
   "cell_type": "code",
   "execution_count": null,
   "metadata": {
    "id": "j7-LiwqUMGYL"
   },
   "outputs": [],
   "source": [
    "### import libraries\n",
    "import torch\n",
    "import torch.nn as nn\n",
    "import numpy as np"
   ]
  },
  {
   "cell_type": "markdown",
   "metadata": {
    "id": "xxH9iWl34bmR"
   },
   "source": [
    "# Explore the LSTM type"
   ]
  },
  {
   "cell_type": "code",
   "execution_count": null,
   "metadata": {
    "id": "zTIEHcqz4e6b"
   },
   "outputs": [],
   "source": [
    "# set layer parameters\n",
    "input_size  =  9 # number of features to extract (e.g., number of data channels)\n",
    "hidden_size = 16 # number of units in the hidden state\n",
    "num_layers  =  2 # number of vertical stacks of hidden layers (note: only the final layer gives an output)\n",
    "\n",
    "# create an LSTM instance\n",
    "lstm = nn.LSTM(input_size,hidden_size,num_layers)\n",
    "lstm"
   ]
  },
  {
   "cell_type": "code",
   "execution_count": null,
   "metadata": {
    "id": "loAF6NFjX6nQ"
   },
   "outputs": [],
   "source": [
    "# check out the source code for more detailed info about this class\n",
    "??nn.LSTM"
   ]
  },
  {
   "cell_type": "code",
   "execution_count": null,
   "metadata": {
    "id": "nPMVY6Em5B7y"
   },
   "outputs": [],
   "source": [
    "# set data parameters\n",
    "seqlength = 5\n",
    "batchsize = 2\n",
    "\n",
    "# create some data\n",
    "X = torch.rand(seqlength,batchsize,input_size)\n",
    "\n",
    "# create initial hidden states (typically initialized as zeros)\n",
    "H = torch.zeros(num_layers,batchsize,hidden_size)\n",
    "C = torch.zeros(num_layers,batchsize,hidden_size)\n",
    "\n",
    "# the input is actually a tuple of (hidden,cell)\n",
    "hiddeninputs = (H,C)\n",
    "\n",
    "# run some data through the model and show the output sizes\n",
    "y,h = lstm(X,hiddeninputs)\n",
    "print(f' Input shape: {list(X.shape)}')\n",
    "print(f'Hidden shape: {list(h[0].shape)}')\n",
    "print(f'  Cell shape: {list(h[1].shape)}')\n",
    "print(f'Output shape: {list(y.shape)}')"
   ]
  },
  {
   "cell_type": "code",
   "execution_count": null,
   "metadata": {
    "id": "-NO2PlZx_R2m"
   },
   "outputs": [],
   "source": [
    "# Check out the learned parameters and their sizes\n",
    "for p in lstm.named_parameters():\n",
    "  if 'weight' in p[0]:\n",
    "    print(f'{p[0]} has size {list(p[1].shape)}')"
   ]
  },
  {
   "cell_type": "code",
   "execution_count": null,
   "metadata": {
    "id": "0pFPzSU4MSGg"
   },
   "outputs": [],
   "source": []
  },
  {
   "cell_type": "markdown",
   "metadata": {
    "id": "VToReEHNWP0n"
   },
   "source": [
    "# Create a DL model class"
   ]
  },
  {
   "cell_type": "code",
   "execution_count": null,
   "metadata": {
    "id": "RVcrKOC1Wqk-"
   },
   "outputs": [],
   "source": [
    "class LSTMnet(nn.Module):\n",
    "  def __init__(self,input_size,num_hidden,num_layers):\n",
    "    super().__init__()\n",
    "\n",
    "    # store parameters\n",
    "    self.input_size = input_size\n",
    "    self.num_hidden = num_hidden\n",
    "    self.num_layers = num_layers\n",
    "\n",
    "    # RNN Layer (notation: LSTM \\in RNN)\n",
    "    self.lstm = nn.LSTM(input_size,num_hidden,num_layers)\n",
    "    \n",
    "    # linear layer for output\n",
    "    self.out = nn.Linear(num_hidden,1)\n",
    "  \n",
    "  def forward(self,x):\n",
    "    \n",
    "    print(f'Input: {list(x.shape)}')\n",
    "\n",
    "    # run through the RNN layer\n",
    "    y,hidden = self.lstm(x)\n",
    "    print(f'RNN-out: {list(y.shape)}')\n",
    "    print(f'RNN-hidden: {list(hidden[0].shape)}')\n",
    "    print(f'RNN-cell: {list(hidden[1].shape)}')\n",
    "    \n",
    "    # pass the RNN output through the linear output layer\n",
    "    o = self.out(y)\n",
    "    print(f'Output: {list(o.shape)}')\n",
    "\n",
    "    return o,hidden"
   ]
  },
  {
   "cell_type": "code",
   "execution_count": null,
   "metadata": {
    "id": "zQKkLPUeWqn_"
   },
   "outputs": [],
   "source": [
    "# create an instance of the model and inspect\n",
    "net = LSTMnet(input_size,hidden_size,num_layers)\n",
    "print(net), print(' ')\n",
    "\n",
    "# and check out all learnable parameters\n",
    "for p in net.named_parameters():\n",
    "  print(f'{p[0]:>20} has size {list(p[1].shape)}')"
   ]
  },
  {
   "cell_type": "code",
   "execution_count": null,
   "metadata": {
    "id": "0WL8wjwn0Jwr"
   },
   "outputs": [],
   "source": [
    "# test the model with some data\n",
    "# create some data\n",
    "X = torch.rand(seqlength,batchsize,input_size)\n",
    "y = torch.rand(seqlength,batchsize,1)\n",
    "yHat,h = net(X)\n",
    "\n",
    "\n",
    "lossfun = nn.MSELoss()\n",
    "lossfun(yHat,y)"
   ]
  },
  {
   "cell_type": "code",
   "execution_count": null,
   "metadata": {
    "id": "XXtU8uw-_7P0"
   },
   "outputs": [],
   "source": []
  },
  {
   "cell_type": "markdown",
   "metadata": {
    "id": "bdQ9d5UC_7Ss"
   },
   "source": [
    "# GRU"
   ]
  },
  {
   "cell_type": "code",
   "execution_count": null,
   "metadata": {
    "id": "DclTJD17-66o"
   },
   "outputs": [],
   "source": [
    "# create a GRU instance\n",
    "gru = nn.GRU(input_size,hidden_size,num_layers)\n",
    "gru"
   ]
  },
  {
   "cell_type": "code",
   "execution_count": null,
   "metadata": {
    "id": "8irbAyPitaUI"
   },
   "outputs": [],
   "source": [
    "??nn.GRU"
   ]
  },
  {
   "cell_type": "code",
   "execution_count": null,
   "metadata": {
    "id": "sg-G5f2g-69O"
   },
   "outputs": [],
   "source": [
    "# create some data and a hidden state\n",
    "X = torch.rand(seqlength,batchsize,input_size)\n",
    "H = torch.zeros(num_layers,batchsize,hidden_size)\n",
    "\n",
    "# run some data through the model and show the output sizes\n",
    "y,h = gru(X,H) # No cell states in GRU!\n",
    "print(f' Input shape: {list(X.shape)}')\n",
    "print(f'Hidden shape: {list(h.shape)}')\n",
    "print(f'Output shape: {list(y.shape)}')"
   ]
  },
  {
   "cell_type": "code",
   "execution_count": null,
   "metadata": {
    "id": "qd9y5lT4snEQ"
   },
   "outputs": [],
   "source": [
    "# Check out the learned parameters and their sizes\n",
    "for p in gru.named_parameters():\n",
    "  print(f'{p[0]:>15} has size {list(p[1].shape)}')"
   ]
  }
 ],
 "metadata": {
  "colab": {
   "authorship_tag": "ABX9TyO91pz9QDJtavwD0WQf3cvo",
   "collapsed_sections": [],
   "name": "DUDL_RNN_LSTMGRU.ipynb",
   "provenance": [
    {
     "file_id": "19WUFNKOHKnZ1hEkR6havrl_eIE4BxuaE",
     "timestamp": 1635419946139
    },
    {
     "file_id": "1BI9p-vnVoi7Tm8yiQgVN3kpM2VuEzfeE",
     "timestamp": 1621245811372
    },
    {
     "file_id": "1o_dLKV6fY7xdZYx_pNMY12zpL_pmMurs",
     "timestamp": 1618865813618
    },
    {
     "file_id": "1Q9LtmanyNt675-gO_kXRBKalCdP6xtvV",
     "timestamp": 1617253457100
    },
    {
     "file_id": "1jeqKEJfI18GlAhSG8RO5aJ6Vrp4-nkTt",
     "timestamp": 1615909315432
    },
    {
     "file_id": "10_geQnah5AvMsm8VDAQwNPhypOXradar",
     "timestamp": 1615893340208
    },
    {
     "file_id": "1FtQ99beHYcDFDywLdaPgFm-KjBeI8PvD",
     "timestamp": 1615877547147
    }
   ]
  },
  "kernelspec": {
   "display_name": "Python 3",
   "name": "python3"
  }
 },
 "nbformat": 4,
 "nbformat_minor": 0
}
