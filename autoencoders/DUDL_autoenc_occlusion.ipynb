{
 "cells": [
  {
   "cell_type": "markdown",
   "id": "defc9b89",
   "metadata": {},
   "source": [
    "[![Open In Colab](https://colab.research.google.com/assets/colab-badge.svg)](https://colab.research.google.com/github/ydebessu/DeepUnderstandingOfDeepLearning/blob/main/autoencoders/DUDL_autoenc_occlusion.ipynb)"
   ]
  },
  {
   "cell_type": "markdown",
   "metadata": {
    "id": "bhWV8oes-wKR"
   },
   "source": [
    "# COURSE: A deep understanding of deep learning\n",
    "## SECTION: Autoencoders\n",
    "### LECTURE: AEs for occlusion\n",
    "#### TEACHER: Mike X Cohen, sincxpress.com\n",
    "##### COURSE URL: udemy.com/course/deeplearning_x/?couponCode=202401"
   ]
  },
  {
   "cell_type": "code",
   "execution_count": null,
   "metadata": {
    "id": "YeuAheYyhdZw"
   },
   "outputs": [],
   "source": [
    "# import libraries\n",
    "import numpy as np\n",
    "\n",
    "import torch\n",
    "import torch.nn as nn\n",
    "import torch.nn.functional as F\n",
    "\n",
    "import copy\n",
    "\n",
    "import matplotlib.pyplot as plt\n",
    "import matplotlib_inline.backend_inline\n",
    "matplotlib_inline.backend_inline.set_matplotlib_formats('svg')"
   ]
  },
  {
   "cell_type": "markdown",
   "metadata": {
    "id": "0HOkOefftqyg"
   },
   "source": [
    "# Import and process the data"
   ]
  },
  {
   "cell_type": "code",
   "execution_count": null,
   "metadata": {
    "id": "MU7rvmWuhjud"
   },
   "outputs": [],
   "source": [
    "# import dataset (comes with colab!)\n",
    "data = np.loadtxt(open('sample_data/mnist_train_small.csv','rb'),delimiter=',')\n",
    "\n",
    "# don't need labels!\n",
    "data = data[:,1:]\n",
    "\n",
    "# normalize the data to a range of [0 1]\n",
    "dataNorm = data / np.max(data)\n",
    "\n",
    "# convert to tensor\n",
    "dataT = torch.tensor( dataNorm ).float()"
   ]
  },
  {
   "cell_type": "markdown",
   "metadata": {
    "id": "jiXtRaHE8EGh"
   },
   "source": [
    "# Demonstration of implementing occlusion"
   ]
  },
  {
   "cell_type": "code",
   "execution_count": null,
   "metadata": {
    "id": "O4978R7R8DBJ"
   },
   "outputs": [],
   "source": [
    "# reconstruct a sample as an image\n",
    "\n",
    "img = dataT[12345,:].view(28,28)\n",
    "\n",
    "\n",
    "occluded = copy.deepcopy( img )\n",
    "occluded[10:13,:] = 1\n",
    "\n",
    "fig,ax = plt.subplots(1,2,figsize=(8,5))\n",
    "\n",
    "ax[0].imshow(img,cmap='gray')\n",
    "ax[0].set_title('Original image')\n",
    "ax[0].axis('off')\n",
    "\n",
    "ax[1].imshow(occluded,cmap='gray')\n",
    "ax[1].set_title('Occluded image')\n",
    "ax[1].axis('off')\n",
    "\n",
    "plt.show()"
   ]
  },
  {
   "cell_type": "markdown",
   "metadata": {
    "id": "OK8Opkhgp0bO"
   },
   "source": [
    "# Create the DL model"
   ]
  },
  {
   "cell_type": "code",
   "execution_count": null,
   "metadata": {
    "id": "JK3OO3tAtZkA"
   },
   "outputs": [],
   "source": [
    "# create a class for the model\n",
    "def createTheMNISTAE():\n",
    "\n",
    "  class aenet(nn.Module):\n",
    "    def __init__(self):\n",
    "      super().__init__()\n",
    "\n",
    "      ### input layer\n",
    "      self.input = nn.Linear(784,128)\n",
    "\n",
    "      ### encoder layer\n",
    "      self.enc = nn.Linear(128,50)\n",
    "\n",
    "      ### latent layer\n",
    "      self.lat = nn.Linear(50,128)\n",
    "\n",
    "      ### decoder layer\n",
    "      self.dec = nn.Linear(128,784)\n",
    "\n",
    "    # forward pass\n",
    "    def forward(self,x):\n",
    "      x = F.relu( self.input(x) )\n",
    "      x = F.relu( self.enc(x) )\n",
    "      x = F.relu( self.lat(x) )\n",
    "      y = torch.sigmoid( self.dec(x) )\n",
    "      return y\n",
    "\n",
    "  # create the model instance\n",
    "  net = aenet()\n",
    "\n",
    "  # loss function\n",
    "  lossfun = nn.MSELoss()\n",
    "\n",
    "  # optimizer\n",
    "  optimizer = torch.optim.Adam(net.parameters(),lr=.001)\n",
    "\n",
    "  return net,lossfun,optimizer"
   ]
  },
  {
   "cell_type": "markdown",
   "metadata": {
    "id": "dvfGQIRGp0ht"
   },
   "source": [
    "# Create a function that trains the model"
   ]
  },
  {
   "cell_type": "code",
   "execution_count": null,
   "metadata": {
    "id": "IblJo1NCp0kl"
   },
   "outputs": [],
   "source": [
    "def function2trainTheModel():\n",
    "\n",
    "  # number of epochs\n",
    "  numepochs = 5\n",
    "\n",
    "  # create a new model\n",
    "  net,lossfun,optimizer = createTheMNISTAE()\n",
    "\n",
    "  # initialize losses\n",
    "  losses = []\n",
    "\n",
    "\n",
    "\n",
    "  # batch size and number of batches\n",
    "  batchsize  = 32\n",
    "  numBatches = int(dataT.shape[0]/batchsize)\n",
    "\n",
    "\n",
    "  # loop over epochs (now each epoch goes through all samples)\n",
    "  for epochi in range(numepochs):\n",
    "\n",
    "\n",
    "    # get a permuted index vector\n",
    "    randidx = np.random.permutation(dataT.shape[0]).astype(int)\n",
    "\n",
    "    for batchi in range(numBatches):\n",
    "\n",
    "      # samples to use in this batch\n",
    "      samps2use = range((batchi-1)*batchsize,batchi*batchsize)\n",
    "\n",
    "\n",
    "      # select those images\n",
    "      X = dataT[randidx[samps2use],:]\n",
    "\n",
    "      # forward pass and loss\n",
    "      yHat = net(X)\n",
    "      loss = lossfun(yHat,X)\n",
    "\n",
    "      # backprop\n",
    "      optimizer.zero_grad()\n",
    "      loss.backward()\n",
    "      optimizer.step()\n",
    "\n",
    "\n",
    "      # losses in this batch\n",
    "      losses.append( loss.item() )\n",
    "\n",
    "  # end epochs\n",
    "\n",
    "  # function output\n",
    "  return losses,net"
   ]
  },
  {
   "cell_type": "markdown",
   "metadata": {
    "id": "XpGm9xdQ27Ob"
   },
   "source": [
    "# Run the model and show the results!"
   ]
  },
  {
   "cell_type": "code",
   "execution_count": null,
   "metadata": {
    "id": "l9pCC1R2p0nu"
   },
   "outputs": [],
   "source": [
    "# train the model (16s)\n",
    "losses,net = function2trainTheModel()\n",
    "print(f'Final loss: {losses[-1]:.4f}')\n",
    "\n",
    "# visualize the losses\n",
    "plt.plot(losses,'.-')\n",
    "plt.xlabel('Epochs')\n",
    "plt.ylabel('Model loss')\n",
    "plt.show()"
   ]
  },
  {
   "cell_type": "markdown",
   "metadata": {
    "id": "pG7_3tYbp0wm"
   },
   "source": [
    "# Add occlusion to some images"
   ]
  },
  {
   "cell_type": "code",
   "execution_count": null,
   "metadata": {
    "id": "qw56zhmj87WC"
   },
   "outputs": [],
   "source": [
    "# grab a small set of images\n",
    "X = copy.deepcopy( dataT[:10,:] )\n",
    "\n",
    "# add noise\n",
    "for i in range(X.shape[0]):\n",
    "\n",
    "  # reshape the image\n",
    "  img = X[i,:].view(28,28)\n",
    "\n",
    "  # occlude random rows or columns\n",
    "  startloc = np.random.choice(range(10,21))\n",
    "  if i%2==0: # even -> horizontal occlusion\n",
    "    img[startloc:startloc+1,:] = 1\n",
    "  else:      # odd -> vertical occlusion\n",
    "    img[:,startloc:startloc+1] = 1\n",
    "\n",
    "\n",
    "\n",
    "# run the samples through the model\n",
    "deOccluded = net(X)\n",
    "\n",
    "\n",
    "# show the noisy images\n",
    "fig,axs = plt.subplots(3,10,figsize=(15,5))\n",
    "\n",
    "for i in range(10):\n",
    "  axs[0,i].imshow(dataT[i,:].view(28,28).detach() ,cmap='gray')\n",
    "  axs[1,i].imshow(X[i,:].view(28,28).detach() ,cmap='gray')\n",
    "  axs[2,i].imshow(deOccluded[i,:].view(28,28).detach() ,cmap='gray')\n",
    "  axs[0,i].set_xticks([]), axs[0,i].set_yticks([])\n",
    "  axs[1,i].set_xticks([]), axs[1,i].set_yticks([])\n",
    "  axs[2,i].set_xticks([]), axs[2,i].set_yticks([])\n",
    "\n",
    "plt.show()"
   ]
  },
  {
   "cell_type": "markdown",
   "metadata": {
    "id": "DiCaItS8dCJ3"
   },
   "source": [
    "# Something more quantitative"
   ]
  },
  {
   "cell_type": "code",
   "execution_count": null,
   "metadata": {
    "id": "ZfH_MkryDd0l"
   },
   "outputs": [],
   "source": [
    "# We can quantify the performance of our \"de-occluder\" by correlating the sample with the original.\n",
    "\n",
    "inOutCorr = np.corrcoef(dataT[9,:].detach(),deOccluded[9,:].detach())\n",
    "\n",
    "# and plot\n",
    "plt.plot(dataT[9,:].detach(),deOccluded[9,:].detach(),'.')\n",
    "plt.xlabel('Original pixel values')\n",
    "plt.ylabel('Reconstructed pixel values')\n",
    "plt.title(f'Correlation r={ inOutCorr[0,1] :.3f}')\n",
    "plt.show()"
   ]
  },
  {
   "cell_type": "code",
   "execution_count": null,
   "metadata": {
    "id": "k1llM3w9ERI2"
   },
   "outputs": [],
   "source": [
    "# try again without the zero-valued pixels\n",
    "\n",
    "# extract to variables for convenience\n",
    "orig  = dataT[9,:].detach()\n",
    "recon = deOccluded[9,:].detach()\n",
    "\n",
    "# boolean vector that indicates pixels>0 (with some tolerance)\n",
    "tol = 1e-4\n",
    "nonzeropixels = (orig>tol) & (recon>tol)\n",
    "\n",
    "# then re-compute the correlation\n",
    "inOutCorr = np.corrcoef(orig[nonzeropixels],recon[nonzeropixels])\n",
    "\n",
    "# redraw the previous plot\n",
    "plt.plot(orig[nonzeropixels],recon[nonzeropixels],'.')\n",
    "plt.xlabel('Original pixel values')\n",
    "plt.ylabel('Reconstructed pixel values')\n",
    "plt.title(f'Correlation r={ inOutCorr[0,1] :.3f}')\n",
    "plt.show()"
   ]
  },
  {
   "cell_type": "code",
   "execution_count": null,
   "metadata": {
    "id": "9SnUUHPm7xQE"
   },
   "outputs": [],
   "source": [
    "# get data with no occlusion\n",
    "noOcclusion = net(dataT[:10,:])\n",
    "\n",
    "# compare deOccluded-original to noOcclusion-original correlation\n",
    "r = np.zeros((10,2))\n",
    "for i in range(deOccluded.shape[0]):\n",
    "\n",
    "  # pixel selection (note: tolerance defined in previous cell)\n",
    "  nonzeropixels = (dataT[i,:]>tol) & (noOcclusion[i,:]>tol) & (deOccluded[i,:]>tol)\n",
    "\n",
    "  # now compute the correlations\n",
    "  r[i,0] = np.corrcoef(dataT[i,nonzeropixels].detach(),noOcclusion[i,nonzeropixels].detach())[0,1]\n",
    "  r[i,1] = np.corrcoef(dataT[i,nonzeropixels].detach(),deOccluded[i,nonzeropixels].detach())[0,1]\n",
    "\n",
    "\n",
    "# plot the correlation coefficients\n",
    "plt.plot(r,'o',markersize=10)\n",
    "plt.legend(['No occlusion','Occlusion'])\n",
    "plt.xlabel('Sample number')\n",
    "plt.ylabel('Correlation with original')\n",
    "plt.show()"
   ]
  },
  {
   "cell_type": "code",
   "execution_count": null,
   "metadata": {
    "id": "-sJ6ROpxkDqg"
   },
   "outputs": [],
   "source": []
  },
  {
   "cell_type": "markdown",
   "metadata": {
    "id": "Uh28k_l29urR"
   },
   "source": [
    "# Additional explorations"
   ]
  },
  {
   "cell_type": "code",
   "execution_count": null,
   "metadata": {
    "id": "ib3uQtfv9wE2"
   },
   "outputs": [],
   "source": [
    "# 1) Does occlusion affect some numbers more than others? Run the entire dataset through the autoencoder with occluded\n",
    "#    images. Compute the image correlations for each sample. Then compute the average correlation for each number (image\n",
    "#    label). Show the results in a plot. (Bonus: Also compute the standard deviation across correlations and use those\n",
    "#    to draw error bars.) What do the results tell you about the difficulty of fixing occlusions in images?\n",
    "#\n",
    "# 2) Perhaps a correlation coefficient isn't really the best performance metric. Try this: Binarize the images like we\n",
    "#    did in the video \"CodeChallenge: Binarized MNIST images\" (section FFN). Then compute the number of pixels in the\n",
    "#    original and reconstructed images that overlap (hint: try summing them). Make sure your new metric has a possible\n",
    "#    range of 0 (absolutely no overlap) to 1 (perfect overlap). Does this metric seem more consistent with your visual\n",
    "#    intuition?\n",
    "#\n",
    "# 3) But wait a minute, don't we already have a quantitative measure of the similarity between the AE input and output?\n",
    "#    Of course we do -- it's the loss function! Mean-squared error already accounts for zeros because those get ignored\n",
    "#    [zero-valued pixels have MSE=(0-0)**2 ]. In fact, question #2 is kindof a \"rough MSE.\" Take a moment to write down\n",
    "#    the formulas for MSE and correlation, and see whether they are related (hint: the relationship isn't linear because of\n",
    "#    the squared term). Finally, compute MSE on our example occlusion images and compare MSE to correlation empirically\n",
    "#    by making a scatter plot. (Hint 1: Use more than 10 examples to see trends. Hint 2: Consider the signs (+/-).)\n",
    "#\n",
    "# Note about exercises 2&3: MSE really is the best loss function for this problem. The purpose of these exercises is to\n",
    "#    get you thinking critically about autoencoders, loss functions, and the idea of using custom-designed quantitative\n",
    "#    comparisons measures. I hope you find these problems enjoyable and thought-provoking!\n",
    "#"
   ]
  }
 ],
 "metadata": {
  "colab": {
   "provenance": [
    {
     "file_id": "19G9gTeBlYPQ-s3VS_3K2bVFtKTP344j6",
     "timestamp": 1619201549381
    },
    {
     "file_id": "1FcEBC0NAESIlHQkv6_85R-XDUKGE8XbM",
     "timestamp": 1619155961717
    },
    {
     "file_id": "1qKgZ8kVcqNgwtBzHbWq5yJH_HqI6DxWW",
     "timestamp": 1617803880910
    },
    {
     "file_id": "15cpyHkJ435B4MqbyGjAH1poN4nCy_DE4",
     "timestamp": 1617737766196
    },
    {
     "file_id": "1OLuWuaFu0hcFgkQ2hh5BqbRuqUZD7XcQ",
     "timestamp": 1617734878578
    },
    {
     "file_id": "1XvzVGJPTJifVh8OpZVB7ykLxyUqYwQ1j",
     "timestamp": 1617196833019
    },
    {
     "file_id": "1bv1_y32e3KEExFKKlPfC3rpw1JxmBr8H",
     "timestamp": 1617124341706
    },
    {
     "file_id": "1GMq8u7KyHB2AE7Teyls9gK1T01OduQSn",
     "timestamp": 1616697516760
    },
    {
     "file_id": "1Ui3kyHim-e0XLgDs2mkBxVlYg7TKYtcg",
     "timestamp": 1616615469755
    },
    {
     "file_id": "1YpHocGI4rApOxIBb1ZghCU5L-hFnv4CK",
     "timestamp": 1616608248670
    }
   ]
  },
  "kernelspec": {
   "display_name": "Python 3",
   "name": "python3"
  }
 },
 "nbformat": 4,
 "nbformat_minor": 0
}
