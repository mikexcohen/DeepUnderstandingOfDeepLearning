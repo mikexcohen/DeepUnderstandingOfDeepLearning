{
 "cells": [
  {
   "cell_type": "markdown",
   "id": "1e056e69",
   "metadata": {},
   "source": [
    "[![Open In Colab](https://colab.research.google.com/assets/colab-badge.svg)](https://colab.research.google.com/github/ydebessu/DeepUnderstandingOfDeepLearning/blob/main/autoencoders/DUDL_autoenc_denoisingMNIST.ipynb)"
   ]
  },
  {
   "cell_type": "markdown",
   "metadata": {
    "id": "bhWV8oes-wKR"
   },
   "source": [
    "# COURSE: A deep understanding of deep learning\n",
    "## SECTION: Autoencoders\n",
    "### LECTURE: Denoising MNIST\n",
    "#### TEACHER: Mike X Cohen, sincxpress.com\n",
    "##### COURSE URL: udemy.com/course/deeplearning_x/?couponCode=202401"
   ]
  },
  {
   "cell_type": "code",
   "execution_count": null,
   "metadata": {
    "id": "YeuAheYyhdZw"
   },
   "outputs": [],
   "source": [
    "# import libraries\n",
    "import numpy as np\n",
    "\n",
    "import torch\n",
    "import torch.nn as nn\n",
    "import torch.nn.functional as F\n",
    "\n",
    "import matplotlib.pyplot as plt\n",
    "import matplotlib_inline.backend_inline\n",
    "matplotlib_inline.backend_inline.set_matplotlib_formats('svg')"
   ]
  },
  {
   "cell_type": "markdown",
   "metadata": {
    "id": "0HOkOefftqyg"
   },
   "source": [
    "# Import and process the data"
   ]
  },
  {
   "cell_type": "code",
   "execution_count": null,
   "metadata": {
    "id": "MU7rvmWuhjud"
   },
   "outputs": [],
   "source": [
    "# import dataset (comes with colab!)\n",
    "data = np.loadtxt(open('sample_data/mnist_train_small.csv','rb'),delimiter=',')\n",
    "\n",
    "# don't need labels!\n",
    "data = data[:,1:]\n",
    "\n",
    "# normalize the data to a range of [0 1]\n",
    "dataNorm = data / np.max(data)\n",
    "\n",
    "# convert to tensor\n",
    "dataT = torch.tensor( dataNorm ).float()"
   ]
  },
  {
   "cell_type": "markdown",
   "metadata": {
    "id": "OK8Opkhgp0bO"
   },
   "source": [
    "# Create the DL model"
   ]
  },
  {
   "cell_type": "code",
   "execution_count": null,
   "metadata": {
    "id": "JK3OO3tAtZkA"
   },
   "outputs": [],
   "source": [
    "# create a class for the model\n",
    "def createTheMNISTAE():\n",
    "\n",
    "  class aenet(nn.Module):\n",
    "    def __init__(self):\n",
    "      super().__init__()\n",
    "\n",
    "      ### input layer\n",
    "      self.input = nn.Linear(784,250)\n",
    "      \n",
    "      ### encoder layer\n",
    "      self.enc = nn.Linear(250,50)\n",
    "\n",
    "      ### latent layer\n",
    "      self.lat = nn.Linear(50,250)\n",
    "\n",
    "      ### decoder layer\n",
    "      self.dec = nn.Linear(250,784)\n",
    "\n",
    "    # forward pass\n",
    "    def forward(self,x):\n",
    "      x = F.relu( self.input(x) )\n",
    "      x = F.relu( self.enc(x) )\n",
    "      x = F.relu( self.lat(x) )\n",
    "      y = torch.sigmoid( self.dec(x) )\n",
    "      return y\n",
    "  \n",
    "  # create the model instance\n",
    "  net = aenet()\n",
    "  \n",
    "  # loss function\n",
    "  lossfun = nn.MSELoss()\n",
    "\n",
    "  # optimizer\n",
    "  optimizer = torch.optim.Adam(net.parameters(),lr=.001)\n",
    "\n",
    "  return net,lossfun,optimizer"
   ]
  },
  {
   "cell_type": "code",
   "execution_count": null,
   "metadata": {
    "id": "y6icEJcXp0el"
   },
   "outputs": [],
   "source": [
    "# test the model with a bit of data\n",
    "net,lossfun,optimizer = createTheMNISTAE()\n",
    "\n",
    "X = dataT[:5,:]\n",
    "yHat = net(X)\n",
    "\n",
    "print(X.shape)\n",
    "print(yHat.shape)"
   ]
  },
  {
   "cell_type": "code",
   "execution_count": null,
   "metadata": {
    "id": "fmGUUSmoVmWK"
   },
   "outputs": [],
   "source": [
    "# let's see what the model did!\n",
    "fig,axs = plt.subplots(2,5,figsize=(10,3))\n",
    "\n",
    "for i in range(5):\n",
    "  axs[0,i].imshow(X[i,:].view(28,28).detach() ,cmap='gray')\n",
    "  axs[1,i].imshow(yHat[i,:].view(28,28).detach() ,cmap='gray')\n",
    "  axs[0,i].set_xticks([]), axs[0,i].set_yticks([])\n",
    "  axs[1,i].set_xticks([]), axs[1,i].set_yticks([])\n",
    "  \n",
    "plt.suptitle('Yikes!!!')\n",
    "plt.show()"
   ]
  },
  {
   "cell_type": "markdown",
   "metadata": {
    "id": "dvfGQIRGp0ht"
   },
   "source": [
    "# Create a function that trains the model"
   ]
  },
  {
   "cell_type": "code",
   "execution_count": null,
   "metadata": {
    "id": "IblJo1NCp0kl"
   },
   "outputs": [],
   "source": [
    "def function2trainTheModel():\n",
    "\n",
    "  # number of epochs\n",
    "  numepochs = 10000\n",
    "  \n",
    "  # create a new model\n",
    "  net,lossfun,optimizer = createTheMNISTAE()\n",
    "\n",
    "  # initialize losses\n",
    "  losses = torch.zeros(numepochs)\n",
    "\n",
    "\n",
    "  # loop over epochs\n",
    "  for epochi in range(numepochs):\n",
    "\n",
    "    # select a random set of images\n",
    "    randomidx = np.random.choice(dataT.shape[0],size=32)\n",
    "    X = dataT[randomidx,:]\n",
    "\n",
    "    # forward pass and loss\n",
    "    yHat = net(X)\n",
    "    loss = lossfun(yHat,X)\n",
    "\n",
    "    # backprop\n",
    "    optimizer.zero_grad()\n",
    "    loss.backward()\n",
    "    optimizer.step()\n",
    "\n",
    "    # losses in this epoch\n",
    "    losses[epochi] = loss.item()\n",
    "  # end epochs\n",
    "\n",
    "  # function output\n",
    "  return losses,net"
   ]
  },
  {
   "cell_type": "markdown",
   "metadata": {
    "id": "XpGm9xdQ27Ob"
   },
   "source": [
    "# Run the model and show the results!"
   ]
  },
  {
   "cell_type": "code",
   "execution_count": null,
   "metadata": {
    "id": "l9pCC1R2p0nu"
   },
   "outputs": [],
   "source": [
    "# train the model (90s)\n",
    "losses,net = function2trainTheModel()\n",
    "print(f'Final loss: {losses[-1]:.4f}')\n",
    "\n",
    "# visualize the losses\n",
    "plt.plot(losses,'.-')\n",
    "plt.xlabel('Epochs')\n",
    "plt.ylabel('Model loss')\n",
    "plt.title('OK, but what did it actually learn??')\n",
    "plt.show()"
   ]
  },
  {
   "cell_type": "code",
   "execution_count": null,
   "metadata": {
    "id": "Vt2VXlYJX5Gj"
   },
   "outputs": [],
   "source": [
    "# Repeat the visualization when testing the model\n",
    "X = dataT[:5,:]\n",
    "yHat = net(X)\n",
    "\n",
    "\n",
    "# let's see what the model did!\n",
    "fig,axs = plt.subplots(2,5,figsize=(10,3))\n",
    "\n",
    "for i in range(5):\n",
    "  axs[0,i].imshow(X[i,:].view(28,28).detach() ,cmap='gray')\n",
    "  axs[1,i].imshow(yHat[i,:].view(28,28).detach() ,cmap='gray')\n",
    "  axs[0,i].set_xticks([]), axs[0,i].set_yticks([])\n",
    "  axs[1,i].set_xticks([]), axs[1,i].set_yticks([])\n",
    "  \n",
    "plt.suptitle('Disregard the yikes!!!')\n",
    "plt.show()"
   ]
  },
  {
   "cell_type": "markdown",
   "metadata": {
    "id": "pG7_3tYbp0wm"
   },
   "source": [
    "# Add noise to see a use case of an autoencoder"
   ]
  },
  {
   "cell_type": "code",
   "execution_count": null,
   "metadata": {
    "id": "qw56zhmj87WC"
   },
   "outputs": [],
   "source": [
    "# grab a small set of images\n",
    "X = dataT[:10,:]\n",
    "\n",
    "# add noise\n",
    "Xnoise = X + torch.rand_like(X)/4\n",
    "\n",
    "# clip at 1\n",
    "Xnoise[Xnoise>1] = 1\n",
    "\n",
    "\n",
    "# show the noisy images\n",
    "fig,axs = plt.subplots(2,5,figsize=(10,3))\n",
    "\n",
    "for i in range(5):\n",
    "  axs[0,i].imshow(X[i,:].view(28,28).detach() ,cmap='gray')\n",
    "  axs[1,i].imshow(Xnoise[i,:].view(28,28).detach() ,cmap='gray')\n",
    "  axs[0,i].set_xticks([]), axs[0,i].set_yticks([])\n",
    "  axs[1,i].set_xticks([]), axs[1,i].set_yticks([])\n",
    "  \n",
    "plt.show()"
   ]
  },
  {
   "cell_type": "code",
   "execution_count": null,
   "metadata": {
    "id": "DiCaItS8dCJ3"
   },
   "outputs": [],
   "source": [
    "# run through the model\n",
    "Y = net(Xnoise)\n",
    "\n",
    "\n",
    "# show the noisy images\n",
    "fig,axs = plt.subplots(3,10,figsize=(12,5))\n",
    "\n",
    "for i in range(10):\n",
    "  axs[0,i].imshow(X[i,:].view(28,28).detach() ,cmap='gray')\n",
    "  axs[1,i].imshow(Xnoise[i,:].view(28,28).detach() ,cmap='gray')\n",
    "  axs[2,i].imshow(Y[i,:].view(28,28).detach() ,cmap='gray')\n",
    "  axs[0,i].set_xticks([]), axs[0,i].set_yticks([])\n",
    "  axs[1,i].set_xticks([]), axs[1,i].set_yticks([])\n",
    "  axs[2,i].set_xticks([]), axs[2,i].set_yticks([])\n",
    "  \n",
    "plt.suptitle('Neato.')\n",
    "plt.show()"
   ]
  },
  {
   "cell_type": "code",
   "execution_count": null,
   "metadata": {
    "id": "9SnUUHPm7xQE"
   },
   "outputs": [],
   "source": []
  },
  {
   "cell_type": "markdown",
   "metadata": {
    "id": "Uh28k_l29urR"
   },
   "source": [
    "# Additional explorations"
   ]
  },
  {
   "cell_type": "code",
   "execution_count": null,
   "metadata": {
    "id": "ib3uQtfv9wE2"
   },
   "outputs": [],
   "source": [
    "# 1) Because these are continuous data, mean-squared-error is the correct loss function. But I mentioned in the previous \n",
    "#    video that binary cross-entropy loss is *sometimes* used in autoencoders. Does the loss function make a difference\n",
    "#    for this problem? Why?\n",
    "# \n",
    "# 2) Change the number of units in the latent layer to 10. How does that affect the loss and denoising? Don't turn this \n",
    "#    into a full parametric experiment -- that's for the next video!\n",
    "# \n",
    "# 3) The code here picks samples randomly, which means many samples are skipped, and some could be repeated. Change the \n",
    "#    code so that the model goes through every item exactly once per epoch. The order should be randomized to avoid \n",
    "#    possible order effects. You'll probably want to reduce the number of epochs!\n",
    "# \n",
    "# 4) Is it necessary to normalize the data to a range of [0 1]? What are arguments for normalization, and arguments why\n",
    "#    it may not be critical (in this problem)?\n",
    "# \n",
    "# 5) The autoencoder did a pretty decent job at denoising the images. How far can you push this? Try adding more noise\n",
    "#    to the images and re-running the test code (you don't need to retrain the model). Is the autoencoder robust to a\n",
    "#    a larger amount of noise?\n",
    "# "
   ]
  }
 ],
 "metadata": {
  "colab": {
   "authorship_tag": "ABX9TyMMYBOs+CJWj6NXJ0M+a+1O",
   "collapsed_sections": [],
   "name": "DUDL_autoenc_denoisingMNIST.ipynb",
   "provenance": [
    {
     "file_id": "1FcEBC0NAESIlHQkv6_85R-XDUKGE8XbM",
     "timestamp": 1619155961717
    },
    {
     "file_id": "1qKgZ8kVcqNgwtBzHbWq5yJH_HqI6DxWW",
     "timestamp": 1617803880910
    },
    {
     "file_id": "15cpyHkJ435B4MqbyGjAH1poN4nCy_DE4",
     "timestamp": 1617737766196
    },
    {
     "file_id": "1OLuWuaFu0hcFgkQ2hh5BqbRuqUZD7XcQ",
     "timestamp": 1617734878578
    },
    {
     "file_id": "1XvzVGJPTJifVh8OpZVB7ykLxyUqYwQ1j",
     "timestamp": 1617196833019
    },
    {
     "file_id": "1bv1_y32e3KEExFKKlPfC3rpw1JxmBr8H",
     "timestamp": 1617124341706
    },
    {
     "file_id": "1GMq8u7KyHB2AE7Teyls9gK1T01OduQSn",
     "timestamp": 1616697516760
    },
    {
     "file_id": "1Ui3kyHim-e0XLgDs2mkBxVlYg7TKYtcg",
     "timestamp": 1616615469755
    },
    {
     "file_id": "1YpHocGI4rApOxIBb1ZghCU5L-hFnv4CK",
     "timestamp": 1616608248670
    }
   ]
  },
  "kernelspec": {
   "display_name": "Python 3",
   "name": "python3"
  }
 },
 "nbformat": 4,
 "nbformat_minor": 0
}
