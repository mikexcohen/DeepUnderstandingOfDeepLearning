{
 "cells": [
  {
   "cell_type": "markdown",
   "id": "d30985a8",
   "metadata": {},
   "source": [
    "[![Open In Colab](https://colab.research.google.com/assets/colab-badge.svg)](https://colab.research.google.com/github/ydebessu/DeepUnderstandingOfDeepLearning/blob/main/math/DUDL_math_ttest.ipynb)"
   ]
  },
  {
   "cell_type": "markdown",
   "metadata": {
    "id": "bhWV8oes-wKR"
   },
   "source": [
    "# COURSE: A deep understanding of deep learning\n",
    "## SECTION: Math prerequisites\n",
    "### LECTURE: The t-test\n",
    "#### TEACHER: Mike X Cohen, sincxpress.com\n",
    "##### COURSE URL: udemy.com/course/deeplearning_x/?couponCode=202401"
   ]
  },
  {
   "cell_type": "code",
   "execution_count": null,
   "metadata": {
    "id": "wYjuZD1kPb3g"
   },
   "outputs": [],
   "source": [
    "# import libraries\n",
    "import numpy as np\n",
    "import matplotlib.pyplot as plt\n",
    "\n",
    "# NEW!\n",
    "import scipy.stats as stats"
   ]
  },
  {
   "cell_type": "code",
   "execution_count": null,
   "metadata": {
    "id": "tJ_A2ykHS5RY"
   },
   "outputs": [],
   "source": [
    "# parameters\n",
    "n1 = 30   # samples in dataset 1\n",
    "n2 = 40   # ...and 2\n",
    "mu1 = 1   # population mean in dataset 1\n",
    "mu2 = 2   # population mean in dataset 2\n",
    "\n",
    "# generate the data\n",
    "data1 = mu1 + np.random.randn(n1)\n",
    "data2 = mu2 + np.random.randn(n2)\n",
    "\n",
    "\n",
    "\n",
    "# plot them\n",
    "plt.plot(np.zeros(n1),data1,'ro',markerfacecolor='w',markersize=14)\n",
    "plt.plot(np.ones(n2), data2,'bs',markerfacecolor='w',markersize=14)\n",
    "plt.xlim([-1,2])\n",
    "plt.xticks([0,1],labels=['Group 1','Group 2'])\n",
    "plt.show()"
   ]
  },
  {
   "cell_type": "code",
   "execution_count": null,
   "metadata": {
    "id": "oAUTsBE646fN"
   },
   "outputs": [],
   "source": [
    "# t-test via stats package\n",
    "\n",
    "# _ind = independent samples\n",
    "t,p = stats.ttest_ind(data1,data2)\n",
    "print(t)\n",
    "print(p)"
   ]
  },
  {
   "cell_type": "code",
   "execution_count": null,
   "metadata": {
    "id": "mdoWX2Fx5JIy"
   },
   "outputs": [],
   "source": [
    "# common way to show t-test results in a plot\n",
    "fig = plt.figure(figsize=(10,4))\n",
    "plt.rcParams.update({'font.size':12}) # change the font size\n",
    "\n",
    "plt.plot(0+np.random.randn(n1)/15, data1, 'ro',markerfacecolor='w',markersize=14)\n",
    "plt.plot(1+np.random.randn(n2)/15, data2, 'bs',markerfacecolor='w',markersize=14)\n",
    "plt.xlim([-1,2])\n",
    "plt.xticks([0,1],labels=['Group 1','Group 2'])\n",
    "\n",
    "# set the title to include the t-value and p-value\n",
    "plt.title(f't = {t:.2f}, p={p:.3f}')\n",
    "\n",
    "plt.show()"
   ]
  },
  {
   "cell_type": "code",
   "execution_count": null,
   "metadata": {
    "id": "O4iCYmR9yuA7"
   },
   "outputs": [],
   "source": []
  },
  {
   "cell_type": "code",
   "execution_count": null,
   "metadata": {
    "id": "_H15mEDryuOx"
   },
   "outputs": [],
   "source": []
  }
 ],
 "metadata": {
  "colab": {
   "authorship_tag": "ABX9TyNT7nZ3dJB7ZvHntPAobaiK",
   "collapsed_sections": [],
   "name": "DUDL_math_ttest.ipynb",
   "provenance": [
    {
     "file_id": "196i6MReeJLozrRYpZsltVy8BC6X1b9ik",
     "timestamp": 1619030836877
    },
    {
     "file_id": "1KX8lBi9Oey9iD2Aac8X6d-j3dMlyTodJ",
     "timestamp": 1617002781341
    }
   ]
  },
  "kernelspec": {
   "display_name": "Python 3",
   "name": "python3"
  },
  "language_info": {
   "name": "python"
  }
 },
 "nbformat": 4,
 "nbformat_minor": 0
}
