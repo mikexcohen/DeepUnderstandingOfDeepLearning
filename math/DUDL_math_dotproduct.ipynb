{
 "cells": [
  {
   "cell_type": "markdown",
   "id": "12b07de2",
   "metadata": {},
   "source": [
    "[![Open In Colab](https://colab.research.google.com/assets/colab-badge.svg)](https://colab.research.google.com/github/ydebessu/DeepUnderstandingOfDeepLearning/blob/main/math/DUDL_math_dotproduct.ipynb)"
   ]
  },
  {
   "cell_type": "markdown",
   "metadata": {
    "id": "bhWV8oes-wKR"
   },
   "source": [
    "# COURSE: A deep understanding of deep learning\n",
    "## SECTION: Math prerequisites\n",
    "### LECTURE: OMG it's the dot product!\n",
    "#### TEACHER: Mike X Cohen, sincxpress.com\n",
    "##### COURSE URL: udemy.com/course/deeplearning_x/?couponCode=202401"
   ]
  },
  {
   "cell_type": "code",
   "execution_count": null,
   "metadata": {
    "id": "Yx_Rigz1AffS"
   },
   "outputs": [],
   "source": [
    "# import libraries\n",
    "import numpy as np\n",
    "import torch"
   ]
  },
  {
   "cell_type": "markdown",
   "metadata": {
    "id": "uakMyq7UBzCP"
   },
   "source": [
    "# Using numpy"
   ]
  },
  {
   "cell_type": "code",
   "execution_count": null,
   "metadata": {
    "id": "nG3ur0N-AneX"
   },
   "outputs": [],
   "source": [
    "# create a vector\n",
    "nv1 = np.array([1,2,3,4])\n",
    "nv2 = np.array([0,1,0,-1])\n",
    "\n",
    "# dot product via function\n",
    "print(np.dot(nv1,nv2))\n",
    "\n",
    "# dot product via computation\n",
    "print(np.sum( nv1*nv2 ))"
   ]
  },
  {
   "cell_type": "markdown",
   "metadata": {
    "id": "oRLFXHk9BP1r"
   },
   "source": [
    "# Using pytorch"
   ]
  },
  {
   "cell_type": "code",
   "execution_count": null,
   "metadata": {
    "id": "Kjq-oGoUBTXs"
   },
   "outputs": [],
   "source": [
    "# create a vector\n",
    "tv1 = torch.tensor([1,2,3,4])\n",
    "tv2 = torch.tensor([0,1,0,-1])\n",
    "\n",
    "# dot product via function\n",
    "print(torch.dot(tv1,tv2))\n",
    "\n",
    "# dot product via computation\n",
    "print(torch.sum( tv1*tv2 ))"
   ]
  }
 ],
 "metadata": {
  "colab": {
   "authorship_tag": "ABX9TyP/ls4M2Pg6e1QkL9G6yDZM",
   "collapsed_sections": [],
   "name": "DUDL_math_dotproduct.ipynb",
   "provenance": [
    {
     "file_id": "1Cq_BWix2q_95q84lMxiEDIWrIkDR3XPL",
     "timestamp": 1616435155528
    }
   ]
  },
  "kernelspec": {
   "display_name": "Python 3",
   "name": "python3"
  },
  "language_info": {
   "name": "python"
  }
 },
 "nbformat": 4,
 "nbformat_minor": 0
}
