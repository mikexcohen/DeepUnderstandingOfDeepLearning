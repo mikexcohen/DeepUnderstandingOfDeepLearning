{
 "cells": [
  {
   "cell_type": "markdown",
   "id": "89dbca1b",
   "metadata": {},
   "source": [
    "[![Open In Colab](https://colab.research.google.com/assets/colab-badge.svg)](https://colab.research.google.com/github/ydebessu/DeepUnderstandingOfDeepLearning/blob/main/math/DUDL_math_derivatives2.ipynb)"
   ]
  },
  {
   "cell_type": "markdown",
   "metadata": {
    "id": "bhWV8oes-wKR"
   },
   "source": [
    "# COURSE: A deep understanding of deep learning\n",
    "## SECTION: Math prerequisites\n",
    "### LECTURE: Derivatives: product and chain rules\n",
    "#### TEACHER: Mike X Cohen, sincxpress.com\n",
    "##### COURSE URL: udemy.com/course/deeplearning_x/?couponCode=202401"
   ]
  },
  {
   "cell_type": "code",
   "execution_count": null,
   "metadata": {
    "id": "YvEj7AGdffUn"
   },
   "outputs": [],
   "source": [
    "# import libraries\n",
    "import numpy as np\n",
    "import sympy as sym\n",
    "\n",
    "# make the equations look nicer\n",
    "from IPython.display import display"
   ]
  },
  {
   "cell_type": "code",
   "execution_count": null,
   "metadata": {
    "id": "2WUCrL06fngf"
   },
   "outputs": [],
   "source": [
    "# create symbolic variables in sympy\n",
    "x = sym.symbols('x')\n",
    "\n",
    "# create two functions\n",
    "fx = 2*x**2\n",
    "gx = 4*x**3 - 3*x**4\n",
    "\n",
    "# compute their individual derivatives\n",
    "df = sym.diff(fx)\n",
    "dg = sym.diff(gx)\n",
    "\n",
    "# apply the product rule \"manually\"\n",
    "manual = df*gx + fx*dg\n",
    "thewrongway = df*dg\n",
    "\n",
    "# via sympy\n",
    "viasympy = sym.diff( fx*gx )\n",
    "\n",
    "\n",
    "# print everything\n",
    "print('The functions:')\n",
    "display(fx)\n",
    "display(gx)\n",
    "print(' ')\n",
    "\n",
    "print('Their derivatives:')\n",
    "display(df)\n",
    "display(dg)\n",
    "print(' ')\n",
    "\n",
    "print('Manual product rule:')\n",
    "display(manual)\n",
    "print(' ')\n",
    "\n",
    "print('Via sympy:')\n",
    "display(viasympy)\n",
    "print(' ')\n",
    "\n",
    "\n",
    "print('The wrong way:')\n",
    "display(thewrongway)"
   ]
  },
  {
   "cell_type": "code",
   "execution_count": null,
   "metadata": {
    "id": "MSxztQoagCVt"
   },
   "outputs": [],
   "source": [
    "# repeat with chain rule\n",
    "gx = x**2 + 4*x**3\n",
    "fx = ( gx )**5\n",
    "\n",
    "print('The function:')\n",
    "display(fx)\n",
    "print(' ')\n",
    "\n",
    "print('Its derivative:')\n",
    "display(sym.diff(fx))"
   ]
  },
  {
   "cell_type": "code",
   "execution_count": null,
   "metadata": {
    "id": "BhMh2UGDhScO"
   },
   "outputs": [],
   "source": []
  }
 ],
 "metadata": {
  "colab": {
   "authorship_tag": "ABX9TyOR72BPWb6K8zjZtQ9R8TZj",
   "collapsed_sections": [],
   "name": "DUDL_math_derivatives2.ipynb",
   "provenance": []
  },
  "kernelspec": {
   "display_name": "Python 3",
   "name": "python3"
  },
  "language_info": {
   "name": "python"
  }
 },
 "nbformat": 4,
 "nbformat_minor": 0
}
