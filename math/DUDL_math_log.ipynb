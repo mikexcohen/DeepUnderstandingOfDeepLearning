{
 "cells": [
  {
   "cell_type": "markdown",
   "id": "1996d385",
   "metadata": {},
   "source": [
    "[![Open In Colab](https://colab.research.google.com/assets/colab-badge.svg)](https://colab.research.google.com/github/ydebessu/DeepUnderstandingOfDeepLearning/blob/main/math/DUDL_math_log.ipynb)"
   ]
  },
  {
   "cell_type": "markdown",
   "metadata": {
    "id": "bhWV8oes-wKR"
   },
   "source": [
    "# COURSE: A deep understanding of deep learning\n",
    "## SECTION: Math prerequisites\n",
    "### LECTURE: Logarithms\n",
    "#### TEACHER: Mike X Cohen, sincxpress.com\n",
    "##### COURSE URL: udemy.com/course/deeplearning_x/?couponCode=202401"
   ]
  },
  {
   "cell_type": "code",
   "execution_count": null,
   "metadata": {
    "id": "wYjuZD1kPb3g"
   },
   "outputs": [],
   "source": [
    "# import libraries\n",
    "import numpy as np\n",
    "import matplotlib.pyplot as plt"
   ]
  },
  {
   "cell_type": "code",
   "execution_count": null,
   "metadata": {
    "id": "tJ_A2ykHS5RY"
   },
   "outputs": [],
   "source": [
    "# define a set of points to evaluate\n",
    "x = np.linspace(.0001,1,200)\n",
    "\n",
    "# compute their log\n",
    "logx = np.log(x)\n",
    "\n",
    "\n",
    "\n",
    "# plot!\n",
    "fig = plt.figure(figsize=(10,4))\n",
    "\n",
    "# increase font size. FYI\n",
    "plt.rcParams.update({'font.size':15})\n",
    "\n",
    "plt.plot(x,logx,'ks-',markerfacecolor='w')\n",
    "plt.xlabel('x')\n",
    "plt.ylabel('log(x)')\n",
    "plt.show()"
   ]
  },
  {
   "cell_type": "code",
   "execution_count": null,
   "metadata": {
    "id": "QZaS568IThAr"
   },
   "outputs": [],
   "source": [
    "# demonstration that log and exp are inverses\n",
    "\n",
    "# redefine with fewer points\n",
    "x = np.linspace(.0001,1,20)\n",
    "\n",
    "# log and exp\n",
    "logx = np.log(x)\n",
    "expx = np.exp(x)\n",
    "\n",
    "# the plot\n",
    "plt.plot(x,x,color=[.8,.8,.8])\n",
    "plt.plot(x,np.exp(logx),'o',markersize=8)\n",
    "plt.plot(x,np.log(expx),'x',markersize=8)\n",
    "plt.xlabel('x')\n",
    "plt.ylabel('f(g(x))')\n",
    "plt.legend(['unity','exp(log(x))','log(exp(x))'])\n",
    "plt.show()\n"
   ]
  }
 ],
 "metadata": {
  "colab": {
   "authorship_tag": "ABX9TyOTCYJ+mDz/ypupGyViltVn",
   "collapsed_sections": [],
   "name": "DUDL_math_log.ipynb",
   "provenance": []
  },
  "kernelspec": {
   "display_name": "Python 3",
   "name": "python3"
  },
  "language_info": {
   "name": "python"
  }
 },
 "nbformat": 4,
 "nbformat_minor": 0
}
