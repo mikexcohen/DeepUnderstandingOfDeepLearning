{
 "cells": [
  {
   "cell_type": "markdown",
   "id": "bb9f0c9d",
   "metadata": {},
   "source": [
    "[![Open In Colab](https://colab.research.google.com/assets/colab-badge.svg)](https://colab.research.google.com/github/ydebessu/DeepUnderstandingOfDeepLearning/blob/main/math/DUDL_math_derivatives1.ipynb)"
   ]
  },
  {
   "cell_type": "markdown",
   "metadata": {
    "id": "bhWV8oes-wKR"
   },
   "source": [
    "# COURSE: A deep understanding of deep learning\n",
    "## SECTION: Math prerequisites\n",
    "### LECTURE: Derivatives: intuition and polynomials\n",
    "#### TEACHER: Mike X Cohen, sincxpress.com\n",
    "##### COURSE URL: udemy.com/course/deeplearning_x/?couponCode=202401"
   ]
  },
  {
   "cell_type": "code",
   "execution_count": null,
   "metadata": {
    "id": "YvEj7AGdffUn"
   },
   "outputs": [],
   "source": [
    "import numpy as np\n",
    "import matplotlib.pyplot as plt\n",
    "\n",
    "# sympy = symbolic math in Python\n",
    "import sympy as sym\n",
    "import sympy.plotting.plot as symplot"
   ]
  },
  {
   "cell_type": "code",
   "execution_count": null,
   "metadata": {
    "id": "2WUCrL06fngf"
   },
   "outputs": [],
   "source": [
    "# create symbolic variables in sympy\n",
    "x = sym.symbols('x')\n",
    "\n",
    "# create a function\n",
    "fx = 2*x**2\n",
    "\n",
    "# compute its derivative\n",
    "df = sym.diff(fx,x)\n",
    "\n",
    "# print them\n",
    "print(fx)\n",
    "print(df)"
   ]
  },
  {
   "cell_type": "code",
   "execution_count": null,
   "metadata": {
    "id": "MSxztQoagCVt"
   },
   "outputs": [],
   "source": [
    "# plot them\n",
    "symplot(fx,(x,-4,4),title='The function')\n",
    "plt.show()\n",
    "\n",
    "symplot(df,(x,-4,4),title='Its derivative')\n",
    "plt.show()\n"
   ]
  },
  {
   "cell_type": "code",
   "execution_count": null,
   "metadata": {
    "id": "BhMh2UGDhScO"
   },
   "outputs": [],
   "source": [
    "# repeat with relu and sigmoid\n",
    "\n",
    "# create symbolic functions\n",
    "relu = sym.Max(0,x)\n",
    "sigmoid = 1 / (1+sym.exp(-x))\n",
    "\n",
    "# graph the functions\n",
    "p = symplot(relu,(x,-4,4),label='ReLU',show=False,line_color='blue')\n",
    "p.extend( symplot(sigmoid,(x,-4,4),label='Sigmoid',show=False,line_color='red') )\n",
    "p.legend = True\n",
    "p.title = 'The functions'\n",
    "p.show()\n",
    "\n",
    "\n",
    "# graph their derivatives\n",
    "p = symplot(sym.diff(relu),(x,-4,4),label='df(ReLU)',show=False,line_color='blue')\n",
    "p.extend( symplot(sym.diff(sigmoid),(x,-4,4),label='df(Sigmoid)',show=False,line_color='red') )\n",
    "p.legend = True\n",
    "p.title = 'The derivatives'\n",
    "p.show()\n"
   ]
  }
 ],
 "metadata": {
  "colab": {
   "authorship_tag": "ABX9TyO9sexGvS+Zgx1ajxmKpDH3",
   "collapsed_sections": [],
   "name": "DUDL_math_derivatives1.ipynb",
   "provenance": []
  },
  "kernelspec": {
   "display_name": "Python 3",
   "name": "python3"
  },
  "language_info": {
   "name": "python"
  }
 },
 "nbformat": 4,
 "nbformat_minor": 0
}
