{
 "cells": [
  {
   "cell_type": "markdown",
   "id": "e041ca32",
   "metadata": {},
   "source": [
    "[![Open In Colab](https://colab.research.google.com/assets/colab-badge.svg)](https://colab.research.google.com/github/ydebessu/DeepUnderstandingOfDeepLearning/blob/main/metaparams/DUDL_metaparams_multioutput.ipynb)"
   ]
  },
  {
   "cell_type": "markdown",
   "metadata": {
    "id": "bhWV8oes-wKR"
   },
   "source": [
    "# COURSE: A deep understanding of deep learning\n",
    "## SECTION: Metaparameters (activations, optimizers)\n",
    "### LECTURE: More practice with multioutput ANNs\n",
    "#### TEACHER: Mike X Cohen, sincxpress.com\n",
    "##### COURSE URL: udemy.com/course/deeplearning_x/?couponCode=202401"
   ]
  },
  {
   "cell_type": "code",
   "execution_count": null,
   "metadata": {
    "id": "j7-LiwqUMGYL"
   },
   "outputs": [],
   "source": [
    "# import libraries\n",
    "import torch\n",
    "import torch.nn as nn\n",
    "import torch.nn.functional as F\n",
    "from torch.utils.data import DataLoader,TensorDataset\n",
    "from sklearn.model_selection import train_test_split\n",
    "\n",
    "import numpy as np\n",
    "\n",
    "import matplotlib.pyplot as plt\n",
    "import matplotlib_inline.backend_inline\n",
    "matplotlib_inline.backend_inline.set_matplotlib_formats('svg')"
   ]
  },
  {
   "cell_type": "markdown",
   "metadata": {
    "id": "E5XW-r_kT3_9"
   },
   "source": [
    "# Create and inspect the data"
   ]
  },
  {
   "cell_type": "code",
   "execution_count": null,
   "metadata": {
    "id": "j-SP8NPsMNRL"
   },
   "outputs": [],
   "source": [
    "# create data\n",
    "\n",
    "nPerClust = 300\n",
    "blur = 1\n",
    "\n",
    "A = [ 1, 1 ]\n",
    "B = [ 5, 1 ]\n",
    "C = [ 4, 4 ]\n",
    "\n",
    "# generate data\n",
    "a = [ A[0]+np.random.randn(nPerClust)*blur , A[1]+np.random.randn(nPerClust)*blur ]\n",
    "b = [ B[0]+np.random.randn(nPerClust)*blur , B[1]+np.random.randn(nPerClust)*blur ]\n",
    "c = [ C[0]+np.random.randn(nPerClust)*blur , C[1]+np.random.randn(nPerClust)*blur ]\n",
    "\n",
    "# true labels\n",
    "labels_np = np.hstack((  np.zeros((nPerClust)),\n",
    "                         np.ones( (nPerClust)),\n",
    "                       1+np.ones( (nPerClust))  ))\n",
    "\n",
    "# concatanate into a matrix\n",
    "data_np = np.hstack((a,b,c)).T\n",
    "\n",
    "# convert to a pytorch tensor\n",
    "data = torch.tensor(data_np).float()\n",
    "labels = torch.tensor(labels_np).long() # note: \"long\" format for CCE\n",
    "\n",
    "# show the data\n",
    "fig = plt.figure(figsize=(5,5))\n",
    "plt.plot(data[np.where(labels==0)[0],0],data[np.where(labels==0)[0],1],'bs',alpha=.5)\n",
    "plt.plot(data[np.where(labels==1)[0],0],data[np.where(labels==1)[0],1],'ko',alpha=.5)\n",
    "plt.plot(data[np.where(labels==2)[0],0],data[np.where(labels==2)[0],1],'r^',alpha=.5)\n",
    "plt.title('The qwerties!')\n",
    "plt.xlabel('qwerty dimension 1')\n",
    "plt.ylabel('qwerty dimension 2')\n",
    "plt.show()"
   ]
  },
  {
   "cell_type": "code",
   "execution_count": null,
   "metadata": {
    "id": "05kSm4Jkjvd_"
   },
   "outputs": [],
   "source": [
    "# use scikitlearn to split the data\n",
    "train_data,test_data, train_labels,test_labels = train_test_split(data, labels, test_size=.1)\n",
    "\n",
    "# then convert them into PyTorch Datasets (note: already converted to tensors)\n",
    "train_data = TensorDataset(train_data,train_labels)\n",
    "test_data  = TensorDataset(test_data,test_labels)\n",
    "\n",
    "# finally, translate into dataloader objects\n",
    "batchsize    = 16\n",
    "train_loader = DataLoader(train_data,batch_size=batchsize,shuffle=True,drop_last=True)\n",
    "test_loader  = DataLoader(test_data,batch_size=test_data.tensors[0].shape[0])"
   ]
  },
  {
   "cell_type": "code",
   "execution_count": null,
   "metadata": {
    "id": "oFgvfJNhXVGc"
   },
   "outputs": [],
   "source": [
    "# how many batches are there?\n",
    "\n",
    "print(f'There are {len(train_loader)} batches, each with {batchsize} samples.')"
   ]
  },
  {
   "cell_type": "markdown",
   "metadata": {
    "id": "aTmhaS-qTyaE"
   },
   "source": [
    "# Create and validate the model"
   ]
  },
  {
   "cell_type": "code",
   "execution_count": null,
   "metadata": {
    "id": "z0YpD6f-j8dG"
   },
   "outputs": [],
   "source": [
    "# create a class for the model\n",
    "def createTheQwertyNet():\n",
    "\n",
    "  class qwertyNet(nn.Module):\n",
    "    def __init__(self):\n",
    "      super().__init__()\n",
    "\n",
    "      ### input layer\n",
    "      self.input = nn.Linear(2,8)\n",
    "      \n",
    "      ### hidden layer\n",
    "      self.fc1 = nn.Linear(8,8)\n",
    "\n",
    "      ### output layer\n",
    "      self.output = nn.Linear(8,3)\n",
    "\n",
    "    # forward pass\n",
    "    def forward(self,x):\n",
    "      x = F.relu( self.input(x) )\n",
    "      x = F.relu( self.fc1(x) )\n",
    "      return self.output(x)\n",
    "  \n",
    "  # create the model instance\n",
    "  net = qwertyNet()\n",
    "  \n",
    "  # loss function\n",
    "  lossfun = nn.CrossEntropyLoss()\n",
    "\n",
    "  # optimizer\n",
    "  optimizer = torch.optim.SGD(net.parameters(),lr=.01)\n",
    "\n",
    "  return net,lossfun,optimizer"
   ]
  },
  {
   "cell_type": "code",
   "execution_count": null,
   "metadata": {
    "id": "krQeh5wYMNla"
   },
   "outputs": [],
   "source": [
    "# test the model with fake input\n",
    "\n",
    "net,lossf,opt = createTheQwertyNet()\n",
    "print(net)\n",
    "\n",
    "# input is ten samples\n",
    "input = torch.rand(10,2)\n",
    "net(input)"
   ]
  },
  {
   "cell_type": "markdown",
   "metadata": {
    "id": "wfdu2L4wUBFt"
   },
   "source": [
    "# A function that trains the model"
   ]
  },
  {
   "cell_type": "code",
   "execution_count": null,
   "metadata": {
    "id": "7Q0nmoUPmu-5"
   },
   "outputs": [],
   "source": [
    "def function2trainTheModel():\n",
    "\n",
    "  # number of epochs\n",
    "  numepochs = 100\n",
    "  \n",
    "  # create a new model\n",
    "  net,lossfun,optimizer = createTheQwertyNet()\n",
    "\n",
    "  # initialize losses\n",
    "  losses   = torch.zeros(numepochs)\n",
    "  trainAcc = []\n",
    "  testAcc  = []\n",
    "\n",
    "  # loop over epochs\n",
    "  for epochi in range(numepochs):\n",
    "\n",
    "    # switch on training mode\n",
    "    net.train()\n",
    "\n",
    "    # loop over training data batches\n",
    "    batchAcc  = []\n",
    "    batchLoss = []\n",
    "    for X,y in train_loader:\n",
    "\n",
    "      # forward pass and loss\n",
    "      yHat = net(X)\n",
    "      loss = lossfun(yHat,y)\n",
    "\n",
    "      # backprop\n",
    "      optimizer.zero_grad()\n",
    "      loss.backward()\n",
    "      optimizer.step()\n",
    "\n",
    "      # loss from this batch\n",
    "      batchLoss.append(loss.item())\n",
    "\n",
    "      # compute accuracy\n",
    "      matches = torch.argmax(yHat,axis=1) == y     # booleans (false/true)\n",
    "      matchesNumeric = matches.float()             # convert to numbers (0/1)\n",
    "      accuracyPct = 100*torch.mean(matchesNumeric) # average and x100 \n",
    "      batchAcc.append( accuracyPct )               # add to list of accuracies\n",
    "    # end of batch loop...\n",
    "\n",
    "    # now that we've trained through the batches, get their average training accuracy\n",
    "    trainAcc.append( np.mean(batchAcc) )\n",
    "\n",
    "    # and get average losses across the batches\n",
    "    losses[epochi] = np.mean(batchLoss)\n",
    "\n",
    "    # test accuracy\n",
    "    net.eval()\n",
    "    X,y = next(iter(test_loader)) # extract X,y from test dataloader\n",
    "    with torch.no_grad(): # deactivates autograd\n",
    "      yHat = net(X)\n",
    "      \n",
    "    # compare the following really long line of code to the training accuracy lines\n",
    "    testAcc.append( 100*torch.mean((torch.argmax(yHat,axis=1)==y).float()) ) \n",
    "  # end epochs\n",
    "\n",
    "  # function output\n",
    "  return trainAcc,testAcc,losses,net\n"
   ]
  },
  {
   "cell_type": "markdown",
   "metadata": {
    "id": "xTFBJ4MeUJmV"
   },
   "source": [
    "# Run the model and plot the results"
   ]
  },
  {
   "cell_type": "code",
   "execution_count": null,
   "metadata": {
    "id": "of9E8ClxMNsD"
   },
   "outputs": [],
   "source": [
    "# run the model\n",
    "trainAcc,testAcc,losses,net = function2trainTheModel()"
   ]
  },
  {
   "cell_type": "code",
   "execution_count": null,
   "metadata": {
    "id": "zmX6K49WMNuy"
   },
   "outputs": [],
   "source": [
    "fig,ax = plt.subplots(1,2,figsize=(13,4))\n",
    "\n",
    "ax[0].plot(losses.detach())\n",
    "ax[0].set_ylabel('Loss')\n",
    "ax[0].set_xlabel('epoch')\n",
    "ax[0].set_title('Losses')\n",
    "\n",
    "ax[1].plot(trainAcc,label='Train')\n",
    "ax[1].plot(testAcc,label='Test')\n",
    "ax[1].set_ylabel('Accuracy (%)')\n",
    "ax[1].set_xlabel('Epoch')\n",
    "ax[1].set_title('Accuracy')\n",
    "ax[1].legend()\n",
    "plt.show()"
   ]
  },
  {
   "cell_type": "code",
   "execution_count": null,
   "metadata": {
    "id": "i1TCt0mpMNxC"
   },
   "outputs": [],
   "source": [
    "# run the data through the model to get the categorical predictions\n",
    "yHat = net(data)\n",
    "predictions = torch.argmax(yHat,axis=1)\n",
    "\n",
    "# and plot those against the real data\n",
    "plt.plot(predictions,'o',label='Predicted values')\n",
    "plt.plot(labels+.2,'s',label='True values')\n",
    "plt.xlabel('Qwerty number')\n",
    "plt.ylabel('Category')\n",
    "plt.yticks([0,1,2])\n",
    "plt.ylim([-1,3])\n",
    "plt.legend()\n",
    "plt.show()"
   ]
  },
  {
   "cell_type": "code",
   "execution_count": null,
   "metadata": {
    "id": "tMCInlW6xKCw"
   },
   "outputs": [],
   "source": [
    "# recode each prediction by accuracy\n",
    "accuracy = (predictions == labels).float()\n",
    "\n",
    "# compute overall accuracy\n",
    "totalAcc = torch.mean(100*accuracy).item()\n",
    "\n",
    "# and average by group\n",
    "accuracyByGroup = np.zeros(3)\n",
    "for i in range(3):\n",
    "  accuracyByGroup[i] = 100*torch.mean(accuracy[labels==i])\n",
    "\n",
    "plt.bar(range(3),accuracyByGroup)\n",
    "plt.ylim([80,100])\n",
    "plt.xticks([0,1,2])\n",
    "plt.xlabel('Group')\n",
    "plt.ylabel('Accuracy (%)')\n",
    "plt.title(f'Final accuracy = {totalAcc:.2f}%')\n",
    "plt.show()"
   ]
  },
  {
   "cell_type": "code",
   "execution_count": null,
   "metadata": {
    "id": "YTHj0h7GEVMq"
   },
   "outputs": [],
   "source": [
    "# Finally, show the qwerties in their native space, labeled by accuracy\n",
    "\n",
    "# data markers\n",
    "colorShapes = [ 'bs','ko','g^' ]\n",
    "\n",
    "\n",
    "# show the data\n",
    "fig = plt.figure(figsize=(7,7))\n",
    "\n",
    "# plot correct and incorrect labeled data\n",
    "for i in range(3):\n",
    "  # plot all data points for this label\n",
    "  plt.plot(data[labels==i,0],data[labels==i,1],colorShapes[i],\n",
    "                 alpha=.3,label=f'Group {i}')\n",
    "  \n",
    "  # cross out the incorrect ones\n",
    "  idxErr = (accuracy==0) & (labels==i)\n",
    "  plt.plot(data[idxErr,0],data[idxErr,1],'rx')\n",
    "\n",
    "plt.title(f'The qwerties! ({totalAcc:.0f}% accurately labeled)')\n",
    "plt.xlabel('qwerty dimension 1')\n",
    "plt.ylabel('qwerty dimension 2')\n",
    "plt.legend()\n",
    "plt.show()"
   ]
  },
  {
   "cell_type": "code",
   "execution_count": null,
   "metadata": {
    "id": "vD3FdXbSVpHS"
   },
   "outputs": [],
   "source": []
  },
  {
   "cell_type": "markdown",
   "metadata": {
    "id": "R-mFxWT2Vpc1"
   },
   "source": [
    "# Additional explorations"
   ]
  },
  {
   "cell_type": "code",
   "execution_count": null,
   "metadata": {
    "id": "KEV0b8kiVpfO"
   },
   "outputs": [],
   "source": [
    "# 1) There are three categories and 8 units in the hidden layer. Is that more units than we need? Try re-running the model\n",
    "#    with 3 units insted of 8. Does the model still perform well? Does it perform equally well on all three categories?\n",
    "# \n",
    "# 2) One of the advantages of using simulated data is that you can have as much -- or as little -- data as possible. This\n",
    "#    allows you to explore how much data the model needs for learning. Re-run this notebook using N=50/cluster (nb: you \n",
    "#    might want to adjust the minibatch size). Is that enough to get good accuracy? Now try using N=1000/cluster. You can\n",
    "#    run a parametric experiment to determine how model accuracy depends on the amount of data.\n",
    "# \n",
    "# 3) Where do you put torch.no_grad() to crash the model? That is, find the one line (or maybe there is more than one?)\n",
    "#    where the following crashes the model:\n",
    "#      with torch.no_grad():\n",
    "#        <key line here>\n",
    "# \n",
    "#    What does your discovery tell you about where during training the gradients are computed and used?\n",
    "# "
   ]
  }
 ],
 "metadata": {
  "colab": {
   "authorship_tag": "ABX9TyOhvGWC6/vkB/AaV1KoO1ap",
   "collapsed_sections": [],
   "name": "DUDL_metaparams_multioutput.ipynb",
   "provenance": [
    {
     "file_id": "10_geQnah5AvMsm8VDAQwNPhypOXradar",
     "timestamp": 1617634658608
    },
    {
     "file_id": "1FtQ99beHYcDFDywLdaPgFm-KjBeI8PvD",
     "timestamp": 1615877547147
    }
   ]
  },
  "kernelspec": {
   "display_name": "Python 3",
   "name": "python3"
  }
 },
 "nbformat": 4,
 "nbformat_minor": 0
}
