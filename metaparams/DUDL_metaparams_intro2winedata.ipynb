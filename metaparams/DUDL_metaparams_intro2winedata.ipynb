{
 "cells": [
  {
   "cell_type": "markdown",
   "id": "d8253774",
   "metadata": {},
   "source": [
    "[![Open In Colab](https://colab.research.google.com/assets/colab-badge.svg)](https://colab.research.google.com/github/ydebessu/DeepUnderstandingOfDeepLearning/blob/main/metaparams/DUDL_metaparams_intro2winedata.ipynb)"
   ]
  },
  {
   "cell_type": "markdown",
   "metadata": {
    "id": "bhWV8oes-wKR"
   },
   "source": [
    "# COURSE: A deep understanding of deep learning\n",
    "## SECTION: Metaparameters (activation, batch, optimizers)\n",
    "### LECTURE: The \"wine quality\" dataset\n",
    "#### TEACHER: Mike X Cohen, sincxpress.com\n",
    "##### COURSE URL: udemy.com/course/deeplearning_x/?couponCode=202401"
   ]
  },
  {
   "cell_type": "code",
   "execution_count": null,
   "metadata": {
    "id": "7U3TmybM4yMw"
   },
   "outputs": [],
   "source": [
    "### import libraries\n",
    "\n",
    "# for DL modeling\n",
    "import torch\n",
    "from torch.utils.data import DataLoader,TensorDataset\n",
    "from sklearn.model_selection import train_test_split\n",
    "\n",
    "# for number-crunching\n",
    "import numpy as np\n",
    "import scipy.stats as stats\n",
    "\n",
    "# for dataset management\n",
    "import pandas as pd\n",
    "\n",
    "# for data visualization\n",
    "import matplotlib.pyplot as plt\n",
    "import seaborn as sns"
   ]
  },
  {
   "cell_type": "markdown",
   "metadata": {
    "id": "2anVFzBXGdwH"
   },
   "source": [
    "# Import and process the data"
   ]
  },
  {
   "cell_type": "code",
   "execution_count": null,
   "metadata": {
    "id": "0ohXIxzt4_U2"
   },
   "outputs": [],
   "source": [
    "url = \"https://archive.ics.uci.edu/ml/machine-learning-databases/wine-quality/winequality-red.csv\"\n",
    "\n",
    "data = pd.read_csv(url,sep=';')\n",
    "data"
   ]
  },
  {
   "cell_type": "code",
   "execution_count": null,
   "metadata": {
    "id": "WwRtOmUp5C80"
   },
   "outputs": [],
   "source": [
    "# describe the data\n",
    "data.describe()"
   ]
  },
  {
   "cell_type": "code",
   "execution_count": null,
   "metadata": {
    "id": "RnOfpGIC5GOs"
   },
   "outputs": [],
   "source": [
    "# list number of unique values per column\n",
    "\n",
    "for i in data.keys():\n",
    "  print(f'{i} has {len(np.unique(data[i]))} unique values')"
   ]
  },
  {
   "cell_type": "code",
   "execution_count": null,
   "metadata": {
    "id": "x2MblTGN5Gc0"
   },
   "outputs": [],
   "source": [
    "# pairwise plots\n",
    "cols2plot = ['fixed acidity','volatile acidity','citric acid','quality']\n",
    "sns.pairplot(data[cols2plot],kind='reg',hue='quality')\n",
    "plt.show()"
   ]
  },
  {
   "cell_type": "code",
   "execution_count": null,
   "metadata": {
    "id": "Ht-Xh9Db-ajg"
   },
   "outputs": [],
   "source": [
    "# plot some data\n",
    "fig,ax = plt.subplots(1,figsize=(17,4))\n",
    "ax = sns.boxplot(data=data)\n",
    "ax.set_xticklabels(ax.get_xticklabels(),rotation=45)\n",
    "plt.show()\n",
    "\n",
    "\n",
    "# remove rows with outliers\n",
    "# data = data[data['total sulfur dioxide']<200]"
   ]
  },
  {
   "cell_type": "code",
   "execution_count": null,
   "metadata": {
    "id": "BD3oTedE5Gfk"
   },
   "outputs": [],
   "source": [
    "### z-score all variables except for quality\n",
    "\n",
    "# find the columns we want to normalize (all except quality)\n",
    "cols2zscore = data.keys()\n",
    "cols2zscore = cols2zscore.drop('quality')\n",
    "\n",
    "# z-score (written out for clarity)\n",
    "for col in cols2zscore:\n",
    "  meanval   = np.mean(data[col])\n",
    "  stdev     = np.std(data[col],ddof=1)\n",
    "  data[col] = (data[col]-meanval) / stdev\n",
    "\n",
    "# can also do more compactly\n",
    "#data[cols2zscore] = data[cols2zscore].apply(stats.zscore)\n",
    "\n",
    "data.describe()"
   ]
  },
  {
   "cell_type": "code",
   "execution_count": null,
   "metadata": {
    "id": "BRBQ7vdZ5GiU"
   },
   "outputs": [],
   "source": [
    "# check the plot again\n",
    "fig,ax = plt.subplots(1,figsize=(17,4))\n",
    "ax = sns.boxplot(data=data)\n",
    "ax.set_xticklabels(ax.get_xticklabels(),rotation=45)\n",
    "plt.show()"
   ]
  },
  {
   "cell_type": "code",
   "execution_count": null,
   "metadata": {
    "id": "qjvI_6Su5Gk-"
   },
   "outputs": [],
   "source": [
    "# distribution quality values\n",
    "fig = plt.figure(figsize=(10,7))\n",
    "plt.rcParams.update({'font.size': 22}) # increase font size in the figure\n",
    "\n",
    "counts = data['quality'].value_counts()\n",
    "plt.bar(list(counts.keys()),counts)\n",
    "plt.xlabel('Quality rating')\n",
    "plt.ylabel('Count')\n",
    "plt.show()\n",
    "\n",
    "# create a new column for binarized (boolean) quality\n",
    "data['boolQuality'] = 0\n",
    "# data['boolQuality'][data['quality']<6] = 0 # implicit in the code! just here for clarity\n",
    "data['boolQuality'][data['quality']>5] = 1\n",
    "\n",
    "data[['quality','boolQuality']]"
   ]
  },
  {
   "cell_type": "markdown",
   "metadata": {
    "id": "vGQd7xmM5Gns"
   },
   "source": [
    "# Re-organize the data: train/test in DataLoaders"
   ]
  },
  {
   "cell_type": "code",
   "execution_count": null,
   "metadata": {
    "id": "2kZ6YPe8Gav5"
   },
   "outputs": [],
   "source": [
    "# convert from pandas dataframe to tensor\n",
    "dataT  = torch.tensor( data[cols2zscore].values ).float()\n",
    "labels = torch.tensor( data['boolQuality'].values ).float()\n",
    "\n",
    "print( dataT.shape )\n",
    "print( labels.shape )\n",
    "\n",
    "# we'll actually need the labels to be a \"tensor\"\n",
    "labels = labels[:,None]\n",
    "print( labels.shape )"
   ]
  },
  {
   "cell_type": "code",
   "execution_count": null,
   "metadata": {
    "id": "bbf064xxGa_x"
   },
   "outputs": [],
   "source": [
    "# use scikitlearn to split the data\n",
    "train_data,test_data, train_labels,test_labels = train_test_split(dataT, labels, test_size=.1)\n",
    "\n",
    "\n",
    "# then convert them into PyTorch Datasets (note: already converted to tensors)\n",
    "train_data = TensorDataset(train_data,train_labels)\n",
    "test_data  = TensorDataset(test_data,test_labels)\n",
    "\n",
    "\n",
    "# finally, translate into dataloader objects\n",
    "batchsize    = 64\n",
    "train_loader = DataLoader(train_data,batch_size=batchsize,shuffle=True)\n",
    "test_loader  = DataLoader(test_data,batch_size=test_data.tensors[0].shape[0])"
   ]
  },
  {
   "cell_type": "code",
   "execution_count": null,
   "metadata": {
    "id": "rflLNH9TGbap"
   },
   "outputs": [],
   "source": [
    "# check sizes of data batches\n",
    "for X,y in train_loader:\n",
    "  print(X.shape,y.shape)\n",
    "\n",
    "# go back and set drop_last=True in training DataLoader"
   ]
  },
  {
   "cell_type": "code",
   "execution_count": null,
   "metadata": {
    "id": "_7mAB4utDMeh"
   },
   "outputs": [],
   "source": []
  },
  {
   "cell_type": "markdown",
   "metadata": {
    "id": "O4i8NuVeNAtB"
   },
   "source": [
    "# Additional explorations"
   ]
  },
  {
   "cell_type": "code",
   "execution_count": null,
   "metadata": {
    "id": "G0FIpfxgNOIy"
   },
   "outputs": [],
   "source": [
    "# 1) In a later video, we will use DL to predict residual sugar. Use seaborn to make a histogram of that data column.\n",
    "#    Spend a minute to explore the visualization options in sns.histplot. For example, you can add a kernel density \n",
    "#    estimate, make the histogram bars purple, and so on.\n",
    "# \n",
    "# 2) (Warning: This exercise is for people who are familiar with statistics.) Loop over all the variables in the dataset,\n",
    "#    and perform an independent-samples t-test on the data for the binarized wine quality. Which variables are significantly\n",
    "#    different between \"low\" and \"high\" quality wine?\n",
    "# "
   ]
  }
 ],
 "metadata": {
  "colab": {
   "authorship_tag": "ABX9TyOfW5ain++1pjONausbDbZ8",
   "collapsed_sections": [],
   "name": "DUDL_metaparams_intro2winedata.ipynb",
   "provenance": [
    {
     "file_id": "1ZD_ADbh6qrlHE16V7Yc8VF9Vrn2c6bMQ",
     "timestamp": 1617045038208
    }
   ]
  },
  "kernelspec": {
   "display_name": "Python 3",
   "name": "python3"
  },
  "language_info": {
   "name": "python"
  }
 },
 "nbformat": 4,
 "nbformat_minor": 0
}
