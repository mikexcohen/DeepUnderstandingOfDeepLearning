{
 "cells": [
  {
   "cell_type": "markdown",
   "id": "16a5dd64",
   "metadata": {},
   "source": [
    "[![Open In Colab](https://colab.research.google.com/assets/colab-badge.svg)](https://colab.research.google.com/github/ydebessu/DeepUnderstandingOfDeepLearning/blob/main/metaparams/DUDL_metaparams_CodeChallenge_sugar.ipynb)"
   ]
  },
  {
   "cell_type": "markdown",
   "metadata": {
    "id": "bhWV8oes-wKR"
   },
   "source": [
    "# COURSE: A deep understanding of deep learning\n",
    "## SECTION: Metaparameters (activations, optimizers)\n",
    "### LECTURE: CodeChallenge: Predict sugar\n",
    "#### TEACHER: Mike X Cohen, sincxpress.com\n",
    "##### COURSE URL: udemy.com/course/deeplearning_x/?couponCode=202401"
   ]
  },
  {
   "cell_type": "code",
   "execution_count": 1,
   "metadata": {
    "executionInfo": {
     "elapsed": 7863,
     "status": "ok",
     "timestamp": 1666768631674,
     "user": {
      "displayName": "Mike X Cohen",
      "userId": "13901636194183843661"
     },
     "user_tz": -120
    },
    "id": "7U3TmybM4yMw"
   },
   "outputs": [],
   "source": [
    "### import libraries\n",
    "\n",
    "# for DL modeling\n",
    "import torch\n",
    "import torch.nn as nn\n",
    "import torch.nn.functional as F\n",
    "from torch.utils.data import DataLoader\n",
    "from sklearn.model_selection import train_test_split\n",
    "\n",
    "# for number-crunching\n",
    "import numpy as np\n",
    "import scipy.stats as stats\n",
    "\n",
    "# for dataset management\n",
    "import pandas as pd\n",
    "\n",
    "# for data visualization\n",
    "import matplotlib.pyplot as plt\n",
    "from IPython.display import set_matplotlib_formats\n",
    "set_matplotlib_formats('svg')\n",
    "import seaborn as sns"
   ]
  },
  {
   "cell_type": "markdown",
   "metadata": {
    "id": "2anVFzBXGdwH"
   },
   "source": [
    "# Import and process the data"
   ]
  },
  {
   "cell_type": "code",
   "execution_count": null,
   "metadata": {
    "id": "0ohXIxzt4_U2"
   },
   "outputs": [],
   "source": [
    "# import the data\n",
    "url = \"https://archive.ics.uci.edu/ml/machine-learning-databases/wine-quality/winequality-red.csv\"\n",
    "data = pd.read_csv(url,sep=';')\n",
    "data = data[data['total sulfur dioxide']<200] # drop a few outliers\n",
    "\n",
    "# z-score all columns (including quality!)\n",
    "cols2zscore = data.keys()\n",
    "data[cols2zscore] = data[cols2zscore].apply(stats.zscore)\n",
    "cols2zscore"
   ]
  },
  {
   "cell_type": "markdown",
   "metadata": {
    "id": "vGQd7xmM5Gns"
   },
   "source": [
    "# Re-organize the data: train/test in DataLoaders"
   ]
  },
  {
   "cell_type": "code",
   "execution_count": null,
   "metadata": {
    "id": "2kZ6YPe8Gav5"
   },
   "outputs": [],
   "source": [
    "# convert from pandas dataframe to tensor\n",
    "\n",
    "# but first drop residual sugar\n",
    "cols2zscore = cols2zscore.drop('residual sugar')\n",
    "\n",
    "dataT = torch.tensor( data[cols2zscore].values ).float()\n",
    "sugar = torch.tensor( data['residual sugar'].values ).float()\n",
    "sugar = sugar[:,None] # transform to matrix"
   ]
  },
  {
   "cell_type": "code",
   "execution_count": null,
   "metadata": {
    "id": "pk90_fARb8go"
   },
   "outputs": [],
   "source": [
    "# check values in sugar\n",
    "plt.plot(sugar,'s')\n",
    "plt.xlabel('Data observation')\n",
    "plt.ylabel('Sugar (norm.)')\n",
    "plt.show()"
   ]
  },
  {
   "cell_type": "code",
   "execution_count": null,
   "metadata": {
    "id": "bbf064xxGa_x"
   },
   "outputs": [],
   "source": [
    "# use scikitlearn to split the data\n",
    "train_dataSK,test_dataSK, train_labelsSK,test_labelsSK = train_test_split(dataT, sugar, test_size=.1)\n",
    "\n",
    "# then convert them into PyTorch Datasets (note: already converted to tensors)\n",
    "train_dataDataset = torch.utils.data.TensorDataset(train_dataSK,train_labelsSK)\n",
    "test_dataDataset  = torch.utils.data.TensorDataset(test_dataSK,test_labelsSK)\n",
    "\n",
    "# finally, translate into dataloader objects\n",
    "batchsize    = 32\n",
    "train_loader = DataLoader(train_dataDataset,batch_size=batchsize,shuffle=True,drop_last=True)\n",
    "test_loader  = DataLoader(test_dataDataset,batch_size=test_dataDataset.tensors[0].shape[0])"
   ]
  },
  {
   "cell_type": "markdown",
   "metadata": {
    "id": "I7g0mivk5GqP"
   },
   "source": [
    "# Now for the DL part"
   ]
  },
  {
   "cell_type": "code",
   "execution_count": null,
   "metadata": {
    "id": "N0vAnQi9DNRa"
   },
   "outputs": [],
   "source": [
    "# create a class for the model\n",
    "\n",
    "class ANNwine(nn.Module):\n",
    "  def __init__(self):\n",
    "    super().__init__()\n",
    "\n",
    "    ### input layer\n",
    "    self.input = nn.Linear(11,16)\n",
    "    \n",
    "    ### hidden layers\n",
    "    self.fc1 = nn.Linear(16,32)\n",
    "    self.fc2 = nn.Linear(32,32)\n",
    "\n",
    "    ### output layer\n",
    "    self.output = nn.Linear(32,1)\n",
    "  \n",
    "  # forward pass\n",
    "  def forward(self,x):\n",
    "    x = F.relu( self.input(x) )\n",
    "    x = F.relu( self.fc1(x) )\n",
    "    x = F.relu( self.fc2(x) )\n",
    "    return self.output(x) "
   ]
  },
  {
   "cell_type": "markdown",
   "metadata": {
    "id": "IuCixgNfDMZS"
   },
   "source": [
    "# Train the model"
   ]
  },
  {
   "cell_type": "code",
   "execution_count": null,
   "metadata": {
    "id": "0XRPe56rGp2k"
   },
   "outputs": [],
   "source": [
    "# a function that trains the model\n",
    "\n",
    "# global parameter\n",
    "numepochs = 1000\n",
    "\n",
    "def trainTheModel():\n",
    "\n",
    "  # loss function and optimizer\n",
    "  lossfun = nn.MSELoss()\n",
    "  optimizer = torch.optim.SGD(winenet.parameters(),lr=.01)\n",
    "\n",
    "  # initialize losses\n",
    "  trainLoss = torch.zeros(numepochs)\n",
    "  testLoss  = torch.zeros(numepochs)\n",
    "\n",
    "  # loop over epochs\n",
    "  for epochi in range(numepochs):\n",
    "\n",
    "    # switch on training mode\n",
    "    winenet.train()\n",
    "\n",
    "    # loop over training data batches\n",
    "    batchLoss = []\n",
    "    for X,y in train_loader:\n",
    "\n",
    "      # forward pass and loss\n",
    "      yHat = winenet(X)\n",
    "      loss = lossfun(yHat,y)\n",
    "\n",
    "      # backprop\n",
    "      optimizer.zero_grad()\n",
    "      loss.backward()\n",
    "      optimizer.step()\n",
    "\n",
    "      # loss from this batch\n",
    "      batchLoss.append(loss.item())\n",
    "    # end of batch loop...\n",
    "\n",
    "    # get average losses across the batches\n",
    "    trainLoss[epochi] = np.mean(batchLoss)\n",
    "\n",
    "    # test accuracy\n",
    "    winenet.eval()\n",
    "    X,y = next(iter(test_loader)) # extract X,y from test dataloader\n",
    "    with torch.no_grad(): # deactivates autograd\n",
    "      yHat = winenet(X)\n",
    "    testLoss[epochi] = lossfun(yHat,y).item()\n",
    "  \n",
    "  # function output\n",
    "  return trainLoss,testLoss"
   ]
  },
  {
   "cell_type": "code",
   "execution_count": null,
   "metadata": {
    "id": "oL7EqhYjGp51"
   },
   "outputs": [],
   "source": [
    "# create a model and train it\n",
    "winenet = ANNwine()\n",
    "trainLoss,testLoss = trainTheModel()"
   ]
  },
  {
   "cell_type": "code",
   "execution_count": null,
   "metadata": {
    "id": "_7mAB4utDMeh"
   },
   "outputs": [],
   "source": [
    "# plot some results\n",
    "fig,ax = plt.subplots(1,2,figsize=(17,6))\n",
    "\n",
    "ax[0].plot(trainLoss,label='Train loss')\n",
    "ax[0].plot(testLoss,label='Test loss')\n",
    "ax[0].set_title('Train/Test loss')\n",
    "ax[0].set_xlabel('Epoch')\n",
    "ax[0].set_ylabel('Loss')\n",
    "ax[0].legend()\n",
    "ax[0].grid()\n",
    "\n",
    "\n",
    "# show predictions and real values\n",
    "yHatTrain = winenet(train_dataSK)\n",
    "yHatTest  = winenet(test_dataSK)\n",
    "\n",
    "ax[1].plot(yHatTrain.detach(),train_labelsSK,'ro')\n",
    "ax[1].plot(yHatTest.detach(),test_labelsSK,'b^')\n",
    "ax[1].set_xlabel('Model-predicted sugar')\n",
    "ax[1].set_ylabel('True sugar')\n",
    "ax[1].set_title('Model predictions vs. observations')\n",
    "\n",
    "# correlations between predictions and outputs\n",
    "corrTrain = np.corrcoef(yHatTrain.detach().T,train_labelsSK.T)[1,0]\n",
    "corrTest  = np.corrcoef(yHatTest.detach().T, test_labelsSK.T)[1,0]\n",
    "ax[1].legend([ f'Train r={corrTrain:.3f}',f'Test r={corrTest:.3f}' ])\n",
    "\n",
    "plt.show()"
   ]
  },
  {
   "cell_type": "code",
   "execution_count": null,
   "metadata": {
    "id": "4q0b_2Pdh72w"
   },
   "outputs": [],
   "source": [
    "# Inspect the correlation matrix\n",
    "fig = plt.figure(figsize=(8,8))\n",
    "\n",
    "plt.imshow(np.corrcoef(data.T),vmin=-.3,vmax=.3)\n",
    "plt.xticks(range(len(data.keys())),labels=data.keys(),rotation=90)\n",
    "plt.yticks(range(len(data.keys())),labels=data.keys())\n",
    "plt.colorbar()\n",
    "plt.title('Data correlation matrix')\n",
    "plt.show()"
   ]
  },
  {
   "cell_type": "code",
   "execution_count": null,
   "metadata": {
    "id": "cDfQjSfSLmaS"
   },
   "outputs": [],
   "source": []
  },
  {
   "cell_type": "markdown",
   "metadata": {
    "id": "2IsnPkyJLm_n"
   },
   "source": [
    "# Additional explorations"
   ]
  },
  {
   "cell_type": "code",
   "execution_count": null,
   "metadata": {
    "id": "3_QCT5V0LqWO"
   },
   "outputs": [],
   "source": [
    "# 1) Why did the output node not have a sigmoid activation function? It is possible to train this model using a sigmoid\n",
    "#    function on the output?\n",
    "# \n",
    "# 2) Let's say you don't need to know the *exact* sugar amount, only the approximate amount. You could then label each\n",
    "#    wine as being in one of three bins, according to the amount of sugar. What would you need to change in the model?\n",
    "# "
   ]
  }
 ],
 "metadata": {
  "colab": {
   "authorship_tag": "ABX9TyPSIqxeVPRvRvfk7QwNo5i7",
   "collapsed_sections": [],
   "provenance": [
    {
     "file_id": "1iKQU7riib5sbenxTvmpXe8EI5N79sdAV",
     "timestamp": 1617347503971
    },
    {
     "file_id": "1ZD_ADbh6qrlHE16V7Yc8VF9Vrn2c6bMQ",
     "timestamp": 1617047906157
    }
   ]
  },
  "kernelspec": {
   "display_name": "Python 3",
   "name": "python3"
  },
  "language_info": {
   "name": "python"
  }
 },
 "nbformat": 4,
 "nbformat_minor": 0
}
