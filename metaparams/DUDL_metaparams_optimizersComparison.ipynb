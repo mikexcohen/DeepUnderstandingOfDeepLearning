{
 "cells": [
  {
   "cell_type": "markdown",
   "id": "9b30aad4",
   "metadata": {},
   "source": [
    "[![Open In Colab](https://colab.research.google.com/assets/colab-badge.svg)](https://colab.research.google.com/github/ydebessu/DeepUnderstandingOfDeepLearning/blob/main/metaparams/DUDL_metaparams_optimizersComparison.ipynb)"
   ]
  },
  {
   "cell_type": "markdown",
   "metadata": {
    "id": "bhWV8oes-wKR"
   },
   "source": [
    "# COURSE: A deep understanding of deep learning\n",
    "## SECTION: Metaparameters (activations, optimizers)\n",
    "### LECTURE: Optimizers comparison\n",
    "#### TEACHER: Mike X Cohen, sincxpress.com\n",
    "##### COURSE URL: udemy.com/course/deeplearning_x/?couponCode=202401"
   ]
  },
  {
   "cell_type": "code",
   "execution_count": null,
   "metadata": {
    "id": "j7-LiwqUMGYL"
   },
   "outputs": [],
   "source": [
    "# import libraries\n",
    "import torch\n",
    "import torch.nn as nn\n",
    "import torch.nn.functional as F\n",
    "from torch.utils.data import DataLoader,TensorDataset\n",
    "from sklearn.model_selection import train_test_split\n",
    "\n",
    "import numpy as np\n",
    "\n",
    "import matplotlib.pyplot as plt\n",
    "import matplotlib_inline.backend_inline\n",
    "matplotlib_inline.backend_inline.set_matplotlib_formats('svg')"
   ]
  },
  {
   "cell_type": "markdown",
   "metadata": {
    "id": "dfKHl6iRcFhG"
   },
   "source": [
    "# The data"
   ]
  },
  {
   "cell_type": "code",
   "execution_count": null,
   "metadata": {
    "id": "j-SP8NPsMNRL"
   },
   "outputs": [],
   "source": [
    "# create data\n",
    "\n",
    "nPerClust = 300\n",
    "blur = 1\n",
    "\n",
    "A = [ 1, 1 ]\n",
    "B = [ 5, 1 ]\n",
    "C = [ 4, 3 ]\n",
    "\n",
    "# generate data\n",
    "a = [ A[0]+np.random.randn(nPerClust)*blur , A[1]+np.random.randn(nPerClust)*blur ]\n",
    "b = [ B[0]+np.random.randn(nPerClust)*blur , B[1]+np.random.randn(nPerClust)*blur ]\n",
    "c = [ C[0]+np.random.randn(nPerClust)*blur , C[1]+np.random.randn(nPerClust)*blur ]\n",
    "\n",
    "# true labels\n",
    "labels_np = np.hstack((  np.zeros((nPerClust)),\n",
    "                         np.ones( (nPerClust)),\n",
    "                       1+np.ones( (nPerClust))  ))\n",
    "\n",
    "# concatanate into a matrix\n",
    "data_np = np.hstack((a,b,c)).T\n",
    "\n",
    "# convert to a pytorch tensor\n",
    "data = torch.tensor(data_np).float()\n",
    "labels = torch.tensor(labels_np).long() # note: \"long\" format for CCE\n",
    "\n",
    "# show the data\n",
    "fig = plt.figure(figsize=(5,5))\n",
    "plt.plot(data[np.where(labels==0)[0],0],data[np.where(labels==0)[0],1],'bs',alpha=.5)\n",
    "plt.plot(data[np.where(labels==1)[0],0],data[np.where(labels==1)[0],1],'ko',alpha=.5)\n",
    "plt.plot(data[np.where(labels==2)[0],0],data[np.where(labels==2)[0],1],'r^',alpha=.5)\n",
    "plt.title('The qwerties!')\n",
    "plt.xlabel('qwerty dimension 1')\n",
    "plt.ylabel('qwerty dimension 2')\n",
    "plt.show()"
   ]
  },
  {
   "cell_type": "code",
   "execution_count": null,
   "metadata": {
    "id": "05kSm4Jkjvd_"
   },
   "outputs": [],
   "source": [
    "# use scikitlearn to split the data\n",
    "train_data,test_data, train_labels,test_labels = train_test_split(data, labels, test_size=.1)\n",
    "\n",
    "# then convert them into PyTorch Datasets (note: already converted to tensors)\n",
    "train_data = TensorDataset(train_data,train_labels)\n",
    "test_data  = TensorDataset(test_data,test_labels)\n",
    "\n",
    "# finally, translate into dataloader objects\n",
    "batchsize    = 16\n",
    "train_loader = DataLoader(train_data,batch_size=batchsize,shuffle=True,drop_last=True)\n",
    "test_loader  = DataLoader(test_data,batch_size=test_data.tensors[0].shape[0])"
   ]
  },
  {
   "cell_type": "code",
   "execution_count": null,
   "metadata": {
    "id": "oFgvfJNhXVGc"
   },
   "outputs": [],
   "source": [
    "# how many batches are there?\n",
    "\n",
    "print(f'There are {len(train_loader)} batches, each with {batchsize} samples.')"
   ]
  },
  {
   "cell_type": "markdown",
   "metadata": {
    "id": "r0kasWBVcIhM"
   },
   "source": [
    "# The model"
   ]
  },
  {
   "cell_type": "code",
   "execution_count": null,
   "metadata": {
    "id": "z0YpD6f-j8dG"
   },
   "outputs": [],
   "source": [
    "# create a class for the model\n",
    "def createTheQwertyNet(optimizerAlgo):\n",
    "\n",
    "  class qwertyNet(nn.Module):\n",
    "    def __init__(self):\n",
    "      super().__init__()\n",
    "\n",
    "      ### input layer\n",
    "      self.input = nn.Linear(2,8)\n",
    "      \n",
    "      ### hidden layer\n",
    "      self.fc1 = nn.Linear(8,8)\n",
    "\n",
    "      ### output layer\n",
    "      self.output = nn.Linear(8,3)\n",
    "\n",
    "    # forward pass\n",
    "    def forward(self,x):\n",
    "      x = F.relu( self.input(x) )\n",
    "      x = F.relu( self.fc1(x) )\n",
    "      return self.output(x)\n",
    "  \n",
    "  # create the model instance\n",
    "  net = qwertyNet()\n",
    "  \n",
    "  # loss function\n",
    "  lossfun = nn.CrossEntropyLoss()\n",
    "\n",
    "  # optimizer\n",
    "  optifun = getattr( torch.optim,optimizerAlgo )\n",
    "  optimizer = optifun(net.parameters(),lr=.01)\n",
    "\n",
    "  return net,lossfun,optimizer\n"
   ]
  },
  {
   "cell_type": "code",
   "execution_count": null,
   "metadata": {
    "id": "TE9tBBfycJ59"
   },
   "outputs": [],
   "source": [
    "# test the model with optimizer type as input\n",
    "\n",
    "# try 'SGD', 'RMSprop', and 'Adam'\n",
    "optim = createTheQwertyNet('RMSprop')[2]\n",
    "optim"
   ]
  },
  {
   "cell_type": "markdown",
   "metadata": {
    "id": "VAZfLML_cLHr"
   },
   "source": [
    "# A function that trains the model"
   ]
  },
  {
   "cell_type": "code",
   "execution_count": null,
   "metadata": {
    "id": "7Q0nmoUPmu-5"
   },
   "outputs": [],
   "source": [
    "def function2trainTheModel(optimizerType):\n",
    "\n",
    "  # number of epochs\n",
    "  numepochs = 50\n",
    "  \n",
    "  # create a new model\n",
    "  net,lossfun,optimizer = createTheQwertyNet(optimizerType)\n",
    "\n",
    "  # initialize losses\n",
    "  losses   = torch.zeros(numepochs)\n",
    "  trainAcc = []\n",
    "  testAcc  = []\n",
    "\n",
    "  # loop over epochs\n",
    "  for epochi in range(numepochs):\n",
    "\n",
    "    # switch on training mode\n",
    "    net.train()\n",
    "\n",
    "    # loop over training data batches\n",
    "    batchAcc  = []\n",
    "    batchLoss = []\n",
    "    for X,y in train_loader:\n",
    "\n",
    "      # forward pass and loss\n",
    "      yHat = net(X)\n",
    "      loss = lossfun(yHat,y)\n",
    "\n",
    "      # backprop\n",
    "      optimizer.zero_grad()\n",
    "      loss.backward()\n",
    "      optimizer.step()\n",
    "\n",
    "      # loss from this batch\n",
    "      batchLoss.append(loss.item())\n",
    "\n",
    "      # compute accuracy\n",
    "      matches = torch.argmax(yHat,axis=1) == y     # booleans (false/true)\n",
    "      matchesNumeric = matches.float()             # convert to numbers (0/1)\n",
    "      accuracyPct = 100*torch.mean(matchesNumeric) # average and x100 \n",
    "      batchAcc.append( accuracyPct )               # add to list of accuracies\n",
    "    # end of batch loop...\n",
    "\n",
    "    # now that we've trained through the batches, get their average training accuracy\n",
    "    trainAcc.append( np.mean(batchAcc) )\n",
    "\n",
    "    # and get average losses across the batches\n",
    "    losses[epochi] = np.mean(batchLoss)\n",
    "\n",
    "    # test accuracy\n",
    "    net.eval()\n",
    "    X,y = next(iter(test_loader)) # extract X,y from test dataloader\n",
    "    with torch.no_grad(): # deactivates autograd\n",
    "      yHat = net(X)\n",
    "      \n",
    "    # compare the following really long line of code to the training accuracy lines\n",
    "    testAcc.append( 100*torch.mean((torch.argmax(yHat,axis=1)==y).float()) ) \n",
    "  # end epochs\n",
    "\n",
    "  # function output\n",
    "  return trainAcc,testAcc,losses,net\n"
   ]
  },
  {
   "cell_type": "markdown",
   "metadata": {
    "id": "RWfCmleWcVRU"
   },
   "source": [
    "# A function that plots the results"
   ]
  },
  {
   "cell_type": "code",
   "execution_count": null,
   "metadata": {
    "id": "zmX6K49WMNuy"
   },
   "outputs": [],
   "source": [
    "# a function that plots the results\n",
    "def plotTheResults(optimizerType):\n",
    "\n",
    "  # compute accuracy over entire dataset (train+test)\n",
    "  yHat = net(data)\n",
    "  predictions = torch.argmax(yHat,axis=1)\n",
    "  accuracy = (predictions == labels).float()\n",
    "  totalAcc = torch.mean(100*accuracy).item()\n",
    "\n",
    "  # and accuracy by group\n",
    "  accuracyByGroup = np.zeros(3)\n",
    "  for i in range(3):\n",
    "    accuracyByGroup[i] = 100*torch.mean(accuracy[labels==i])\n",
    "\n",
    "\n",
    "  # create the figure\n",
    "  fig,ax = plt.subplots(2,2,figsize=(10,6))\n",
    "\n",
    "  # plot the loss function\n",
    "  ax[0,0].plot(losses.detach())\n",
    "  ax[0,0].set_ylabel('Loss')\n",
    "  ax[0,0].set_xlabel('epoch')\n",
    "  ax[0,0].set_title(f'{optimizerType}: Losses')\n",
    "\n",
    "  # plot the accuracy functions\n",
    "  ax[0,1].plot(trainAcc,label='Train')\n",
    "  ax[0,1].plot(testAcc,label='Test')\n",
    "  ax[0,1].set_ylabel('Accuracy (%)')\n",
    "  ax[0,1].set_xlabel('Epoch')\n",
    "  ax[0,1].set_title(f'{optimizerType}: Accuracy')\n",
    "  ax[0,1].legend()\n",
    "\n",
    "  # plot overall accuracy by group\n",
    "  ax[1,0].bar(range(3),accuracyByGroup)\n",
    "  ax[1,0].set_ylim([np.min(accuracyByGroup)-5,np.max(accuracyByGroup)+5])\n",
    "  ax[1,0].set_xticks([0,1,2])\n",
    "  ax[1,0].set_xlabel('Group')\n",
    "  ax[1,0].set_ylabel('Accuracy (%)')\n",
    "  ax[1,0].set_title(f'{optimizerType}: Accuracy by group')\n",
    "\n",
    "  # scatterplot of correct and incorrect labeled data\n",
    "  colorShapes = [ 'bs','ko','g^' ] # data markers\n",
    "  for i in range(3):\n",
    "    # plot all data points\n",
    "    ax[1,1].plot(data[labels==i,0],data[labels==i,1],colorShapes[i],\n",
    "                 alpha=.3,label=f'Group {i}')\n",
    "    \n",
    "    # cross-out the incorrect ones\n",
    "    idxErr = (accuracy==0) & (labels==i)\n",
    "    ax[1,1].plot(data[idxErr,0],data[idxErr,1],'rx')\n",
    "\n",
    "  ax[1,1].set_title(f'{optimizerType}: Total accuracy: {totalAcc:.2f}%')\n",
    "  ax[1,1].set_xlabel('qwerty dimension 1')\n",
    "  ax[1,1].set_ylabel('qwerty dimension 2')\n",
    "  ax[1,1].legend()\n",
    "  \n",
    "  plt.tight_layout()\n",
    "  plt.show()"
   ]
  },
  {
   "cell_type": "markdown",
   "metadata": {
    "id": "vuMfQUJIcZQz"
   },
   "source": [
    "# Now for the optimizer comparison"
   ]
  },
  {
   "cell_type": "code",
   "execution_count": null,
   "metadata": {
    "id": "of9E8ClxMNsD"
   },
   "outputs": [],
   "source": [
    "# run the model for one optimizer\n",
    "optimizerType = 'Adam'\n",
    "trainAcc,testAcc,losses,net = function2trainTheModel(optimizerType)\n",
    "\n",
    "# visualize!\n",
    "plotTheResults(optimizerType)"
   ]
  },
  {
   "cell_type": "code",
   "execution_count": null,
   "metadata": {
    "id": "tMCInlW6xKCw"
   },
   "outputs": [],
   "source": [
    "# now run through all of them\n",
    "\n",
    "# average performance\n",
    "performance = []\n",
    "\n",
    "for opto in ['SGD','RMSprop','Adam']:\n",
    "  trainAcc,testAcc,losses,net = function2trainTheModel(opto)\n",
    "  plotTheResults(opto)\n",
    "\n",
    "  # store the final results\n",
    "  train = np.mean(trainAcc[-10:])\n",
    "  test  = np.mean(testAcc[-10:])\n",
    "\n",
    "  performance.append( f'{opto}: train {train:.1f}%, test {test:.1f}%' )"
   ]
  },
  {
   "cell_type": "code",
   "execution_count": null,
   "metadata": {
    "id": "7zmCVM2Ecgp7"
   },
   "outputs": [],
   "source": [
    "performance"
   ]
  },
  {
   "cell_type": "markdown",
   "metadata": {
    "id": "oKdAo9Ircg4z"
   },
   "source": [
    "# Additional explorations"
   ]
  },
  {
   "cell_type": "code",
   "execution_count": null,
   "metadata": {
    "id": "IBepXkfWchLz"
   },
   "outputs": [],
   "source": [
    "# 1) Accuracy seems to be different between the different qwerties categories. Is this consistent across the optimizers?\n",
    "#    Or does it seem like some optimizers are better at some categories? How do you interpret your answer, and what does\n",
    "#    it indicate about metaparameters of DL and their effects on performance?\n",
    "# \n",
    "# 2) The results here indicate that all three optimizers perform roughly equally well, but SGD needs more training. Is \n",
    "#    that still the case with a smaller or larger learning rate?\n",
    "# \n",
    "# 3) The method of showing the final performance (printing out a list) is... not very pretty. What kind of visualization\n",
    "#    do you think would better illustrate the performances across the optimizers? Code it! \n",
    "# "
   ]
  }
 ],
 "metadata": {
  "colab": {
   "authorship_tag": "ABX9TyOUC+Fntn9Z9lFm6nleoP3Q",
   "provenance": [
    {
     "file_id": "1Yp9bgltmsXuxkNPmbKEC1kn7bkBQD5WD",
     "timestamp": 1617649131489
    },
    {
     "file_id": "10_geQnah5AvMsm8VDAQwNPhypOXradar",
     "timestamp": 1617634658608
    },
    {
     "file_id": "1FtQ99beHYcDFDywLdaPgFm-KjBeI8PvD",
     "timestamp": 1615877547147
    }
   ]
  },
  "kernelspec": {
   "display_name": "Python 3",
   "name": "python3"
  }
 },
 "nbformat": 4,
 "nbformat_minor": 0
}
