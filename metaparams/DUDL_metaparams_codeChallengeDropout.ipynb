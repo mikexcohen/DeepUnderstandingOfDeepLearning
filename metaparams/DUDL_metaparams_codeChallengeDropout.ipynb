{
 "cells": [
  {
   "cell_type": "markdown",
   "id": "f3a64717",
   "metadata": {},
   "source": [
    "[![Open In Colab](https://colab.research.google.com/assets/colab-badge.svg)](https://colab.research.google.com/github/ydebessu/DeepUnderstandingOfDeepLearning/blob/main/metaparams/DUDL_metaparams_codeChallengeDropout.ipynb)"
   ]
  },
  {
   "cell_type": "markdown",
   "metadata": {
    "id": "bhWV8oes-wKR"
   },
   "source": [
    "# COURSE: A deep understanding of deep learning\n",
    "## SECTION: Metaparameters (activation, batch, optimizers)\n",
    "### LECTURE: Predicting wine quality\n",
    "#### TEACHER: Mike X Cohen, sincxpress.com\n",
    "##### COURSE URL: udemy.com/course/deeplearning_x/?couponCode=202401"
   ]
  },
  {
   "cell_type": "code",
   "execution_count": null,
   "metadata": {
    "id": "7U3TmybM4yMw"
   },
   "outputs": [],
   "source": [
    "### import libraries\n",
    "\n",
    "# for DL modeling\n",
    "import torch\n",
    "import torch.nn as nn\n",
    "import torch.nn.functional as F\n",
    "from torch.utils.data import DataLoader\n",
    "from sklearn.model_selection import train_test_split\n",
    "\n",
    "# for number-crunching\n",
    "import numpy as np\n",
    "import scipy.stats as stats\n",
    "\n",
    "# for dataset management\n",
    "import pandas as pd\n",
    "\n",
    "# for data visualization\n",
    "import matplotlib.pyplot as plt\n",
    "import seaborn as sns"
   ]
  },
  {
   "cell_type": "markdown",
   "metadata": {
    "id": "2anVFzBXGdwH"
   },
   "source": [
    "# Import and process the data"
   ]
  },
  {
   "cell_type": "code",
   "execution_count": null,
   "metadata": {
    "id": "0ohXIxzt4_U2"
   },
   "outputs": [],
   "source": [
    "# import the data\n",
    "url = \"https://archive.ics.uci.edu/ml/machine-learning-databases/wine-quality/winequality-red.csv\"\n",
    "data = pd.read_csv(url,sep=';')\n",
    "data = data[data['total sulfur dioxide']<200]\n",
    "\n",
    "# find the columns we want to normalize (all except quality)\n",
    "# z-score (written out for clarity)\n",
    "cols2zscore = data.keys()\n",
    "cols2zscore = cols2zscore.drop('quality')\n",
    "data[cols2zscore] = data[cols2zscore].apply(stats.zscore)\n",
    "\n",
    "# create a new column for binarized (boolean) quality\n",
    "data['boolQuality'] = 0\n",
    "# data['boolQuality'][data['quality']<6] = 0 # implicit in the code! just here for clarity\n",
    "data['boolQuality'][data['quality']>5] = 1"
   ]
  },
  {
   "cell_type": "code",
   "execution_count": null,
   "metadata": {
    "id": "qjvI_6Su5Gk-"
   },
   "outputs": [],
   "source": []
  },
  {
   "cell_type": "markdown",
   "metadata": {
    "id": "vGQd7xmM5Gns"
   },
   "source": [
    "# Re-organize the data: train/test in DataLoaders"
   ]
  },
  {
   "cell_type": "code",
   "execution_count": null,
   "metadata": {
    "id": "2kZ6YPe8Gav5"
   },
   "outputs": [],
   "source": [
    "# convert from pandas dataframe to tensor\n",
    "dataT  = torch.tensor( data[cols2zscore].values ).float()\n",
    "labels = torch.tensor( data['boolQuality'].values ).float()\n",
    "labels = labels[:,None] # transform to matrix"
   ]
  },
  {
   "cell_type": "code",
   "execution_count": null,
   "metadata": {
    "id": "bbf064xxGa_x"
   },
   "outputs": [],
   "source": [
    "# use scikitlearn to split the data\n",
    "train_data,test_data, train_labels,test_labels = train_test_split(dataT, labels, test_size=.1)\n",
    "\n",
    "# then convert them into PyTorch Datasets (note: already converted to tensors)\n",
    "train_data = torch.utils.data.TensorDataset(train_data,train_labels)\n",
    "test_data  = torch.utils.data.TensorDataset(test_data,test_labels)\n",
    "\n",
    "# finally, translate into dataloader objects\n",
    "batchsize    = int(train_data.tensors[0].shape[0]/5)\n",
    "train_loader = DataLoader(train_data,batch_size=batchsize,shuffle=True,drop_last=True)\n",
    "test_loader  = DataLoader(test_data,batch_size=test_data.tensors[0].shape[0])"
   ]
  },
  {
   "cell_type": "code",
   "execution_count": null,
   "metadata": {
    "id": "rflLNH9TGbap"
   },
   "outputs": [],
   "source": [
    "# check sizes of data batches\n",
    "for X,y in train_loader:\n",
    "  print(X.shape,y.shape)\n",
    "\n",
    "# go back and set drop_last=True in training DataLoader"
   ]
  },
  {
   "cell_type": "markdown",
   "metadata": {
    "id": "I7g0mivk5GqP"
   },
   "source": [
    "# Now for the DL part"
   ]
  },
  {
   "cell_type": "code",
   "execution_count": null,
   "metadata": {
    "id": "N0vAnQi9DNRa"
   },
   "outputs": [],
   "source": [
    "# create a class for the model\n",
    "\n",
    "class ANNwine(nn.Module):\n",
    "  def __init__(self):\n",
    "    super().__init__()\n",
    "\n",
    "    ### input layer\n",
    "    self.input = nn.Linear(11,16)\n",
    "    \n",
    "    ### hidden layers\n",
    "    self.fc1 = nn.Linear(16,32)\n",
    "    self.fc2 = nn.Linear(32,32)\n",
    "\n",
    "    ### output layer\n",
    "    self.output = nn.Linear(32,1)\n",
    "\n",
    "    # define dropout\n",
    "    self.dropout = nn.Dropout(.25)\n",
    "  \n",
    "\n",
    "  # forward pass\n",
    "  def forward(self,x):\n",
    "    x = F.relu( self.input(x) )\n",
    "    x = F.relu( self.fc1(x) )\n",
    "    x = self.dropout(x)\n",
    "    x = F.relu( self.fc2(x) )\n",
    "    x = self.dropout(x)\n",
    "    return self.output(x)"
   ]
  },
  {
   "cell_type": "code",
   "execution_count": null,
   "metadata": {
    "id": "dbvHMGgtDMUj"
   },
   "outputs": [],
   "source": [
    "# generate an instance of the model and inspect it\n",
    "net = ANNwine()\n",
    "net"
   ]
  },
  {
   "cell_type": "code",
   "execution_count": null,
   "metadata": {
    "id": "Hpa5Q5bADMW5"
   },
   "outputs": [],
   "source": [
    "# A quick test of running some numbers through the model. \n",
    "# This simply ensures that the architecture is internally consistent.\n",
    "\n",
    "# 10 samples, 11 dimensions\n",
    "tmpx = torch.randn(10,11)\n",
    "\n",
    "# run it through the DL\n",
    "y = net(tmpx)\n",
    "\n",
    "# exam the shape of the output\n",
    "print( y.shape ), print(' ')\n",
    "\n",
    "# and the output itself\n",
    "print(y)"
   ]
  },
  {
   "cell_type": "code",
   "execution_count": null,
   "metadata": {
    "id": "OKhAEQZ1VPCx"
   },
   "outputs": [],
   "source": [
    "# another sanity-check: run a batch of data through\n",
    "\n",
    "littleData = next(iter(train_loader))\n",
    "y = net(littleData[0])\n",
    "y"
   ]
  },
  {
   "cell_type": "markdown",
   "metadata": {
    "id": "IuCixgNfDMZS"
   },
   "source": [
    "# Train the model"
   ]
  },
  {
   "cell_type": "code",
   "execution_count": null,
   "metadata": {
    "id": "0XRPe56rGp2k"
   },
   "outputs": [],
   "source": [
    "# a function that trains the model\n",
    "\n",
    "# global parameter\n",
    "numepochs = 3000\n",
    "\n",
    "def trainTheModel():\n",
    "\n",
    "  # loss function and optimizer\n",
    "  lossfun = nn.BCEWithLogitsLoss()\n",
    "  optimizer = torch.optim.Adam(winenet.parameters(),lr=.001)\n",
    "\n",
    "  # initialize losses\n",
    "  losses   = torch.zeros(numepochs)\n",
    "  trainAcc = []\n",
    "  testAcc  = []\n",
    "\n",
    "  # loop over epochs\n",
    "  for epochi in range(numepochs):\n",
    "\n",
    "    # switch on training mode\n",
    "    winenet.train()\n",
    "\n",
    "    # loop over training data batches\n",
    "    batchAcc  = []\n",
    "    batchLoss = []\n",
    "    for X,y in train_loader:\n",
    "\n",
    "      # forward pass and loss\n",
    "      yHat = winenet(X)\n",
    "      loss = lossfun(yHat,y)\n",
    "\n",
    "      # backprop\n",
    "      optimizer.zero_grad()\n",
    "      loss.backward()\n",
    "      optimizer.step()\n",
    "\n",
    "      # loss from this batch\n",
    "      batchLoss.append(loss.item())\n",
    "\n",
    "      # compute training accuracy for this batch\n",
    "      batchAcc.append( 100*torch.mean(((yHat>0) == y).float()).item() )\n",
    "    # end of batch loop...\n",
    "\n",
    "    # now that we've trained through the batches, get their average training accuracy\n",
    "    trainAcc.append( np.mean(batchAcc) )\n",
    "\n",
    "    # and get average losses across the batches\n",
    "    losses[epochi] = np.mean(batchLoss)\n",
    "\n",
    "    # test accuracy\n",
    "    winenet.eval()\n",
    "    X,y = next(iter(test_loader)) # extract X,y from test dataloader\n",
    "    with torch.no_grad(): # deactivates autograd\n",
    "      yHat = winenet(X)\n",
    "    testAcc.append( 100*torch.mean(((yHat>0) == y).float()).item() )\n",
    "  \n",
    "  # function output\n",
    "  return trainAcc,testAcc,losses"
   ]
  },
  {
   "cell_type": "code",
   "execution_count": null,
   "metadata": {
    "id": "oL7EqhYjGp51"
   },
   "outputs": [],
   "source": [
    "# create a new model instance\n",
    "winenet = ANNwine()\n",
    "\n",
    "# train the model\n",
    "trainAcc,testAcc,losses = trainTheModel()\n"
   ]
  },
  {
   "cell_type": "code",
   "execution_count": null,
   "metadata": {
    "id": "_7mAB4utDMeh"
   },
   "outputs": [],
   "source": [
    "# plot some results\n",
    "fig = plt.figure(figsize=(14,7))\n",
    "\n",
    "plt.plot(trainAcc,'bs')\n",
    "plt.plot(testAcc,'r')\n",
    "plt.legend(['Train','Test'])\n",
    "plt.xlabel('Epoch')\n",
    "plt.ylabel('Accuracy (%)')\n",
    "plt.ylim([50,100])\n",
    "plt.grid()\n",
    "plt.show()"
   ]
  }
 ],
 "metadata": {
  "colab": {
   "authorship_tag": "ABX9TyM5ymxTQSP7Gl8NiBNUhnin",
   "collapsed_sections": [],
   "name": "DUDL_metaparams_codeChallengeDropout.ipynb",
   "provenance": [
    {
     "file_id": "1ZD_ADbh6qrlHE16V7Yc8VF9Vrn2c6bMQ",
     "timestamp": 1617047133469
    }
   ]
  },
  "kernelspec": {
   "display_name": "Python 3",
   "name": "python3"
  },
  "language_info": {
   "name": "python"
  }
 },
 "nbformat": 4,
 "nbformat_minor": 0
}
