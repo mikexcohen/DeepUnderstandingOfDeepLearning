{
 "cells": [
  {
   "cell_type": "markdown",
   "id": "305d03dc",
   "metadata": {},
   "source": [
    "[![Open In Colab](https://colab.research.google.com/assets/colab-badge.svg)](https://colab.research.google.com/github/ydebessu/DeepUnderstandingOfDeepLearning/blob/main/metaparams/DUDL_metaparams_batchNorm.ipynb)"
   ]
  },
  {
   "cell_type": "markdown",
   "metadata": {
    "id": "bhWV8oes-wKR"
   },
   "source": [
    "# COURSE: A deep understanding of deep learning\n",
    "## SECTION: Metaparameters (activation, batch, optimizers)\n",
    "### LECTURE: Batch normalization\n",
    "#### TEACHER: Mike X Cohen, sincxpress.com\n",
    "##### COURSE URL: udemy.com/course/deeplearning_x/?couponCode=202401"
   ]
  },
  {
   "cell_type": "code",
   "execution_count": null,
   "metadata": {
    "id": "7U3TmybM4yMw"
   },
   "outputs": [],
   "source": [
    "### import libraries\n",
    "\n",
    "# for DL modeling\n",
    "import torch\n",
    "import torch.nn as nn\n",
    "import torch.nn.functional as F\n",
    "from torch.utils.data import DataLoader,TensorDataset\n",
    "from sklearn.model_selection import train_test_split\n",
    "\n",
    "# for number-crunching\n",
    "import numpy as np\n",
    "import scipy.stats as stats\n",
    "\n",
    "# for dataset management\n",
    "import pandas as pd\n",
    "\n",
    "# for data visualization\n",
    "import matplotlib.pyplot as plt\n",
    "import matplotlib_inline.backend_inline\n",
    "matplotlib_inline.backend_inline.set_matplotlib_formats('svg')"
   ]
  },
  {
   "cell_type": "markdown",
   "metadata": {
    "id": "2anVFzBXGdwH"
   },
   "source": [
    "# Import and process the data"
   ]
  },
  {
   "cell_type": "code",
   "execution_count": null,
   "metadata": {
    "id": "0ohXIxzt4_U2"
   },
   "outputs": [],
   "source": [
    "# import the data\n",
    "url = \"https://archive.ics.uci.edu/ml/machine-learning-databases/wine-quality/winequality-red.csv\"\n",
    "data = pd.read_csv(url,sep=';')\n",
    "data = data[data['total sulfur dioxide']<200] # drop a few outliers\n",
    "\n",
    "# z-score all columns except for quality\n",
    "cols2zscore = data.keys()\n",
    "cols2zscore = cols2zscore.drop('quality')\n",
    "data[cols2zscore] = data[cols2zscore].apply(stats.zscore)\n",
    "\n",
    "# create a new column for binarized (boolean) quality\n",
    "data['boolQuality'] = 0\n",
    "# data['boolQuality'][data['quality']<6] = 0 # implicit in the code! just here for clarity\n",
    "data['boolQuality'][data['quality']>5] = 1"
   ]
  },
  {
   "cell_type": "code",
   "execution_count": null,
   "metadata": {
    "id": "qjvI_6Su5Gk-"
   },
   "outputs": [],
   "source": []
  },
  {
   "cell_type": "markdown",
   "metadata": {
    "id": "vGQd7xmM5Gns"
   },
   "source": [
    "# Re-organize the data: train/test in DataLoaders"
   ]
  },
  {
   "cell_type": "code",
   "execution_count": null,
   "metadata": {
    "id": "2kZ6YPe8Gav5"
   },
   "outputs": [],
   "source": [
    "# convert from pandas dataframe to tensor\n",
    "dataT  = torch.tensor( data[cols2zscore].values ).float()\n",
    "labels = torch.tensor( data['boolQuality'].values ).float()\n",
    "labels = labels[:,None] # transform to matrix"
   ]
  },
  {
   "cell_type": "code",
   "execution_count": null,
   "metadata": {
    "id": "bbf064xxGa_x"
   },
   "outputs": [],
   "source": [
    "# use scikitlearn to split the data\n",
    "train_data,test_data, train_labels,test_labels = train_test_split(dataT, labels, test_size=.1)\n",
    "\n",
    "# then convert them into PyTorch Datasets (note: already converted to tensors)\n",
    "train_dataDataset = TensorDataset(train_data,train_labels)\n",
    "test_dataDataset  = TensorDataset(test_data,test_labels)\n",
    "\n",
    "\n",
    "# train and test dataloaders\n",
    "test_loader  = DataLoader(test_dataDataset,batch_size=test_dataDataset.tensors[0].shape[0])\n",
    "train_loader = DataLoader(train_dataDataset,batch_size=32, shuffle=True, drop_last=True)"
   ]
  },
  {
   "cell_type": "markdown",
   "metadata": {
    "id": "I7g0mivk5GqP"
   },
   "source": [
    "# Now for the DL part"
   ]
  },
  {
   "cell_type": "code",
   "execution_count": null,
   "metadata": {
    "id": "N0vAnQi9DNRa"
   },
   "outputs": [],
   "source": [
    "# create a class for the model WITH BATCH NORM\n",
    "\n",
    "class ANNwine_withBNorm(nn.Module):\n",
    "  def __init__(self):\n",
    "    super().__init__()\n",
    "\n",
    "    ### input layer\n",
    "    self.input = nn.Linear(11,16)\n",
    "    \n",
    "    ### hidden layers\n",
    "    self.fc1    = nn.Linear(16,32)\n",
    "    self.bnorm1 = nn.BatchNorm1d(16) # the number of units into this layer\n",
    "    self.fc2    = nn.Linear(32,20)\n",
    "    self.bnorm2 = nn.BatchNorm1d(32) # the number of units into this layer\n",
    "\n",
    "    ### output layer\n",
    "    self.output = nn.Linear(20,1)\n",
    "  \n",
    "  # forward pass\n",
    "  def forward(self,x,doBN):\n",
    "\n",
    "    # input (x starts off normalized)\n",
    "    x = F.relu( self.input(x) )\n",
    "\n",
    "\n",
    "    if doBN:\n",
    "      # hidden layer 1\n",
    "      x = self.bnorm1(x) # batchnorm\n",
    "      x = self.fc1(x)    # weighted combination\n",
    "      x = F.relu(x)      # activation function\n",
    "\n",
    "      # hidden layer 2\n",
    "      x = self.bnorm2(x) # batchnorm\n",
    "      x = self.fc2(x)    # weighted combination\n",
    "      x = F.relu(x)      # activation function\n",
    "    \n",
    "\n",
    "    else:\n",
    "      # hidden layer 1\n",
    "      x = F.relu( self.fc1(x) )\n",
    "\n",
    "      # hidden layer 2\n",
    "      x = F.relu( self.fc2(x) )\n",
    "\n",
    "    # output layer\n",
    "    return self.output(x)"
   ]
  },
  {
   "cell_type": "markdown",
   "metadata": {
    "id": "IuCixgNfDMZS"
   },
   "source": [
    "# Train the model"
   ]
  },
  {
   "cell_type": "code",
   "execution_count": null,
   "metadata": {
    "id": "0XRPe56rGp2k"
   },
   "outputs": [],
   "source": [
    "# a function that trains the model\n",
    "\n",
    "# global parameter\n",
    "numepochs = 1000\n",
    "\n",
    "def trainTheModel(doBN=True):\n",
    "\n",
    "  # loss function and optimizer\n",
    "  lossfun = nn.BCEWithLogitsLoss()\n",
    "  optimizer = torch.optim.SGD(winenet.parameters(),lr=.01)\n",
    "\n",
    "  # initialize losses\n",
    "  losses   = torch.zeros(numepochs)\n",
    "  trainAcc = []\n",
    "  testAcc  = []\n",
    "\n",
    "  # loop over epochs\n",
    "  for epochi in range(numepochs):\n",
    "\n",
    "    # switch on training mode\n",
    "    winenet.train()\n",
    "\n",
    "    # loop over training data batches\n",
    "    batchAcc  = []\n",
    "    batchLoss = []\n",
    "    for X,y in train_loader:\n",
    "\n",
    "      # forward pass and loss\n",
    "      yHat = winenet(X,doBN)\n",
    "      loss = lossfun(yHat,y)\n",
    "\n",
    "      # backprop\n",
    "      optimizer.zero_grad()\n",
    "      loss.backward()\n",
    "      optimizer.step()\n",
    "\n",
    "      # loss from this batch\n",
    "      batchLoss.append(loss.item())\n",
    "\n",
    "      # compute training accuracy for this batch\n",
    "      batchAcc.append( 100*torch.mean(((yHat>0) == y).float()).item() )\n",
    "    # end of batch loop...\n",
    "\n",
    "    # now that we've trained through the batches, get their average training accuracy\n",
    "    trainAcc.append( np.mean(batchAcc) )\n",
    "\n",
    "    # and get average losses across the batches\n",
    "    losses[epochi] = np.mean(batchLoss)\n",
    "\n",
    "\n",
    "\n",
    "    ### test accuracy\n",
    "    winenet.eval()\n",
    "    X,y = next(iter(test_loader)) # extract X,y from test dataloader\n",
    "    with torch.no_grad(): # deactivates autograd\n",
    "      yHat = winenet(X,doBN)\n",
    "    testAcc.append( 100*torch.mean(((yHat>0) == y).float()).item() )\n",
    "  \n",
    "  # function output\n",
    "  return trainAcc,testAcc,losses"
   ]
  },
  {
   "cell_type": "markdown",
   "metadata": {
    "id": "T_JKCpfe_CfC"
   },
   "source": [
    "# Now for the experiment"
   ]
  },
  {
   "cell_type": "code",
   "execution_count": null,
   "metadata": {
    "id": "oL7EqhYjGp51"
   },
   "outputs": [],
   "source": [
    "# takes ~2 mins\n",
    "\n",
    "# create and train a model NO BATCHNORM\n",
    "winenet = ANNwine_withBNorm()\n",
    "trainAccNo,testAccNo,lossesNo = trainTheModel(False)\n",
    "\n",
    "# create and train a model WITH BATCHNORM\n",
    "winenet = ANNwine_withBNorm()\n",
    "trainAccWith,testAccWith,lossesWith = trainTheModel(True)\n"
   ]
  },
  {
   "cell_type": "code",
   "execution_count": null,
   "metadata": {
    "id": "_7mAB4utDMeh"
   },
   "outputs": [],
   "source": [
    "# plot the results\n",
    "fig,ax = plt.subplots(1,3,figsize=(17,5))\n",
    "\n",
    "ax[0].plot(lossesWith,label='WITH batchnorm')\n",
    "ax[0].plot(lossesNo,label='NO batchnorm')\n",
    "ax[0].set_title('Losses')\n",
    "ax[0].legend()\n",
    "\n",
    "ax[1].plot(trainAccWith,label='WITH batchnorm')\n",
    "ax[1].plot(trainAccNo,label='NO batchnorm')\n",
    "ax[1].set_title('Train accuracy')\n",
    "ax[1].legend()\n",
    "\n",
    "ax[2].plot(testAccWith,label='WITH batchnorm')\n",
    "ax[2].plot(testAccNo,label='NO batchnorm')\n",
    "ax[2].set_title('Test accuracy')\n",
    "ax[2].legend()\n",
    "\n",
    "plt.show()"
   ]
  },
  {
   "cell_type": "code",
   "execution_count": null,
   "metadata": {
    "id": "_UMTFQTPqBjr"
   },
   "outputs": [],
   "source": []
  },
  {
   "cell_type": "markdown",
   "metadata": {
    "id": "b-DYWPmfTfZR"
   },
   "source": [
    "# Additional explorations"
   ]
  },
  {
   "cell_type": "code",
   "execution_count": null,
   "metadata": {
    "id": "XRokrXL9Thv7"
   },
   "outputs": [],
   "source": [
    "# 1) BatchNorm1d takes several additional inputs, including one called \"momentum.\" You will learn what this parameter\n",
    "#    means later in this section, but briefly: it is a smoothing parameter that helps stabilize and improve learning\n",
    "#    weights. The default value is .1. What happens when you change it to .001? How about setting it to zero?\n",
    "# \n",
    "# 2) In the lecture, I said to apply batchnorm to the data *before* applying the nonlinearity (here, relu). This is also\n",
    "#    implemented in the code above. However, this is discussed in the field and online, and not everyone agrees. Modify \n",
    "#    the code to apply batch normalization *after* applying relu. Does that make a big difference? Thinking about the\n",
    "#    math, which order makes more sense to you? (Don't worry, it's OK to disagree with me!)\n",
    "# "
   ]
  }
 ],
 "metadata": {
  "colab": {
   "authorship_tag": "ABX9TyONhcCIPHAxVp0dGJ62CX7r",
   "provenance": [
    {
     "file_id": "1IuDazKJ8VD0FyCGt_hC-h3ZSPFypxDM0",
     "timestamp": 1619790674548
    },
    {
     "file_id": "1ZD_ADbh6qrlHE16V7Yc8VF9Vrn2c6bMQ",
     "timestamp": 1617088339885
    }
   ]
  },
  "kernelspec": {
   "display_name": "Python 3",
   "name": "python3"
  },
  "language_info": {
   "name": "python"
  }
 },
 "nbformat": 4,
 "nbformat_minor": 0
}
