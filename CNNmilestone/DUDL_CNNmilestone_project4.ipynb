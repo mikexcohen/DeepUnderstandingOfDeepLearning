{
 "cells": [
  {
   "cell_type": "markdown",
   "id": "1b689ace",
   "metadata": {},
   "source": [
    "[![Open In Colab](https://colab.research.google.com/assets/colab-badge.svg)](https://colab.research.google.com/github/ydebessu/DeepUnderstandingOfDeepLearning/blob/main/CNNmilestone/DUDL_CNNmilestone_project4.ipynb)"
   ]
  },
  {
   "cell_type": "markdown",
   "metadata": {
    "id": "bhWV8oes-wKR"
   },
   "source": [
    "# COURSE: A deep understanding of deep learning\n",
    "## SECTION: CNN milestone projects\n",
    "### LECTURE: Project 4: Psychometric functions in CNNs\n",
    "#### TEACHER: Mike X Cohen, sincxpress.com\n",
    "##### COURSE URL: udemy.com/course/deeplearning_x/?couponCode=202401"
   ]
  },
  {
   "cell_type": "code",
   "execution_count": null,
   "metadata": {
    "id": "YeuAheYyhdZw"
   },
   "outputs": [],
   "source": [
    "# import libraries\n",
    "import numpy as np\n",
    "\n",
    "import torch\n",
    "import torch.nn as nn\n",
    "import torch.nn.functional as F\n",
    "from torch.utils.data import DataLoader,TensorDataset\n",
    "from sklearn.model_selection import train_test_split\n",
    "\n",
    "import matplotlib.pyplot as plt\n",
    "import matplotlib_inline.backend_inline\n",
    "matplotlib_inline.backend_inline.set_matplotlib_formats('svg')"
   ]
  },
  {
   "cell_type": "markdown",
   "metadata": {
    "id": "0HOkOefftqyg"
   },
   "source": [
    "# Import and process the data"
   ]
  },
  {
   "cell_type": "code",
   "execution_count": null,
   "metadata": {
    "id": "MU7rvmWuhjud"
   },
   "outputs": [],
   "source": [
    "nImages = 2000\n",
    "imgSize = 30\n",
    "\n",
    "# initialize tensor containing images\n",
    "images = torch.zeros(nImages,1,imgSize,imgSize)\n",
    "labels = torch.zeros(nImages,1)\n",
    "\n",
    "for i in range(nImages):\n",
    "\n",
    "  # and add noise\n",
    "  G  = np.random.randn(imgSize,imgSize)\n",
    "\n",
    "  # add a random bar randomly\n",
    "  i1 = np.random.choice(np.arange(2,28))\n",
    "  i2 = np.random.choice(np.arange(2,6))\n",
    "  if np.random.randn()>0:\n",
    "    G[i1:i1+i2,] = 1 # horizontal\n",
    "  else:\n",
    "    G[:,i1:i1+i2] = 1 # vertical\n",
    "    labels[i] = 1\n",
    "  \n",
    "  # add to the tensor\n",
    "  images[i,:,:,:] = torch.Tensor(G).view(1,imgSize,imgSize)"
   ]
  },
  {
   "cell_type": "code",
   "execution_count": null,
   "metadata": {
    "id": "4rsf92yfrGoC"
   },
   "outputs": [],
   "source": [
    "# visualize some images\n",
    "fig,axs = plt.subplots(3,7,figsize=(15,5))\n",
    "\n",
    "for i,ax in enumerate(axs.flatten()):\n",
    "  whichpic = np.random.randint(nImages)\n",
    "  G = np.squeeze( images[whichpic,:,:] )\n",
    "  ax.imshow(G,vmin=-2,vmax=2,cmap='jet',extent=[-4,4,-4,4],origin='upper')\n",
    "  \n",
    "  title = 'Horiz.' if labels[whichpic].item()==0 else 'Vert.'\n",
    "  ax.set_title(title)\n",
    "  ax.set_xticks([])\n",
    "  ax.set_yticks([])\n",
    "\n",
    "plt.tight_layout()\n",
    "plt.show()"
   ]
  },
  {
   "cell_type": "markdown",
   "metadata": {
    "id": "OhLQ2YSvpiGj"
   },
   "source": [
    "# Create train/test groups using DataLoader"
   ]
  },
  {
   "cell_type": "code",
   "execution_count": null,
   "metadata": {
    "id": "Y_tZ1ymVp0Sf"
   },
   "outputs": [],
   "source": [
    "# use scikitlearn to split the data\n",
    "train_data,test_data, train_labels,test_labels = train_test_split(images, labels, test_size=.1)\n",
    "\n",
    "# convert into PyTorch Datasets\n",
    "train_data = TensorDataset(train_data,train_labels)\n",
    "test_data  = TensorDataset(test_data,test_labels)\n",
    "\n",
    "# translate into dataloader objects\n",
    "batchsize    = 32\n",
    "train_loader = DataLoader(train_data,batch_size=batchsize,shuffle=True,drop_last=True)\n",
    "test_loader  = DataLoader(test_data,batch_size=test_data.tensors[0].shape[0])"
   ]
  },
  {
   "cell_type": "code",
   "execution_count": null,
   "metadata": {
    "id": "Zhsr13r2rk8I"
   },
   "outputs": [],
   "source": [
    "# check size (should be images X channels X width X height\n",
    "train_loader.dataset.tensors[0].shape"
   ]
  },
  {
   "cell_type": "markdown",
   "metadata": {
    "id": "OK8Opkhgp0bO"
   },
   "source": [
    "# Create the DL model"
   ]
  },
  {
   "cell_type": "code",
   "execution_count": null,
   "metadata": {
    "id": "JK3OO3tAtZkA"
   },
   "outputs": [],
   "source": [
    "# create a class for the model\n",
    "def createTheNet(printtoggle=False):\n",
    "\n",
    "  class edgeNet(nn.Module):\n",
    "    def __init__(self,printtoggle):\n",
    "      super().__init__()\n",
    "\n",
    "      ### convolution layers\n",
    "      self.conv1 = nn.Conv2d( 1,5,kernel_size=3,stride=1,padding=1)\n",
    "      # size: np.floor( (31+2*1-3)/1 )+1 = 31/2 = 15 (/2 b/c maxpool)\n",
    "\n",
    "      self.conv2 = nn.Conv2d(5,10,kernel_size=3,stride=1,padding=1)\n",
    "      # size: np.floor( (15+2*1-3)/1 )+1 = 15/2 = 7 (/2 b/c maxpool)\n",
    "\n",
    "      # compute the number of units in FClayer (number of outputs of conv2)\n",
    "      expectSize = np.floor( (7+2*0-1)/1 ) + 1 # fc1 layer has no padding or kernel, so set to 0/1\n",
    "      expectSize = 10*int(expectSize**2)\n",
    "      \n",
    "      ### fully-connected layer\n",
    "      self.fc1 = nn.Linear(expectSize,15)\n",
    "\n",
    "      ### output layer\n",
    "      self.out = nn.Linear(15,1)\n",
    "\n",
    "      # toggle for printing out tensor sizes during forward prop\n",
    "      self.print = printtoggle\n",
    "\n",
    "    # forward pass\n",
    "    def forward(self,x):\n",
    "      \n",
    "      print(f'Input: {x.shape}') if self.print else None\n",
    "\n",
    "      # convolution -> maxpool -> relu\n",
    "      x = F.relu(F.max_pool2d(self.conv1(x),2))\n",
    "      print(f'Layer conv1: {x.shape}') if self.print else None\n",
    "\n",
    "      # and again: convolution -> maxpool -> relu\n",
    "      x = F.relu(F.max_pool2d(self.conv2(x),2))\n",
    "      print(f'Layer conv2: {x.shape}') if self.print else None\n",
    "\n",
    "      # reshape for linear layer\n",
    "      nUnits = x.shape.numel()/x.shape[0]\n",
    "      x = x.view(-1,int(nUnits))\n",
    "      if self.print: print(f'Vectorize: {x.shape}')\n",
    "      \n",
    "      # linear layers\n",
    "      x = F.relu(self.fc1(x))\n",
    "      if self.print: print(f'Layer fc1: {x.shape}')\n",
    "      x = self.out(x)\n",
    "      if self.print: print(f'Layer out: {x.shape}')\n",
    "\n",
    "      return x\n",
    "  \n",
    "  # create the model instance\n",
    "  net = edgeNet(printtoggle)\n",
    "  \n",
    "  # loss function\n",
    "  lossfun = nn.BCEWithLogitsLoss()\n",
    "\n",
    "  # optimizer\n",
    "  optimizer = torch.optim.Adam(net.parameters(),lr=.001)\n",
    "\n",
    "  return net,lossfun,optimizer"
   ]
  },
  {
   "cell_type": "code",
   "execution_count": null,
   "metadata": {
    "id": "y6icEJcXp0el"
   },
   "outputs": [],
   "source": [
    "# test the model with one batch\n",
    "net,lossfun,optimizer = createTheNet(True)\n",
    "\n",
    "X,y = next(iter(train_loader))\n",
    "yHat = net(X)\n",
    "\n",
    "# confirm shapes of prediction and actual\n",
    "print(' ')\n",
    "print(yHat.shape)\n",
    "print(y.shape)\n",
    "\n",
    "# finally, make sure the loss is computed\n",
    "loss = lossfun(yHat,y)\n",
    "print(' ')\n",
    "print('Loss:')\n",
    "print(loss)"
   ]
  },
  {
   "cell_type": "markdown",
   "metadata": {
    "id": "dvfGQIRGp0ht"
   },
   "source": [
    "# Create a function that trains the model"
   ]
  },
  {
   "cell_type": "code",
   "execution_count": null,
   "metadata": {
    "id": "IblJo1NCp0kl"
   },
   "outputs": [],
   "source": [
    "# a function that trains the model\n",
    "\n",
    "def function2trainTheModel():\n",
    "\n",
    "  # number of epochs\n",
    "  numepochs = 10\n",
    "  \n",
    "  # create a new model\n",
    "  net,lossfun,optimizer = createTheNet()\n",
    "\n",
    "  # initialize losses\n",
    "  losses    = torch.zeros(numepochs)\n",
    "  trainAcc  = []\n",
    "  testAcc   = []\n",
    "\n",
    "\n",
    "  # loop over epochs\n",
    "  for epochi in range(numepochs):\n",
    "\n",
    "    # loop over training data batches\n",
    "    net.train()\n",
    "    batchAcc  = []\n",
    "    batchLoss = []\n",
    "    for X,y in train_loader:\n",
    "\n",
    "      # forward pass and loss\n",
    "      yHat = net(X)\n",
    "      loss = lossfun(yHat,y)\n",
    "\n",
    "      # backprop\n",
    "      optimizer.zero_grad()\n",
    "      loss.backward()\n",
    "      optimizer.step()\n",
    "\n",
    "      # loss from this batch\n",
    "      batchLoss.append(loss.item())\n",
    "\n",
    "      # convert output to probability via sigmoid\n",
    "      yy = torch.sigmoid(yHat)\n",
    "\n",
    "      # then we compute whether p>.5\n",
    "      acc = torch.mean(((yy>.5).float().detach() == y).float())\n",
    "      batchAcc.append( 100*acc.item() )               # add to list of accuracies\n",
    "    # end of batch loop...\n",
    "\n",
    "    # now that we've trained through the batches, get their average training accuracy\n",
    "    trainAcc.append( np.mean(batchAcc) )\n",
    "\n",
    "    # and get average losses across the batches\n",
    "    losses[epochi] = np.mean(batchLoss)\n",
    "\n",
    "    # test accuracy\n",
    "    net.eval()\n",
    "    X,y = next(iter(test_loader)) # extract X,y from test dataloader\n",
    "    with torch.no_grad(): # deactivates autograd\n",
    "      yHat = net(X)\n",
    "    \n",
    "    # convert output to probability via sigmoid\n",
    "    yy = torch.sigmoid(yHat)\n",
    "\n",
    "    # then we compute whether p>.5\n",
    "    acc = torch.mean(((yy>.5).float().detach() == y).float())\n",
    "    testAcc.append( 100*acc.item() )\n",
    "\n",
    "  # end epochs\n",
    "\n",
    "  # function output\n",
    "  return trainAcc,testAcc,losses,net\n"
   ]
  },
  {
   "cell_type": "markdown",
   "metadata": {
    "id": "XpGm9xdQ27Ob"
   },
   "source": [
    "# Run the model and show the results!"
   ]
  },
  {
   "cell_type": "code",
   "execution_count": null,
   "metadata": {
    "id": "l9pCC1R2p0nu"
   },
   "outputs": [],
   "source": [
    "trainAcc,testAcc,losses,net = function2trainTheModel()"
   ]
  },
  {
   "cell_type": "code",
   "execution_count": null,
   "metadata": {
    "id": "gHzKOZjnp0qn"
   },
   "outputs": [],
   "source": [
    "fig,ax = plt.subplots(1,2,figsize=(16,5))\n",
    "\n",
    "ax[0].plot(losses,'s-')\n",
    "ax[0].set_xlabel('Epochs')\n",
    "ax[0].set_ylabel('Loss')\n",
    "ax[0].set_title('Model loss')\n",
    "\n",
    "ax[1].plot(trainAcc,'s-',label='Train')\n",
    "ax[1].plot(testAcc,'o-',label='Test')\n",
    "ax[1].set_xlabel('Epochs')\n",
    "ax[1].set_ylabel('Accuracy (%)')\n",
    "ax[1].set_title(f'Final model test accuracy: {testAcc[-1]:.2f}%')\n",
    "ax[1].legend()\n",
    "\n",
    "plt.show()"
   ]
  },
  {
   "cell_type": "markdown",
   "metadata": {
    "id": "9SnUUHPm7xQE"
   },
   "source": [
    "# Now for the test!"
   ]
  },
  {
   "cell_type": "code",
   "execution_count": null,
   "metadata": {
    "id": "BHQv1iEmRLpl"
   },
   "outputs": [],
   "source": [
    "### create lines in images\n",
    "\n",
    "from skimage.draw import line_aa\n",
    "\n",
    "fig,ax = plt.subplots(6,10,figsize=(10,6))\n",
    "imgs   = np.zeros((2*imgSize,1,imgSize,imgSize))\n",
    "slopes = np.zeros(2*imgSize)\n",
    "\n",
    "a = ax.flatten()\n",
    "for i in range(imgSize):\n",
    "\n",
    "  ### create lines with |slope|<1\n",
    "  # point coords\n",
    "  p1 = [0,i]\n",
    "  p2 = [imgSize-p1[0]-1,imgSize-p1[1]-1]\n",
    "  slopes[i] = (p2[1]-p1[1])/(p2[0]-p1[0]+1e-10)\n",
    "\n",
    "  # create the lines\n",
    "  rows,cols,val = line_aa(p1[1],p1[0],p2[1],p2[0]) #  y1,x1,y2,x2\n",
    "  imgs[i,0,rows,cols] = val\n",
    "\n",
    "  # plot\n",
    "  a[i].imshow(imgs[i,0,:,:],origin='lower')\n",
    "  a[i].set_title('%.2f'%slopes[i])\n",
    "  a[i].axis('off')\n",
    "  \n",
    "\n",
    "  ### create lines with |slope|>1\n",
    "  # point coords\n",
    "  p1 = [i,0]\n",
    "  p2 = [imgSize-p1[0]-1,imgSize-p1[1]-1]\n",
    "  slopes[i+imgSize] = (p2[1]-p1[1])/(p2[0]-p1[0]+1e-10)\n",
    "\n",
    "  # create the lines\n",
    "  rows,cols,val = line_aa(p1[1],p1[0],p2[1],p2[0]) #  y1,x1,y2,x2\n",
    "  imgs[i+imgSize,0,rows,cols] = val\n",
    "\n",
    "  # plot\n",
    "  a[i+imgSize].imshow(imgs[i+imgSize,0,:,:],origin='lower')\n",
    "  a[i+imgSize].set_title('%.2f'%slopes[i+imgSize])\n",
    "  a[i+imgSize].axis('off')\n",
    "\n",
    "plt.tight_layout()\n",
    "plt.show()"
   ]
  },
  {
   "cell_type": "code",
   "execution_count": null,
   "metadata": {
    "id": "J2Rzlf0HRLsF"
   },
   "outputs": [],
   "source": [
    "# run the images through the model\n",
    "\n",
    "# randomly shuffle the images, just to be on the safe side...\n",
    "# and also convert to tensor...\n",
    "ridx = np.random.permutation(range(imgs.shape[0]))\n",
    "imgT = torch.tensor(imgs[ridx,:,:,:].astype(np.float32))\n",
    "\n",
    "\n",
    "# now generate the prediction (horizontal or vertical)\n",
    "net.eval()\n",
    "yHat = torch.sigmoid( net(imgT) ).detach()\n",
    "\n",
    "# plot the results (make sure the slopes use the same randomization)\n",
    "for i in range(len(slopes)):\n",
    "  if yHat[i]>.5:\n",
    "    plt.plot([slopes[ridx[i]],slopes[ridx[i]]],[1,yHat[i].item()],'r')\n",
    "  else:\n",
    "    plt.plot([slopes[ridx[i]],slopes[ridx[i]]],[0,yHat[i].item()],'g')\n",
    "\n",
    "plt.plot(slopes[ridx],yHat,'ko')\n",
    "plt.xlabel('Slope of the line')\n",
    "plt.ylabel('p(vertical)')\n",
    "plt.title('%.2f%% labeled \"vertical\"' %torch.mean(100*(yHat>.5).float()).item())\n",
    "plt.ylim([0,1])\n",
    "plt.xlim([-10,10]) # note: this actually clips two data points\n",
    "plt.show()"
   ]
  },
  {
   "cell_type": "code",
   "execution_count": null,
   "metadata": {
    "id": "JWIt0uDjGxGV"
   },
   "outputs": [],
   "source": [
    "fig,ax = plt.subplots(10,6,figsize=(6,12))\n",
    "\n",
    "for i,a in enumerate(ax.flatten()):\n",
    "  \n",
    "  # show the line-image (make sure to use the randomization index)\n",
    "  if yHat[i]>.5:\n",
    "    a.imshow(imgs[ridx[i],0,:,:],origin='lower',cmap='Reds')\n",
    "  else:\n",
    "    a.imshow(imgs[ridx[i],0,:,:],origin='lower',cmap='Greens')\n",
    "  \n",
    "  # and the title\n",
    "  title = '\"Vert.\"' if yHat[i].detach()>.5 else '\"Horiz.\"'\n",
    "  a.set_title(title)\n",
    "  a.axis('off')\n",
    "\n",
    "plt.tight_layout()\n",
    "plt.show()"
   ]
  }
 ],
 "metadata": {
  "colab": {
   "authorship_tag": "ABX9TyNbvl2q6+NW30S18hrCqzKa",
   "provenance": [
    {
     "file_id": "1DhCBG4G1mem5QXFrzZb_Cg66_dnFqvhN",
     "timestamp": 1619724464065
    },
    {
     "file_id": "1FcEBC0NAESIlHQkv6_85R-XDUKGE8XbM",
     "timestamp": 1619549043909
    },
    {
     "file_id": "1qKgZ8kVcqNgwtBzHbWq5yJH_HqI6DxWW",
     "timestamp": 1617803880910
    },
    {
     "file_id": "15cpyHkJ435B4MqbyGjAH1poN4nCy_DE4",
     "timestamp": 1617737766196
    },
    {
     "file_id": "1OLuWuaFu0hcFgkQ2hh5BqbRuqUZD7XcQ",
     "timestamp": 1617734878578
    },
    {
     "file_id": "1XvzVGJPTJifVh8OpZVB7ykLxyUqYwQ1j",
     "timestamp": 1617196833019
    },
    {
     "file_id": "1bv1_y32e3KEExFKKlPfC3rpw1JxmBr8H",
     "timestamp": 1617124341706
    },
    {
     "file_id": "1GMq8u7KyHB2AE7Teyls9gK1T01OduQSn",
     "timestamp": 1616697516760
    },
    {
     "file_id": "1Ui3kyHim-e0XLgDs2mkBxVlYg7TKYtcg",
     "timestamp": 1616615469755
    },
    {
     "file_id": "1YpHocGI4rApOxIBb1ZghCU5L-hFnv4CK",
     "timestamp": 1616608248670
    }
   ]
  },
  "kernelspec": {
   "display_name": "Python 3",
   "name": "python3"
  }
 },
 "nbformat": 4,
 "nbformat_minor": 0
}
