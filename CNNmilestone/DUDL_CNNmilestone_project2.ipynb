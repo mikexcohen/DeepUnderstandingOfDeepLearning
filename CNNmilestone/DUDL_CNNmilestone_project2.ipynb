{
 "cells": [
  {
   "cell_type": "markdown",
   "id": "6dc1c7a8",
   "metadata": {},
   "source": [
    "[![Open In Colab](https://colab.research.google.com/assets/colab-badge.svg)](https://colab.research.google.com/github/ydebessu/DeepUnderstandingOfDeepLearning/blob/main/CNNmilestone/DUDL_CNNmilestone_project2.ipynb)"
   ]
  },
  {
   "cell_type": "markdown",
   "metadata": {
    "id": "bhWV8oes-wKR"
   },
   "source": [
    "# COURSE: A deep understanding of deep learning\n",
    "## SECTION: CNN milestone projects\n",
    "### LECTURE: Project 2: CIFAR10 Autoencoder\n",
    "#### TEACHER: Mike X Cohen, sincxpress.com\n",
    "##### COURSE URL: udemy.com/course/deeplearning_x/?couponCode=202401"
   ]
  },
  {
   "cell_type": "code",
   "execution_count": null,
   "metadata": {
    "id": "YeuAheYyhdZw"
   },
   "outputs": [],
   "source": [
    "# import libraries\n",
    "import numpy as np\n",
    "\n",
    "import torch\n",
    "import torch.nn as nn\n",
    "import torch.nn.functional as F\n",
    "\n",
    "# for importing data\n",
    "import torchvision\n",
    "import torchvision.transforms as T\n",
    "from torch.utils.data import DataLoader\n",
    "\n",
    "import matplotlib.pyplot as plt\n",
    "import matplotlib_inline.backend_inline\n",
    "matplotlib_inline.backend_inline.set_matplotlib_formats('svg')"
   ]
  },
  {
   "cell_type": "code",
   "execution_count": null,
   "metadata": {
    "id": "IBSQO5HB6Kje"
   },
   "outputs": [],
   "source": [
    "# use GPU if available\n",
    "device = torch.device('cuda:0' if torch.cuda.is_available() else 'cpu')"
   ]
  },
  {
   "cell_type": "markdown",
   "metadata": {
    "id": "0HOkOefftqyg"
   },
   "source": [
    "# Import the CIFAR dataset"
   ]
  },
  {
   "cell_type": "code",
   "execution_count": null,
   "metadata": {
    "id": "R1huHlhc4gnE"
   },
   "outputs": [],
   "source": [
    "# transformations\n",
    "transform = T.Compose([ T.ToTensor(),\n",
    "                        T.Normalize([.5,.5,.5],[.5,.5,.5])\n",
    "                       ])\n",
    "\n",
    "# import the data and simultaneously apply the transform\n",
    "trainset = torchvision.datasets.CIFAR10(root='./data', train=True,  download=True, transform=transform)\n",
    "testset  = torchvision.datasets.CIFAR10(root='./data', train=False, download=True, transform=transform)\n",
    "\n",
    "# transform to dataloaders\n",
    "batchsize    = 32\n",
    "train_loader = DataLoader(trainset,batch_size=batchsize,shuffle=True,drop_last=True)\n",
    "test_loader  = DataLoader(testset, batch_size=256)"
   ]
  },
  {
   "cell_type": "code",
   "execution_count": null,
   "metadata": {
    "id": "hMpyFzF-d95B"
   },
   "outputs": [],
   "source": [
    "# inspect a few random images\n",
    "\n",
    "X,y = next(iter(train_loader))\n",
    "\n",
    "fig,axs = plt.subplots(4,4,figsize=(10,10))\n",
    "\n",
    "for (i,ax) in enumerate(axs.flatten()):\n",
    "\n",
    "  # extract that image (need to transpose it back to 32x32x3)\n",
    "  pic = X.data[i].numpy().transpose((1,2,0))\n",
    "  pic = pic/2 + .5 # undo normalization\n",
    "  \n",
    "  # and its label\n",
    "  label = trainset.classes[y[i]]\n",
    "\n",
    "  # and show!\n",
    "  ax.imshow(pic)\n",
    "  ax.text(16,0,label,ha='center',fontweight='bold',color='k',backgroundcolor='y')\n",
    "  ax.axis('off')\n",
    "\n",
    "plt.tight_layout()\n",
    "plt.show()"
   ]
  },
  {
   "cell_type": "markdown",
   "metadata": {
    "id": "OK8Opkhgp0bO"
   },
   "source": [
    "# Create the CNN-AE model"
   ]
  },
  {
   "cell_type": "code",
   "execution_count": null,
   "metadata": {
    "id": "JK3OO3tAtZkA"
   },
   "outputs": [],
   "source": [
    "# create a class for the model\n",
    "def makeTheAENet(printtoggle=False):\n",
    "\n",
    "  class aenet(nn.Module):\n",
    "    def __init__(self,printtoggle):\n",
    "      super().__init__()\n",
    "      \n",
    "      # print toggle\n",
    "      self.print = printtoggle\n",
    "\n",
    "      ### -------------- encoding layers -------------- ###\n",
    "      # first convolution layer\n",
    "      self.encconv1  = nn.Conv2d(3,16,4,padding=1,stride=2) # note: using stride instead of pool to downsample\n",
    "      # output size: (32+2*1-4)/2 + 1 = 16\n",
    "\n",
    "      # second convolution layer\n",
    "      self.encconv2  = nn.Conv2d(16,32,4,padding=1,stride=2)\n",
    "      # output size: (16+2*1-4)/2 + 1 = 8\n",
    "\n",
    "      # third convolution layer (latent code layer)\n",
    "      self.latent  = nn.Conv2d(32,64,4,padding=1,stride=2)\n",
    "      # output size: (8+2*1-4)/2 + 1 = 4\n",
    "      \n",
    "\n",
    "      ### -------------- decoding layers -------------- ###\n",
    "      \n",
    "      # first convolution layer\n",
    "      self.decconv1  = nn.ConvTranspose2d(64,32,4,padding=1,stride=2)\n",
    "\n",
    "      # second convolution layer\n",
    "      self.decconv2  = nn.ConvTranspose2d(32,16,4,padding=1,stride=2)\n",
    "\n",
    "      # third convolution layer (output)\n",
    "      self.output  = nn.ConvTranspose2d(16,3,4,padding=1,stride=2)\n",
    "\n",
    "\n",
    "    def forward(self,x):\n",
    "      \n",
    "      if self.print: print(f'Input: {list(x.shape)}')\n",
    "      \n",
    "      # first encoder layer\n",
    "      x = F.leaky_relu( self.encconv1(x) )\n",
    "      if self.print: print(f'First encoder block: {list(x.shape)}')\n",
    "\n",
    "      # second encoder layer\n",
    "      x = F.leaky_relu( self.encconv2(x) )\n",
    "      if self.print: print(f'Second encoder block: {list(x.shape)}')\n",
    "\n",
    "      # latent layer\n",
    "      x = F.leaky_relu( self.latent(x) )\n",
    "      if self.print: print(f'Third encoder block: {list(x.shape)}')\n",
    "\n",
    "\n",
    "\n",
    "\n",
    "      # first decoder block\n",
    "      x = F.leaky_relu( self.decconv1(x) )\n",
    "      if self.print: print(f'First decoder block: {list(x.shape)}')\n",
    "\n",
    "      # second decoder block\n",
    "      x = F.leaky_relu( self.decconv2(x) )\n",
    "      if self.print: print(f'Second decoder block: {list(x.shape)}')\n",
    "\n",
    "      # third decoder block (output)\n",
    "      x = F.leaky_relu( self.output(x) )\n",
    "      if self.print: print(f'Decoder output: {list(x.shape)}')\n",
    "\n",
    "      return x\n",
    "\n",
    "  # create the model instance\n",
    "  net = aenet(printtoggle)\n",
    "  \n",
    "  # loss function\n",
    "  lossfun = nn.MSELoss()\n",
    "\n",
    "  # optimizer\n",
    "  optimizer = torch.optim.Adam(net.parameters(),lr=.001,weight_decay=1e-5)\n",
    "\n",
    "  return net,lossfun,optimizer\n"
   ]
  },
  {
   "cell_type": "code",
   "execution_count": null,
   "metadata": {
    "id": "y6icEJcXp0el"
   },
   "outputs": [],
   "source": [
    "# test the model with one batch\n",
    "aenet,lossfun,optimizer = makeTheAENet(True)\n",
    "\n",
    "X,y = next(iter(train_loader))\n",
    "yHat = aenet(X)\n",
    "\n",
    "# now compute the loss\n",
    "loss = lossfun(yHat,X)\n",
    "print(' ')\n",
    "print('Loss:')\n",
    "print(loss)"
   ]
  },
  {
   "cell_type": "code",
   "execution_count": null,
   "metadata": {
    "id": "Dhd1iUO9xjbv"
   },
   "outputs": [],
   "source": []
  },
  {
   "cell_type": "markdown",
   "metadata": {
    "id": "dvfGQIRGp0ht"
   },
   "source": [
    "# Create a function that trains the AE model"
   ]
  },
  {
   "cell_type": "code",
   "execution_count": null,
   "metadata": {
    "id": "IblJo1NCp0kl"
   },
   "outputs": [],
   "source": [
    "# a function that trains the model\n",
    "\n",
    "def function2trainTheAEModel(net,lossfun,optimizer):\n",
    "\n",
    "  # number of epochs\n",
    "  numepochs = 20\n",
    "  \n",
    "  # send the model to the GPU\n",
    "  net.to(device)\n",
    "\n",
    "  # initialize losses\n",
    "  trainLoss = torch.zeros(numepochs)\n",
    "  testLoss  = torch.zeros(numepochs)\n",
    "\n",
    "\n",
    "  # loop over epochs\n",
    "  for epochi in range(numepochs):\n",
    "\n",
    "    # loop over training data batches\n",
    "    net.train() # switch to train mode\n",
    "    batchLoss = []\n",
    "\n",
    "    for X,y in train_loader:\n",
    "\n",
    "      # push data to GPU\n",
    "      X = X.to(device)\n",
    "      y = y.to(device)\n",
    "\n",
    "      # forward pass and loss\n",
    "      yHat = net(X)\n",
    "      loss = lossfun(yHat,X)\n",
    "\n",
    "      # backprop\n",
    "      optimizer.zero_grad()\n",
    "      loss.backward()\n",
    "      optimizer.step()\n",
    "\n",
    "      # loss and accuracy from this batch\n",
    "      batchLoss.append(loss.item())\n",
    "    # end of batch loop...\n",
    "\n",
    "    # and get average losses and accuracies across the batches\n",
    "    trainLoss[epochi] = np.mean(batchLoss)\n",
    "\n",
    "\n",
    "    #### test performance (here done in batches!)\n",
    "    net.eval() # switch to test mode\n",
    "    batchLoss = []\n",
    "\n",
    "    for X,y in test_loader:\n",
    "\n",
    "      # push data to GPU\n",
    "      X = X.to(device)\n",
    "      y = y.to(device)\n",
    "\n",
    "      # forward pass and loss\n",
    "      with torch.no_grad():\n",
    "        yHat = net(X)\n",
    "        loss = lossfun(yHat,X)\n",
    "      \n",
    "      # loss and accuracy from this batch\n",
    "      batchLoss.append(loss.item())\n",
    "    # end of batch loop...\n",
    "\n",
    "    # and get average losses and accuracies across the batches\n",
    "    testLoss[epochi] = np.mean(batchLoss)\n",
    "\n",
    "  # end epochs\n",
    "\n",
    "  # function output\n",
    "  return trainLoss,testLoss,net"
   ]
  },
  {
   "cell_type": "markdown",
   "metadata": {
    "id": "XpGm9xdQ27Ob"
   },
   "source": [
    "# Run the AE model and show the results!"
   ]
  },
  {
   "cell_type": "code",
   "execution_count": null,
   "metadata": {
    "id": "l9pCC1R2p0nu"
   },
   "outputs": [],
   "source": [
    "# ~5 minutes with 15 epochs on GPU\n",
    "\n",
    "# create a new model (comment out to re-train)\n",
    "netAE,lossfun,optimizer = makeTheAENet()\n",
    "\n",
    "trainLossAE,testLossAE,netAE = function2trainTheAEModel(netAE,lossfun,optimizer)"
   ]
  },
  {
   "cell_type": "code",
   "execution_count": null,
   "metadata": {
    "id": "nOLzbmwM_dj5"
   },
   "outputs": [],
   "source": [
    "plt.plot(trainLossAE,'s-',label='AE Train')\n",
    "plt.plot(testLossAE,'o-',label='AE Test')\n",
    "plt.xlabel('Epochs')\n",
    "plt.ylabel('Loss (MSE)')\n",
    "plt.title('Model loss (final value: %g)'%testLossAE[-1])\n",
    "plt.legend()\n",
    "\n",
    "plt.show()"
   ]
  },
  {
   "cell_type": "code",
   "execution_count": null,
   "metadata": {
    "id": "7FayyS9cmT45"
   },
   "outputs": [],
   "source": [
    "## show some random examples\n",
    "\n",
    "# get some data\n",
    "X,y = next(iter(test_loader))\n",
    "\n",
    "# forward pass and loss\n",
    "netAE.cpu()\n",
    "netAE.eval() # switch to test mode\n",
    "yHat = netAE(X)\n",
    "\n",
    "\n",
    "fig,axs = plt.subplots(2,10,figsize=(14,4))\n",
    "\n",
    "for i in range(10):\n",
    "  pic = yHat[i,:,:,:].detach().numpy().transpose((1,2,0))\n",
    "  pic = pic/2 + .5 # undo normalization\n",
    "  axs[0,i].imshow(pic)\n",
    "  axs[0,i].set_title(f'[ {np.min(pic):.2f}, {np.max(pic):.2f} ]',fontsize=10)\n",
    "  axs[0,i].axis('off')\n",
    "\n",
    "  pic = X[i,:,:,:].detach().numpy().transpose((1,2,0))\n",
    "  pic = pic/2 + .5 # undo normalization\n",
    "  axs[1,i].imshow(pic)\n",
    "  axs[1,i].set_title(f'[ {np.min(pic):.2f}, {np.max(pic):.2f} ]',fontsize=10)\n",
    "  axs[1,i].axis('off')\n",
    "\n",
    "  \n",
    "plt.show()"
   ]
  },
  {
   "cell_type": "code",
   "execution_count": null,
   "metadata": {
    "id": "00q2VUFV0e5B"
   },
   "outputs": [],
   "source": []
  }
 ],
 "metadata": {
  "accelerator": "GPU",
  "colab": {
   "authorship_tag": "ABX9TyPjgZGGKFGKEU8mtTU4N3GO",
   "provenance": [
    {
     "file_id": "1UVcNOKSj-uPfE9Ias0UX9j86_1f2GpzC",
     "timestamp": 1620452222137
    },
    {
     "file_id": "10s7QVDMgvSALKUxpZt45O6zOSP_dTpaT",
     "timestamp": 1620318056189
    },
    {
     "file_id": "1GRajDS-VF5z8IslzZuMqbis3X6HDD-Uo",
     "timestamp": 1620020596458
    },
    {
     "file_id": "1m0n2-UmB2tJiIDadlFkE6L5A4iZSqeBf",
     "timestamp": 1619459134813
    },
    {
     "file_id": "19G9gTeBlYPQ-s3VS_3K2bVFtKTP344j6",
     "timestamp": 1619444797767
    },
    {
     "file_id": "1FcEBC0NAESIlHQkv6_85R-XDUKGE8XbM",
     "timestamp": 1619155961717
    },
    {
     "file_id": "1qKgZ8kVcqNgwtBzHbWq5yJH_HqI6DxWW",
     "timestamp": 1617803880910
    },
    {
     "file_id": "15cpyHkJ435B4MqbyGjAH1poN4nCy_DE4",
     "timestamp": 1617737766196
    },
    {
     "file_id": "1OLuWuaFu0hcFgkQ2hh5BqbRuqUZD7XcQ",
     "timestamp": 1617734878578
    },
    {
     "file_id": "1XvzVGJPTJifVh8OpZVB7ykLxyUqYwQ1j",
     "timestamp": 1617196833019
    },
    {
     "file_id": "1bv1_y32e3KEExFKKlPfC3rpw1JxmBr8H",
     "timestamp": 1617124341706
    },
    {
     "file_id": "1GMq8u7KyHB2AE7Teyls9gK1T01OduQSn",
     "timestamp": 1616697516760
    },
    {
     "file_id": "1Ui3kyHim-e0XLgDs2mkBxVlYg7TKYtcg",
     "timestamp": 1616615469755
    },
    {
     "file_id": "1YpHocGI4rApOxIBb1ZghCU5L-hFnv4CK",
     "timestamp": 1616608248670
    }
   ]
  },
  "kernelspec": {
   "display_name": "Python 3",
   "name": "python3"
  }
 },
 "nbformat": 4,
 "nbformat_minor": 0
}
