{
 "cells": [
  {
   "cell_type": "markdown",
   "id": "ea026aa6",
   "metadata": {},
   "source": [
    "[![Open In Colab](https://colab.research.google.com/assets/colab-badge.svg)](https://colab.research.google.com/github/ydebessu/DeepUnderstandingOfDeepLearning/blob/main/CNNmilestone/DUDL_CNNmilestone_project1.ipynb)"
   ]
  },
  {
   "cell_type": "markdown",
   "metadata": {
    "id": "bhWV8oes-wKR"
   },
   "source": [
    "# COURSE: A deep understanding of deep learning\n",
    "## SECTION: CNN milestone projects\n",
    "### LECTURE: Project 1\n",
    "#### TEACHER: Mike X Cohen, sincxpress.com\n",
    "##### COURSE URL: udemy.com/course/deeplearning_x/?couponCode=202401"
   ]
  },
  {
   "cell_type": "code",
   "execution_count": 1,
   "metadata": {
    "colab": {
     "base_uri": "https://localhost:8080/"
    },
    "executionInfo": {
     "elapsed": 8051,
     "status": "ok",
     "timestamp": 1683014891761,
     "user": {
      "displayName": "Mike X Cohen",
      "userId": "13901636194183843661"
     },
     "user_tz": -60
    },
    "id": "YeuAheYyhdZw",
    "outputId": "9d27267e-d494-4d12-ae8f-fdf35c3b6df8"
   },
   "outputs": [
    {
     "name": "stderr",
     "output_type": "stream",
     "text": [
      "<ipython-input-1-8114d43020b1>:15: DeprecationWarning: `set_matplotlib_formats` is deprecated since IPython 7.23, directly use `matplotlib_inline.backend_inline.set_matplotlib_formats()`\n",
      "  display.set_matplotlib_formats('svg')\n"
     ]
    }
   ],
   "source": [
    "# import libraries\n",
    "import numpy as np\n",
    "\n",
    "import torch\n",
    "import torch.nn as nn\n",
    "import torch.nn.functional as F\n",
    "\n",
    "# for importing data\n",
    "import torchvision\n",
    "import torchvision.transforms as T\n",
    "from torch.utils.data import DataLoader,Subset\n",
    "\n",
    "import matplotlib.pyplot as plt\n",
    "import matplotlib_inline.backend_inline\n",
    "matplotlib_inline.backend_inline.set_matplotlib_formats('svg')"
   ]
  },
  {
   "cell_type": "code",
   "execution_count": 2,
   "metadata": {
    "executionInfo": {
     "elapsed": 5,
     "status": "ok",
     "timestamp": 1683014891762,
     "user": {
      "displayName": "Mike X Cohen",
      "userId": "13901636194183843661"
     },
     "user_tz": -60
    },
    "id": "IBSQO5HB6Kje"
   },
   "outputs": [],
   "source": [
    "# use GPU if available\n",
    "device = torch.device('cuda:0' if torch.cuda.is_available() else 'cpu')"
   ]
  },
  {
   "cell_type": "markdown",
   "metadata": {
    "id": "0HOkOefftqyg"
   },
   "source": [
    "# Import a dataset"
   ]
  },
  {
   "cell_type": "code",
   "execution_count": 8,
   "metadata": {
    "colab": {
     "base_uri": "https://localhost:8080/"
    },
    "executionInfo": {
     "elapsed": 2442,
     "status": "ok",
     "timestamp": 1683015052140,
     "user": {
      "displayName": "Mike X Cohen",
      "userId": "13901636194183843661"
     },
     "user_tz": -60
    },
    "id": "R1huHlhc4gnE",
    "outputId": "9777a88b-c00f-4281-8af3-16be6646dd0e"
   },
   "outputs": [
    {
     "name": "stdout",
     "output_type": "stream",
     "text": [
      "Files already downloaded and verified\n",
      "Files already downloaded and verified\n"
     ]
    }
   ],
   "source": [
    "# transformations\n",
    "transform = T.Compose([ T.ToTensor(),\n",
    "                        T.Normalize([.5,.5,.5],[.5,.5,.5])\n",
    "                       ])\n",
    "\n",
    "# import the data and simultaneously apply the transform\n",
    "trainset = torchvision.datasets.CIFAR10(root='./data', train=True,  download=True, transform=transform)\n",
    "devtest  = torchvision.datasets.CIFAR10(root='./data', train=False, download=True, transform=transform)\n",
    "\n",
    "# split the devtest into two separate sets\n",
    "randidx = np.random.permutation(10000)   # a random permutation of indices\n",
    "devset  = Subset(devtest,randidx[:6000]) # Subset for devset\n",
    "testset = Subset(devtest,randidx[6000:]) # Subset for test\n",
    "\n",
    "# transform to dataloaders\n",
    "batchsize    = 32\n",
    "train_loader = DataLoader(trainset,batch_size=batchsize,shuffle=True,drop_last=True)\n",
    "dev_loader   = DataLoader(devset,  batch_size=batchsize) # note: devtest in batches!\n",
    "test_loader  = DataLoader(testset, batch_size=len(testset))"
   ]
  },
  {
   "cell_type": "code",
   "execution_count": 9,
   "metadata": {
    "colab": {
     "base_uri": "https://localhost:8080/"
    },
    "executionInfo": {
     "elapsed": 8,
     "status": "ok",
     "timestamp": 1683015052140,
     "user": {
      "displayName": "Mike X Cohen",
      "userId": "13901636194183843661"
     },
     "user_tz": -60
    },
    "id": "oYwGTs2bxIjU",
    "outputId": "f4a8bc7b-c7aa-4081-e29e-a9862bc4b2db"
   },
   "outputs": [
    {
     "name": "stdout",
     "output_type": "stream",
     "text": [
      "Data shapes (train/dev/test):\n",
      "50000\n",
      "6000\n",
      "4000\n",
      "\n",
      "Data value range:\n",
      "(0, 255)\n",
      "\n",
      "Data categories:\n",
      "['airplane', 'automobile', 'bird', 'cat', 'deer', 'dog', 'frog', 'horse', 'ship', 'truck']\n"
     ]
    }
   ],
   "source": [
    "# check out the shape of the datasets\n",
    "print('Data shapes (train/dev/test):')\n",
    "print( len(trainset) )\n",
    "print( len(devset) )\n",
    "print( len(testset) )\n",
    "\n",
    "# and the range of pixel intensity values\n",
    "print('\\nData value range:')\n",
    "print( (np.min(trainset.data),np.max(trainset.data)) )\n",
    "\n",
    "# the unique categories\n",
    "print('\\nData categories:')\n",
    "print( trainset.classes )"
   ]
  },
  {
   "cell_type": "code",
   "execution_count": 10,
   "metadata": {
    "colab": {
     "base_uri": "https://localhost:8080/"
    },
    "executionInfo": {
     "elapsed": 373,
     "status": "ok",
     "timestamp": 1683015052509,
     "user": {
      "displayName": "Mike X Cohen",
      "userId": "13901636194183843661"
     },
     "user_tz": -60
    },
    "id": "eJ4PjMSr4hPo",
    "outputId": "d8b2a1da-b8d8-4d73-99fe-5710ee07d858"
   },
   "outputs": [
    {
     "name": "stdout",
     "output_type": "stream",
     "text": [
      "Data shapes (train/test):\n",
      "torch.Size([32, 3, 32, 32])\n",
      "\n",
      "Data value range:\n",
      "(tensor(-1.), tensor(1.))\n"
     ]
    }
   ],
   "source": [
    "# Uh oh! It looks like the images are the wrong dimensions!\n",
    "# They need to be 3x32x32.\n",
    "# And they are not normalized!\n",
    "\n",
    "# but...\n",
    "X,y = next(iter(train_loader))\n",
    "\n",
    "# try again\n",
    "print('Data shapes (train/test):')\n",
    "print( X.data.shape )\n",
    "\n",
    "# and the range of pixel intensity values\n",
    "print('\\nData value range:')\n",
    "print( (torch.min(X.data),torch.max(X.data)) )"
   ]
  },
  {
   "cell_type": "code",
   "execution_count": null,
   "metadata": {
    "id": "hMpyFzF-d95B"
   },
   "outputs": [],
   "source": [
    "# inspect a few random images\n",
    "\n",
    "fig,axs = plt.subplots(4,4,figsize=(10,10))\n",
    "\n",
    "for (i,ax) in enumerate(axs.flatten()):\n",
    "\n",
    "  # extract that image (need to transpose it back to 32x32x3)\n",
    "  pic = X.data[i].numpy().transpose((1,2,0))\n",
    "  pic = pic/2 + .5 # undo normalization\n",
    "  \n",
    "  # and its label\n",
    "  label = trainset.classes[y[i]]\n",
    "\n",
    "  # and show!\n",
    "  ax.imshow(pic)\n",
    "  ax.text(16,0,label,ha='center',fontweight='bold',color='k',backgroundcolor='y')\n",
    "  ax.axis('off')\n",
    "\n",
    "plt.tight_layout()\n",
    "plt.show()"
   ]
  },
  {
   "cell_type": "markdown",
   "metadata": {
    "id": "OK8Opkhgp0bO"
   },
   "source": [
    "# Create the DL model"
   ]
  },
  {
   "cell_type": "code",
   "execution_count": null,
   "metadata": {
    "id": "JK3OO3tAtZkA"
   },
   "outputs": [],
   "source": [
    "# create a class for the model\n",
    "def makeTheNet(printtoggle=False):\n",
    "\n",
    "  class cnnnet(nn.Module):\n",
    "    def __init__(self,printtoggle):\n",
    "      super().__init__()\n",
    "      \n",
    "      # print toggle\n",
    "      self.print = printtoggle\n",
    "\n",
    "      ### -------------- feature map layers -------------- ###\n",
    "      # first convolution layer\n",
    "      self.conv1  = nn.Conv2d(3,64,3,padding=1)\n",
    "      self.bnorm1 = nn.BatchNorm2d(64) # input the number of channels in this layer\n",
    "      # output size: (32+2*1-3)/1 + 1 = 32/2 = 16 (/2 b/c maxpool)\n",
    "\n",
    "      # second convolution layer\n",
    "      self.conv2  = nn.Conv2d(64,128,3)\n",
    "      self.bnorm2 = nn.BatchNorm2d(128) # input the number of channels in this layer\n",
    "      # output size: (16+2*0-3)/1 + 1 = 14/2 = 7 (/2 b/c maxpool)\n",
    "\n",
    "      # third convolution layer\n",
    "      self.conv3  = nn.Conv2d(128,256,3)\n",
    "      self.bnorm3 = nn.BatchNorm2d(256) # input the number of channels in this layer\n",
    "      # output size: (7+2*0-3)/1 + 1 = 5/2 = 2 (/2 b/c maxpool)\n",
    "      \n",
    "      ### -------------- linear decision layers -------------- ###\n",
    "      self.fc1 = nn.Linear(2*2*256,256)\n",
    "      self.fc2 = nn.Linear(256,64)\n",
    "      self.fc3 = nn.Linear(64,10)\n",
    "\n",
    "    def forward(self,x):\n",
    "      \n",
    "      if self.print: print(f'Input: {list(x.shape)}')\n",
    "      \n",
    "      # first block: convolution -> maxpool -> batchnorm -> relu\n",
    "      x = F.max_pool2d(self.conv1(x),2)\n",
    "      x = F.leaky_relu(self.bnorm1(x))\n",
    "      if self.print: print(f'First CPBR block: {list(x.shape)}')\n",
    "\n",
    "      # second block: convolution -> maxpool -> batchnorm -> relu\n",
    "      x = F.max_pool2d(self.conv2(x),2)\n",
    "      x = F.leaky_relu(self.bnorm2(x))\n",
    "      if self.print: print(f'Second CPR block: {list(x.shape)}')\n",
    "\n",
    "      # third block: convolution -> maxpool -> batchnorm -> relu\n",
    "      x = F.max_pool2d(self.conv3(x),2)\n",
    "      x = F.leaky_relu(self.bnorm3(x))\n",
    "      if self.print: print(f'Third CPR block: {list(x.shape)}')\n",
    "\n",
    "      # reshape for linear layer\n",
    "      nUnits = x.shape.numel()/x.shape[0]\n",
    "      x = x.view(-1,int(nUnits))\n",
    "      if self.print: print(f'Vectorized: {list(x.shape)}')\n",
    "      \n",
    "      # linear layers\n",
    "      x = F.leaky_relu(self.fc1(x))\n",
    "      x = F.dropout(x,p=.5,training=self.training)\n",
    "      x = F.leaky_relu(self.fc2(x))\n",
    "      x = F.dropout(x,p=.5,training=self.training) # training=self.training means to turn off during eval mode\n",
    "      x = self.fc3(x)\n",
    "      if self.print: print(f'Final output: {list(x.shape)}')\n",
    "\n",
    "      return x\n",
    "\n",
    "  # create the model instance\n",
    "  net = cnnnet(printtoggle)\n",
    "  \n",
    "  # loss function\n",
    "  lossfun = nn.CrossEntropyLoss()\n",
    "\n",
    "  # optimizer\n",
    "  optimizer = torch.optim.Adam(net.parameters(),lr=.001,weight_decay=1e-5)\n",
    "\n",
    "  return net,lossfun,optimizer"
   ]
  },
  {
   "cell_type": "code",
   "execution_count": null,
   "metadata": {
    "id": "yGr5_8gJ5zfg"
   },
   "outputs": [],
   "source": [
    "### TESTING some other model architectures...\n",
    "\n",
    "# # create a class for the model\n",
    "# def makeTheNet(printtoggle=False):\n",
    "\n",
    "#   class cnnnet(nn.Module):\n",
    "#     def __init__(self,printtoggle):\n",
    "#       super().__init__()\n",
    "      \n",
    "#       # print toggle\n",
    "#       self.print = printtoggle\n",
    "\n",
    "#       ### -------------- encoding layers -------------- ###\n",
    "#       # first convolution layer\n",
    "#       self.encconv1  = nn.Conv2d(3,16,4,padding=1,stride=2) # note: using stride instead of pool to downsample\n",
    "#       # output size: (28+2*1-4)/2 + 1 = 14\n",
    "\n",
    "#       # second convolution layer\n",
    "#       self.encconv2  = nn.Conv2d(16,32,4,padding=1,stride=2)\n",
    "#       # output size: (14+2*1-4)/2 + 1 = 7\n",
    "\n",
    "#       # third convolution layer\n",
    "#       self.encconv3  = nn.Conv2d(32,64,4,padding=1,stride=2)\n",
    "#       # output size: (7+2*1-4)/2 + 1 = 4\n",
    "      \n",
    "      \n",
    "\n",
    "#       ### ------------- linear layers ------------- ###\n",
    "#       self.fc1  = nn.Linear(4*4*64,128)\n",
    "#       self.fc2  = nn.Linear(128,64)\n",
    "#       self.fc3  = nn.Linear(64,10)\n",
    "      \n",
    "\n",
    "#     def forward(self,x):\n",
    "      \n",
    "#       if self.print: print(f'Input: {list(x.shape)}')\n",
    "      \n",
    "#       # first encoder layer\n",
    "#       x = F.leaky_relu(self.encconv1(x))\n",
    "#       if self.print: print(f'First encoder layer: {list(x.shape)}')\n",
    "\n",
    "#       # second encoder layer\n",
    "#       x = F.leaky_relu(self.encconv2(x))\n",
    "#       if self.print: print(f'Second encoder layer: {list(x.shape)}')\n",
    "\n",
    "#       # third encoder layer\n",
    "#       x = F.leaky_relu(self.encconv3(x))\n",
    "#       if self.print: print(f'Third encoder layer: {list(x.shape)}')\n",
    "\n",
    "#       # reshape to linear\n",
    "#       nUnits = x.shape.numel()/x.shape[0]\n",
    "#       x = x.view(-1,int(nUnits))\n",
    "#       if self.print: print(f'Post-convolution vectorized: {list(x.shape)}')\n",
    "\n",
    "#       # linear layers\n",
    "#       x = F.leaky_relu(self.fc1(x))\n",
    "#       if self.print: print(f'First linear layer: {list(x.shape)}')\n",
    "\n",
    "#       x = F.leaky_relu(self.fc2(x))\n",
    "#       if self.print: print(f'Second linear layer: {list(x.shape)}')\n",
    "      \n",
    "#       x = F.leaky_relu(self.fc3(x))\n",
    "#       if self.print: print(f'Output linear layer: {list(x.shape)}')\n",
    "\n",
    "#       return x\n",
    "\n",
    "#   # create the model instance\n",
    "#   net = cnnnet(printtoggle)\n",
    "  \n",
    "#   # loss function\n",
    "#   lossfun = nn.CrossEntropyLoss()\n",
    "\n",
    "#   # optimizer\n",
    "#   optimizer = torch.optim.Adam(net.parameters(),lr=.001)\n",
    "\n",
    "#   return net,lossfun,optimizer"
   ]
  },
  {
   "cell_type": "code",
   "execution_count": null,
   "metadata": {
    "id": "y6icEJcXp0el"
   },
   "outputs": [],
   "source": [
    "# test the model with one batch\n",
    "net,lossfun,optimizer = makeTheNet(True)\n",
    "\n",
    "X,y = next(iter(train_loader))\n",
    "yHat = net(X)\n",
    "\n",
    "# check size of output\n",
    "print('\\nOutput size:')\n",
    "print(yHat.shape)\n",
    "\n",
    "# now compute the loss\n",
    "loss = lossfun(yHat,torch.squeeze(y))\n",
    "print(' ')\n",
    "print('Loss:')\n",
    "print(loss)"
   ]
  },
  {
   "cell_type": "code",
   "execution_count": null,
   "metadata": {
    "id": "Dhd1iUO9xjbv"
   },
   "outputs": [],
   "source": []
  },
  {
   "cell_type": "markdown",
   "metadata": {
    "id": "dvfGQIRGp0ht"
   },
   "source": [
    "# Create a function that trains the model"
   ]
  },
  {
   "cell_type": "code",
   "execution_count": null,
   "metadata": {
    "id": "IblJo1NCp0kl"
   },
   "outputs": [],
   "source": [
    "# a function that trains the model\n",
    "\n",
    "def function2trainTheModel():\n",
    "\n",
    "  # number of epochs\n",
    "  numepochs = 10\n",
    "  \n",
    "  # create a new model\n",
    "  net,lossfun,optimizer = makeTheNet()\n",
    "\n",
    "  # send the model to the GPU\n",
    "  net.to(device)\n",
    "\n",
    "  # initialize losses\n",
    "  trainLoss = torch.zeros(numepochs)\n",
    "  devLoss   = torch.zeros(numepochs)\n",
    "  trainAcc  = torch.zeros(numepochs)\n",
    "  devAcc    = torch.zeros(numepochs)\n",
    "\n",
    "\n",
    "  # loop over epochs\n",
    "  for epochi in range(numepochs):\n",
    "\n",
    "    # loop over training data batches\n",
    "    net.train() # switch to train mode\n",
    "    batchLoss = []\n",
    "    batchAcc  = []\n",
    "    for X,y in train_loader:\n",
    "\n",
    "      # push data to GPU\n",
    "      X = X.to(device)\n",
    "      y = y.to(device)\n",
    "\n",
    "      # forward pass and loss\n",
    "      yHat = net(X)\n",
    "      loss = lossfun(yHat,y)\n",
    "\n",
    "      # backprop\n",
    "      optimizer.zero_grad()\n",
    "      loss.backward()\n",
    "      optimizer.step()\n",
    "\n",
    "      # loss and accuracy from this batch\n",
    "      batchLoss.append(loss.item())\n",
    "      batchAcc.append( torch.mean((torch.argmax(yHat,axis=1) == y).float()).item() )\n",
    "    # end of batch loop...\n",
    "\n",
    "    # and get average losses and accuracies across the batches\n",
    "    trainLoss[epochi] = np.mean(batchLoss)\n",
    "    trainAcc[epochi]  = 100*np.mean(batchAcc)\n",
    "\n",
    "\n",
    "    #### test performance (here done in batches!)\n",
    "    net.eval() # switch to test mode\n",
    "    batchAcc  = []\n",
    "    batchLoss = []\n",
    "    for X,y in dev_loader:\n",
    "\n",
    "      # push data to GPU\n",
    "      X = X.to(device)\n",
    "      y = y.to(device)\n",
    "\n",
    "      # forward pass and loss\n",
    "      with torch.no_grad():\n",
    "        yHat = net(X)\n",
    "        loss = lossfun(yHat,y)\n",
    "      \n",
    "      # loss and accuracy from this batch\n",
    "      batchLoss.append(loss.item())\n",
    "      batchAcc.append( torch.mean((torch.argmax(yHat,axis=1) == y).float()).item() )\n",
    "    # end of batch loop...\n",
    "\n",
    "    # and get average losses and accuracies across the batches\n",
    "    devLoss[epochi] = np.mean(batchLoss)\n",
    "    devAcc[epochi]  = 100*np.mean(batchAcc)\n",
    "\n",
    "  # end epochs\n",
    "\n",
    "  # function output\n",
    "  return trainLoss,devLoss,trainAcc,devAcc,net"
   ]
  },
  {
   "cell_type": "markdown",
   "metadata": {
    "id": "XpGm9xdQ27Ob"
   },
   "source": [
    "# Run the model and show the results!"
   ]
  },
  {
   "cell_type": "code",
   "execution_count": null,
   "metadata": {
    "id": "l9pCC1R2p0nu"
   },
   "outputs": [],
   "source": [
    "# ~2 minutes with 10 epochs on GPU\n",
    "trainLoss,devLoss,trainAcc,devAcc,net = function2trainTheModel()"
   ]
  },
  {
   "cell_type": "code",
   "execution_count": null,
   "metadata": {
    "id": "7FayyS9cmT45"
   },
   "outputs": [],
   "source": [
    "## the real test set!\n",
    "\n",
    "net.eval() # switch to test mode\n",
    "X,y = next(iter(test_loader))\n",
    "\n",
    "# push data to GPU\n",
    "X = X.to(device)\n",
    "y = y.to(device)\n",
    "\n",
    "# forward pass and loss\n",
    "with torch.no_grad():\n",
    "  yHat = net(X)\n",
    "  loss = lossfun(yHat,y)\n",
    "\n",
    "# loss and accuracy from this batch\n",
    "testLoss = loss.item()\n",
    "testAcc  = 100*torch.mean((torch.argmax(yHat,axis=1) == y).float()).item()"
   ]
  },
  {
   "cell_type": "code",
   "execution_count": null,
   "metadata": {
    "id": "nOLzbmwM_dj5"
   },
   "outputs": [],
   "source": [
    "fig,ax = plt.subplots(1,2,figsize=(16,5))\n",
    "\n",
    "ax[0].plot(trainLoss,'s-',label='Train')\n",
    "ax[0].plot(devLoss,'o-',label='Dev')\n",
    "ax[0].plot(len(devLoss)-1,testLoss,'r*',markersize=15,label='Test')\n",
    "ax[0].set_xlabel('Epochs')\n",
    "ax[0].set_ylabel('Loss (CEL)')\n",
    "ax[0].set_title('Model loss')\n",
    "\n",
    "ax[1].plot(trainAcc,'s-',label='Train')\n",
    "ax[1].plot(devAcc,'o-',label='Dev')\n",
    "ax[1].plot(len(devAcc)-1,testAcc,'r*',markersize=15,label='Test')\n",
    "ax[1].set_xlabel('Epochs')\n",
    "ax[1].set_ylabel('Accuracy (%)')\n",
    "ax[1].set_title(f'Final model dev/test accuracy: {devAcc[-1]:.2f}/{testAcc:.2f}%')\n",
    "ax[1].legend()\n",
    "\n",
    "plt.show()"
   ]
  },
  {
   "cell_type": "code",
   "execution_count": null,
   "metadata": {
    "id": "-KII11G78bqH"
   },
   "outputs": [],
   "source": []
  }
 ],
 "metadata": {
  "accelerator": "GPU",
  "colab": {
   "authorship_tag": "ABX9TyO/TyettB71WRGmmF3uibxp",
   "provenance": [
    {
     "file_id": "1GRajDS-VF5z8IslzZuMqbis3X6HDD-Uo",
     "timestamp": 1620020596458
    },
    {
     "file_id": "1m0n2-UmB2tJiIDadlFkE6L5A4iZSqeBf",
     "timestamp": 1619459134813
    },
    {
     "file_id": "19G9gTeBlYPQ-s3VS_3K2bVFtKTP344j6",
     "timestamp": 1619444797767
    },
    {
     "file_id": "1FcEBC0NAESIlHQkv6_85R-XDUKGE8XbM",
     "timestamp": 1619155961717
    },
    {
     "file_id": "1qKgZ8kVcqNgwtBzHbWq5yJH_HqI6DxWW",
     "timestamp": 1617803880910
    },
    {
     "file_id": "15cpyHkJ435B4MqbyGjAH1poN4nCy_DE4",
     "timestamp": 1617737766196
    },
    {
     "file_id": "1OLuWuaFu0hcFgkQ2hh5BqbRuqUZD7XcQ",
     "timestamp": 1617734878578
    },
    {
     "file_id": "1XvzVGJPTJifVh8OpZVB7ykLxyUqYwQ1j",
     "timestamp": 1617196833019
    },
    {
     "file_id": "1bv1_y32e3KEExFKKlPfC3rpw1JxmBr8H",
     "timestamp": 1617124341706
    },
    {
     "file_id": "1GMq8u7KyHB2AE7Teyls9gK1T01OduQSn",
     "timestamp": 1616697516760
    },
    {
     "file_id": "1Ui3kyHim-e0XLgDs2mkBxVlYg7TKYtcg",
     "timestamp": 1616615469755
    },
    {
     "file_id": "1YpHocGI4rApOxIBb1ZghCU5L-hFnv4CK",
     "timestamp": 1616608248670
    }
   ]
  },
  "kernelspec": {
   "display_name": "Python 3",
   "name": "python3"
  }
 },
 "nbformat": 4,
 "nbformat_minor": 0
}
