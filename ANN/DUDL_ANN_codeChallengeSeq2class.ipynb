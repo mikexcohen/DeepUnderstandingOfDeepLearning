{
 "cells": [
  {
   "cell_type": "markdown",
   "id": "cee8d882",
   "metadata": {},
   "source": [
    "[![Open In Colab](https://colab.research.google.com/assets/colab-badge.svg)](https://colab.research.google.com/github/ydebessu/DeepUnderstandingOfDeepLearning/blob/main/ANN/DUDL_ANN_codeChallengeSeq2class.ipynb)"
   ]
  },
  {
   "cell_type": "markdown",
   "metadata": {
    "id": "bhWV8oes-wKR"
   },
   "source": [
    "# COURSE: A deep understanding of deep learning\n",
    "## SECTION: ANNs\n",
    "### LECTURE: CodeChallenge: convert sequential to class\n",
    "#### TEACHER: Mike X Cohen, sincxpress.com\n",
    "##### COURSE URL: udemy.com/course/deeplearning_x/?couponCode=202401"
   ]
  },
  {
   "cell_type": "code",
   "execution_count": null,
   "metadata": {
    "id": "aFq4nGDvqXNA"
   },
   "outputs": [],
   "source": [
    "# NOTE: this is a copy of the notebook DUDL_ANN_multilayer.ipynb"
   ]
  },
  {
   "cell_type": "code",
   "execution_count": null,
   "metadata": {
    "id": "j7-LiwqUMGYL"
   },
   "outputs": [],
   "source": [
    "# import libraries\n",
    "import torch\n",
    "import torch.nn as nn\n",
    "import torch.nn.functional as F\n",
    "import matplotlib.pyplot as plt\n",
    "import numpy as np"
   ]
  },
  {
   "cell_type": "code",
   "execution_count": null,
   "metadata": {
    "id": "j-SP8NPsMNRL"
   },
   "outputs": [],
   "source": [
    "# create data\n",
    "\n",
    "nPerClust = 100\n",
    "blur = 1\n",
    "\n",
    "A = [  1, 3 ]\n",
    "B = [  1, -2 ]\n",
    "\n",
    "# generate data\n",
    "a = [ A[0]+np.random.randn(nPerClust)*blur , A[1]+np.random.randn(nPerClust)*blur ]\n",
    "b = [ B[0]+np.random.randn(nPerClust)*blur , B[1]+np.random.randn(nPerClust)*blur ]\n",
    "\n",
    "# true labels\n",
    "labels_np = np.vstack((np.zeros((nPerClust,1)),np.ones((nPerClust,1))))\n",
    "\n",
    "# concatanate into a matrix\n",
    "data_np = np.hstack((a,b)).T\n",
    "\n",
    "# convert to a pytorch tensor\n",
    "data = torch.tensor(data_np).float()\n",
    "labels = torch.tensor(labels_np).float()\n",
    "\n",
    "# show the data\n",
    "fig = plt.figure(figsize=(5,5))\n",
    "plt.plot(data[np.where(labels==0)[0],0],data[np.where(labels==0)[0],1],'bs')\n",
    "plt.plot(data[np.where(labels==1)[0],0],data[np.where(labels==1)[0],1],'ko')\n",
    "plt.title('The qwerties!')\n",
    "plt.xlabel('qwerty dimension 1')\n",
    "plt.ylabel('qwerty dimension 2')\n",
    "plt.show()"
   ]
  },
  {
   "cell_type": "markdown",
   "metadata": {
    "id": "7Oi0wAb5ze3Q"
   },
   "source": [
    "# Functions to build and train the model"
   ]
  },
  {
   "cell_type": "code",
   "execution_count": null,
   "metadata": {
    "id": "krQeh5wYMNla"
   },
   "outputs": [],
   "source": [
    "# def createANNmodel(learningRate):\n",
    "\n",
    "#   # model architecture\n",
    "#   ANNclassify = nn.Sequential(\n",
    "#       nn.Linear(2,16),  # input layer\n",
    "#       nn.ReLU(),        # activation unit\n",
    "#       nn.Linear(16,1),  # hidden layer\n",
    "#       nn.ReLU(),        # activation unit\n",
    "#       nn.Linear(1,1),   # output unit\n",
    "#       nn.Sigmoid(),    # final activation unit\n",
    "#         )\n",
    "\n",
    "#   # loss function\n",
    "#   lossfun = nn.BCELoss() # but better to use BCEWithLogitsLoss\n",
    "\n",
    "#   # optimizer\n",
    "#   optimizer = torch.optim.SGD(ANNclassify.parameters(),lr=learningRate)\n",
    "\n",
    "#   # model output\n",
    "#   return ANNclassify,lossfun,optimizer"
   ]
  },
  {
   "cell_type": "code",
   "execution_count": null,
   "metadata": {
    "id": "6_GC-HlBqdje"
   },
   "outputs": [],
   "source": [
    "def createANNmodel(learningRate):\n",
    "\n",
    "  class ANNiris(nn.Module):\n",
    "    def __init__(self):\n",
    "      super().__init__()\n",
    "\n",
    "      ### input layer\n",
    "      self.input = nn.Linear(2,16)\n",
    "      \n",
    "      ### hidden layer\n",
    "      self.hidden = nn.Linear(16,1)\n",
    "\n",
    "      ### output layer\n",
    "      self.output = nn.Linear(1,1)\n",
    "    \n",
    "\n",
    "    # forward pass\n",
    "    def forward(self,x):\n",
    "      \n",
    "      # input layer\n",
    "      x = F.relu( self.input(x) )\n",
    "\n",
    "      # hidden layer\n",
    "      x = self.hidden(x)\n",
    "      x = F.relu(x)\n",
    "      \n",
    "      # return output layer\n",
    "      x = self.output(x)\n",
    "      x = torch.sigmoid(x)\n",
    "      return x\n",
    "\n",
    "  # create the model instance\n",
    "  ANNclassify = ANNiris()\n",
    "\n",
    "  # loss function\n",
    "  lossfun = nn.BCELoss() # but better to use BCEWithLogitsLoss\n",
    "\n",
    "  # optimizer\n",
    "  optimizer = torch.optim.SGD(ANNclassify.parameters(),lr=learningRate)\n",
    "\n",
    "  # model output\n",
    "  return ANNclassify,lossfun,optimizer"
   ]
  },
  {
   "cell_type": "code",
   "execution_count": null,
   "metadata": {
    "id": "of9E8ClxMNsD"
   },
   "outputs": [],
   "source": [
    "# a function that trains the model\n",
    "\n",
    "# a fixed parameter\n",
    "numepochs = 1000\n",
    "\n",
    "def trainTheModel(ANNmodel):\n",
    "\n",
    "  # initialize losses\n",
    "  losses = torch.zeros(numepochs)\n",
    "\n",
    "  # loop over epochs\n",
    "  for epochi in range(numepochs):\n",
    "\n",
    "    # forward pass\n",
    "    yHat = ANNmodel(data)\n",
    "\n",
    "    # compute loss\n",
    "    loss = lossfun(yHat,labels)\n",
    "    losses[epochi] = loss\n",
    "\n",
    "    # backprop\n",
    "    optimizer.zero_grad()\n",
    "    loss.backward()\n",
    "    optimizer.step()\n",
    "  \n",
    "  \n",
    "  \n",
    "  # final forward pass\n",
    "  predictions = ANNmodel(data)\n",
    "    \n",
    "  # compute the predictions and report accuracy\n",
    "  totalacc = 100*torch.mean(((predictions>.5) == labels).float())\n",
    "  \n",
    "  return losses,predictions,totalacc"
   ]
  },
  {
   "cell_type": "markdown",
   "metadata": {
    "id": "Hd3rIbQUzkKv"
   },
   "source": [
    "# Test the new code by running it once"
   ]
  },
  {
   "cell_type": "code",
   "execution_count": null,
   "metadata": {
    "id": "SatsWGs3x6Kg"
   },
   "outputs": [],
   "source": [
    "# create everything\n",
    "ANNclassify,lossfun,optimizer = createANNmodel(.01)\n",
    "\n",
    "# run it\n",
    "losses,predictions,totalacc = trainTheModel(ANNclassify)\n",
    "\n",
    "# report accuracy\n",
    "print('Final accuracy: %g%%' %totalacc)\n",
    "\n",
    "\n",
    "# show the losses\n",
    "plt.plot(losses.detach(),'o',markerfacecolor='w',linewidth=.1)\n",
    "plt.xlabel('Epoch'), plt.ylabel('Loss')\n",
    "plt.show()"
   ]
  },
  {
   "cell_type": "markdown",
   "metadata": {
    "id": "GqvlfINnzojn"
   },
   "source": [
    "# Now for the real test (varying learning rates)"
   ]
  },
  {
   "cell_type": "code",
   "execution_count": null,
   "metadata": {
    "id": "i1TCt0mpMNxC"
   },
   "outputs": [],
   "source": [
    "# learning rates\n",
    "learningrates = np.linspace(.001,.1,50)\n",
    "\n",
    "# initialize\n",
    "accByLR = []\n",
    "allLosses = np.zeros((len(learningrates),numepochs))\n",
    "\n",
    "\n",
    "# the loop\n",
    "for i,lr in enumerate(learningrates):\n",
    "  \n",
    "  # create and run the model\n",
    "  ANNclassify,lossfun,optimizer = createANNmodel(lr)\n",
    "  losses,predictions,totalacc = trainTheModel(ANNclassify)\n",
    "\n",
    "  # store the results\n",
    "  accByLR.append(totalacc)\n",
    "  allLosses[i,:] = losses.detach()\n"
   ]
  },
  {
   "cell_type": "code",
   "execution_count": null,
   "metadata": {
    "id": "1EpSpm3klet-"
   },
   "outputs": [],
   "source": [
    "# plot the results\n",
    "fig,ax = plt.subplots(1,2,figsize=(16,4))\n",
    "\n",
    "ax[0].plot(learningrates,accByLR,'s-')\n",
    "ax[0].set_xlabel('Learning rate')\n",
    "ax[0].set_ylabel('Accuracy')\n",
    "ax[0].set_title('Accuracy by learning rate')\n",
    "\n",
    "ax[1].plot(allLosses.T)\n",
    "ax[1].set_title('Losses by learning rate')\n",
    "ax[1].set_xlabel('Epoch number')\n",
    "ax[1].set_ylabel('Loss')\n",
    "plt.show()"
   ]
  },
  {
   "cell_type": "code",
   "execution_count": null,
   "metadata": {
    "id": "x_lVYxTsi871"
   },
   "outputs": [],
   "source": [
    "sum(torch.tensor(accByLR)>70)/len(accByLR)"
   ]
  },
  {
   "cell_type": "code",
   "execution_count": null,
   "metadata": {
    "id": "0-CvKb-p55R6"
   },
   "outputs": [],
   "source": []
  }
 ],
 "metadata": {
  "colab": {
   "authorship_tag": "ABX9TyPz8TKMWLYuynGi0IRUmE9d",
   "collapsed_sections": [],
   "name": "DUDL_ANN_codeChallengeSeq2class.ipynb",
   "provenance": [
    {
     "file_id": "1Q9LtmanyNt675-gO_kXRBKalCdP6xtvV",
     "timestamp": 1619717080413
    },
    {
     "file_id": "1jeqKEJfI18GlAhSG8RO5aJ6Vrp4-nkTt",
     "timestamp": 1615909315432
    },
    {
     "file_id": "10_geQnah5AvMsm8VDAQwNPhypOXradar",
     "timestamp": 1615893340208
    },
    {
     "file_id": "1FtQ99beHYcDFDywLdaPgFm-KjBeI8PvD",
     "timestamp": 1615877547147
    }
   ]
  },
  "kernelspec": {
   "display_name": "Python 3",
   "name": "python3"
  }
 },
 "nbformat": 4,
 "nbformat_minor": 0
}
